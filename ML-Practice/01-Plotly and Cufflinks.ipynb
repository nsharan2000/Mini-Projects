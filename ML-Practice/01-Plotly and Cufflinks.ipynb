{
 "cells": [
  {
   "cell_type": "markdown",
   "metadata": {},
   "source": [
    "___\n",
    "\n",
    "<a href='http://www.pieriandata.com'> <img src='../Pierian_Data_Logo.png' /></a>\n",
    "___\n",
    "# Plotly and Cufflinks"
   ]
  },
  {
   "cell_type": "markdown",
   "metadata": {},
   "source": [
    "Plotly is a library that allows you to create interactive plots that you can use in dashboards or websites (you can save them as html files or static images).\n",
    "\n",
    "## Installation\n",
    "\n",
    "In order for this all to work, you'll need to install plotly and cufflinks to call plots directly off of a pandas dataframe. These libraries are not currently available through **conda** but are available through **pip**. Install the libraries at your command line/terminal using:\n",
    "\n",
    "    pip install plotly\n",
    "    pip install cufflinks\n",
    "\n",
    "** NOTE: Make sure you only have one installation of Python on your computer when you do this, otherwise the installation may not work. **\n",
    "\n",
    "## Imports and Set-up"
   ]
  },
  {
   "cell_type": "code",
   "execution_count": 1,
   "metadata": {},
   "outputs": [],
   "source": [
    "import pandas as pd\n",
    "import numpy as np\n",
    "%matplotlib inline"
   ]
  },
  {
   "cell_type": "code",
   "execution_count": 2,
   "metadata": {},
   "outputs": [
    {
     "name": "stdout",
     "output_type": "stream",
     "text": [
      "4.5.2\n"
     ]
    }
   ],
   "source": [
    "from plotly import __version__\n",
    "from plotly.offline import download_plotlyjs, init_notebook_mode, plot, iplot\n",
    "\n",
    "print(__version__) # requires version >= 1.9.0"
   ]
  },
  {
   "cell_type": "code",
   "execution_count": 3,
   "metadata": {},
   "outputs": [],
   "source": [
    "import cufflinks as cf"
   ]
  },
  {
   "cell_type": "code",
   "execution_count": 4,
   "metadata": {},
   "outputs": [
    {
     "data": {
      "text/html": [
       "        <script type=\"text/javascript\">\n",
       "        window.PlotlyConfig = {MathJaxConfig: 'local'};\n",
       "        if (window.MathJax) {MathJax.Hub.Config({SVG: {font: \"STIX-Web\"}});}\n",
       "        if (typeof require !== 'undefined') {\n",
       "        require.undef(\"plotly\");\n",
       "        requirejs.config({\n",
       "            paths: {\n",
       "                'plotly': ['https://cdn.plot.ly/plotly-latest.min']\n",
       "            }\n",
       "        });\n",
       "        require(['plotly'], function(Plotly) {\n",
       "            window._Plotly = Plotly;\n",
       "        });\n",
       "        }\n",
       "        </script>\n",
       "        "
      ]
     },
     "metadata": {},
     "output_type": "display_data"
    }
   ],
   "source": [
    "# For Notebooks\n",
    "init_notebook_mode(connected=True)"
   ]
  },
  {
   "cell_type": "code",
   "execution_count": 5,
   "metadata": {},
   "outputs": [
    {
     "data": {
      "text/html": [
       "        <script type=\"text/javascript\">\n",
       "        window.PlotlyConfig = {MathJaxConfig: 'local'};\n",
       "        if (window.MathJax) {MathJax.Hub.Config({SVG: {font: \"STIX-Web\"}});}\n",
       "        if (typeof require !== 'undefined') {\n",
       "        require.undef(\"plotly\");\n",
       "        requirejs.config({\n",
       "            paths: {\n",
       "                'plotly': ['https://cdn.plot.ly/plotly-latest.min']\n",
       "            }\n",
       "        });\n",
       "        require(['plotly'], function(Plotly) {\n",
       "            window._Plotly = Plotly;\n",
       "        });\n",
       "        }\n",
       "        </script>\n",
       "        "
      ]
     },
     "metadata": {},
     "output_type": "display_data"
    }
   ],
   "source": [
    "# For offline use\n",
    "cf.go_offline()"
   ]
  },
  {
   "cell_type": "markdown",
   "metadata": {},
   "source": [
    "### Fake Data"
   ]
  },
  {
   "cell_type": "code",
   "execution_count": 6,
   "metadata": {},
   "outputs": [],
   "source": [
    "df = pd.DataFrame(np.random.randn(100,4),columns='A B C D'.split())"
   ]
  },
  {
   "cell_type": "code",
   "execution_count": 7,
   "metadata": {},
   "outputs": [
    {
     "data": {
      "text/html": [
       "<div>\n",
       "<style scoped>\n",
       "    .dataframe tbody tr th:only-of-type {\n",
       "        vertical-align: middle;\n",
       "    }\n",
       "\n",
       "    .dataframe tbody tr th {\n",
       "        vertical-align: top;\n",
       "    }\n",
       "\n",
       "    .dataframe thead th {\n",
       "        text-align: right;\n",
       "    }\n",
       "</style>\n",
       "<table border=\"1\" class=\"dataframe\">\n",
       "  <thead>\n",
       "    <tr style=\"text-align: right;\">\n",
       "      <th></th>\n",
       "      <th>A</th>\n",
       "      <th>B</th>\n",
       "      <th>C</th>\n",
       "      <th>D</th>\n",
       "    </tr>\n",
       "  </thead>\n",
       "  <tbody>\n",
       "    <tr>\n",
       "      <td>0</td>\n",
       "      <td>2.637334</td>\n",
       "      <td>-2.284696</td>\n",
       "      <td>1.449862</td>\n",
       "      <td>0.589048</td>\n",
       "    </tr>\n",
       "    <tr>\n",
       "      <td>1</td>\n",
       "      <td>-1.951478</td>\n",
       "      <td>-0.128979</td>\n",
       "      <td>1.732839</td>\n",
       "      <td>-1.880041</td>\n",
       "    </tr>\n",
       "    <tr>\n",
       "      <td>2</td>\n",
       "      <td>1.048760</td>\n",
       "      <td>-0.596016</td>\n",
       "      <td>1.004029</td>\n",
       "      <td>0.105325</td>\n",
       "    </tr>\n",
       "    <tr>\n",
       "      <td>3</td>\n",
       "      <td>-1.296347</td>\n",
       "      <td>0.692728</td>\n",
       "      <td>-1.606280</td>\n",
       "      <td>1.304760</td>\n",
       "    </tr>\n",
       "    <tr>\n",
       "      <td>4</td>\n",
       "      <td>0.276949</td>\n",
       "      <td>-1.073096</td>\n",
       "      <td>0.106835</td>\n",
       "      <td>-1.520787</td>\n",
       "    </tr>\n",
       "  </tbody>\n",
       "</table>\n",
       "</div>"
      ],
      "text/plain": [
       "          A         B         C         D\n",
       "0  2.637334 -2.284696  1.449862  0.589048\n",
       "1 -1.951478 -0.128979  1.732839 -1.880041\n",
       "2  1.048760 -0.596016  1.004029  0.105325\n",
       "3 -1.296347  0.692728 -1.606280  1.304760\n",
       "4  0.276949 -1.073096  0.106835 -1.520787"
      ]
     },
     "execution_count": 7,
     "metadata": {},
     "output_type": "execute_result"
    }
   ],
   "source": [
    "df.head()"
   ]
  },
  {
   "cell_type": "code",
   "execution_count": 8,
   "metadata": {},
   "outputs": [],
   "source": [
    "df2 = pd.DataFrame({'Category':['A','B','C'],'Values':[32,43,50]})"
   ]
  },
  {
   "cell_type": "code",
   "execution_count": 9,
   "metadata": {},
   "outputs": [
    {
     "data": {
      "text/html": [
       "<div>\n",
       "<style scoped>\n",
       "    .dataframe tbody tr th:only-of-type {\n",
       "        vertical-align: middle;\n",
       "    }\n",
       "\n",
       "    .dataframe tbody tr th {\n",
       "        vertical-align: top;\n",
       "    }\n",
       "\n",
       "    .dataframe thead th {\n",
       "        text-align: right;\n",
       "    }\n",
       "</style>\n",
       "<table border=\"1\" class=\"dataframe\">\n",
       "  <thead>\n",
       "    <tr style=\"text-align: right;\">\n",
       "      <th></th>\n",
       "      <th>Category</th>\n",
       "      <th>Values</th>\n",
       "    </tr>\n",
       "  </thead>\n",
       "  <tbody>\n",
       "    <tr>\n",
       "      <td>0</td>\n",
       "      <td>A</td>\n",
       "      <td>32</td>\n",
       "    </tr>\n",
       "    <tr>\n",
       "      <td>1</td>\n",
       "      <td>B</td>\n",
       "      <td>43</td>\n",
       "    </tr>\n",
       "    <tr>\n",
       "      <td>2</td>\n",
       "      <td>C</td>\n",
       "      <td>50</td>\n",
       "    </tr>\n",
       "  </tbody>\n",
       "</table>\n",
       "</div>"
      ],
      "text/plain": [
       "  Category  Values\n",
       "0        A      32\n",
       "1        B      43\n",
       "2        C      50"
      ]
     },
     "execution_count": 9,
     "metadata": {},
     "output_type": "execute_result"
    }
   ],
   "source": [
    "df2.head()"
   ]
  },
  {
   "cell_type": "markdown",
   "metadata": {},
   "source": [
    "## Using Cufflinks and iplot()\n",
    "\n",
    "* scatter\n",
    "* bar\n",
    "* box\n",
    "* spread\n",
    "* ratio\n",
    "* heatmap\n",
    "* surface\n",
    "* histogram\n",
    "* bubble"
   ]
  },
  {
   "cell_type": "markdown",
   "metadata": {},
   "source": [
    "## Scatter"
   ]
  },
  {
   "cell_type": "code",
   "execution_count": 13,
   "metadata": {},
   "outputs": [
    {
     "data": {
      "application/vnd.plotly.v1+json": {
       "config": {
        "linkText": "Export to plot.ly",
        "plotlyServerURL": "https://plot.ly",
        "showLink": true
       },
       "data": [
        {
         "line": {
          "color": "rgba(255, 153, 51, 1.0)",
          "dash": "solid",
          "shape": "linear",
          "width": 1.3
         },
         "marker": {
          "size": 10,
          "symbol": "circle"
         },
         "mode": "markers",
         "name": "B",
         "text": "",
         "type": "scatter",
         "x": [
          2.6373344784495645,
          -1.9514781140231166,
          1.048759696978105,
          -1.2963473714495244,
          0.27694889027081887,
          0.692496688521014,
          0.07606444168264838,
          -0.6406801537579438,
          -0.6800911741187079,
          -0.8518888122997218,
          -0.7791147369734518,
          -0.6734941267402332,
          1.0167773412090835,
          0.23352732552763336,
          0.6163742442520982,
          -0.062319690042786834,
          0.4481652315232757,
          -0.02433885182191795,
          -0.4495406344066845,
          0.256728595894281,
          -0.14869432230647567,
          -1.2719115094158837,
          -0.18309035858598605,
          0.9512382104394191,
          -1.3351222343701932,
          0.8118457968750349,
          -0.4592579259017499,
          0.017322515641877596,
          -0.10874037092289358,
          0.7231418010819272,
          0.24488018614133208,
          -0.5002111461510281,
          -0.6789918892111676,
          1.0651918883435525,
          -0.29021561808912394,
          -0.5543716289854907,
          0.25805961156717533,
          -0.24712456122109305,
          0.7710767621589241,
          -1.1037831746949724,
          1.634401350202134,
          -0.6841000935514857,
          0.41030079756170595,
          0.9058247386329331,
          -2.3161672250434076,
          0.8233980785593794,
          1.892568603868356,
          1.1105016985095562,
          1.0807787816525551,
          0.26329482385854525,
          0.6811746578863037,
          1.5953539436930355,
          -0.8709560373194579,
          1.133535395435486,
          1.993229916325945,
          -1.7783792766437496,
          -1.028962145596852,
          0.11030844695762584,
          0.07519092337124138,
          0.4998945230505707,
          -0.14543010621768782,
          2.006305468029981,
          0.02027007279842382,
          -0.5024886909118702,
          0.9748120761643012,
          -0.42348555508138697,
          0.11543167395240778,
          0.312886660558503,
          -0.24027670045074928,
          0.3752446493239127,
          0.1211156796304035,
          -0.6445287847348729,
          0.2764578536695193,
          0.10937742078251535,
          -1.655221776282199,
          -0.52926779494393,
          0.456193201572975,
          0.5155302426268643,
          -0.139552865775506,
          0.7012109814926522,
          -1.113704268358639,
          -1.9031496623660287,
          -1.0805160223732262,
          -1.4413303548350294,
          0.4576522935107792,
          1.4630078606653885,
          -1.2489647067372125,
          -0.6250555560710132,
          -0.10145369069764623,
          0.138125916178685,
          -1.4996158840708063,
          1.5118801883843067,
          -0.1993334647684355,
          0.0031373104395526923,
          1.3583255766429585,
          -1.2406567590300575,
          -0.5432080731603196,
          0.013525641271830868,
          -0.6655652043632769,
          0.9079388521323659
         ],
         "y": [
          -2.284695843780699,
          -0.12897863957239397,
          -0.5960163415525992,
          0.6927278091908197,
          -1.073096401837728,
          -0.5784207622519486,
          -0.23519756874658382,
          -0.9451011638490537,
          -1.063843416629175,
          0.6756848161415443,
          0.8151176376126024,
          -0.8913414043464327,
          1.586858684811914,
          -0.49092565487567463,
          -1.2918634219359029,
          0.5036484512397292,
          -0.6014396795922873,
          0.43023242215496327,
          -0.5140747441600014,
          -1.64299938662231,
          0.19220870639914056,
          0.8203705341311345,
          -1.3573891161830567,
          0.9824384134933203,
          -0.4431038482458481,
          0.831281467639583,
          0.5991381056360517,
          -0.19798352319493737,
          1.6225181625321803,
          0.15865883270680928,
          -0.24062204610389426,
          -0.17416125564133053,
          1.0077119144555593,
          1.7385666186605993,
          -0.2493143010520831,
          1.427211355261423,
          -0.10332308539021648,
          -0.16680760836093397,
          2.0625300652181706,
          -0.029300367935213394,
          2.8039443472510506,
          0.346449737438328,
          -0.32633297104558556,
          -0.046492928263603656,
          -0.4363171197337111,
          0.056197128779733936,
          0.029384019930100338,
          0.7419514855583611,
          -0.5169707337572688,
          0.7157470081371733,
          0.36528987025749876,
          0.07089580181332032,
          0.5816741379834732,
          -1.980963012540804,
          1.5736259710506741,
          0.6377350546144804,
          -0.9773283769613775,
          0.6271683365660647,
          -0.20769018041276938,
          -0.13629364916807668,
          -1.0973203981421389,
          -0.5708035111791355,
          -1.4518036666885026,
          1.144197133868288,
          0.18607831353941073,
          -0.6319881383179478,
          -0.11362523685186736,
          0.040575359081890784,
          0.9243094765600892,
          -1.3476554400860434,
          -0.7963687182642614,
          0.6813966725874765,
          -0.3003150585184621,
          -1.7367007129274277,
          0.9276116141824441,
          -0.9356833375574491,
          0.0031066811508997944,
          -0.9927386805528503,
          2.4095902696689846,
          0.8022472832942091,
          0.18688783972328699,
          0.68311543513717,
          -0.5938759721272218,
          -0.14109286740742658,
          1.3991284943838274,
          0.3546468501567292,
          0.06716378301515893,
          1.4330738198409538,
          1.2093940166410524,
          -0.002097060041586007,
          -0.888013370871234,
          1.3046302754895798,
          -1.4518307583462837,
          -1.2772735047680706,
          0.5455088989553084,
          1.3906872989486303,
          -0.3322633074372016,
          1.4057999871358426,
          -1.6056202884422215,
          0.8482521990758864
         ]
        }
       ],
       "layout": {
        "legend": {
         "bgcolor": "#F5F6F9",
         "font": {
          "color": "#4D5663"
         }
        },
        "paper_bgcolor": "#F5F6F9",
        "plot_bgcolor": "#F5F6F9",
        "template": {
         "data": {
          "bar": [
           {
            "error_x": {
             "color": "#2a3f5f"
            },
            "error_y": {
             "color": "#2a3f5f"
            },
            "marker": {
             "line": {
              "color": "#E5ECF6",
              "width": 0.5
             }
            },
            "type": "bar"
           }
          ],
          "barpolar": [
           {
            "marker": {
             "line": {
              "color": "#E5ECF6",
              "width": 0.5
             }
            },
            "type": "barpolar"
           }
          ],
          "carpet": [
           {
            "aaxis": {
             "endlinecolor": "#2a3f5f",
             "gridcolor": "white",
             "linecolor": "white",
             "minorgridcolor": "white",
             "startlinecolor": "#2a3f5f"
            },
            "baxis": {
             "endlinecolor": "#2a3f5f",
             "gridcolor": "white",
             "linecolor": "white",
             "minorgridcolor": "white",
             "startlinecolor": "#2a3f5f"
            },
            "type": "carpet"
           }
          ],
          "choropleth": [
           {
            "colorbar": {
             "outlinewidth": 0,
             "ticks": ""
            },
            "type": "choropleth"
           }
          ],
          "contour": [
           {
            "colorbar": {
             "outlinewidth": 0,
             "ticks": ""
            },
            "colorscale": [
             [
              0,
              "#0d0887"
             ],
             [
              0.1111111111111111,
              "#46039f"
             ],
             [
              0.2222222222222222,
              "#7201a8"
             ],
             [
              0.3333333333333333,
              "#9c179e"
             ],
             [
              0.4444444444444444,
              "#bd3786"
             ],
             [
              0.5555555555555556,
              "#d8576b"
             ],
             [
              0.6666666666666666,
              "#ed7953"
             ],
             [
              0.7777777777777778,
              "#fb9f3a"
             ],
             [
              0.8888888888888888,
              "#fdca26"
             ],
             [
              1,
              "#f0f921"
             ]
            ],
            "type": "contour"
           }
          ],
          "contourcarpet": [
           {
            "colorbar": {
             "outlinewidth": 0,
             "ticks": ""
            },
            "type": "contourcarpet"
           }
          ],
          "heatmap": [
           {
            "colorbar": {
             "outlinewidth": 0,
             "ticks": ""
            },
            "colorscale": [
             [
              0,
              "#0d0887"
             ],
             [
              0.1111111111111111,
              "#46039f"
             ],
             [
              0.2222222222222222,
              "#7201a8"
             ],
             [
              0.3333333333333333,
              "#9c179e"
             ],
             [
              0.4444444444444444,
              "#bd3786"
             ],
             [
              0.5555555555555556,
              "#d8576b"
             ],
             [
              0.6666666666666666,
              "#ed7953"
             ],
             [
              0.7777777777777778,
              "#fb9f3a"
             ],
             [
              0.8888888888888888,
              "#fdca26"
             ],
             [
              1,
              "#f0f921"
             ]
            ],
            "type": "heatmap"
           }
          ],
          "heatmapgl": [
           {
            "colorbar": {
             "outlinewidth": 0,
             "ticks": ""
            },
            "colorscale": [
             [
              0,
              "#0d0887"
             ],
             [
              0.1111111111111111,
              "#46039f"
             ],
             [
              0.2222222222222222,
              "#7201a8"
             ],
             [
              0.3333333333333333,
              "#9c179e"
             ],
             [
              0.4444444444444444,
              "#bd3786"
             ],
             [
              0.5555555555555556,
              "#d8576b"
             ],
             [
              0.6666666666666666,
              "#ed7953"
             ],
             [
              0.7777777777777778,
              "#fb9f3a"
             ],
             [
              0.8888888888888888,
              "#fdca26"
             ],
             [
              1,
              "#f0f921"
             ]
            ],
            "type": "heatmapgl"
           }
          ],
          "histogram": [
           {
            "marker": {
             "colorbar": {
              "outlinewidth": 0,
              "ticks": ""
             }
            },
            "type": "histogram"
           }
          ],
          "histogram2d": [
           {
            "colorbar": {
             "outlinewidth": 0,
             "ticks": ""
            },
            "colorscale": [
             [
              0,
              "#0d0887"
             ],
             [
              0.1111111111111111,
              "#46039f"
             ],
             [
              0.2222222222222222,
              "#7201a8"
             ],
             [
              0.3333333333333333,
              "#9c179e"
             ],
             [
              0.4444444444444444,
              "#bd3786"
             ],
             [
              0.5555555555555556,
              "#d8576b"
             ],
             [
              0.6666666666666666,
              "#ed7953"
             ],
             [
              0.7777777777777778,
              "#fb9f3a"
             ],
             [
              0.8888888888888888,
              "#fdca26"
             ],
             [
              1,
              "#f0f921"
             ]
            ],
            "type": "histogram2d"
           }
          ],
          "histogram2dcontour": [
           {
            "colorbar": {
             "outlinewidth": 0,
             "ticks": ""
            },
            "colorscale": [
             [
              0,
              "#0d0887"
             ],
             [
              0.1111111111111111,
              "#46039f"
             ],
             [
              0.2222222222222222,
              "#7201a8"
             ],
             [
              0.3333333333333333,
              "#9c179e"
             ],
             [
              0.4444444444444444,
              "#bd3786"
             ],
             [
              0.5555555555555556,
              "#d8576b"
             ],
             [
              0.6666666666666666,
              "#ed7953"
             ],
             [
              0.7777777777777778,
              "#fb9f3a"
             ],
             [
              0.8888888888888888,
              "#fdca26"
             ],
             [
              1,
              "#f0f921"
             ]
            ],
            "type": "histogram2dcontour"
           }
          ],
          "mesh3d": [
           {
            "colorbar": {
             "outlinewidth": 0,
             "ticks": ""
            },
            "type": "mesh3d"
           }
          ],
          "parcoords": [
           {
            "line": {
             "colorbar": {
              "outlinewidth": 0,
              "ticks": ""
             }
            },
            "type": "parcoords"
           }
          ],
          "pie": [
           {
            "automargin": true,
            "type": "pie"
           }
          ],
          "scatter": [
           {
            "marker": {
             "colorbar": {
              "outlinewidth": 0,
              "ticks": ""
             }
            },
            "type": "scatter"
           }
          ],
          "scatter3d": [
           {
            "line": {
             "colorbar": {
              "outlinewidth": 0,
              "ticks": ""
             }
            },
            "marker": {
             "colorbar": {
              "outlinewidth": 0,
              "ticks": ""
             }
            },
            "type": "scatter3d"
           }
          ],
          "scattercarpet": [
           {
            "marker": {
             "colorbar": {
              "outlinewidth": 0,
              "ticks": ""
             }
            },
            "type": "scattercarpet"
           }
          ],
          "scattergeo": [
           {
            "marker": {
             "colorbar": {
              "outlinewidth": 0,
              "ticks": ""
             }
            },
            "type": "scattergeo"
           }
          ],
          "scattergl": [
           {
            "marker": {
             "colorbar": {
              "outlinewidth": 0,
              "ticks": ""
             }
            },
            "type": "scattergl"
           }
          ],
          "scattermapbox": [
           {
            "marker": {
             "colorbar": {
              "outlinewidth": 0,
              "ticks": ""
             }
            },
            "type": "scattermapbox"
           }
          ],
          "scatterpolar": [
           {
            "marker": {
             "colorbar": {
              "outlinewidth": 0,
              "ticks": ""
             }
            },
            "type": "scatterpolar"
           }
          ],
          "scatterpolargl": [
           {
            "marker": {
             "colorbar": {
              "outlinewidth": 0,
              "ticks": ""
             }
            },
            "type": "scatterpolargl"
           }
          ],
          "scatterternary": [
           {
            "marker": {
             "colorbar": {
              "outlinewidth": 0,
              "ticks": ""
             }
            },
            "type": "scatterternary"
           }
          ],
          "surface": [
           {
            "colorbar": {
             "outlinewidth": 0,
             "ticks": ""
            },
            "colorscale": [
             [
              0,
              "#0d0887"
             ],
             [
              0.1111111111111111,
              "#46039f"
             ],
             [
              0.2222222222222222,
              "#7201a8"
             ],
             [
              0.3333333333333333,
              "#9c179e"
             ],
             [
              0.4444444444444444,
              "#bd3786"
             ],
             [
              0.5555555555555556,
              "#d8576b"
             ],
             [
              0.6666666666666666,
              "#ed7953"
             ],
             [
              0.7777777777777778,
              "#fb9f3a"
             ],
             [
              0.8888888888888888,
              "#fdca26"
             ],
             [
              1,
              "#f0f921"
             ]
            ],
            "type": "surface"
           }
          ],
          "table": [
           {
            "cells": {
             "fill": {
              "color": "#EBF0F8"
             },
             "line": {
              "color": "white"
             }
            },
            "header": {
             "fill": {
              "color": "#C8D4E3"
             },
             "line": {
              "color": "white"
             }
            },
            "type": "table"
           }
          ]
         },
         "layout": {
          "annotationdefaults": {
           "arrowcolor": "#2a3f5f",
           "arrowhead": 0,
           "arrowwidth": 1
          },
          "coloraxis": {
           "colorbar": {
            "outlinewidth": 0,
            "ticks": ""
           }
          },
          "colorscale": {
           "diverging": [
            [
             0,
             "#8e0152"
            ],
            [
             0.1,
             "#c51b7d"
            ],
            [
             0.2,
             "#de77ae"
            ],
            [
             0.3,
             "#f1b6da"
            ],
            [
             0.4,
             "#fde0ef"
            ],
            [
             0.5,
             "#f7f7f7"
            ],
            [
             0.6,
             "#e6f5d0"
            ],
            [
             0.7,
             "#b8e186"
            ],
            [
             0.8,
             "#7fbc41"
            ],
            [
             0.9,
             "#4d9221"
            ],
            [
             1,
             "#276419"
            ]
           ],
           "sequential": [
            [
             0,
             "#0d0887"
            ],
            [
             0.1111111111111111,
             "#46039f"
            ],
            [
             0.2222222222222222,
             "#7201a8"
            ],
            [
             0.3333333333333333,
             "#9c179e"
            ],
            [
             0.4444444444444444,
             "#bd3786"
            ],
            [
             0.5555555555555556,
             "#d8576b"
            ],
            [
             0.6666666666666666,
             "#ed7953"
            ],
            [
             0.7777777777777778,
             "#fb9f3a"
            ],
            [
             0.8888888888888888,
             "#fdca26"
            ],
            [
             1,
             "#f0f921"
            ]
           ],
           "sequentialminus": [
            [
             0,
             "#0d0887"
            ],
            [
             0.1111111111111111,
             "#46039f"
            ],
            [
             0.2222222222222222,
             "#7201a8"
            ],
            [
             0.3333333333333333,
             "#9c179e"
            ],
            [
             0.4444444444444444,
             "#bd3786"
            ],
            [
             0.5555555555555556,
             "#d8576b"
            ],
            [
             0.6666666666666666,
             "#ed7953"
            ],
            [
             0.7777777777777778,
             "#fb9f3a"
            ],
            [
             0.8888888888888888,
             "#fdca26"
            ],
            [
             1,
             "#f0f921"
            ]
           ]
          },
          "colorway": [
           "#636efa",
           "#EF553B",
           "#00cc96",
           "#ab63fa",
           "#FFA15A",
           "#19d3f3",
           "#FF6692",
           "#B6E880",
           "#FF97FF",
           "#FECB52"
          ],
          "font": {
           "color": "#2a3f5f"
          },
          "geo": {
           "bgcolor": "white",
           "lakecolor": "white",
           "landcolor": "#E5ECF6",
           "showlakes": true,
           "showland": true,
           "subunitcolor": "white"
          },
          "hoverlabel": {
           "align": "left"
          },
          "hovermode": "closest",
          "mapbox": {
           "style": "light"
          },
          "paper_bgcolor": "white",
          "plot_bgcolor": "#E5ECF6",
          "polar": {
           "angularaxis": {
            "gridcolor": "white",
            "linecolor": "white",
            "ticks": ""
           },
           "bgcolor": "#E5ECF6",
           "radialaxis": {
            "gridcolor": "white",
            "linecolor": "white",
            "ticks": ""
           }
          },
          "scene": {
           "xaxis": {
            "backgroundcolor": "#E5ECF6",
            "gridcolor": "white",
            "gridwidth": 2,
            "linecolor": "white",
            "showbackground": true,
            "ticks": "",
            "zerolinecolor": "white"
           },
           "yaxis": {
            "backgroundcolor": "#E5ECF6",
            "gridcolor": "white",
            "gridwidth": 2,
            "linecolor": "white",
            "showbackground": true,
            "ticks": "",
            "zerolinecolor": "white"
           },
           "zaxis": {
            "backgroundcolor": "#E5ECF6",
            "gridcolor": "white",
            "gridwidth": 2,
            "linecolor": "white",
            "showbackground": true,
            "ticks": "",
            "zerolinecolor": "white"
           }
          },
          "shapedefaults": {
           "line": {
            "color": "#2a3f5f"
           }
          },
          "ternary": {
           "aaxis": {
            "gridcolor": "white",
            "linecolor": "white",
            "ticks": ""
           },
           "baxis": {
            "gridcolor": "white",
            "linecolor": "white",
            "ticks": ""
           },
           "bgcolor": "#E5ECF6",
           "caxis": {
            "gridcolor": "white",
            "linecolor": "white",
            "ticks": ""
           }
          },
          "title": {
           "x": 0.05
          },
          "xaxis": {
           "automargin": true,
           "gridcolor": "white",
           "linecolor": "white",
           "ticks": "",
           "title": {
            "standoff": 15
           },
           "zerolinecolor": "white",
           "zerolinewidth": 2
          },
          "yaxis": {
           "automargin": true,
           "gridcolor": "white",
           "linecolor": "white",
           "ticks": "",
           "title": {
            "standoff": 15
           },
           "zerolinecolor": "white",
           "zerolinewidth": 2
          }
         }
        },
        "title": {
         "font": {
          "color": "#4D5663"
         }
        },
        "xaxis": {
         "gridcolor": "#E1E5ED",
         "showgrid": true,
         "tickfont": {
          "color": "#4D5663"
         },
         "title": {
          "font": {
           "color": "#4D5663"
          },
          "text": ""
         },
         "zerolinecolor": "#E1E5ED"
        },
        "yaxis": {
         "gridcolor": "#E1E5ED",
         "showgrid": true,
         "tickfont": {
          "color": "#4D5663"
         },
         "title": {
          "font": {
           "color": "#4D5663"
          },
          "text": ""
         },
         "zerolinecolor": "#E1E5ED"
        }
       }
      },
      "text/html": [
       "<div>\n",
       "        \n",
       "        \n",
       "            <div id=\"b2852390-95eb-4062-89f9-bdcbae7f34d7\" class=\"plotly-graph-div\" style=\"height:525px; width:100%;\"></div>\n",
       "            <script type=\"text/javascript\">\n",
       "                require([\"plotly\"], function(Plotly) {\n",
       "                    window.PLOTLYENV=window.PLOTLYENV || {};\n",
       "                    window.PLOTLYENV.BASE_URL='https://plot.ly';\n",
       "                    \n",
       "                if (document.getElementById(\"b2852390-95eb-4062-89f9-bdcbae7f34d7\")) {\n",
       "                    Plotly.newPlot(\n",
       "                        'b2852390-95eb-4062-89f9-bdcbae7f34d7',\n",
       "                        [{\"line\": {\"color\": \"rgba(255, 153, 51, 1.0)\", \"dash\": \"solid\", \"shape\": \"linear\", \"width\": 1.3}, \"marker\": {\"size\": 10, \"symbol\": \"circle\"}, \"mode\": \"markers\", \"name\": \"B\", \"text\": \"\", \"type\": \"scatter\", \"x\": [2.6373344784495645, -1.9514781140231166, 1.048759696978105, -1.2963473714495244, 0.27694889027081887, 0.692496688521014, 0.07606444168264838, -0.6406801537579438, -0.6800911741187079, -0.8518888122997218, -0.7791147369734518, -0.6734941267402332, 1.0167773412090835, 0.23352732552763336, 0.6163742442520982, -0.062319690042786834, 0.4481652315232757, -0.02433885182191795, -0.4495406344066845, 0.256728595894281, -0.14869432230647567, -1.2719115094158837, -0.18309035858598605, 0.9512382104394191, -1.3351222343701932, 0.8118457968750349, -0.4592579259017499, 0.017322515641877596, -0.10874037092289358, 0.7231418010819272, 0.24488018614133208, -0.5002111461510281, -0.6789918892111676, 1.0651918883435525, -0.29021561808912394, -0.5543716289854907, 0.25805961156717533, -0.24712456122109305, 0.7710767621589241, -1.1037831746949724, 1.634401350202134, -0.6841000935514857, 0.41030079756170595, 0.9058247386329331, -2.3161672250434076, 0.8233980785593794, 1.892568603868356, 1.1105016985095562, 1.0807787816525551, 0.26329482385854525, 0.6811746578863037, 1.5953539436930355, -0.8709560373194579, 1.133535395435486, 1.993229916325945, -1.7783792766437496, -1.028962145596852, 0.11030844695762584, 0.07519092337124138, 0.4998945230505707, -0.14543010621768782, 2.006305468029981, 0.02027007279842382, -0.5024886909118702, 0.9748120761643012, -0.42348555508138697, 0.11543167395240778, 0.312886660558503, -0.24027670045074928, 0.3752446493239127, 0.1211156796304035, -0.6445287847348729, 0.2764578536695193, 0.10937742078251535, -1.655221776282199, -0.52926779494393, 0.456193201572975, 0.5155302426268643, -0.139552865775506, 0.7012109814926522, -1.113704268358639, -1.9031496623660287, -1.0805160223732262, -1.4413303548350294, 0.4576522935107792, 1.4630078606653885, -1.2489647067372125, -0.6250555560710132, -0.10145369069764623, 0.138125916178685, -1.4996158840708063, 1.5118801883843067, -0.1993334647684355, 0.0031373104395526923, 1.3583255766429585, -1.2406567590300575, -0.5432080731603196, 0.013525641271830868, -0.6655652043632769, 0.9079388521323659], \"y\": [-2.284695843780699, -0.12897863957239397, -0.5960163415525992, 0.6927278091908197, -1.073096401837728, -0.5784207622519486, -0.23519756874658382, -0.9451011638490537, -1.063843416629175, 0.6756848161415443, 0.8151176376126024, -0.8913414043464327, 1.586858684811914, -0.49092565487567463, -1.2918634219359029, 0.5036484512397292, -0.6014396795922873, 0.43023242215496327, -0.5140747441600014, -1.64299938662231, 0.19220870639914056, 0.8203705341311345, -1.3573891161830567, 0.9824384134933203, -0.4431038482458481, 0.831281467639583, 0.5991381056360517, -0.19798352319493737, 1.6225181625321803, 0.15865883270680928, -0.24062204610389426, -0.17416125564133053, 1.0077119144555593, 1.7385666186605993, -0.2493143010520831, 1.427211355261423, -0.10332308539021648, -0.16680760836093397, 2.0625300652181706, -0.029300367935213394, 2.8039443472510506, 0.346449737438328, -0.32633297104558556, -0.046492928263603656, -0.4363171197337111, 0.056197128779733936, 0.029384019930100338, 0.7419514855583611, -0.5169707337572688, 0.7157470081371733, 0.36528987025749876, 0.07089580181332032, 0.5816741379834732, -1.980963012540804, 1.5736259710506741, 0.6377350546144804, -0.9773283769613775, 0.6271683365660647, -0.20769018041276938, -0.13629364916807668, -1.0973203981421389, -0.5708035111791355, -1.4518036666885026, 1.144197133868288, 0.18607831353941073, -0.6319881383179478, -0.11362523685186736, 0.040575359081890784, 0.9243094765600892, -1.3476554400860434, -0.7963687182642614, 0.6813966725874765, -0.3003150585184621, -1.7367007129274277, 0.9276116141824441, -0.9356833375574491, 0.0031066811508997944, -0.9927386805528503, 2.4095902696689846, 0.8022472832942091, 0.18688783972328699, 0.68311543513717, -0.5938759721272218, -0.14109286740742658, 1.3991284943838274, 0.3546468501567292, 0.06716378301515893, 1.4330738198409538, 1.2093940166410524, -0.002097060041586007, -0.888013370871234, 1.3046302754895798, -1.4518307583462837, -1.2772735047680706, 0.5455088989553084, 1.3906872989486303, -0.3322633074372016, 1.4057999871358426, -1.6056202884422215, 0.8482521990758864]}],\n",
       "                        {\"legend\": {\"bgcolor\": \"#F5F6F9\", \"font\": {\"color\": \"#4D5663\"}}, \"paper_bgcolor\": \"#F5F6F9\", \"plot_bgcolor\": \"#F5F6F9\", \"template\": {\"data\": {\"bar\": [{\"error_x\": {\"color\": \"#2a3f5f\"}, \"error_y\": {\"color\": \"#2a3f5f\"}, \"marker\": {\"line\": {\"color\": \"#E5ECF6\", \"width\": 0.5}}, \"type\": \"bar\"}], \"barpolar\": [{\"marker\": {\"line\": {\"color\": \"#E5ECF6\", \"width\": 0.5}}, \"type\": \"barpolar\"}], \"carpet\": [{\"aaxis\": {\"endlinecolor\": \"#2a3f5f\", \"gridcolor\": \"white\", \"linecolor\": \"white\", \"minorgridcolor\": \"white\", \"startlinecolor\": \"#2a3f5f\"}, \"baxis\": {\"endlinecolor\": \"#2a3f5f\", \"gridcolor\": \"white\", \"linecolor\": \"white\", \"minorgridcolor\": \"white\", \"startlinecolor\": \"#2a3f5f\"}, \"type\": \"carpet\"}], \"choropleth\": [{\"colorbar\": {\"outlinewidth\": 0, \"ticks\": \"\"}, \"type\": \"choropleth\"}], \"contour\": [{\"colorbar\": {\"outlinewidth\": 0, \"ticks\": \"\"}, \"colorscale\": [[0.0, \"#0d0887\"], [0.1111111111111111, \"#46039f\"], [0.2222222222222222, \"#7201a8\"], [0.3333333333333333, \"#9c179e\"], [0.4444444444444444, \"#bd3786\"], [0.5555555555555556, \"#d8576b\"], [0.6666666666666666, \"#ed7953\"], [0.7777777777777778, \"#fb9f3a\"], [0.8888888888888888, \"#fdca26\"], [1.0, \"#f0f921\"]], \"type\": \"contour\"}], \"contourcarpet\": [{\"colorbar\": {\"outlinewidth\": 0, \"ticks\": \"\"}, \"type\": \"contourcarpet\"}], \"heatmap\": [{\"colorbar\": {\"outlinewidth\": 0, \"ticks\": \"\"}, \"colorscale\": [[0.0, \"#0d0887\"], [0.1111111111111111, \"#46039f\"], [0.2222222222222222, \"#7201a8\"], [0.3333333333333333, \"#9c179e\"], [0.4444444444444444, \"#bd3786\"], [0.5555555555555556, \"#d8576b\"], [0.6666666666666666, \"#ed7953\"], [0.7777777777777778, \"#fb9f3a\"], [0.8888888888888888, \"#fdca26\"], [1.0, \"#f0f921\"]], \"type\": \"heatmap\"}], \"heatmapgl\": [{\"colorbar\": {\"outlinewidth\": 0, \"ticks\": \"\"}, \"colorscale\": [[0.0, \"#0d0887\"], [0.1111111111111111, \"#46039f\"], [0.2222222222222222, \"#7201a8\"], [0.3333333333333333, \"#9c179e\"], [0.4444444444444444, \"#bd3786\"], [0.5555555555555556, \"#d8576b\"], [0.6666666666666666, \"#ed7953\"], [0.7777777777777778, \"#fb9f3a\"], [0.8888888888888888, \"#fdca26\"], [1.0, \"#f0f921\"]], \"type\": \"heatmapgl\"}], \"histogram\": [{\"marker\": {\"colorbar\": {\"outlinewidth\": 0, \"ticks\": \"\"}}, \"type\": \"histogram\"}], \"histogram2d\": [{\"colorbar\": {\"outlinewidth\": 0, \"ticks\": \"\"}, \"colorscale\": [[0.0, \"#0d0887\"], [0.1111111111111111, \"#46039f\"], [0.2222222222222222, \"#7201a8\"], [0.3333333333333333, \"#9c179e\"], [0.4444444444444444, \"#bd3786\"], [0.5555555555555556, \"#d8576b\"], [0.6666666666666666, \"#ed7953\"], [0.7777777777777778, \"#fb9f3a\"], [0.8888888888888888, \"#fdca26\"], [1.0, \"#f0f921\"]], \"type\": \"histogram2d\"}], \"histogram2dcontour\": [{\"colorbar\": {\"outlinewidth\": 0, \"ticks\": \"\"}, \"colorscale\": [[0.0, \"#0d0887\"], [0.1111111111111111, \"#46039f\"], [0.2222222222222222, \"#7201a8\"], [0.3333333333333333, \"#9c179e\"], [0.4444444444444444, \"#bd3786\"], [0.5555555555555556, \"#d8576b\"], [0.6666666666666666, \"#ed7953\"], [0.7777777777777778, \"#fb9f3a\"], [0.8888888888888888, \"#fdca26\"], [1.0, \"#f0f921\"]], \"type\": \"histogram2dcontour\"}], \"mesh3d\": [{\"colorbar\": {\"outlinewidth\": 0, \"ticks\": \"\"}, \"type\": \"mesh3d\"}], \"parcoords\": [{\"line\": {\"colorbar\": {\"outlinewidth\": 0, \"ticks\": \"\"}}, \"type\": \"parcoords\"}], \"pie\": [{\"automargin\": true, \"type\": \"pie\"}], \"scatter\": [{\"marker\": {\"colorbar\": {\"outlinewidth\": 0, \"ticks\": \"\"}}, \"type\": \"scatter\"}], \"scatter3d\": [{\"line\": {\"colorbar\": {\"outlinewidth\": 0, \"ticks\": \"\"}}, \"marker\": {\"colorbar\": {\"outlinewidth\": 0, \"ticks\": \"\"}}, \"type\": \"scatter3d\"}], \"scattercarpet\": [{\"marker\": {\"colorbar\": {\"outlinewidth\": 0, \"ticks\": \"\"}}, \"type\": \"scattercarpet\"}], \"scattergeo\": [{\"marker\": {\"colorbar\": {\"outlinewidth\": 0, \"ticks\": \"\"}}, \"type\": \"scattergeo\"}], \"scattergl\": [{\"marker\": {\"colorbar\": {\"outlinewidth\": 0, \"ticks\": \"\"}}, \"type\": \"scattergl\"}], \"scattermapbox\": [{\"marker\": {\"colorbar\": {\"outlinewidth\": 0, \"ticks\": \"\"}}, \"type\": \"scattermapbox\"}], \"scatterpolar\": [{\"marker\": {\"colorbar\": {\"outlinewidth\": 0, \"ticks\": \"\"}}, \"type\": \"scatterpolar\"}], \"scatterpolargl\": [{\"marker\": {\"colorbar\": {\"outlinewidth\": 0, \"ticks\": \"\"}}, \"type\": \"scatterpolargl\"}], \"scatterternary\": [{\"marker\": {\"colorbar\": {\"outlinewidth\": 0, \"ticks\": \"\"}}, \"type\": \"scatterternary\"}], \"surface\": [{\"colorbar\": {\"outlinewidth\": 0, \"ticks\": \"\"}, \"colorscale\": [[0.0, \"#0d0887\"], [0.1111111111111111, \"#46039f\"], [0.2222222222222222, \"#7201a8\"], [0.3333333333333333, \"#9c179e\"], [0.4444444444444444, \"#bd3786\"], [0.5555555555555556, \"#d8576b\"], [0.6666666666666666, \"#ed7953\"], [0.7777777777777778, \"#fb9f3a\"], [0.8888888888888888, \"#fdca26\"], [1.0, \"#f0f921\"]], \"type\": \"surface\"}], \"table\": [{\"cells\": {\"fill\": {\"color\": \"#EBF0F8\"}, \"line\": {\"color\": \"white\"}}, \"header\": {\"fill\": {\"color\": \"#C8D4E3\"}, \"line\": {\"color\": \"white\"}}, \"type\": \"table\"}]}, \"layout\": {\"annotationdefaults\": {\"arrowcolor\": \"#2a3f5f\", \"arrowhead\": 0, \"arrowwidth\": 1}, \"coloraxis\": {\"colorbar\": {\"outlinewidth\": 0, \"ticks\": \"\"}}, \"colorscale\": {\"diverging\": [[0, \"#8e0152\"], [0.1, \"#c51b7d\"], [0.2, \"#de77ae\"], [0.3, \"#f1b6da\"], [0.4, \"#fde0ef\"], [0.5, \"#f7f7f7\"], [0.6, \"#e6f5d0\"], [0.7, \"#b8e186\"], [0.8, \"#7fbc41\"], [0.9, \"#4d9221\"], [1, \"#276419\"]], \"sequential\": [[0.0, \"#0d0887\"], [0.1111111111111111, \"#46039f\"], [0.2222222222222222, \"#7201a8\"], [0.3333333333333333, \"#9c179e\"], [0.4444444444444444, \"#bd3786\"], [0.5555555555555556, \"#d8576b\"], [0.6666666666666666, \"#ed7953\"], [0.7777777777777778, \"#fb9f3a\"], [0.8888888888888888, \"#fdca26\"], [1.0, \"#f0f921\"]], \"sequentialminus\": [[0.0, \"#0d0887\"], [0.1111111111111111, \"#46039f\"], [0.2222222222222222, \"#7201a8\"], [0.3333333333333333, \"#9c179e\"], [0.4444444444444444, \"#bd3786\"], [0.5555555555555556, \"#d8576b\"], [0.6666666666666666, \"#ed7953\"], [0.7777777777777778, \"#fb9f3a\"], [0.8888888888888888, \"#fdca26\"], [1.0, \"#f0f921\"]]}, \"colorway\": [\"#636efa\", \"#EF553B\", \"#00cc96\", \"#ab63fa\", \"#FFA15A\", \"#19d3f3\", \"#FF6692\", \"#B6E880\", \"#FF97FF\", \"#FECB52\"], \"font\": {\"color\": \"#2a3f5f\"}, \"geo\": {\"bgcolor\": \"white\", \"lakecolor\": \"white\", \"landcolor\": \"#E5ECF6\", \"showlakes\": true, \"showland\": true, \"subunitcolor\": \"white\"}, \"hoverlabel\": {\"align\": \"left\"}, \"hovermode\": \"closest\", \"mapbox\": {\"style\": \"light\"}, \"paper_bgcolor\": \"white\", \"plot_bgcolor\": \"#E5ECF6\", \"polar\": {\"angularaxis\": {\"gridcolor\": \"white\", \"linecolor\": \"white\", \"ticks\": \"\"}, \"bgcolor\": \"#E5ECF6\", \"radialaxis\": {\"gridcolor\": \"white\", \"linecolor\": \"white\", \"ticks\": \"\"}}, \"scene\": {\"xaxis\": {\"backgroundcolor\": \"#E5ECF6\", \"gridcolor\": \"white\", \"gridwidth\": 2, \"linecolor\": \"white\", \"showbackground\": true, \"ticks\": \"\", \"zerolinecolor\": \"white\"}, \"yaxis\": {\"backgroundcolor\": \"#E5ECF6\", \"gridcolor\": \"white\", \"gridwidth\": 2, \"linecolor\": \"white\", \"showbackground\": true, \"ticks\": \"\", \"zerolinecolor\": \"white\"}, \"zaxis\": {\"backgroundcolor\": \"#E5ECF6\", \"gridcolor\": \"white\", \"gridwidth\": 2, \"linecolor\": \"white\", \"showbackground\": true, \"ticks\": \"\", \"zerolinecolor\": \"white\"}}, \"shapedefaults\": {\"line\": {\"color\": \"#2a3f5f\"}}, \"ternary\": {\"aaxis\": {\"gridcolor\": \"white\", \"linecolor\": \"white\", \"ticks\": \"\"}, \"baxis\": {\"gridcolor\": \"white\", \"linecolor\": \"white\", \"ticks\": \"\"}, \"bgcolor\": \"#E5ECF6\", \"caxis\": {\"gridcolor\": \"white\", \"linecolor\": \"white\", \"ticks\": \"\"}}, \"title\": {\"x\": 0.05}, \"xaxis\": {\"automargin\": true, \"gridcolor\": \"white\", \"linecolor\": \"white\", \"ticks\": \"\", \"title\": {\"standoff\": 15}, \"zerolinecolor\": \"white\", \"zerolinewidth\": 2}, \"yaxis\": {\"automargin\": true, \"gridcolor\": \"white\", \"linecolor\": \"white\", \"ticks\": \"\", \"title\": {\"standoff\": 15}, \"zerolinecolor\": \"white\", \"zerolinewidth\": 2}}}, \"title\": {\"font\": {\"color\": \"#4D5663\"}}, \"xaxis\": {\"gridcolor\": \"#E1E5ED\", \"showgrid\": true, \"tickfont\": {\"color\": \"#4D5663\"}, \"title\": {\"font\": {\"color\": \"#4D5663\"}, \"text\": \"\"}, \"zerolinecolor\": \"#E1E5ED\"}, \"yaxis\": {\"gridcolor\": \"#E1E5ED\", \"showgrid\": true, \"tickfont\": {\"color\": \"#4D5663\"}, \"title\": {\"font\": {\"color\": \"#4D5663\"}, \"text\": \"\"}, \"zerolinecolor\": \"#E1E5ED\"}},\n",
       "                        {\"showLink\": true, \"linkText\": \"Export to plot.ly\", \"plotlyServerURL\": \"https://plot.ly\", \"responsive\": true}\n",
       "                    ).then(function(){\n",
       "                            \n",
       "var gd = document.getElementById('b2852390-95eb-4062-89f9-bdcbae7f34d7');\n",
       "var x = new MutationObserver(function (mutations, observer) {{\n",
       "        var display = window.getComputedStyle(gd).display;\n",
       "        if (!display || display === 'none') {{\n",
       "            console.log([gd, 'removed!']);\n",
       "            Plotly.purge(gd);\n",
       "            observer.disconnect();\n",
       "        }}\n",
       "}});\n",
       "\n",
       "// Listen for the removal of the full notebook cells\n",
       "var notebookContainer = gd.closest('#notebook-container');\n",
       "if (notebookContainer) {{\n",
       "    x.observe(notebookContainer, {childList: true});\n",
       "}}\n",
       "\n",
       "// Listen for the clearing of the current output cell\n",
       "var outputEl = gd.closest('.output');\n",
       "if (outputEl) {{\n",
       "    x.observe(outputEl, {childList: true});\n",
       "}}\n",
       "\n",
       "                        })\n",
       "                };\n",
       "                });\n",
       "            </script>\n",
       "        </div>"
      ]
     },
     "metadata": {},
     "output_type": "display_data"
    }
   ],
   "source": [
    "df.iplot(kind='scatter',x='A',y='B',mode='markers',size=10)"
   ]
  },
  {
   "cell_type": "markdown",
   "metadata": {},
   "source": [
    "## Bar Plots"
   ]
  },
  {
   "cell_type": "code",
   "execution_count": 11,
   "metadata": {},
   "outputs": [
    {
     "data": {
      "application/vnd.plotly.v1+json": {
       "config": {
        "linkText": "Export to plot.ly",
        "plotlyServerURL": "https://plot.ly",
        "showLink": true
       },
       "data": [
        {
         "marker": {
          "color": "rgba(255, 153, 51, 0.6)",
          "line": {
           "color": "rgba(255, 153, 51, 1.0)",
           "width": 1
          }
         },
         "name": "Values",
         "orientation": "v",
         "text": "",
         "type": "bar",
         "x": [
          "A",
          "B",
          "C"
         ],
         "y": [
          32,
          43,
          50
         ]
        }
       ],
       "layout": {
        "legend": {
         "bgcolor": "#F5F6F9",
         "font": {
          "color": "#4D5663"
         }
        },
        "paper_bgcolor": "#F5F6F9",
        "plot_bgcolor": "#F5F6F9",
        "template": {
         "data": {
          "bar": [
           {
            "error_x": {
             "color": "#2a3f5f"
            },
            "error_y": {
             "color": "#2a3f5f"
            },
            "marker": {
             "line": {
              "color": "#E5ECF6",
              "width": 0.5
             }
            },
            "type": "bar"
           }
          ],
          "barpolar": [
           {
            "marker": {
             "line": {
              "color": "#E5ECF6",
              "width": 0.5
             }
            },
            "type": "barpolar"
           }
          ],
          "carpet": [
           {
            "aaxis": {
             "endlinecolor": "#2a3f5f",
             "gridcolor": "white",
             "linecolor": "white",
             "minorgridcolor": "white",
             "startlinecolor": "#2a3f5f"
            },
            "baxis": {
             "endlinecolor": "#2a3f5f",
             "gridcolor": "white",
             "linecolor": "white",
             "minorgridcolor": "white",
             "startlinecolor": "#2a3f5f"
            },
            "type": "carpet"
           }
          ],
          "choropleth": [
           {
            "colorbar": {
             "outlinewidth": 0,
             "ticks": ""
            },
            "type": "choropleth"
           }
          ],
          "contour": [
           {
            "colorbar": {
             "outlinewidth": 0,
             "ticks": ""
            },
            "colorscale": [
             [
              0,
              "#0d0887"
             ],
             [
              0.1111111111111111,
              "#46039f"
             ],
             [
              0.2222222222222222,
              "#7201a8"
             ],
             [
              0.3333333333333333,
              "#9c179e"
             ],
             [
              0.4444444444444444,
              "#bd3786"
             ],
             [
              0.5555555555555556,
              "#d8576b"
             ],
             [
              0.6666666666666666,
              "#ed7953"
             ],
             [
              0.7777777777777778,
              "#fb9f3a"
             ],
             [
              0.8888888888888888,
              "#fdca26"
             ],
             [
              1,
              "#f0f921"
             ]
            ],
            "type": "contour"
           }
          ],
          "contourcarpet": [
           {
            "colorbar": {
             "outlinewidth": 0,
             "ticks": ""
            },
            "type": "contourcarpet"
           }
          ],
          "heatmap": [
           {
            "colorbar": {
             "outlinewidth": 0,
             "ticks": ""
            },
            "colorscale": [
             [
              0,
              "#0d0887"
             ],
             [
              0.1111111111111111,
              "#46039f"
             ],
             [
              0.2222222222222222,
              "#7201a8"
             ],
             [
              0.3333333333333333,
              "#9c179e"
             ],
             [
              0.4444444444444444,
              "#bd3786"
             ],
             [
              0.5555555555555556,
              "#d8576b"
             ],
             [
              0.6666666666666666,
              "#ed7953"
             ],
             [
              0.7777777777777778,
              "#fb9f3a"
             ],
             [
              0.8888888888888888,
              "#fdca26"
             ],
             [
              1,
              "#f0f921"
             ]
            ],
            "type": "heatmap"
           }
          ],
          "heatmapgl": [
           {
            "colorbar": {
             "outlinewidth": 0,
             "ticks": ""
            },
            "colorscale": [
             [
              0,
              "#0d0887"
             ],
             [
              0.1111111111111111,
              "#46039f"
             ],
             [
              0.2222222222222222,
              "#7201a8"
             ],
             [
              0.3333333333333333,
              "#9c179e"
             ],
             [
              0.4444444444444444,
              "#bd3786"
             ],
             [
              0.5555555555555556,
              "#d8576b"
             ],
             [
              0.6666666666666666,
              "#ed7953"
             ],
             [
              0.7777777777777778,
              "#fb9f3a"
             ],
             [
              0.8888888888888888,
              "#fdca26"
             ],
             [
              1,
              "#f0f921"
             ]
            ],
            "type": "heatmapgl"
           }
          ],
          "histogram": [
           {
            "marker": {
             "colorbar": {
              "outlinewidth": 0,
              "ticks": ""
             }
            },
            "type": "histogram"
           }
          ],
          "histogram2d": [
           {
            "colorbar": {
             "outlinewidth": 0,
             "ticks": ""
            },
            "colorscale": [
             [
              0,
              "#0d0887"
             ],
             [
              0.1111111111111111,
              "#46039f"
             ],
             [
              0.2222222222222222,
              "#7201a8"
             ],
             [
              0.3333333333333333,
              "#9c179e"
             ],
             [
              0.4444444444444444,
              "#bd3786"
             ],
             [
              0.5555555555555556,
              "#d8576b"
             ],
             [
              0.6666666666666666,
              "#ed7953"
             ],
             [
              0.7777777777777778,
              "#fb9f3a"
             ],
             [
              0.8888888888888888,
              "#fdca26"
             ],
             [
              1,
              "#f0f921"
             ]
            ],
            "type": "histogram2d"
           }
          ],
          "histogram2dcontour": [
           {
            "colorbar": {
             "outlinewidth": 0,
             "ticks": ""
            },
            "colorscale": [
             [
              0,
              "#0d0887"
             ],
             [
              0.1111111111111111,
              "#46039f"
             ],
             [
              0.2222222222222222,
              "#7201a8"
             ],
             [
              0.3333333333333333,
              "#9c179e"
             ],
             [
              0.4444444444444444,
              "#bd3786"
             ],
             [
              0.5555555555555556,
              "#d8576b"
             ],
             [
              0.6666666666666666,
              "#ed7953"
             ],
             [
              0.7777777777777778,
              "#fb9f3a"
             ],
             [
              0.8888888888888888,
              "#fdca26"
             ],
             [
              1,
              "#f0f921"
             ]
            ],
            "type": "histogram2dcontour"
           }
          ],
          "mesh3d": [
           {
            "colorbar": {
             "outlinewidth": 0,
             "ticks": ""
            },
            "type": "mesh3d"
           }
          ],
          "parcoords": [
           {
            "line": {
             "colorbar": {
              "outlinewidth": 0,
              "ticks": ""
             }
            },
            "type": "parcoords"
           }
          ],
          "pie": [
           {
            "automargin": true,
            "type": "pie"
           }
          ],
          "scatter": [
           {
            "marker": {
             "colorbar": {
              "outlinewidth": 0,
              "ticks": ""
             }
            },
            "type": "scatter"
           }
          ],
          "scatter3d": [
           {
            "line": {
             "colorbar": {
              "outlinewidth": 0,
              "ticks": ""
             }
            },
            "marker": {
             "colorbar": {
              "outlinewidth": 0,
              "ticks": ""
             }
            },
            "type": "scatter3d"
           }
          ],
          "scattercarpet": [
           {
            "marker": {
             "colorbar": {
              "outlinewidth": 0,
              "ticks": ""
             }
            },
            "type": "scattercarpet"
           }
          ],
          "scattergeo": [
           {
            "marker": {
             "colorbar": {
              "outlinewidth": 0,
              "ticks": ""
             }
            },
            "type": "scattergeo"
           }
          ],
          "scattergl": [
           {
            "marker": {
             "colorbar": {
              "outlinewidth": 0,
              "ticks": ""
             }
            },
            "type": "scattergl"
           }
          ],
          "scattermapbox": [
           {
            "marker": {
             "colorbar": {
              "outlinewidth": 0,
              "ticks": ""
             }
            },
            "type": "scattermapbox"
           }
          ],
          "scatterpolar": [
           {
            "marker": {
             "colorbar": {
              "outlinewidth": 0,
              "ticks": ""
             }
            },
            "type": "scatterpolar"
           }
          ],
          "scatterpolargl": [
           {
            "marker": {
             "colorbar": {
              "outlinewidth": 0,
              "ticks": ""
             }
            },
            "type": "scatterpolargl"
           }
          ],
          "scatterternary": [
           {
            "marker": {
             "colorbar": {
              "outlinewidth": 0,
              "ticks": ""
             }
            },
            "type": "scatterternary"
           }
          ],
          "surface": [
           {
            "colorbar": {
             "outlinewidth": 0,
             "ticks": ""
            },
            "colorscale": [
             [
              0,
              "#0d0887"
             ],
             [
              0.1111111111111111,
              "#46039f"
             ],
             [
              0.2222222222222222,
              "#7201a8"
             ],
             [
              0.3333333333333333,
              "#9c179e"
             ],
             [
              0.4444444444444444,
              "#bd3786"
             ],
             [
              0.5555555555555556,
              "#d8576b"
             ],
             [
              0.6666666666666666,
              "#ed7953"
             ],
             [
              0.7777777777777778,
              "#fb9f3a"
             ],
             [
              0.8888888888888888,
              "#fdca26"
             ],
             [
              1,
              "#f0f921"
             ]
            ],
            "type": "surface"
           }
          ],
          "table": [
           {
            "cells": {
             "fill": {
              "color": "#EBF0F8"
             },
             "line": {
              "color": "white"
             }
            },
            "header": {
             "fill": {
              "color": "#C8D4E3"
             },
             "line": {
              "color": "white"
             }
            },
            "type": "table"
           }
          ]
         },
         "layout": {
          "annotationdefaults": {
           "arrowcolor": "#2a3f5f",
           "arrowhead": 0,
           "arrowwidth": 1
          },
          "coloraxis": {
           "colorbar": {
            "outlinewidth": 0,
            "ticks": ""
           }
          },
          "colorscale": {
           "diverging": [
            [
             0,
             "#8e0152"
            ],
            [
             0.1,
             "#c51b7d"
            ],
            [
             0.2,
             "#de77ae"
            ],
            [
             0.3,
             "#f1b6da"
            ],
            [
             0.4,
             "#fde0ef"
            ],
            [
             0.5,
             "#f7f7f7"
            ],
            [
             0.6,
             "#e6f5d0"
            ],
            [
             0.7,
             "#b8e186"
            ],
            [
             0.8,
             "#7fbc41"
            ],
            [
             0.9,
             "#4d9221"
            ],
            [
             1,
             "#276419"
            ]
           ],
           "sequential": [
            [
             0,
             "#0d0887"
            ],
            [
             0.1111111111111111,
             "#46039f"
            ],
            [
             0.2222222222222222,
             "#7201a8"
            ],
            [
             0.3333333333333333,
             "#9c179e"
            ],
            [
             0.4444444444444444,
             "#bd3786"
            ],
            [
             0.5555555555555556,
             "#d8576b"
            ],
            [
             0.6666666666666666,
             "#ed7953"
            ],
            [
             0.7777777777777778,
             "#fb9f3a"
            ],
            [
             0.8888888888888888,
             "#fdca26"
            ],
            [
             1,
             "#f0f921"
            ]
           ],
           "sequentialminus": [
            [
             0,
             "#0d0887"
            ],
            [
             0.1111111111111111,
             "#46039f"
            ],
            [
             0.2222222222222222,
             "#7201a8"
            ],
            [
             0.3333333333333333,
             "#9c179e"
            ],
            [
             0.4444444444444444,
             "#bd3786"
            ],
            [
             0.5555555555555556,
             "#d8576b"
            ],
            [
             0.6666666666666666,
             "#ed7953"
            ],
            [
             0.7777777777777778,
             "#fb9f3a"
            ],
            [
             0.8888888888888888,
             "#fdca26"
            ],
            [
             1,
             "#f0f921"
            ]
           ]
          },
          "colorway": [
           "#636efa",
           "#EF553B",
           "#00cc96",
           "#ab63fa",
           "#FFA15A",
           "#19d3f3",
           "#FF6692",
           "#B6E880",
           "#FF97FF",
           "#FECB52"
          ],
          "font": {
           "color": "#2a3f5f"
          },
          "geo": {
           "bgcolor": "white",
           "lakecolor": "white",
           "landcolor": "#E5ECF6",
           "showlakes": true,
           "showland": true,
           "subunitcolor": "white"
          },
          "hoverlabel": {
           "align": "left"
          },
          "hovermode": "closest",
          "mapbox": {
           "style": "light"
          },
          "paper_bgcolor": "white",
          "plot_bgcolor": "#E5ECF6",
          "polar": {
           "angularaxis": {
            "gridcolor": "white",
            "linecolor": "white",
            "ticks": ""
           },
           "bgcolor": "#E5ECF6",
           "radialaxis": {
            "gridcolor": "white",
            "linecolor": "white",
            "ticks": ""
           }
          },
          "scene": {
           "xaxis": {
            "backgroundcolor": "#E5ECF6",
            "gridcolor": "white",
            "gridwidth": 2,
            "linecolor": "white",
            "showbackground": true,
            "ticks": "",
            "zerolinecolor": "white"
           },
           "yaxis": {
            "backgroundcolor": "#E5ECF6",
            "gridcolor": "white",
            "gridwidth": 2,
            "linecolor": "white",
            "showbackground": true,
            "ticks": "",
            "zerolinecolor": "white"
           },
           "zaxis": {
            "backgroundcolor": "#E5ECF6",
            "gridcolor": "white",
            "gridwidth": 2,
            "linecolor": "white",
            "showbackground": true,
            "ticks": "",
            "zerolinecolor": "white"
           }
          },
          "shapedefaults": {
           "line": {
            "color": "#2a3f5f"
           }
          },
          "ternary": {
           "aaxis": {
            "gridcolor": "white",
            "linecolor": "white",
            "ticks": ""
           },
           "baxis": {
            "gridcolor": "white",
            "linecolor": "white",
            "ticks": ""
           },
           "bgcolor": "#E5ECF6",
           "caxis": {
            "gridcolor": "white",
            "linecolor": "white",
            "ticks": ""
           }
          },
          "title": {
           "x": 0.05
          },
          "xaxis": {
           "automargin": true,
           "gridcolor": "white",
           "linecolor": "white",
           "ticks": "",
           "title": {
            "standoff": 15
           },
           "zerolinecolor": "white",
           "zerolinewidth": 2
          },
          "yaxis": {
           "automargin": true,
           "gridcolor": "white",
           "linecolor": "white",
           "ticks": "",
           "title": {
            "standoff": 15
           },
           "zerolinecolor": "white",
           "zerolinewidth": 2
          }
         }
        },
        "title": {
         "font": {
          "color": "#4D5663"
         }
        },
        "xaxis": {
         "gridcolor": "#E1E5ED",
         "showgrid": true,
         "tickfont": {
          "color": "#4D5663"
         },
         "title": {
          "font": {
           "color": "#4D5663"
          },
          "text": ""
         },
         "zerolinecolor": "#E1E5ED"
        },
        "yaxis": {
         "gridcolor": "#E1E5ED",
         "showgrid": true,
         "tickfont": {
          "color": "#4D5663"
         },
         "title": {
          "font": {
           "color": "#4D5663"
          },
          "text": ""
         },
         "zerolinecolor": "#E1E5ED"
        }
       }
      },
      "text/html": [
       "<div>\n",
       "        \n",
       "        \n",
       "            <div id=\"505db464-67c4-48b1-a1d3-9642d713ce4c\" class=\"plotly-graph-div\" style=\"height:525px; width:100%;\"></div>\n",
       "            <script type=\"text/javascript\">\n",
       "                require([\"plotly\"], function(Plotly) {\n",
       "                    window.PLOTLYENV=window.PLOTLYENV || {};\n",
       "                    window.PLOTLYENV.BASE_URL='https://plot.ly';\n",
       "                    \n",
       "                if (document.getElementById(\"505db464-67c4-48b1-a1d3-9642d713ce4c\")) {\n",
       "                    Plotly.newPlot(\n",
       "                        '505db464-67c4-48b1-a1d3-9642d713ce4c',\n",
       "                        [{\"marker\": {\"color\": \"rgba(255, 153, 51, 0.6)\", \"line\": {\"color\": \"rgba(255, 153, 51, 1.0)\", \"width\": 1}}, \"name\": \"Values\", \"orientation\": \"v\", \"text\": \"\", \"type\": \"bar\", \"x\": [\"A\", \"B\", \"C\"], \"y\": [32, 43, 50]}],\n",
       "                        {\"legend\": {\"bgcolor\": \"#F5F6F9\", \"font\": {\"color\": \"#4D5663\"}}, \"paper_bgcolor\": \"#F5F6F9\", \"plot_bgcolor\": \"#F5F6F9\", \"template\": {\"data\": {\"bar\": [{\"error_x\": {\"color\": \"#2a3f5f\"}, \"error_y\": {\"color\": \"#2a3f5f\"}, \"marker\": {\"line\": {\"color\": \"#E5ECF6\", \"width\": 0.5}}, \"type\": \"bar\"}], \"barpolar\": [{\"marker\": {\"line\": {\"color\": \"#E5ECF6\", \"width\": 0.5}}, \"type\": \"barpolar\"}], \"carpet\": [{\"aaxis\": {\"endlinecolor\": \"#2a3f5f\", \"gridcolor\": \"white\", \"linecolor\": \"white\", \"minorgridcolor\": \"white\", \"startlinecolor\": \"#2a3f5f\"}, \"baxis\": {\"endlinecolor\": \"#2a3f5f\", \"gridcolor\": \"white\", \"linecolor\": \"white\", \"minorgridcolor\": \"white\", \"startlinecolor\": \"#2a3f5f\"}, \"type\": \"carpet\"}], \"choropleth\": [{\"colorbar\": {\"outlinewidth\": 0, \"ticks\": \"\"}, \"type\": \"choropleth\"}], \"contour\": [{\"colorbar\": {\"outlinewidth\": 0, \"ticks\": \"\"}, \"colorscale\": [[0.0, \"#0d0887\"], [0.1111111111111111, \"#46039f\"], [0.2222222222222222, \"#7201a8\"], [0.3333333333333333, \"#9c179e\"], [0.4444444444444444, \"#bd3786\"], [0.5555555555555556, \"#d8576b\"], [0.6666666666666666, \"#ed7953\"], [0.7777777777777778, \"#fb9f3a\"], [0.8888888888888888, \"#fdca26\"], [1.0, \"#f0f921\"]], \"type\": \"contour\"}], \"contourcarpet\": [{\"colorbar\": {\"outlinewidth\": 0, \"ticks\": \"\"}, \"type\": \"contourcarpet\"}], \"heatmap\": [{\"colorbar\": {\"outlinewidth\": 0, \"ticks\": \"\"}, \"colorscale\": [[0.0, \"#0d0887\"], [0.1111111111111111, \"#46039f\"], [0.2222222222222222, \"#7201a8\"], [0.3333333333333333, \"#9c179e\"], [0.4444444444444444, \"#bd3786\"], [0.5555555555555556, \"#d8576b\"], [0.6666666666666666, \"#ed7953\"], [0.7777777777777778, \"#fb9f3a\"], [0.8888888888888888, \"#fdca26\"], [1.0, \"#f0f921\"]], \"type\": \"heatmap\"}], \"heatmapgl\": [{\"colorbar\": {\"outlinewidth\": 0, \"ticks\": \"\"}, \"colorscale\": [[0.0, \"#0d0887\"], [0.1111111111111111, \"#46039f\"], [0.2222222222222222, \"#7201a8\"], [0.3333333333333333, \"#9c179e\"], [0.4444444444444444, \"#bd3786\"], [0.5555555555555556, \"#d8576b\"], [0.6666666666666666, \"#ed7953\"], [0.7777777777777778, \"#fb9f3a\"], [0.8888888888888888, \"#fdca26\"], [1.0, \"#f0f921\"]], \"type\": \"heatmapgl\"}], \"histogram\": [{\"marker\": {\"colorbar\": {\"outlinewidth\": 0, \"ticks\": \"\"}}, \"type\": \"histogram\"}], \"histogram2d\": [{\"colorbar\": {\"outlinewidth\": 0, \"ticks\": \"\"}, \"colorscale\": [[0.0, \"#0d0887\"], [0.1111111111111111, \"#46039f\"], [0.2222222222222222, \"#7201a8\"], [0.3333333333333333, \"#9c179e\"], [0.4444444444444444, \"#bd3786\"], [0.5555555555555556, \"#d8576b\"], [0.6666666666666666, \"#ed7953\"], [0.7777777777777778, \"#fb9f3a\"], [0.8888888888888888, \"#fdca26\"], [1.0, \"#f0f921\"]], \"type\": \"histogram2d\"}], \"histogram2dcontour\": [{\"colorbar\": {\"outlinewidth\": 0, \"ticks\": \"\"}, \"colorscale\": [[0.0, \"#0d0887\"], [0.1111111111111111, \"#46039f\"], [0.2222222222222222, \"#7201a8\"], [0.3333333333333333, \"#9c179e\"], [0.4444444444444444, \"#bd3786\"], [0.5555555555555556, \"#d8576b\"], [0.6666666666666666, \"#ed7953\"], [0.7777777777777778, \"#fb9f3a\"], [0.8888888888888888, \"#fdca26\"], [1.0, \"#f0f921\"]], \"type\": \"histogram2dcontour\"}], \"mesh3d\": [{\"colorbar\": {\"outlinewidth\": 0, \"ticks\": \"\"}, \"type\": \"mesh3d\"}], \"parcoords\": [{\"line\": {\"colorbar\": {\"outlinewidth\": 0, \"ticks\": \"\"}}, \"type\": \"parcoords\"}], \"pie\": [{\"automargin\": true, \"type\": \"pie\"}], \"scatter\": [{\"marker\": {\"colorbar\": {\"outlinewidth\": 0, \"ticks\": \"\"}}, \"type\": \"scatter\"}], \"scatter3d\": [{\"line\": {\"colorbar\": {\"outlinewidth\": 0, \"ticks\": \"\"}}, \"marker\": {\"colorbar\": {\"outlinewidth\": 0, \"ticks\": \"\"}}, \"type\": \"scatter3d\"}], \"scattercarpet\": [{\"marker\": {\"colorbar\": {\"outlinewidth\": 0, \"ticks\": \"\"}}, \"type\": \"scattercarpet\"}], \"scattergeo\": [{\"marker\": {\"colorbar\": {\"outlinewidth\": 0, \"ticks\": \"\"}}, \"type\": \"scattergeo\"}], \"scattergl\": [{\"marker\": {\"colorbar\": {\"outlinewidth\": 0, \"ticks\": \"\"}}, \"type\": \"scattergl\"}], \"scattermapbox\": [{\"marker\": {\"colorbar\": {\"outlinewidth\": 0, \"ticks\": \"\"}}, \"type\": \"scattermapbox\"}], \"scatterpolar\": [{\"marker\": {\"colorbar\": {\"outlinewidth\": 0, \"ticks\": \"\"}}, \"type\": \"scatterpolar\"}], \"scatterpolargl\": [{\"marker\": {\"colorbar\": {\"outlinewidth\": 0, \"ticks\": \"\"}}, \"type\": \"scatterpolargl\"}], \"scatterternary\": [{\"marker\": {\"colorbar\": {\"outlinewidth\": 0, \"ticks\": \"\"}}, \"type\": \"scatterternary\"}], \"surface\": [{\"colorbar\": {\"outlinewidth\": 0, \"ticks\": \"\"}, \"colorscale\": [[0.0, \"#0d0887\"], [0.1111111111111111, \"#46039f\"], [0.2222222222222222, \"#7201a8\"], [0.3333333333333333, \"#9c179e\"], [0.4444444444444444, \"#bd3786\"], [0.5555555555555556, \"#d8576b\"], [0.6666666666666666, \"#ed7953\"], [0.7777777777777778, \"#fb9f3a\"], [0.8888888888888888, \"#fdca26\"], [1.0, \"#f0f921\"]], \"type\": \"surface\"}], \"table\": [{\"cells\": {\"fill\": {\"color\": \"#EBF0F8\"}, \"line\": {\"color\": \"white\"}}, \"header\": {\"fill\": {\"color\": \"#C8D4E3\"}, \"line\": {\"color\": \"white\"}}, \"type\": \"table\"}]}, \"layout\": {\"annotationdefaults\": {\"arrowcolor\": \"#2a3f5f\", \"arrowhead\": 0, \"arrowwidth\": 1}, \"coloraxis\": {\"colorbar\": {\"outlinewidth\": 0, \"ticks\": \"\"}}, \"colorscale\": {\"diverging\": [[0, \"#8e0152\"], [0.1, \"#c51b7d\"], [0.2, \"#de77ae\"], [0.3, \"#f1b6da\"], [0.4, \"#fde0ef\"], [0.5, \"#f7f7f7\"], [0.6, \"#e6f5d0\"], [0.7, \"#b8e186\"], [0.8, \"#7fbc41\"], [0.9, \"#4d9221\"], [1, \"#276419\"]], \"sequential\": [[0.0, \"#0d0887\"], [0.1111111111111111, \"#46039f\"], [0.2222222222222222, \"#7201a8\"], [0.3333333333333333, \"#9c179e\"], [0.4444444444444444, \"#bd3786\"], [0.5555555555555556, \"#d8576b\"], [0.6666666666666666, \"#ed7953\"], [0.7777777777777778, \"#fb9f3a\"], [0.8888888888888888, \"#fdca26\"], [1.0, \"#f0f921\"]], \"sequentialminus\": [[0.0, \"#0d0887\"], [0.1111111111111111, \"#46039f\"], [0.2222222222222222, \"#7201a8\"], [0.3333333333333333, \"#9c179e\"], [0.4444444444444444, \"#bd3786\"], [0.5555555555555556, \"#d8576b\"], [0.6666666666666666, \"#ed7953\"], [0.7777777777777778, \"#fb9f3a\"], [0.8888888888888888, \"#fdca26\"], [1.0, \"#f0f921\"]]}, \"colorway\": [\"#636efa\", \"#EF553B\", \"#00cc96\", \"#ab63fa\", \"#FFA15A\", \"#19d3f3\", \"#FF6692\", \"#B6E880\", \"#FF97FF\", \"#FECB52\"], \"font\": {\"color\": \"#2a3f5f\"}, \"geo\": {\"bgcolor\": \"white\", \"lakecolor\": \"white\", \"landcolor\": \"#E5ECF6\", \"showlakes\": true, \"showland\": true, \"subunitcolor\": \"white\"}, \"hoverlabel\": {\"align\": \"left\"}, \"hovermode\": \"closest\", \"mapbox\": {\"style\": \"light\"}, \"paper_bgcolor\": \"white\", \"plot_bgcolor\": \"#E5ECF6\", \"polar\": {\"angularaxis\": {\"gridcolor\": \"white\", \"linecolor\": \"white\", \"ticks\": \"\"}, \"bgcolor\": \"#E5ECF6\", \"radialaxis\": {\"gridcolor\": \"white\", \"linecolor\": \"white\", \"ticks\": \"\"}}, \"scene\": {\"xaxis\": {\"backgroundcolor\": \"#E5ECF6\", \"gridcolor\": \"white\", \"gridwidth\": 2, \"linecolor\": \"white\", \"showbackground\": true, \"ticks\": \"\", \"zerolinecolor\": \"white\"}, \"yaxis\": {\"backgroundcolor\": \"#E5ECF6\", \"gridcolor\": \"white\", \"gridwidth\": 2, \"linecolor\": \"white\", \"showbackground\": true, \"ticks\": \"\", \"zerolinecolor\": \"white\"}, \"zaxis\": {\"backgroundcolor\": \"#E5ECF6\", \"gridcolor\": \"white\", \"gridwidth\": 2, \"linecolor\": \"white\", \"showbackground\": true, \"ticks\": \"\", \"zerolinecolor\": \"white\"}}, \"shapedefaults\": {\"line\": {\"color\": \"#2a3f5f\"}}, \"ternary\": {\"aaxis\": {\"gridcolor\": \"white\", \"linecolor\": \"white\", \"ticks\": \"\"}, \"baxis\": {\"gridcolor\": \"white\", \"linecolor\": \"white\", \"ticks\": \"\"}, \"bgcolor\": \"#E5ECF6\", \"caxis\": {\"gridcolor\": \"white\", \"linecolor\": \"white\", \"ticks\": \"\"}}, \"title\": {\"x\": 0.05}, \"xaxis\": {\"automargin\": true, \"gridcolor\": \"white\", \"linecolor\": \"white\", \"ticks\": \"\", \"title\": {\"standoff\": 15}, \"zerolinecolor\": \"white\", \"zerolinewidth\": 2}, \"yaxis\": {\"automargin\": true, \"gridcolor\": \"white\", \"linecolor\": \"white\", \"ticks\": \"\", \"title\": {\"standoff\": 15}, \"zerolinecolor\": \"white\", \"zerolinewidth\": 2}}}, \"title\": {\"font\": {\"color\": \"#4D5663\"}}, \"xaxis\": {\"gridcolor\": \"#E1E5ED\", \"showgrid\": true, \"tickfont\": {\"color\": \"#4D5663\"}, \"title\": {\"font\": {\"color\": \"#4D5663\"}, \"text\": \"\"}, \"zerolinecolor\": \"#E1E5ED\"}, \"yaxis\": {\"gridcolor\": \"#E1E5ED\", \"showgrid\": true, \"tickfont\": {\"color\": \"#4D5663\"}, \"title\": {\"font\": {\"color\": \"#4D5663\"}, \"text\": \"\"}, \"zerolinecolor\": \"#E1E5ED\"}},\n",
       "                        {\"showLink\": true, \"linkText\": \"Export to plot.ly\", \"plotlyServerURL\": \"https://plot.ly\", \"responsive\": true}\n",
       "                    ).then(function(){\n",
       "                            \n",
       "var gd = document.getElementById('505db464-67c4-48b1-a1d3-9642d713ce4c');\n",
       "var x = new MutationObserver(function (mutations, observer) {{\n",
       "        var display = window.getComputedStyle(gd).display;\n",
       "        if (!display || display === 'none') {{\n",
       "            console.log([gd, 'removed!']);\n",
       "            Plotly.purge(gd);\n",
       "            observer.disconnect();\n",
       "        }}\n",
       "}});\n",
       "\n",
       "// Listen for the removal of the full notebook cells\n",
       "var notebookContainer = gd.closest('#notebook-container');\n",
       "if (notebookContainer) {{\n",
       "    x.observe(notebookContainer, {childList: true});\n",
       "}}\n",
       "\n",
       "// Listen for the clearing of the current output cell\n",
       "var outputEl = gd.closest('.output');\n",
       "if (outputEl) {{\n",
       "    x.observe(outputEl, {childList: true});\n",
       "}}\n",
       "\n",
       "                        })\n",
       "                };\n",
       "                });\n",
       "            </script>\n",
       "        </div>"
      ]
     },
     "metadata": {},
     "output_type": "display_data"
    }
   ],
   "source": [
    "df2.iplot(kind='bar',x='Category',y='Values')"
   ]
  },
  {
   "cell_type": "code",
   "execution_count": 14,
   "metadata": {},
   "outputs": [
    {
     "data": {
      "application/vnd.plotly.v1+json": {
       "config": {
        "linkText": "Export to plot.ly",
        "plotlyServerURL": "https://plot.ly",
        "showLink": true
       },
       "data": [
        {
         "marker": {
          "color": "rgba(255, 153, 51, 0.6)",
          "line": {
           "color": "rgba(255, 153, 51, 1.0)",
           "width": 1
          }
         },
         "name": "None",
         "orientation": "v",
         "text": "",
         "type": "bar",
         "x": [
          "A",
          "B",
          "C",
          "D"
         ],
         "y": [
          100,
          100,
          100,
          100
         ]
        }
       ],
       "layout": {
        "legend": {
         "bgcolor": "#F5F6F9",
         "font": {
          "color": "#4D5663"
         }
        },
        "paper_bgcolor": "#F5F6F9",
        "plot_bgcolor": "#F5F6F9",
        "template": {
         "data": {
          "bar": [
           {
            "error_x": {
             "color": "#2a3f5f"
            },
            "error_y": {
             "color": "#2a3f5f"
            },
            "marker": {
             "line": {
              "color": "#E5ECF6",
              "width": 0.5
             }
            },
            "type": "bar"
           }
          ],
          "barpolar": [
           {
            "marker": {
             "line": {
              "color": "#E5ECF6",
              "width": 0.5
             }
            },
            "type": "barpolar"
           }
          ],
          "carpet": [
           {
            "aaxis": {
             "endlinecolor": "#2a3f5f",
             "gridcolor": "white",
             "linecolor": "white",
             "minorgridcolor": "white",
             "startlinecolor": "#2a3f5f"
            },
            "baxis": {
             "endlinecolor": "#2a3f5f",
             "gridcolor": "white",
             "linecolor": "white",
             "minorgridcolor": "white",
             "startlinecolor": "#2a3f5f"
            },
            "type": "carpet"
           }
          ],
          "choropleth": [
           {
            "colorbar": {
             "outlinewidth": 0,
             "ticks": ""
            },
            "type": "choropleth"
           }
          ],
          "contour": [
           {
            "colorbar": {
             "outlinewidth": 0,
             "ticks": ""
            },
            "colorscale": [
             [
              0,
              "#0d0887"
             ],
             [
              0.1111111111111111,
              "#46039f"
             ],
             [
              0.2222222222222222,
              "#7201a8"
             ],
             [
              0.3333333333333333,
              "#9c179e"
             ],
             [
              0.4444444444444444,
              "#bd3786"
             ],
             [
              0.5555555555555556,
              "#d8576b"
             ],
             [
              0.6666666666666666,
              "#ed7953"
             ],
             [
              0.7777777777777778,
              "#fb9f3a"
             ],
             [
              0.8888888888888888,
              "#fdca26"
             ],
             [
              1,
              "#f0f921"
             ]
            ],
            "type": "contour"
           }
          ],
          "contourcarpet": [
           {
            "colorbar": {
             "outlinewidth": 0,
             "ticks": ""
            },
            "type": "contourcarpet"
           }
          ],
          "heatmap": [
           {
            "colorbar": {
             "outlinewidth": 0,
             "ticks": ""
            },
            "colorscale": [
             [
              0,
              "#0d0887"
             ],
             [
              0.1111111111111111,
              "#46039f"
             ],
             [
              0.2222222222222222,
              "#7201a8"
             ],
             [
              0.3333333333333333,
              "#9c179e"
             ],
             [
              0.4444444444444444,
              "#bd3786"
             ],
             [
              0.5555555555555556,
              "#d8576b"
             ],
             [
              0.6666666666666666,
              "#ed7953"
             ],
             [
              0.7777777777777778,
              "#fb9f3a"
             ],
             [
              0.8888888888888888,
              "#fdca26"
             ],
             [
              1,
              "#f0f921"
             ]
            ],
            "type": "heatmap"
           }
          ],
          "heatmapgl": [
           {
            "colorbar": {
             "outlinewidth": 0,
             "ticks": ""
            },
            "colorscale": [
             [
              0,
              "#0d0887"
             ],
             [
              0.1111111111111111,
              "#46039f"
             ],
             [
              0.2222222222222222,
              "#7201a8"
             ],
             [
              0.3333333333333333,
              "#9c179e"
             ],
             [
              0.4444444444444444,
              "#bd3786"
             ],
             [
              0.5555555555555556,
              "#d8576b"
             ],
             [
              0.6666666666666666,
              "#ed7953"
             ],
             [
              0.7777777777777778,
              "#fb9f3a"
             ],
             [
              0.8888888888888888,
              "#fdca26"
             ],
             [
              1,
              "#f0f921"
             ]
            ],
            "type": "heatmapgl"
           }
          ],
          "histogram": [
           {
            "marker": {
             "colorbar": {
              "outlinewidth": 0,
              "ticks": ""
             }
            },
            "type": "histogram"
           }
          ],
          "histogram2d": [
           {
            "colorbar": {
             "outlinewidth": 0,
             "ticks": ""
            },
            "colorscale": [
             [
              0,
              "#0d0887"
             ],
             [
              0.1111111111111111,
              "#46039f"
             ],
             [
              0.2222222222222222,
              "#7201a8"
             ],
             [
              0.3333333333333333,
              "#9c179e"
             ],
             [
              0.4444444444444444,
              "#bd3786"
             ],
             [
              0.5555555555555556,
              "#d8576b"
             ],
             [
              0.6666666666666666,
              "#ed7953"
             ],
             [
              0.7777777777777778,
              "#fb9f3a"
             ],
             [
              0.8888888888888888,
              "#fdca26"
             ],
             [
              1,
              "#f0f921"
             ]
            ],
            "type": "histogram2d"
           }
          ],
          "histogram2dcontour": [
           {
            "colorbar": {
             "outlinewidth": 0,
             "ticks": ""
            },
            "colorscale": [
             [
              0,
              "#0d0887"
             ],
             [
              0.1111111111111111,
              "#46039f"
             ],
             [
              0.2222222222222222,
              "#7201a8"
             ],
             [
              0.3333333333333333,
              "#9c179e"
             ],
             [
              0.4444444444444444,
              "#bd3786"
             ],
             [
              0.5555555555555556,
              "#d8576b"
             ],
             [
              0.6666666666666666,
              "#ed7953"
             ],
             [
              0.7777777777777778,
              "#fb9f3a"
             ],
             [
              0.8888888888888888,
              "#fdca26"
             ],
             [
              1,
              "#f0f921"
             ]
            ],
            "type": "histogram2dcontour"
           }
          ],
          "mesh3d": [
           {
            "colorbar": {
             "outlinewidth": 0,
             "ticks": ""
            },
            "type": "mesh3d"
           }
          ],
          "parcoords": [
           {
            "line": {
             "colorbar": {
              "outlinewidth": 0,
              "ticks": ""
             }
            },
            "type": "parcoords"
           }
          ],
          "pie": [
           {
            "automargin": true,
            "type": "pie"
           }
          ],
          "scatter": [
           {
            "marker": {
             "colorbar": {
              "outlinewidth": 0,
              "ticks": ""
             }
            },
            "type": "scatter"
           }
          ],
          "scatter3d": [
           {
            "line": {
             "colorbar": {
              "outlinewidth": 0,
              "ticks": ""
             }
            },
            "marker": {
             "colorbar": {
              "outlinewidth": 0,
              "ticks": ""
             }
            },
            "type": "scatter3d"
           }
          ],
          "scattercarpet": [
           {
            "marker": {
             "colorbar": {
              "outlinewidth": 0,
              "ticks": ""
             }
            },
            "type": "scattercarpet"
           }
          ],
          "scattergeo": [
           {
            "marker": {
             "colorbar": {
              "outlinewidth": 0,
              "ticks": ""
             }
            },
            "type": "scattergeo"
           }
          ],
          "scattergl": [
           {
            "marker": {
             "colorbar": {
              "outlinewidth": 0,
              "ticks": ""
             }
            },
            "type": "scattergl"
           }
          ],
          "scattermapbox": [
           {
            "marker": {
             "colorbar": {
              "outlinewidth": 0,
              "ticks": ""
             }
            },
            "type": "scattermapbox"
           }
          ],
          "scatterpolar": [
           {
            "marker": {
             "colorbar": {
              "outlinewidth": 0,
              "ticks": ""
             }
            },
            "type": "scatterpolar"
           }
          ],
          "scatterpolargl": [
           {
            "marker": {
             "colorbar": {
              "outlinewidth": 0,
              "ticks": ""
             }
            },
            "type": "scatterpolargl"
           }
          ],
          "scatterternary": [
           {
            "marker": {
             "colorbar": {
              "outlinewidth": 0,
              "ticks": ""
             }
            },
            "type": "scatterternary"
           }
          ],
          "surface": [
           {
            "colorbar": {
             "outlinewidth": 0,
             "ticks": ""
            },
            "colorscale": [
             [
              0,
              "#0d0887"
             ],
             [
              0.1111111111111111,
              "#46039f"
             ],
             [
              0.2222222222222222,
              "#7201a8"
             ],
             [
              0.3333333333333333,
              "#9c179e"
             ],
             [
              0.4444444444444444,
              "#bd3786"
             ],
             [
              0.5555555555555556,
              "#d8576b"
             ],
             [
              0.6666666666666666,
              "#ed7953"
             ],
             [
              0.7777777777777778,
              "#fb9f3a"
             ],
             [
              0.8888888888888888,
              "#fdca26"
             ],
             [
              1,
              "#f0f921"
             ]
            ],
            "type": "surface"
           }
          ],
          "table": [
           {
            "cells": {
             "fill": {
              "color": "#EBF0F8"
             },
             "line": {
              "color": "white"
             }
            },
            "header": {
             "fill": {
              "color": "#C8D4E3"
             },
             "line": {
              "color": "white"
             }
            },
            "type": "table"
           }
          ]
         },
         "layout": {
          "annotationdefaults": {
           "arrowcolor": "#2a3f5f",
           "arrowhead": 0,
           "arrowwidth": 1
          },
          "coloraxis": {
           "colorbar": {
            "outlinewidth": 0,
            "ticks": ""
           }
          },
          "colorscale": {
           "diverging": [
            [
             0,
             "#8e0152"
            ],
            [
             0.1,
             "#c51b7d"
            ],
            [
             0.2,
             "#de77ae"
            ],
            [
             0.3,
             "#f1b6da"
            ],
            [
             0.4,
             "#fde0ef"
            ],
            [
             0.5,
             "#f7f7f7"
            ],
            [
             0.6,
             "#e6f5d0"
            ],
            [
             0.7,
             "#b8e186"
            ],
            [
             0.8,
             "#7fbc41"
            ],
            [
             0.9,
             "#4d9221"
            ],
            [
             1,
             "#276419"
            ]
           ],
           "sequential": [
            [
             0,
             "#0d0887"
            ],
            [
             0.1111111111111111,
             "#46039f"
            ],
            [
             0.2222222222222222,
             "#7201a8"
            ],
            [
             0.3333333333333333,
             "#9c179e"
            ],
            [
             0.4444444444444444,
             "#bd3786"
            ],
            [
             0.5555555555555556,
             "#d8576b"
            ],
            [
             0.6666666666666666,
             "#ed7953"
            ],
            [
             0.7777777777777778,
             "#fb9f3a"
            ],
            [
             0.8888888888888888,
             "#fdca26"
            ],
            [
             1,
             "#f0f921"
            ]
           ],
           "sequentialminus": [
            [
             0,
             "#0d0887"
            ],
            [
             0.1111111111111111,
             "#46039f"
            ],
            [
             0.2222222222222222,
             "#7201a8"
            ],
            [
             0.3333333333333333,
             "#9c179e"
            ],
            [
             0.4444444444444444,
             "#bd3786"
            ],
            [
             0.5555555555555556,
             "#d8576b"
            ],
            [
             0.6666666666666666,
             "#ed7953"
            ],
            [
             0.7777777777777778,
             "#fb9f3a"
            ],
            [
             0.8888888888888888,
             "#fdca26"
            ],
            [
             1,
             "#f0f921"
            ]
           ]
          },
          "colorway": [
           "#636efa",
           "#EF553B",
           "#00cc96",
           "#ab63fa",
           "#FFA15A",
           "#19d3f3",
           "#FF6692",
           "#B6E880",
           "#FF97FF",
           "#FECB52"
          ],
          "font": {
           "color": "#2a3f5f"
          },
          "geo": {
           "bgcolor": "white",
           "lakecolor": "white",
           "landcolor": "#E5ECF6",
           "showlakes": true,
           "showland": true,
           "subunitcolor": "white"
          },
          "hoverlabel": {
           "align": "left"
          },
          "hovermode": "closest",
          "mapbox": {
           "style": "light"
          },
          "paper_bgcolor": "white",
          "plot_bgcolor": "#E5ECF6",
          "polar": {
           "angularaxis": {
            "gridcolor": "white",
            "linecolor": "white",
            "ticks": ""
           },
           "bgcolor": "#E5ECF6",
           "radialaxis": {
            "gridcolor": "white",
            "linecolor": "white",
            "ticks": ""
           }
          },
          "scene": {
           "xaxis": {
            "backgroundcolor": "#E5ECF6",
            "gridcolor": "white",
            "gridwidth": 2,
            "linecolor": "white",
            "showbackground": true,
            "ticks": "",
            "zerolinecolor": "white"
           },
           "yaxis": {
            "backgroundcolor": "#E5ECF6",
            "gridcolor": "white",
            "gridwidth": 2,
            "linecolor": "white",
            "showbackground": true,
            "ticks": "",
            "zerolinecolor": "white"
           },
           "zaxis": {
            "backgroundcolor": "#E5ECF6",
            "gridcolor": "white",
            "gridwidth": 2,
            "linecolor": "white",
            "showbackground": true,
            "ticks": "",
            "zerolinecolor": "white"
           }
          },
          "shapedefaults": {
           "line": {
            "color": "#2a3f5f"
           }
          },
          "ternary": {
           "aaxis": {
            "gridcolor": "white",
            "linecolor": "white",
            "ticks": ""
           },
           "baxis": {
            "gridcolor": "white",
            "linecolor": "white",
            "ticks": ""
           },
           "bgcolor": "#E5ECF6",
           "caxis": {
            "gridcolor": "white",
            "linecolor": "white",
            "ticks": ""
           }
          },
          "title": {
           "x": 0.05
          },
          "xaxis": {
           "automargin": true,
           "gridcolor": "white",
           "linecolor": "white",
           "ticks": "",
           "title": {
            "standoff": 15
           },
           "zerolinecolor": "white",
           "zerolinewidth": 2
          },
          "yaxis": {
           "automargin": true,
           "gridcolor": "white",
           "linecolor": "white",
           "ticks": "",
           "title": {
            "standoff": 15
           },
           "zerolinecolor": "white",
           "zerolinewidth": 2
          }
         }
        },
        "title": {
         "font": {
          "color": "#4D5663"
         }
        },
        "xaxis": {
         "gridcolor": "#E1E5ED",
         "showgrid": true,
         "tickfont": {
          "color": "#4D5663"
         },
         "title": {
          "font": {
           "color": "#4D5663"
          },
          "text": ""
         },
         "zerolinecolor": "#E1E5ED"
        },
        "yaxis": {
         "gridcolor": "#E1E5ED",
         "showgrid": true,
         "tickfont": {
          "color": "#4D5663"
         },
         "title": {
          "font": {
           "color": "#4D5663"
          },
          "text": ""
         },
         "zerolinecolor": "#E1E5ED"
        }
       }
      },
      "text/html": [
       "<div>\n",
       "        \n",
       "        \n",
       "            <div id=\"f666eb76-6a45-4619-9c17-abf0f48d864b\" class=\"plotly-graph-div\" style=\"height:525px; width:100%;\"></div>\n",
       "            <script type=\"text/javascript\">\n",
       "                require([\"plotly\"], function(Plotly) {\n",
       "                    window.PLOTLYENV=window.PLOTLYENV || {};\n",
       "                    window.PLOTLYENV.BASE_URL='https://plot.ly';\n",
       "                    \n",
       "                if (document.getElementById(\"f666eb76-6a45-4619-9c17-abf0f48d864b\")) {\n",
       "                    Plotly.newPlot(\n",
       "                        'f666eb76-6a45-4619-9c17-abf0f48d864b',\n",
       "                        [{\"marker\": {\"color\": \"rgba(255, 153, 51, 0.6)\", \"line\": {\"color\": \"rgba(255, 153, 51, 1.0)\", \"width\": 1}}, \"name\": \"None\", \"orientation\": \"v\", \"text\": \"\", \"type\": \"bar\", \"x\": [\"A\", \"B\", \"C\", \"D\"], \"y\": [100, 100, 100, 100]}],\n",
       "                        {\"legend\": {\"bgcolor\": \"#F5F6F9\", \"font\": {\"color\": \"#4D5663\"}}, \"paper_bgcolor\": \"#F5F6F9\", \"plot_bgcolor\": \"#F5F6F9\", \"template\": {\"data\": {\"bar\": [{\"error_x\": {\"color\": \"#2a3f5f\"}, \"error_y\": {\"color\": \"#2a3f5f\"}, \"marker\": {\"line\": {\"color\": \"#E5ECF6\", \"width\": 0.5}}, \"type\": \"bar\"}], \"barpolar\": [{\"marker\": {\"line\": {\"color\": \"#E5ECF6\", \"width\": 0.5}}, \"type\": \"barpolar\"}], \"carpet\": [{\"aaxis\": {\"endlinecolor\": \"#2a3f5f\", \"gridcolor\": \"white\", \"linecolor\": \"white\", \"minorgridcolor\": \"white\", \"startlinecolor\": \"#2a3f5f\"}, \"baxis\": {\"endlinecolor\": \"#2a3f5f\", \"gridcolor\": \"white\", \"linecolor\": \"white\", \"minorgridcolor\": \"white\", \"startlinecolor\": \"#2a3f5f\"}, \"type\": \"carpet\"}], \"choropleth\": [{\"colorbar\": {\"outlinewidth\": 0, \"ticks\": \"\"}, \"type\": \"choropleth\"}], \"contour\": [{\"colorbar\": {\"outlinewidth\": 0, \"ticks\": \"\"}, \"colorscale\": [[0.0, \"#0d0887\"], [0.1111111111111111, \"#46039f\"], [0.2222222222222222, \"#7201a8\"], [0.3333333333333333, \"#9c179e\"], [0.4444444444444444, \"#bd3786\"], [0.5555555555555556, \"#d8576b\"], [0.6666666666666666, \"#ed7953\"], [0.7777777777777778, \"#fb9f3a\"], [0.8888888888888888, \"#fdca26\"], [1.0, \"#f0f921\"]], \"type\": \"contour\"}], \"contourcarpet\": [{\"colorbar\": {\"outlinewidth\": 0, \"ticks\": \"\"}, \"type\": \"contourcarpet\"}], \"heatmap\": [{\"colorbar\": {\"outlinewidth\": 0, \"ticks\": \"\"}, \"colorscale\": [[0.0, \"#0d0887\"], [0.1111111111111111, \"#46039f\"], [0.2222222222222222, \"#7201a8\"], [0.3333333333333333, \"#9c179e\"], [0.4444444444444444, \"#bd3786\"], [0.5555555555555556, \"#d8576b\"], [0.6666666666666666, \"#ed7953\"], [0.7777777777777778, \"#fb9f3a\"], [0.8888888888888888, \"#fdca26\"], [1.0, \"#f0f921\"]], \"type\": \"heatmap\"}], \"heatmapgl\": [{\"colorbar\": {\"outlinewidth\": 0, \"ticks\": \"\"}, \"colorscale\": [[0.0, \"#0d0887\"], [0.1111111111111111, \"#46039f\"], [0.2222222222222222, \"#7201a8\"], [0.3333333333333333, \"#9c179e\"], [0.4444444444444444, \"#bd3786\"], [0.5555555555555556, \"#d8576b\"], [0.6666666666666666, \"#ed7953\"], [0.7777777777777778, \"#fb9f3a\"], [0.8888888888888888, \"#fdca26\"], [1.0, \"#f0f921\"]], \"type\": \"heatmapgl\"}], \"histogram\": [{\"marker\": {\"colorbar\": {\"outlinewidth\": 0, \"ticks\": \"\"}}, \"type\": \"histogram\"}], \"histogram2d\": [{\"colorbar\": {\"outlinewidth\": 0, \"ticks\": \"\"}, \"colorscale\": [[0.0, \"#0d0887\"], [0.1111111111111111, \"#46039f\"], [0.2222222222222222, \"#7201a8\"], [0.3333333333333333, \"#9c179e\"], [0.4444444444444444, \"#bd3786\"], [0.5555555555555556, \"#d8576b\"], [0.6666666666666666, \"#ed7953\"], [0.7777777777777778, \"#fb9f3a\"], [0.8888888888888888, \"#fdca26\"], [1.0, \"#f0f921\"]], \"type\": \"histogram2d\"}], \"histogram2dcontour\": [{\"colorbar\": {\"outlinewidth\": 0, \"ticks\": \"\"}, \"colorscale\": [[0.0, \"#0d0887\"], [0.1111111111111111, \"#46039f\"], [0.2222222222222222, \"#7201a8\"], [0.3333333333333333, \"#9c179e\"], [0.4444444444444444, \"#bd3786\"], [0.5555555555555556, \"#d8576b\"], [0.6666666666666666, \"#ed7953\"], [0.7777777777777778, \"#fb9f3a\"], [0.8888888888888888, \"#fdca26\"], [1.0, \"#f0f921\"]], \"type\": \"histogram2dcontour\"}], \"mesh3d\": [{\"colorbar\": {\"outlinewidth\": 0, \"ticks\": \"\"}, \"type\": \"mesh3d\"}], \"parcoords\": [{\"line\": {\"colorbar\": {\"outlinewidth\": 0, \"ticks\": \"\"}}, \"type\": \"parcoords\"}], \"pie\": [{\"automargin\": true, \"type\": \"pie\"}], \"scatter\": [{\"marker\": {\"colorbar\": {\"outlinewidth\": 0, \"ticks\": \"\"}}, \"type\": \"scatter\"}], \"scatter3d\": [{\"line\": {\"colorbar\": {\"outlinewidth\": 0, \"ticks\": \"\"}}, \"marker\": {\"colorbar\": {\"outlinewidth\": 0, \"ticks\": \"\"}}, \"type\": \"scatter3d\"}], \"scattercarpet\": [{\"marker\": {\"colorbar\": {\"outlinewidth\": 0, \"ticks\": \"\"}}, \"type\": \"scattercarpet\"}], \"scattergeo\": [{\"marker\": {\"colorbar\": {\"outlinewidth\": 0, \"ticks\": \"\"}}, \"type\": \"scattergeo\"}], \"scattergl\": [{\"marker\": {\"colorbar\": {\"outlinewidth\": 0, \"ticks\": \"\"}}, \"type\": \"scattergl\"}], \"scattermapbox\": [{\"marker\": {\"colorbar\": {\"outlinewidth\": 0, \"ticks\": \"\"}}, \"type\": \"scattermapbox\"}], \"scatterpolar\": [{\"marker\": {\"colorbar\": {\"outlinewidth\": 0, \"ticks\": \"\"}}, \"type\": \"scatterpolar\"}], \"scatterpolargl\": [{\"marker\": {\"colorbar\": {\"outlinewidth\": 0, \"ticks\": \"\"}}, \"type\": \"scatterpolargl\"}], \"scatterternary\": [{\"marker\": {\"colorbar\": {\"outlinewidth\": 0, \"ticks\": \"\"}}, \"type\": \"scatterternary\"}], \"surface\": [{\"colorbar\": {\"outlinewidth\": 0, \"ticks\": \"\"}, \"colorscale\": [[0.0, \"#0d0887\"], [0.1111111111111111, \"#46039f\"], [0.2222222222222222, \"#7201a8\"], [0.3333333333333333, \"#9c179e\"], [0.4444444444444444, \"#bd3786\"], [0.5555555555555556, \"#d8576b\"], [0.6666666666666666, \"#ed7953\"], [0.7777777777777778, \"#fb9f3a\"], [0.8888888888888888, \"#fdca26\"], [1.0, \"#f0f921\"]], \"type\": \"surface\"}], \"table\": [{\"cells\": {\"fill\": {\"color\": \"#EBF0F8\"}, \"line\": {\"color\": \"white\"}}, \"header\": {\"fill\": {\"color\": \"#C8D4E3\"}, \"line\": {\"color\": \"white\"}}, \"type\": \"table\"}]}, \"layout\": {\"annotationdefaults\": {\"arrowcolor\": \"#2a3f5f\", \"arrowhead\": 0, \"arrowwidth\": 1}, \"coloraxis\": {\"colorbar\": {\"outlinewidth\": 0, \"ticks\": \"\"}}, \"colorscale\": {\"diverging\": [[0, \"#8e0152\"], [0.1, \"#c51b7d\"], [0.2, \"#de77ae\"], [0.3, \"#f1b6da\"], [0.4, \"#fde0ef\"], [0.5, \"#f7f7f7\"], [0.6, \"#e6f5d0\"], [0.7, \"#b8e186\"], [0.8, \"#7fbc41\"], [0.9, \"#4d9221\"], [1, \"#276419\"]], \"sequential\": [[0.0, \"#0d0887\"], [0.1111111111111111, \"#46039f\"], [0.2222222222222222, \"#7201a8\"], [0.3333333333333333, \"#9c179e\"], [0.4444444444444444, \"#bd3786\"], [0.5555555555555556, \"#d8576b\"], [0.6666666666666666, \"#ed7953\"], [0.7777777777777778, \"#fb9f3a\"], [0.8888888888888888, \"#fdca26\"], [1.0, \"#f0f921\"]], \"sequentialminus\": [[0.0, \"#0d0887\"], [0.1111111111111111, \"#46039f\"], [0.2222222222222222, \"#7201a8\"], [0.3333333333333333, \"#9c179e\"], [0.4444444444444444, \"#bd3786\"], [0.5555555555555556, \"#d8576b\"], [0.6666666666666666, \"#ed7953\"], [0.7777777777777778, \"#fb9f3a\"], [0.8888888888888888, \"#fdca26\"], [1.0, \"#f0f921\"]]}, \"colorway\": [\"#636efa\", \"#EF553B\", \"#00cc96\", \"#ab63fa\", \"#FFA15A\", \"#19d3f3\", \"#FF6692\", \"#B6E880\", \"#FF97FF\", \"#FECB52\"], \"font\": {\"color\": \"#2a3f5f\"}, \"geo\": {\"bgcolor\": \"white\", \"lakecolor\": \"white\", \"landcolor\": \"#E5ECF6\", \"showlakes\": true, \"showland\": true, \"subunitcolor\": \"white\"}, \"hoverlabel\": {\"align\": \"left\"}, \"hovermode\": \"closest\", \"mapbox\": {\"style\": \"light\"}, \"paper_bgcolor\": \"white\", \"plot_bgcolor\": \"#E5ECF6\", \"polar\": {\"angularaxis\": {\"gridcolor\": \"white\", \"linecolor\": \"white\", \"ticks\": \"\"}, \"bgcolor\": \"#E5ECF6\", \"radialaxis\": {\"gridcolor\": \"white\", \"linecolor\": \"white\", \"ticks\": \"\"}}, \"scene\": {\"xaxis\": {\"backgroundcolor\": \"#E5ECF6\", \"gridcolor\": \"white\", \"gridwidth\": 2, \"linecolor\": \"white\", \"showbackground\": true, \"ticks\": \"\", \"zerolinecolor\": \"white\"}, \"yaxis\": {\"backgroundcolor\": \"#E5ECF6\", \"gridcolor\": \"white\", \"gridwidth\": 2, \"linecolor\": \"white\", \"showbackground\": true, \"ticks\": \"\", \"zerolinecolor\": \"white\"}, \"zaxis\": {\"backgroundcolor\": \"#E5ECF6\", \"gridcolor\": \"white\", \"gridwidth\": 2, \"linecolor\": \"white\", \"showbackground\": true, \"ticks\": \"\", \"zerolinecolor\": \"white\"}}, \"shapedefaults\": {\"line\": {\"color\": \"#2a3f5f\"}}, \"ternary\": {\"aaxis\": {\"gridcolor\": \"white\", \"linecolor\": \"white\", \"ticks\": \"\"}, \"baxis\": {\"gridcolor\": \"white\", \"linecolor\": \"white\", \"ticks\": \"\"}, \"bgcolor\": \"#E5ECF6\", \"caxis\": {\"gridcolor\": \"white\", \"linecolor\": \"white\", \"ticks\": \"\"}}, \"title\": {\"x\": 0.05}, \"xaxis\": {\"automargin\": true, \"gridcolor\": \"white\", \"linecolor\": \"white\", \"ticks\": \"\", \"title\": {\"standoff\": 15}, \"zerolinecolor\": \"white\", \"zerolinewidth\": 2}, \"yaxis\": {\"automargin\": true, \"gridcolor\": \"white\", \"linecolor\": \"white\", \"ticks\": \"\", \"title\": {\"standoff\": 15}, \"zerolinecolor\": \"white\", \"zerolinewidth\": 2}}}, \"title\": {\"font\": {\"color\": \"#4D5663\"}}, \"xaxis\": {\"gridcolor\": \"#E1E5ED\", \"showgrid\": true, \"tickfont\": {\"color\": \"#4D5663\"}, \"title\": {\"font\": {\"color\": \"#4D5663\"}, \"text\": \"\"}, \"zerolinecolor\": \"#E1E5ED\"}, \"yaxis\": {\"gridcolor\": \"#E1E5ED\", \"showgrid\": true, \"tickfont\": {\"color\": \"#4D5663\"}, \"title\": {\"font\": {\"color\": \"#4D5663\"}, \"text\": \"\"}, \"zerolinecolor\": \"#E1E5ED\"}},\n",
       "                        {\"showLink\": true, \"linkText\": \"Export to plot.ly\", \"plotlyServerURL\": \"https://plot.ly\", \"responsive\": true}\n",
       "                    ).then(function(){\n",
       "                            \n",
       "var gd = document.getElementById('f666eb76-6a45-4619-9c17-abf0f48d864b');\n",
       "var x = new MutationObserver(function (mutations, observer) {{\n",
       "        var display = window.getComputedStyle(gd).display;\n",
       "        if (!display || display === 'none') {{\n",
       "            console.log([gd, 'removed!']);\n",
       "            Plotly.purge(gd);\n",
       "            observer.disconnect();\n",
       "        }}\n",
       "}});\n",
       "\n",
       "// Listen for the removal of the full notebook cells\n",
       "var notebookContainer = gd.closest('#notebook-container');\n",
       "if (notebookContainer) {{\n",
       "    x.observe(notebookContainer, {childList: true});\n",
       "}}\n",
       "\n",
       "// Listen for the clearing of the current output cell\n",
       "var outputEl = gd.closest('.output');\n",
       "if (outputEl) {{\n",
       "    x.observe(outputEl, {childList: true});\n",
       "}}\n",
       "\n",
       "                        })\n",
       "                };\n",
       "                });\n",
       "            </script>\n",
       "        </div>"
      ]
     },
     "metadata": {},
     "output_type": "display_data"
    }
   ],
   "source": [
    "df.count().iplot(kind='bar')"
   ]
  },
  {
   "cell_type": "markdown",
   "metadata": {},
   "source": [
    "## Boxplots"
   ]
  },
  {
   "cell_type": "code",
   "execution_count": 15,
   "metadata": {},
   "outputs": [
    {
     "data": {
      "application/vnd.plotly.v1+json": {
       "config": {
        "linkText": "Export to plot.ly",
        "plotlyServerURL": "https://plot.ly",
        "showLink": true
       },
       "data": [
        {
         "boxpoints": false,
         "line": {
          "width": 1.3
         },
         "marker": {
          "color": "rgba(255, 153, 51, 1.0)"
         },
         "name": "A",
         "orientation": "v",
         "type": "box",
         "y": [
          2.6373344784495645,
          -1.9514781140231166,
          1.048759696978105,
          -1.2963473714495244,
          0.27694889027081887,
          0.692496688521014,
          0.07606444168264838,
          -0.6406801537579438,
          -0.6800911741187079,
          -0.8518888122997218,
          -0.7791147369734518,
          -0.6734941267402332,
          1.0167773412090835,
          0.23352732552763336,
          0.6163742442520982,
          -0.062319690042786834,
          0.4481652315232757,
          -0.02433885182191795,
          -0.4495406344066845,
          0.256728595894281,
          -0.14869432230647567,
          -1.2719115094158837,
          -0.18309035858598605,
          0.9512382104394191,
          -1.3351222343701932,
          0.8118457968750349,
          -0.4592579259017499,
          0.017322515641877596,
          -0.10874037092289358,
          0.7231418010819272,
          0.24488018614133208,
          -0.5002111461510281,
          -0.6789918892111676,
          1.0651918883435525,
          -0.29021561808912394,
          -0.5543716289854907,
          0.25805961156717533,
          -0.24712456122109305,
          0.7710767621589241,
          -1.1037831746949724,
          1.634401350202134,
          -0.6841000935514857,
          0.41030079756170595,
          0.9058247386329331,
          -2.3161672250434076,
          0.8233980785593794,
          1.892568603868356,
          1.1105016985095562,
          1.0807787816525551,
          0.26329482385854525,
          0.6811746578863037,
          1.5953539436930355,
          -0.8709560373194579,
          1.133535395435486,
          1.993229916325945,
          -1.7783792766437496,
          -1.028962145596852,
          0.11030844695762584,
          0.07519092337124138,
          0.4998945230505707,
          -0.14543010621768782,
          2.006305468029981,
          0.02027007279842382,
          -0.5024886909118702,
          0.9748120761643012,
          -0.42348555508138697,
          0.11543167395240778,
          0.312886660558503,
          -0.24027670045074928,
          0.3752446493239127,
          0.1211156796304035,
          -0.6445287847348729,
          0.2764578536695193,
          0.10937742078251535,
          -1.655221776282199,
          -0.52926779494393,
          0.456193201572975,
          0.5155302426268643,
          -0.139552865775506,
          0.7012109814926522,
          -1.113704268358639,
          -1.9031496623660287,
          -1.0805160223732262,
          -1.4413303548350294,
          0.4576522935107792,
          1.4630078606653885,
          -1.2489647067372125,
          -0.6250555560710132,
          -0.10145369069764623,
          0.138125916178685,
          -1.4996158840708063,
          1.5118801883843067,
          -0.1993334647684355,
          0.0031373104395526923,
          1.3583255766429585,
          -1.2406567590300575,
          -0.5432080731603196,
          0.013525641271830868,
          -0.6655652043632769,
          0.9079388521323659
         ]
        },
        {
         "boxpoints": false,
         "line": {
          "width": 1.3
         },
         "marker": {
          "color": "rgba(55, 128, 191, 1.0)"
         },
         "name": "B",
         "orientation": "v",
         "type": "box",
         "y": [
          -2.284695843780699,
          -0.12897863957239397,
          -0.5960163415525992,
          0.6927278091908197,
          -1.073096401837728,
          -0.5784207622519486,
          -0.23519756874658382,
          -0.9451011638490537,
          -1.063843416629175,
          0.6756848161415443,
          0.8151176376126024,
          -0.8913414043464327,
          1.586858684811914,
          -0.49092565487567463,
          -1.2918634219359029,
          0.5036484512397292,
          -0.6014396795922873,
          0.43023242215496327,
          -0.5140747441600014,
          -1.64299938662231,
          0.19220870639914056,
          0.8203705341311345,
          -1.3573891161830567,
          0.9824384134933203,
          -0.4431038482458481,
          0.831281467639583,
          0.5991381056360517,
          -0.19798352319493737,
          1.6225181625321803,
          0.15865883270680928,
          -0.24062204610389426,
          -0.17416125564133053,
          1.0077119144555593,
          1.7385666186605993,
          -0.2493143010520831,
          1.427211355261423,
          -0.10332308539021648,
          -0.16680760836093397,
          2.0625300652181706,
          -0.029300367935213394,
          2.8039443472510506,
          0.346449737438328,
          -0.32633297104558556,
          -0.046492928263603656,
          -0.4363171197337111,
          0.056197128779733936,
          0.029384019930100338,
          0.7419514855583611,
          -0.5169707337572688,
          0.7157470081371733,
          0.36528987025749876,
          0.07089580181332032,
          0.5816741379834732,
          -1.980963012540804,
          1.5736259710506741,
          0.6377350546144804,
          -0.9773283769613775,
          0.6271683365660647,
          -0.20769018041276938,
          -0.13629364916807668,
          -1.0973203981421389,
          -0.5708035111791355,
          -1.4518036666885026,
          1.144197133868288,
          0.18607831353941073,
          -0.6319881383179478,
          -0.11362523685186736,
          0.040575359081890784,
          0.9243094765600892,
          -1.3476554400860434,
          -0.7963687182642614,
          0.6813966725874765,
          -0.3003150585184621,
          -1.7367007129274277,
          0.9276116141824441,
          -0.9356833375574491,
          0.0031066811508997944,
          -0.9927386805528503,
          2.4095902696689846,
          0.8022472832942091,
          0.18688783972328699,
          0.68311543513717,
          -0.5938759721272218,
          -0.14109286740742658,
          1.3991284943838274,
          0.3546468501567292,
          0.06716378301515893,
          1.4330738198409538,
          1.2093940166410524,
          -0.002097060041586007,
          -0.888013370871234,
          1.3046302754895798,
          -1.4518307583462837,
          -1.2772735047680706,
          0.5455088989553084,
          1.3906872989486303,
          -0.3322633074372016,
          1.4057999871358426,
          -1.6056202884422215,
          0.8482521990758864
         ]
        },
        {
         "boxpoints": false,
         "line": {
          "width": 1.3
         },
         "marker": {
          "color": "rgba(50, 171, 96, 1.0)"
         },
         "name": "C",
         "orientation": "v",
         "type": "box",
         "y": [
          1.4498618288752683,
          1.7328385294714626,
          1.004029008894011,
          -1.6062799113700785,
          0.10683529586961767,
          -0.9227494274259259,
          0.5016233374493976,
          0.4354959107702326,
          -0.981635039698152,
          0.28224061934882305,
          0.5883067823745549,
          -0.6446220549102041,
          1.768397668585287,
          0.32338086206029415,
          -0.6089631213972786,
          -0.15129613728977628,
          -0.3144696304365042,
          0.5227768411444701,
          1.6614567904707604,
          -0.4869697386654161,
          0.19398758454251058,
          0.8575978399112405,
          0.26381374000339447,
          -0.9103604354300123,
          0.5893877833130567,
          0.8279645023396632,
          0.01918743234644123,
          -0.9664222932991421,
          -0.6087572488542209,
          -0.9882009943289728,
          0.5434582351840901,
          -0.4812707455824255,
          0.5398624960803878,
          0.07351615050022245,
          -0.3210454754474769,
          -0.2821986291700468,
          -0.8092585537606711,
          -0.47575748700220716,
          0.037940755559431404,
          1.2174504410859734,
          0.8096217559663961,
          1.199037661245566,
          -2.6137452389556706,
          1.8017531439695935,
          0.7223063986846324,
          1.9162335165144655,
          -0.938633398487276,
          0.08178004193787466,
          -1.1028424257647615,
          0.3622292444051127,
          0.7400190974839389,
          1.7780673644609164,
          0.6884856774045507,
          -1.6597689767374229,
          0.4600551461952232,
          -1.9712567864189725,
          -1.8142214238159273,
          -0.677006487182066,
          0.028750448897952474,
          0.9034262142857564,
          -1.0675149990814656,
          -0.2387559638776159,
          0.337658907093047,
          1.0933290047093895,
          1.0848457209409406,
          0.2909426767810236,
          1.27184614625548,
          -0.39949098889170837,
          -0.44561670717636037,
          -0.7231984682824852,
          0.44266707629108853,
          0.49334567974278326,
          -1.043205922737734,
          0.533815468923195,
          0.0258742485257691,
          -0.04704901221899354,
          0.031243252497379484,
          -0.588683452669337,
          -0.1859260710197727,
          -0.7612975393485383,
          -0.31002788643206625,
          -0.9541081966716133,
          -1.2784860040761195,
          -0.09907495519478068,
          0.14533700386121376,
          -0.468672665870601,
          0.9158383776779138,
          0.2705739668923256,
          -1.0495071745403368,
          0.010182105127980824,
          0.4816408618138371,
          0.7387513938876691,
          -2.2736959595736908,
          1.5595974707953337,
          0.09698004787927725,
          0.9075739425020036,
          -1.2106168525632064,
          -0.2797082884843704,
          -0.01211438348049651,
          0.15671383784238285
         ]
        },
        {
         "boxpoints": false,
         "line": {
          "width": 1.3
         },
         "marker": {
          "color": "rgba(128, 0, 128, 1.0)"
         },
         "name": "D",
         "orientation": "v",
         "type": "box",
         "y": [
          0.5890479225695289,
          -1.8800411793152518,
          0.10532538331081642,
          1.304760382357214,
          -1.5207865261635254,
          0.80535504560426,
          -0.016330642922064067,
          0.02346801037178581,
          1.7187522662306425,
          -2.1955063834539095,
          -0.5769981172028733,
          0.09000375755023558,
          -1.8624235173191004,
          -1.1009286359164434,
          0.15449174404624288,
          -0.42030335631153876,
          -1.2256200134025306,
          -0.6523156049271698,
          2.1418338776140713,
          -0.19855603884017475,
          0.16109942465094543,
          1.3361635559784157,
          -0.9819981197421579,
          0.9642739356717789,
          -0.6562500412096507,
          0.1112529484100331,
          -0.6398772958913014,
          0.42268956402601804,
          -0.025294790234960885,
          -0.030153433080490136,
          -0.8313725843186645,
          -0.938201127839907,
          -1.911009011521281,
          0.8720607514505231,
          0.20159372153891028,
          0.23854622358629274,
          1.0357643646879247,
          -0.6222508816703947,
          -0.201051672633647,
          0.10920878354186614,
          1.2931967890721783,
          0.4003630051396867,
          0.9347665699410361,
          -0.40133229197578224,
          1.5820953338987511,
          0.5443403357634087,
          0.0924046147742567,
          0.8409666621612053,
          0.023884694373222874,
          0.8002845648753338,
          -0.36760501095246834,
          -1.0515766041945838,
          0.25523843882386366,
          0.5916949790905618,
          -1.0888968601899538,
          -0.5693980953228801,
          1.4241100987389872,
          -1.4877147062766232,
          1.8964324401552328,
          0.8073979821389569,
          0.5757146381949131,
          -1.0088956105103228,
          1.1580015396293046,
          0.8755378007049406,
          0.061826717503275556,
          0.367970255682253,
          -0.1353273470208465,
          -1.218789274166298,
          0.7635454904032188,
          -1.1824825314425427,
          -0.9522044303030941,
          -0.421519984789472,
          -1.8914640355164,
          0.04257370988149448,
          -0.347977886168004,
          0.47268827424963816,
          1.3983171133480505,
          -1.5121319797280075,
          0.7234650439386268,
          0.03972270240900846,
          0.3611548111125105,
          0.9080514626747183,
          -0.41115121905120605,
          0.3862596497626326,
          -0.6398397853488617,
          -0.5966853595462834,
          -1.194536857405595,
          0.29658390402603535,
          0.44733922912517365,
          -0.6156507465655643,
          -0.7913395436051006,
          0.8477144688179395,
          1.3416561326521723,
          1.4327616831608472,
          -0.23062208960279115,
          0.6442741499092415,
          -0.6184935147963586,
          -2.4488058934072754,
          -0.9749751937995255,
          1.1575746951540418
         ]
        }
       ],
       "layout": {
        "legend": {
         "bgcolor": "#F5F6F9",
         "font": {
          "color": "#4D5663"
         }
        },
        "paper_bgcolor": "#F5F6F9",
        "plot_bgcolor": "#F5F6F9",
        "template": {
         "data": {
          "bar": [
           {
            "error_x": {
             "color": "#2a3f5f"
            },
            "error_y": {
             "color": "#2a3f5f"
            },
            "marker": {
             "line": {
              "color": "#E5ECF6",
              "width": 0.5
             }
            },
            "type": "bar"
           }
          ],
          "barpolar": [
           {
            "marker": {
             "line": {
              "color": "#E5ECF6",
              "width": 0.5
             }
            },
            "type": "barpolar"
           }
          ],
          "carpet": [
           {
            "aaxis": {
             "endlinecolor": "#2a3f5f",
             "gridcolor": "white",
             "linecolor": "white",
             "minorgridcolor": "white",
             "startlinecolor": "#2a3f5f"
            },
            "baxis": {
             "endlinecolor": "#2a3f5f",
             "gridcolor": "white",
             "linecolor": "white",
             "minorgridcolor": "white",
             "startlinecolor": "#2a3f5f"
            },
            "type": "carpet"
           }
          ],
          "choropleth": [
           {
            "colorbar": {
             "outlinewidth": 0,
             "ticks": ""
            },
            "type": "choropleth"
           }
          ],
          "contour": [
           {
            "colorbar": {
             "outlinewidth": 0,
             "ticks": ""
            },
            "colorscale": [
             [
              0,
              "#0d0887"
             ],
             [
              0.1111111111111111,
              "#46039f"
             ],
             [
              0.2222222222222222,
              "#7201a8"
             ],
             [
              0.3333333333333333,
              "#9c179e"
             ],
             [
              0.4444444444444444,
              "#bd3786"
             ],
             [
              0.5555555555555556,
              "#d8576b"
             ],
             [
              0.6666666666666666,
              "#ed7953"
             ],
             [
              0.7777777777777778,
              "#fb9f3a"
             ],
             [
              0.8888888888888888,
              "#fdca26"
             ],
             [
              1,
              "#f0f921"
             ]
            ],
            "type": "contour"
           }
          ],
          "contourcarpet": [
           {
            "colorbar": {
             "outlinewidth": 0,
             "ticks": ""
            },
            "type": "contourcarpet"
           }
          ],
          "heatmap": [
           {
            "colorbar": {
             "outlinewidth": 0,
             "ticks": ""
            },
            "colorscale": [
             [
              0,
              "#0d0887"
             ],
             [
              0.1111111111111111,
              "#46039f"
             ],
             [
              0.2222222222222222,
              "#7201a8"
             ],
             [
              0.3333333333333333,
              "#9c179e"
             ],
             [
              0.4444444444444444,
              "#bd3786"
             ],
             [
              0.5555555555555556,
              "#d8576b"
             ],
             [
              0.6666666666666666,
              "#ed7953"
             ],
             [
              0.7777777777777778,
              "#fb9f3a"
             ],
             [
              0.8888888888888888,
              "#fdca26"
             ],
             [
              1,
              "#f0f921"
             ]
            ],
            "type": "heatmap"
           }
          ],
          "heatmapgl": [
           {
            "colorbar": {
             "outlinewidth": 0,
             "ticks": ""
            },
            "colorscale": [
             [
              0,
              "#0d0887"
             ],
             [
              0.1111111111111111,
              "#46039f"
             ],
             [
              0.2222222222222222,
              "#7201a8"
             ],
             [
              0.3333333333333333,
              "#9c179e"
             ],
             [
              0.4444444444444444,
              "#bd3786"
             ],
             [
              0.5555555555555556,
              "#d8576b"
             ],
             [
              0.6666666666666666,
              "#ed7953"
             ],
             [
              0.7777777777777778,
              "#fb9f3a"
             ],
             [
              0.8888888888888888,
              "#fdca26"
             ],
             [
              1,
              "#f0f921"
             ]
            ],
            "type": "heatmapgl"
           }
          ],
          "histogram": [
           {
            "marker": {
             "colorbar": {
              "outlinewidth": 0,
              "ticks": ""
             }
            },
            "type": "histogram"
           }
          ],
          "histogram2d": [
           {
            "colorbar": {
             "outlinewidth": 0,
             "ticks": ""
            },
            "colorscale": [
             [
              0,
              "#0d0887"
             ],
             [
              0.1111111111111111,
              "#46039f"
             ],
             [
              0.2222222222222222,
              "#7201a8"
             ],
             [
              0.3333333333333333,
              "#9c179e"
             ],
             [
              0.4444444444444444,
              "#bd3786"
             ],
             [
              0.5555555555555556,
              "#d8576b"
             ],
             [
              0.6666666666666666,
              "#ed7953"
             ],
             [
              0.7777777777777778,
              "#fb9f3a"
             ],
             [
              0.8888888888888888,
              "#fdca26"
             ],
             [
              1,
              "#f0f921"
             ]
            ],
            "type": "histogram2d"
           }
          ],
          "histogram2dcontour": [
           {
            "colorbar": {
             "outlinewidth": 0,
             "ticks": ""
            },
            "colorscale": [
             [
              0,
              "#0d0887"
             ],
             [
              0.1111111111111111,
              "#46039f"
             ],
             [
              0.2222222222222222,
              "#7201a8"
             ],
             [
              0.3333333333333333,
              "#9c179e"
             ],
             [
              0.4444444444444444,
              "#bd3786"
             ],
             [
              0.5555555555555556,
              "#d8576b"
             ],
             [
              0.6666666666666666,
              "#ed7953"
             ],
             [
              0.7777777777777778,
              "#fb9f3a"
             ],
             [
              0.8888888888888888,
              "#fdca26"
             ],
             [
              1,
              "#f0f921"
             ]
            ],
            "type": "histogram2dcontour"
           }
          ],
          "mesh3d": [
           {
            "colorbar": {
             "outlinewidth": 0,
             "ticks": ""
            },
            "type": "mesh3d"
           }
          ],
          "parcoords": [
           {
            "line": {
             "colorbar": {
              "outlinewidth": 0,
              "ticks": ""
             }
            },
            "type": "parcoords"
           }
          ],
          "pie": [
           {
            "automargin": true,
            "type": "pie"
           }
          ],
          "scatter": [
           {
            "marker": {
             "colorbar": {
              "outlinewidth": 0,
              "ticks": ""
             }
            },
            "type": "scatter"
           }
          ],
          "scatter3d": [
           {
            "line": {
             "colorbar": {
              "outlinewidth": 0,
              "ticks": ""
             }
            },
            "marker": {
             "colorbar": {
              "outlinewidth": 0,
              "ticks": ""
             }
            },
            "type": "scatter3d"
           }
          ],
          "scattercarpet": [
           {
            "marker": {
             "colorbar": {
              "outlinewidth": 0,
              "ticks": ""
             }
            },
            "type": "scattercarpet"
           }
          ],
          "scattergeo": [
           {
            "marker": {
             "colorbar": {
              "outlinewidth": 0,
              "ticks": ""
             }
            },
            "type": "scattergeo"
           }
          ],
          "scattergl": [
           {
            "marker": {
             "colorbar": {
              "outlinewidth": 0,
              "ticks": ""
             }
            },
            "type": "scattergl"
           }
          ],
          "scattermapbox": [
           {
            "marker": {
             "colorbar": {
              "outlinewidth": 0,
              "ticks": ""
             }
            },
            "type": "scattermapbox"
           }
          ],
          "scatterpolar": [
           {
            "marker": {
             "colorbar": {
              "outlinewidth": 0,
              "ticks": ""
             }
            },
            "type": "scatterpolar"
           }
          ],
          "scatterpolargl": [
           {
            "marker": {
             "colorbar": {
              "outlinewidth": 0,
              "ticks": ""
             }
            },
            "type": "scatterpolargl"
           }
          ],
          "scatterternary": [
           {
            "marker": {
             "colorbar": {
              "outlinewidth": 0,
              "ticks": ""
             }
            },
            "type": "scatterternary"
           }
          ],
          "surface": [
           {
            "colorbar": {
             "outlinewidth": 0,
             "ticks": ""
            },
            "colorscale": [
             [
              0,
              "#0d0887"
             ],
             [
              0.1111111111111111,
              "#46039f"
             ],
             [
              0.2222222222222222,
              "#7201a8"
             ],
             [
              0.3333333333333333,
              "#9c179e"
             ],
             [
              0.4444444444444444,
              "#bd3786"
             ],
             [
              0.5555555555555556,
              "#d8576b"
             ],
             [
              0.6666666666666666,
              "#ed7953"
             ],
             [
              0.7777777777777778,
              "#fb9f3a"
             ],
             [
              0.8888888888888888,
              "#fdca26"
             ],
             [
              1,
              "#f0f921"
             ]
            ],
            "type": "surface"
           }
          ],
          "table": [
           {
            "cells": {
             "fill": {
              "color": "#EBF0F8"
             },
             "line": {
              "color": "white"
             }
            },
            "header": {
             "fill": {
              "color": "#C8D4E3"
             },
             "line": {
              "color": "white"
             }
            },
            "type": "table"
           }
          ]
         },
         "layout": {
          "annotationdefaults": {
           "arrowcolor": "#2a3f5f",
           "arrowhead": 0,
           "arrowwidth": 1
          },
          "coloraxis": {
           "colorbar": {
            "outlinewidth": 0,
            "ticks": ""
           }
          },
          "colorscale": {
           "diverging": [
            [
             0,
             "#8e0152"
            ],
            [
             0.1,
             "#c51b7d"
            ],
            [
             0.2,
             "#de77ae"
            ],
            [
             0.3,
             "#f1b6da"
            ],
            [
             0.4,
             "#fde0ef"
            ],
            [
             0.5,
             "#f7f7f7"
            ],
            [
             0.6,
             "#e6f5d0"
            ],
            [
             0.7,
             "#b8e186"
            ],
            [
             0.8,
             "#7fbc41"
            ],
            [
             0.9,
             "#4d9221"
            ],
            [
             1,
             "#276419"
            ]
           ],
           "sequential": [
            [
             0,
             "#0d0887"
            ],
            [
             0.1111111111111111,
             "#46039f"
            ],
            [
             0.2222222222222222,
             "#7201a8"
            ],
            [
             0.3333333333333333,
             "#9c179e"
            ],
            [
             0.4444444444444444,
             "#bd3786"
            ],
            [
             0.5555555555555556,
             "#d8576b"
            ],
            [
             0.6666666666666666,
             "#ed7953"
            ],
            [
             0.7777777777777778,
             "#fb9f3a"
            ],
            [
             0.8888888888888888,
             "#fdca26"
            ],
            [
             1,
             "#f0f921"
            ]
           ],
           "sequentialminus": [
            [
             0,
             "#0d0887"
            ],
            [
             0.1111111111111111,
             "#46039f"
            ],
            [
             0.2222222222222222,
             "#7201a8"
            ],
            [
             0.3333333333333333,
             "#9c179e"
            ],
            [
             0.4444444444444444,
             "#bd3786"
            ],
            [
             0.5555555555555556,
             "#d8576b"
            ],
            [
             0.6666666666666666,
             "#ed7953"
            ],
            [
             0.7777777777777778,
             "#fb9f3a"
            ],
            [
             0.8888888888888888,
             "#fdca26"
            ],
            [
             1,
             "#f0f921"
            ]
           ]
          },
          "colorway": [
           "#636efa",
           "#EF553B",
           "#00cc96",
           "#ab63fa",
           "#FFA15A",
           "#19d3f3",
           "#FF6692",
           "#B6E880",
           "#FF97FF",
           "#FECB52"
          ],
          "font": {
           "color": "#2a3f5f"
          },
          "geo": {
           "bgcolor": "white",
           "lakecolor": "white",
           "landcolor": "#E5ECF6",
           "showlakes": true,
           "showland": true,
           "subunitcolor": "white"
          },
          "hoverlabel": {
           "align": "left"
          },
          "hovermode": "closest",
          "mapbox": {
           "style": "light"
          },
          "paper_bgcolor": "white",
          "plot_bgcolor": "#E5ECF6",
          "polar": {
           "angularaxis": {
            "gridcolor": "white",
            "linecolor": "white",
            "ticks": ""
           },
           "bgcolor": "#E5ECF6",
           "radialaxis": {
            "gridcolor": "white",
            "linecolor": "white",
            "ticks": ""
           }
          },
          "scene": {
           "xaxis": {
            "backgroundcolor": "#E5ECF6",
            "gridcolor": "white",
            "gridwidth": 2,
            "linecolor": "white",
            "showbackground": true,
            "ticks": "",
            "zerolinecolor": "white"
           },
           "yaxis": {
            "backgroundcolor": "#E5ECF6",
            "gridcolor": "white",
            "gridwidth": 2,
            "linecolor": "white",
            "showbackground": true,
            "ticks": "",
            "zerolinecolor": "white"
           },
           "zaxis": {
            "backgroundcolor": "#E5ECF6",
            "gridcolor": "white",
            "gridwidth": 2,
            "linecolor": "white",
            "showbackground": true,
            "ticks": "",
            "zerolinecolor": "white"
           }
          },
          "shapedefaults": {
           "line": {
            "color": "#2a3f5f"
           }
          },
          "ternary": {
           "aaxis": {
            "gridcolor": "white",
            "linecolor": "white",
            "ticks": ""
           },
           "baxis": {
            "gridcolor": "white",
            "linecolor": "white",
            "ticks": ""
           },
           "bgcolor": "#E5ECF6",
           "caxis": {
            "gridcolor": "white",
            "linecolor": "white",
            "ticks": ""
           }
          },
          "title": {
           "x": 0.05
          },
          "xaxis": {
           "automargin": true,
           "gridcolor": "white",
           "linecolor": "white",
           "ticks": "",
           "title": {
            "standoff": 15
           },
           "zerolinecolor": "white",
           "zerolinewidth": 2
          },
          "yaxis": {
           "automargin": true,
           "gridcolor": "white",
           "linecolor": "white",
           "ticks": "",
           "title": {
            "standoff": 15
           },
           "zerolinecolor": "white",
           "zerolinewidth": 2
          }
         }
        },
        "title": {
         "font": {
          "color": "#4D5663"
         }
        },
        "xaxis": {
         "gridcolor": "#E1E5ED",
         "showgrid": true,
         "tickfont": {
          "color": "#4D5663"
         },
         "title": {
          "font": {
           "color": "#4D5663"
          },
          "text": ""
         },
         "zerolinecolor": "#E1E5ED"
        },
        "yaxis": {
         "gridcolor": "#E1E5ED",
         "showgrid": true,
         "tickfont": {
          "color": "#4D5663"
         },
         "title": {
          "font": {
           "color": "#4D5663"
          },
          "text": ""
         },
         "zerolinecolor": "#E1E5ED"
        }
       }
      },
      "text/html": [
       "<div>\n",
       "        \n",
       "        \n",
       "            <div id=\"9e1c446e-d4cb-44bc-b003-40e83ba42b81\" class=\"plotly-graph-div\" style=\"height:525px; width:100%;\"></div>\n",
       "            <script type=\"text/javascript\">\n",
       "                require([\"plotly\"], function(Plotly) {\n",
       "                    window.PLOTLYENV=window.PLOTLYENV || {};\n",
       "                    window.PLOTLYENV.BASE_URL='https://plot.ly';\n",
       "                    \n",
       "                if (document.getElementById(\"9e1c446e-d4cb-44bc-b003-40e83ba42b81\")) {\n",
       "                    Plotly.newPlot(\n",
       "                        '9e1c446e-d4cb-44bc-b003-40e83ba42b81',\n",
       "                        [{\"boxpoints\": false, \"line\": {\"width\": 1.3}, \"marker\": {\"color\": \"rgba(255, 153, 51, 1.0)\"}, \"name\": \"A\", \"orientation\": \"v\", \"type\": \"box\", \"y\": [2.6373344784495645, -1.9514781140231166, 1.048759696978105, -1.2963473714495244, 0.27694889027081887, 0.692496688521014, 0.07606444168264838, -0.6406801537579438, -0.6800911741187079, -0.8518888122997218, -0.7791147369734518, -0.6734941267402332, 1.0167773412090835, 0.23352732552763336, 0.6163742442520982, -0.062319690042786834, 0.4481652315232757, -0.02433885182191795, -0.4495406344066845, 0.256728595894281, -0.14869432230647567, -1.2719115094158837, -0.18309035858598605, 0.9512382104394191, -1.3351222343701932, 0.8118457968750349, -0.4592579259017499, 0.017322515641877596, -0.10874037092289358, 0.7231418010819272, 0.24488018614133208, -0.5002111461510281, -0.6789918892111676, 1.0651918883435525, -0.29021561808912394, -0.5543716289854907, 0.25805961156717533, -0.24712456122109305, 0.7710767621589241, -1.1037831746949724, 1.634401350202134, -0.6841000935514857, 0.41030079756170595, 0.9058247386329331, -2.3161672250434076, 0.8233980785593794, 1.892568603868356, 1.1105016985095562, 1.0807787816525551, 0.26329482385854525, 0.6811746578863037, 1.5953539436930355, -0.8709560373194579, 1.133535395435486, 1.993229916325945, -1.7783792766437496, -1.028962145596852, 0.11030844695762584, 0.07519092337124138, 0.4998945230505707, -0.14543010621768782, 2.006305468029981, 0.02027007279842382, -0.5024886909118702, 0.9748120761643012, -0.42348555508138697, 0.11543167395240778, 0.312886660558503, -0.24027670045074928, 0.3752446493239127, 0.1211156796304035, -0.6445287847348729, 0.2764578536695193, 0.10937742078251535, -1.655221776282199, -0.52926779494393, 0.456193201572975, 0.5155302426268643, -0.139552865775506, 0.7012109814926522, -1.113704268358639, -1.9031496623660287, -1.0805160223732262, -1.4413303548350294, 0.4576522935107792, 1.4630078606653885, -1.2489647067372125, -0.6250555560710132, -0.10145369069764623, 0.138125916178685, -1.4996158840708063, 1.5118801883843067, -0.1993334647684355, 0.0031373104395526923, 1.3583255766429585, -1.2406567590300575, -0.5432080731603196, 0.013525641271830868, -0.6655652043632769, 0.9079388521323659]}, {\"boxpoints\": false, \"line\": {\"width\": 1.3}, \"marker\": {\"color\": \"rgba(55, 128, 191, 1.0)\"}, \"name\": \"B\", \"orientation\": \"v\", \"type\": \"box\", \"y\": [-2.284695843780699, -0.12897863957239397, -0.5960163415525992, 0.6927278091908197, -1.073096401837728, -0.5784207622519486, -0.23519756874658382, -0.9451011638490537, -1.063843416629175, 0.6756848161415443, 0.8151176376126024, -0.8913414043464327, 1.586858684811914, -0.49092565487567463, -1.2918634219359029, 0.5036484512397292, -0.6014396795922873, 0.43023242215496327, -0.5140747441600014, -1.64299938662231, 0.19220870639914056, 0.8203705341311345, -1.3573891161830567, 0.9824384134933203, -0.4431038482458481, 0.831281467639583, 0.5991381056360517, -0.19798352319493737, 1.6225181625321803, 0.15865883270680928, -0.24062204610389426, -0.17416125564133053, 1.0077119144555593, 1.7385666186605993, -0.2493143010520831, 1.427211355261423, -0.10332308539021648, -0.16680760836093397, 2.0625300652181706, -0.029300367935213394, 2.8039443472510506, 0.346449737438328, -0.32633297104558556, -0.046492928263603656, -0.4363171197337111, 0.056197128779733936, 0.029384019930100338, 0.7419514855583611, -0.5169707337572688, 0.7157470081371733, 0.36528987025749876, 0.07089580181332032, 0.5816741379834732, -1.980963012540804, 1.5736259710506741, 0.6377350546144804, -0.9773283769613775, 0.6271683365660647, -0.20769018041276938, -0.13629364916807668, -1.0973203981421389, -0.5708035111791355, -1.4518036666885026, 1.144197133868288, 0.18607831353941073, -0.6319881383179478, -0.11362523685186736, 0.040575359081890784, 0.9243094765600892, -1.3476554400860434, -0.7963687182642614, 0.6813966725874765, -0.3003150585184621, -1.7367007129274277, 0.9276116141824441, -0.9356833375574491, 0.0031066811508997944, -0.9927386805528503, 2.4095902696689846, 0.8022472832942091, 0.18688783972328699, 0.68311543513717, -0.5938759721272218, -0.14109286740742658, 1.3991284943838274, 0.3546468501567292, 0.06716378301515893, 1.4330738198409538, 1.2093940166410524, -0.002097060041586007, -0.888013370871234, 1.3046302754895798, -1.4518307583462837, -1.2772735047680706, 0.5455088989553084, 1.3906872989486303, -0.3322633074372016, 1.4057999871358426, -1.6056202884422215, 0.8482521990758864]}, {\"boxpoints\": false, \"line\": {\"width\": 1.3}, \"marker\": {\"color\": \"rgba(50, 171, 96, 1.0)\"}, \"name\": \"C\", \"orientation\": \"v\", \"type\": \"box\", \"y\": [1.4498618288752683, 1.7328385294714626, 1.004029008894011, -1.6062799113700785, 0.10683529586961767, -0.9227494274259259, 0.5016233374493976, 0.4354959107702326, -0.981635039698152, 0.28224061934882305, 0.5883067823745549, -0.6446220549102041, 1.768397668585287, 0.32338086206029415, -0.6089631213972786, -0.15129613728977628, -0.3144696304365042, 0.5227768411444701, 1.6614567904707604, -0.4869697386654161, 0.19398758454251058, 0.8575978399112405, 0.26381374000339447, -0.9103604354300123, 0.5893877833130567, 0.8279645023396632, 0.01918743234644123, -0.9664222932991421, -0.6087572488542209, -0.9882009943289728, 0.5434582351840901, -0.4812707455824255, 0.5398624960803878, 0.07351615050022245, -0.3210454754474769, -0.2821986291700468, -0.8092585537606711, -0.47575748700220716, 0.037940755559431404, 1.2174504410859734, 0.8096217559663961, 1.199037661245566, -2.6137452389556706, 1.8017531439695935, 0.7223063986846324, 1.9162335165144655, -0.938633398487276, 0.08178004193787466, -1.1028424257647615, 0.3622292444051127, 0.7400190974839389, 1.7780673644609164, 0.6884856774045507, -1.6597689767374229, 0.4600551461952232, -1.9712567864189725, -1.8142214238159273, -0.677006487182066, 0.028750448897952474, 0.9034262142857564, -1.0675149990814656, -0.2387559638776159, 0.337658907093047, 1.0933290047093895, 1.0848457209409406, 0.2909426767810236, 1.27184614625548, -0.39949098889170837, -0.44561670717636037, -0.7231984682824852, 0.44266707629108853, 0.49334567974278326, -1.043205922737734, 0.533815468923195, 0.0258742485257691, -0.04704901221899354, 0.031243252497379484, -0.588683452669337, -0.1859260710197727, -0.7612975393485383, -0.31002788643206625, -0.9541081966716133, -1.2784860040761195, -0.09907495519478068, 0.14533700386121376, -0.468672665870601, 0.9158383776779138, 0.2705739668923256, -1.0495071745403368, 0.010182105127980824, 0.4816408618138371, 0.7387513938876691, -2.2736959595736908, 1.5595974707953337, 0.09698004787927725, 0.9075739425020036, -1.2106168525632064, -0.2797082884843704, -0.01211438348049651, 0.15671383784238285]}, {\"boxpoints\": false, \"line\": {\"width\": 1.3}, \"marker\": {\"color\": \"rgba(128, 0, 128, 1.0)\"}, \"name\": \"D\", \"orientation\": \"v\", \"type\": \"box\", \"y\": [0.5890479225695289, -1.8800411793152518, 0.10532538331081642, 1.304760382357214, -1.5207865261635254, 0.80535504560426, -0.016330642922064067, 0.02346801037178581, 1.7187522662306425, -2.1955063834539095, -0.5769981172028733, 0.09000375755023558, -1.8624235173191004, -1.1009286359164434, 0.15449174404624288, -0.42030335631153876, -1.2256200134025306, -0.6523156049271698, 2.1418338776140713, -0.19855603884017475, 0.16109942465094543, 1.3361635559784157, -0.9819981197421579, 0.9642739356717789, -0.6562500412096507, 0.1112529484100331, -0.6398772958913014, 0.42268956402601804, -0.025294790234960885, -0.030153433080490136, -0.8313725843186645, -0.938201127839907, -1.911009011521281, 0.8720607514505231, 0.20159372153891028, 0.23854622358629274, 1.0357643646879247, -0.6222508816703947, -0.201051672633647, 0.10920878354186614, 1.2931967890721783, 0.4003630051396867, 0.9347665699410361, -0.40133229197578224, 1.5820953338987511, 0.5443403357634087, 0.0924046147742567, 0.8409666621612053, 0.023884694373222874, 0.8002845648753338, -0.36760501095246834, -1.0515766041945838, 0.25523843882386366, 0.5916949790905618, -1.0888968601899538, -0.5693980953228801, 1.4241100987389872, -1.4877147062766232, 1.8964324401552328, 0.8073979821389569, 0.5757146381949131, -1.0088956105103228, 1.1580015396293046, 0.8755378007049406, 0.061826717503275556, 0.367970255682253, -0.1353273470208465, -1.218789274166298, 0.7635454904032188, -1.1824825314425427, -0.9522044303030941, -0.421519984789472, -1.8914640355164, 0.04257370988149448, -0.347977886168004, 0.47268827424963816, 1.3983171133480505, -1.5121319797280075, 0.7234650439386268, 0.03972270240900846, 0.3611548111125105, 0.9080514626747183, -0.41115121905120605, 0.3862596497626326, -0.6398397853488617, -0.5966853595462834, -1.194536857405595, 0.29658390402603535, 0.44733922912517365, -0.6156507465655643, -0.7913395436051006, 0.8477144688179395, 1.3416561326521723, 1.4327616831608472, -0.23062208960279115, 0.6442741499092415, -0.6184935147963586, -2.4488058934072754, -0.9749751937995255, 1.1575746951540418]}],\n",
       "                        {\"legend\": {\"bgcolor\": \"#F5F6F9\", \"font\": {\"color\": \"#4D5663\"}}, \"paper_bgcolor\": \"#F5F6F9\", \"plot_bgcolor\": \"#F5F6F9\", \"template\": {\"data\": {\"bar\": [{\"error_x\": {\"color\": \"#2a3f5f\"}, \"error_y\": {\"color\": \"#2a3f5f\"}, \"marker\": {\"line\": {\"color\": \"#E5ECF6\", \"width\": 0.5}}, \"type\": \"bar\"}], \"barpolar\": [{\"marker\": {\"line\": {\"color\": \"#E5ECF6\", \"width\": 0.5}}, \"type\": \"barpolar\"}], \"carpet\": [{\"aaxis\": {\"endlinecolor\": \"#2a3f5f\", \"gridcolor\": \"white\", \"linecolor\": \"white\", \"minorgridcolor\": \"white\", \"startlinecolor\": \"#2a3f5f\"}, \"baxis\": {\"endlinecolor\": \"#2a3f5f\", \"gridcolor\": \"white\", \"linecolor\": \"white\", \"minorgridcolor\": \"white\", \"startlinecolor\": \"#2a3f5f\"}, \"type\": \"carpet\"}], \"choropleth\": [{\"colorbar\": {\"outlinewidth\": 0, \"ticks\": \"\"}, \"type\": \"choropleth\"}], \"contour\": [{\"colorbar\": {\"outlinewidth\": 0, \"ticks\": \"\"}, \"colorscale\": [[0.0, \"#0d0887\"], [0.1111111111111111, \"#46039f\"], [0.2222222222222222, \"#7201a8\"], [0.3333333333333333, \"#9c179e\"], [0.4444444444444444, \"#bd3786\"], [0.5555555555555556, \"#d8576b\"], [0.6666666666666666, \"#ed7953\"], [0.7777777777777778, \"#fb9f3a\"], [0.8888888888888888, \"#fdca26\"], [1.0, \"#f0f921\"]], \"type\": \"contour\"}], \"contourcarpet\": [{\"colorbar\": {\"outlinewidth\": 0, \"ticks\": \"\"}, \"type\": \"contourcarpet\"}], \"heatmap\": [{\"colorbar\": {\"outlinewidth\": 0, \"ticks\": \"\"}, \"colorscale\": [[0.0, \"#0d0887\"], [0.1111111111111111, \"#46039f\"], [0.2222222222222222, \"#7201a8\"], [0.3333333333333333, \"#9c179e\"], [0.4444444444444444, \"#bd3786\"], [0.5555555555555556, \"#d8576b\"], [0.6666666666666666, \"#ed7953\"], [0.7777777777777778, \"#fb9f3a\"], [0.8888888888888888, \"#fdca26\"], [1.0, \"#f0f921\"]], \"type\": \"heatmap\"}], \"heatmapgl\": [{\"colorbar\": {\"outlinewidth\": 0, \"ticks\": \"\"}, \"colorscale\": [[0.0, \"#0d0887\"], [0.1111111111111111, \"#46039f\"], [0.2222222222222222, \"#7201a8\"], [0.3333333333333333, \"#9c179e\"], [0.4444444444444444, \"#bd3786\"], [0.5555555555555556, \"#d8576b\"], [0.6666666666666666, \"#ed7953\"], [0.7777777777777778, \"#fb9f3a\"], [0.8888888888888888, \"#fdca26\"], [1.0, \"#f0f921\"]], \"type\": \"heatmapgl\"}], \"histogram\": [{\"marker\": {\"colorbar\": {\"outlinewidth\": 0, \"ticks\": \"\"}}, \"type\": \"histogram\"}], \"histogram2d\": [{\"colorbar\": {\"outlinewidth\": 0, \"ticks\": \"\"}, \"colorscale\": [[0.0, \"#0d0887\"], [0.1111111111111111, \"#46039f\"], [0.2222222222222222, \"#7201a8\"], [0.3333333333333333, \"#9c179e\"], [0.4444444444444444, \"#bd3786\"], [0.5555555555555556, \"#d8576b\"], [0.6666666666666666, \"#ed7953\"], [0.7777777777777778, \"#fb9f3a\"], [0.8888888888888888, \"#fdca26\"], [1.0, \"#f0f921\"]], \"type\": \"histogram2d\"}], \"histogram2dcontour\": [{\"colorbar\": {\"outlinewidth\": 0, \"ticks\": \"\"}, \"colorscale\": [[0.0, \"#0d0887\"], [0.1111111111111111, \"#46039f\"], [0.2222222222222222, \"#7201a8\"], [0.3333333333333333, \"#9c179e\"], [0.4444444444444444, \"#bd3786\"], [0.5555555555555556, \"#d8576b\"], [0.6666666666666666, \"#ed7953\"], [0.7777777777777778, \"#fb9f3a\"], [0.8888888888888888, \"#fdca26\"], [1.0, \"#f0f921\"]], \"type\": \"histogram2dcontour\"}], \"mesh3d\": [{\"colorbar\": {\"outlinewidth\": 0, \"ticks\": \"\"}, \"type\": \"mesh3d\"}], \"parcoords\": [{\"line\": {\"colorbar\": {\"outlinewidth\": 0, \"ticks\": \"\"}}, \"type\": \"parcoords\"}], \"pie\": [{\"automargin\": true, \"type\": \"pie\"}], \"scatter\": [{\"marker\": {\"colorbar\": {\"outlinewidth\": 0, \"ticks\": \"\"}}, \"type\": \"scatter\"}], \"scatter3d\": [{\"line\": {\"colorbar\": {\"outlinewidth\": 0, \"ticks\": \"\"}}, \"marker\": {\"colorbar\": {\"outlinewidth\": 0, \"ticks\": \"\"}}, \"type\": \"scatter3d\"}], \"scattercarpet\": [{\"marker\": {\"colorbar\": {\"outlinewidth\": 0, \"ticks\": \"\"}}, \"type\": \"scattercarpet\"}], \"scattergeo\": [{\"marker\": {\"colorbar\": {\"outlinewidth\": 0, \"ticks\": \"\"}}, \"type\": \"scattergeo\"}], \"scattergl\": [{\"marker\": {\"colorbar\": {\"outlinewidth\": 0, \"ticks\": \"\"}}, \"type\": \"scattergl\"}], \"scattermapbox\": [{\"marker\": {\"colorbar\": {\"outlinewidth\": 0, \"ticks\": \"\"}}, \"type\": \"scattermapbox\"}], \"scatterpolar\": [{\"marker\": {\"colorbar\": {\"outlinewidth\": 0, \"ticks\": \"\"}}, \"type\": \"scatterpolar\"}], \"scatterpolargl\": [{\"marker\": {\"colorbar\": {\"outlinewidth\": 0, \"ticks\": \"\"}}, \"type\": \"scatterpolargl\"}], \"scatterternary\": [{\"marker\": {\"colorbar\": {\"outlinewidth\": 0, \"ticks\": \"\"}}, \"type\": \"scatterternary\"}], \"surface\": [{\"colorbar\": {\"outlinewidth\": 0, \"ticks\": \"\"}, \"colorscale\": [[0.0, \"#0d0887\"], [0.1111111111111111, \"#46039f\"], [0.2222222222222222, \"#7201a8\"], [0.3333333333333333, \"#9c179e\"], [0.4444444444444444, \"#bd3786\"], [0.5555555555555556, \"#d8576b\"], [0.6666666666666666, \"#ed7953\"], [0.7777777777777778, \"#fb9f3a\"], [0.8888888888888888, \"#fdca26\"], [1.0, \"#f0f921\"]], \"type\": \"surface\"}], \"table\": [{\"cells\": {\"fill\": {\"color\": \"#EBF0F8\"}, \"line\": {\"color\": \"white\"}}, \"header\": {\"fill\": {\"color\": \"#C8D4E3\"}, \"line\": {\"color\": \"white\"}}, \"type\": \"table\"}]}, \"layout\": {\"annotationdefaults\": {\"arrowcolor\": \"#2a3f5f\", \"arrowhead\": 0, \"arrowwidth\": 1}, \"coloraxis\": {\"colorbar\": {\"outlinewidth\": 0, \"ticks\": \"\"}}, \"colorscale\": {\"diverging\": [[0, \"#8e0152\"], [0.1, \"#c51b7d\"], [0.2, \"#de77ae\"], [0.3, \"#f1b6da\"], [0.4, \"#fde0ef\"], [0.5, \"#f7f7f7\"], [0.6, \"#e6f5d0\"], [0.7, \"#b8e186\"], [0.8, \"#7fbc41\"], [0.9, \"#4d9221\"], [1, \"#276419\"]], \"sequential\": [[0.0, \"#0d0887\"], [0.1111111111111111, \"#46039f\"], [0.2222222222222222, \"#7201a8\"], [0.3333333333333333, \"#9c179e\"], [0.4444444444444444, \"#bd3786\"], [0.5555555555555556, \"#d8576b\"], [0.6666666666666666, \"#ed7953\"], [0.7777777777777778, \"#fb9f3a\"], [0.8888888888888888, \"#fdca26\"], [1.0, \"#f0f921\"]], \"sequentialminus\": [[0.0, \"#0d0887\"], [0.1111111111111111, \"#46039f\"], [0.2222222222222222, \"#7201a8\"], [0.3333333333333333, \"#9c179e\"], [0.4444444444444444, \"#bd3786\"], [0.5555555555555556, \"#d8576b\"], [0.6666666666666666, \"#ed7953\"], [0.7777777777777778, \"#fb9f3a\"], [0.8888888888888888, \"#fdca26\"], [1.0, \"#f0f921\"]]}, \"colorway\": [\"#636efa\", \"#EF553B\", \"#00cc96\", \"#ab63fa\", \"#FFA15A\", \"#19d3f3\", \"#FF6692\", \"#B6E880\", \"#FF97FF\", \"#FECB52\"], \"font\": {\"color\": \"#2a3f5f\"}, \"geo\": {\"bgcolor\": \"white\", \"lakecolor\": \"white\", \"landcolor\": \"#E5ECF6\", \"showlakes\": true, \"showland\": true, \"subunitcolor\": \"white\"}, \"hoverlabel\": {\"align\": \"left\"}, \"hovermode\": \"closest\", \"mapbox\": {\"style\": \"light\"}, \"paper_bgcolor\": \"white\", \"plot_bgcolor\": \"#E5ECF6\", \"polar\": {\"angularaxis\": {\"gridcolor\": \"white\", \"linecolor\": \"white\", \"ticks\": \"\"}, \"bgcolor\": \"#E5ECF6\", \"radialaxis\": {\"gridcolor\": \"white\", \"linecolor\": \"white\", \"ticks\": \"\"}}, \"scene\": {\"xaxis\": {\"backgroundcolor\": \"#E5ECF6\", \"gridcolor\": \"white\", \"gridwidth\": 2, \"linecolor\": \"white\", \"showbackground\": true, \"ticks\": \"\", \"zerolinecolor\": \"white\"}, \"yaxis\": {\"backgroundcolor\": \"#E5ECF6\", \"gridcolor\": \"white\", \"gridwidth\": 2, \"linecolor\": \"white\", \"showbackground\": true, \"ticks\": \"\", \"zerolinecolor\": \"white\"}, \"zaxis\": {\"backgroundcolor\": \"#E5ECF6\", \"gridcolor\": \"white\", \"gridwidth\": 2, \"linecolor\": \"white\", \"showbackground\": true, \"ticks\": \"\", \"zerolinecolor\": \"white\"}}, \"shapedefaults\": {\"line\": {\"color\": \"#2a3f5f\"}}, \"ternary\": {\"aaxis\": {\"gridcolor\": \"white\", \"linecolor\": \"white\", \"ticks\": \"\"}, \"baxis\": {\"gridcolor\": \"white\", \"linecolor\": \"white\", \"ticks\": \"\"}, \"bgcolor\": \"#E5ECF6\", \"caxis\": {\"gridcolor\": \"white\", \"linecolor\": \"white\", \"ticks\": \"\"}}, \"title\": {\"x\": 0.05}, \"xaxis\": {\"automargin\": true, \"gridcolor\": \"white\", \"linecolor\": \"white\", \"ticks\": \"\", \"title\": {\"standoff\": 15}, \"zerolinecolor\": \"white\", \"zerolinewidth\": 2}, \"yaxis\": {\"automargin\": true, \"gridcolor\": \"white\", \"linecolor\": \"white\", \"ticks\": \"\", \"title\": {\"standoff\": 15}, \"zerolinecolor\": \"white\", \"zerolinewidth\": 2}}}, \"title\": {\"font\": {\"color\": \"#4D5663\"}}, \"xaxis\": {\"gridcolor\": \"#E1E5ED\", \"showgrid\": true, \"tickfont\": {\"color\": \"#4D5663\"}, \"title\": {\"font\": {\"color\": \"#4D5663\"}, \"text\": \"\"}, \"zerolinecolor\": \"#E1E5ED\"}, \"yaxis\": {\"gridcolor\": \"#E1E5ED\", \"showgrid\": true, \"tickfont\": {\"color\": \"#4D5663\"}, \"title\": {\"font\": {\"color\": \"#4D5663\"}, \"text\": \"\"}, \"zerolinecolor\": \"#E1E5ED\"}},\n",
       "                        {\"showLink\": true, \"linkText\": \"Export to plot.ly\", \"plotlyServerURL\": \"https://plot.ly\", \"responsive\": true}\n",
       "                    ).then(function(){\n",
       "                            \n",
       "var gd = document.getElementById('9e1c446e-d4cb-44bc-b003-40e83ba42b81');\n",
       "var x = new MutationObserver(function (mutations, observer) {{\n",
       "        var display = window.getComputedStyle(gd).display;\n",
       "        if (!display || display === 'none') {{\n",
       "            console.log([gd, 'removed!']);\n",
       "            Plotly.purge(gd);\n",
       "            observer.disconnect();\n",
       "        }}\n",
       "}});\n",
       "\n",
       "// Listen for the removal of the full notebook cells\n",
       "var notebookContainer = gd.closest('#notebook-container');\n",
       "if (notebookContainer) {{\n",
       "    x.observe(notebookContainer, {childList: true});\n",
       "}}\n",
       "\n",
       "// Listen for the clearing of the current output cell\n",
       "var outputEl = gd.closest('.output');\n",
       "if (outputEl) {{\n",
       "    x.observe(outputEl, {childList: true});\n",
       "}}\n",
       "\n",
       "                        })\n",
       "                };\n",
       "                });\n",
       "            </script>\n",
       "        </div>"
      ]
     },
     "metadata": {},
     "output_type": "display_data"
    }
   ],
   "source": [
    "df.iplot(kind='box')"
   ]
  },
  {
   "cell_type": "markdown",
   "metadata": {},
   "source": [
    "## 3d Surface"
   ]
  },
  {
   "cell_type": "code",
   "execution_count": 16,
   "metadata": {},
   "outputs": [
    {
     "data": {
      "application/vnd.plotly.v1+json": {
       "config": {
        "linkText": "Export to plot.ly",
        "plotlyServerURL": "https://plot.ly",
        "showLink": true
       },
       "data": [
        {
         "colorscale": [
          [
           0,
           "rgb(165,0,38)"
          ],
          [
           0.1,
           "rgb(215,48,39)"
          ],
          [
           0.2,
           "rgb(244,109,67)"
          ],
          [
           0.3,
           "rgb(253,174,97)"
          ],
          [
           0.4,
           "rgb(254,224,144)"
          ],
          [
           0.5,
           "rgb(255,255,191)"
          ],
          [
           0.6,
           "rgb(224,243,248)"
          ],
          [
           0.7,
           "rgb(171,217,233)"
          ],
          [
           0.8,
           "rgb(116,173,209)"
          ],
          [
           0.9,
           "rgb(69,117,180)"
          ],
          [
           1,
           "rgb(49,54,149)"
          ]
         ],
         "type": "surface",
         "x": [
          0,
          1,
          2,
          3,
          4
         ],
         "y": [
          "x",
          "y",
          "z"
         ],
         "z": [
          [
           1,
           2,
           3,
           4,
           5
          ],
          [
           10,
           20,
           30,
           20,
           10
          ],
          [
           5,
           4,
           3,
           2,
           1
          ]
         ]
        }
       ],
       "layout": {
        "legend": {
         "bgcolor": "#F5F6F9",
         "font": {
          "color": "#4D5663"
         }
        },
        "paper_bgcolor": "#F5F6F9",
        "plot_bgcolor": "#F5F6F9",
        "template": {
         "data": {
          "bar": [
           {
            "error_x": {
             "color": "#2a3f5f"
            },
            "error_y": {
             "color": "#2a3f5f"
            },
            "marker": {
             "line": {
              "color": "#E5ECF6",
              "width": 0.5
             }
            },
            "type": "bar"
           }
          ],
          "barpolar": [
           {
            "marker": {
             "line": {
              "color": "#E5ECF6",
              "width": 0.5
             }
            },
            "type": "barpolar"
           }
          ],
          "carpet": [
           {
            "aaxis": {
             "endlinecolor": "#2a3f5f",
             "gridcolor": "white",
             "linecolor": "white",
             "minorgridcolor": "white",
             "startlinecolor": "#2a3f5f"
            },
            "baxis": {
             "endlinecolor": "#2a3f5f",
             "gridcolor": "white",
             "linecolor": "white",
             "minorgridcolor": "white",
             "startlinecolor": "#2a3f5f"
            },
            "type": "carpet"
           }
          ],
          "choropleth": [
           {
            "colorbar": {
             "outlinewidth": 0,
             "ticks": ""
            },
            "type": "choropleth"
           }
          ],
          "contour": [
           {
            "colorbar": {
             "outlinewidth": 0,
             "ticks": ""
            },
            "colorscale": [
             [
              0,
              "#0d0887"
             ],
             [
              0.1111111111111111,
              "#46039f"
             ],
             [
              0.2222222222222222,
              "#7201a8"
             ],
             [
              0.3333333333333333,
              "#9c179e"
             ],
             [
              0.4444444444444444,
              "#bd3786"
             ],
             [
              0.5555555555555556,
              "#d8576b"
             ],
             [
              0.6666666666666666,
              "#ed7953"
             ],
             [
              0.7777777777777778,
              "#fb9f3a"
             ],
             [
              0.8888888888888888,
              "#fdca26"
             ],
             [
              1,
              "#f0f921"
             ]
            ],
            "type": "contour"
           }
          ],
          "contourcarpet": [
           {
            "colorbar": {
             "outlinewidth": 0,
             "ticks": ""
            },
            "type": "contourcarpet"
           }
          ],
          "heatmap": [
           {
            "colorbar": {
             "outlinewidth": 0,
             "ticks": ""
            },
            "colorscale": [
             [
              0,
              "#0d0887"
             ],
             [
              0.1111111111111111,
              "#46039f"
             ],
             [
              0.2222222222222222,
              "#7201a8"
             ],
             [
              0.3333333333333333,
              "#9c179e"
             ],
             [
              0.4444444444444444,
              "#bd3786"
             ],
             [
              0.5555555555555556,
              "#d8576b"
             ],
             [
              0.6666666666666666,
              "#ed7953"
             ],
             [
              0.7777777777777778,
              "#fb9f3a"
             ],
             [
              0.8888888888888888,
              "#fdca26"
             ],
             [
              1,
              "#f0f921"
             ]
            ],
            "type": "heatmap"
           }
          ],
          "heatmapgl": [
           {
            "colorbar": {
             "outlinewidth": 0,
             "ticks": ""
            },
            "colorscale": [
             [
              0,
              "#0d0887"
             ],
             [
              0.1111111111111111,
              "#46039f"
             ],
             [
              0.2222222222222222,
              "#7201a8"
             ],
             [
              0.3333333333333333,
              "#9c179e"
             ],
             [
              0.4444444444444444,
              "#bd3786"
             ],
             [
              0.5555555555555556,
              "#d8576b"
             ],
             [
              0.6666666666666666,
              "#ed7953"
             ],
             [
              0.7777777777777778,
              "#fb9f3a"
             ],
             [
              0.8888888888888888,
              "#fdca26"
             ],
             [
              1,
              "#f0f921"
             ]
            ],
            "type": "heatmapgl"
           }
          ],
          "histogram": [
           {
            "marker": {
             "colorbar": {
              "outlinewidth": 0,
              "ticks": ""
             }
            },
            "type": "histogram"
           }
          ],
          "histogram2d": [
           {
            "colorbar": {
             "outlinewidth": 0,
             "ticks": ""
            },
            "colorscale": [
             [
              0,
              "#0d0887"
             ],
             [
              0.1111111111111111,
              "#46039f"
             ],
             [
              0.2222222222222222,
              "#7201a8"
             ],
             [
              0.3333333333333333,
              "#9c179e"
             ],
             [
              0.4444444444444444,
              "#bd3786"
             ],
             [
              0.5555555555555556,
              "#d8576b"
             ],
             [
              0.6666666666666666,
              "#ed7953"
             ],
             [
              0.7777777777777778,
              "#fb9f3a"
             ],
             [
              0.8888888888888888,
              "#fdca26"
             ],
             [
              1,
              "#f0f921"
             ]
            ],
            "type": "histogram2d"
           }
          ],
          "histogram2dcontour": [
           {
            "colorbar": {
             "outlinewidth": 0,
             "ticks": ""
            },
            "colorscale": [
             [
              0,
              "#0d0887"
             ],
             [
              0.1111111111111111,
              "#46039f"
             ],
             [
              0.2222222222222222,
              "#7201a8"
             ],
             [
              0.3333333333333333,
              "#9c179e"
             ],
             [
              0.4444444444444444,
              "#bd3786"
             ],
             [
              0.5555555555555556,
              "#d8576b"
             ],
             [
              0.6666666666666666,
              "#ed7953"
             ],
             [
              0.7777777777777778,
              "#fb9f3a"
             ],
             [
              0.8888888888888888,
              "#fdca26"
             ],
             [
              1,
              "#f0f921"
             ]
            ],
            "type": "histogram2dcontour"
           }
          ],
          "mesh3d": [
           {
            "colorbar": {
             "outlinewidth": 0,
             "ticks": ""
            },
            "type": "mesh3d"
           }
          ],
          "parcoords": [
           {
            "line": {
             "colorbar": {
              "outlinewidth": 0,
              "ticks": ""
             }
            },
            "type": "parcoords"
           }
          ],
          "pie": [
           {
            "automargin": true,
            "type": "pie"
           }
          ],
          "scatter": [
           {
            "marker": {
             "colorbar": {
              "outlinewidth": 0,
              "ticks": ""
             }
            },
            "type": "scatter"
           }
          ],
          "scatter3d": [
           {
            "line": {
             "colorbar": {
              "outlinewidth": 0,
              "ticks": ""
             }
            },
            "marker": {
             "colorbar": {
              "outlinewidth": 0,
              "ticks": ""
             }
            },
            "type": "scatter3d"
           }
          ],
          "scattercarpet": [
           {
            "marker": {
             "colorbar": {
              "outlinewidth": 0,
              "ticks": ""
             }
            },
            "type": "scattercarpet"
           }
          ],
          "scattergeo": [
           {
            "marker": {
             "colorbar": {
              "outlinewidth": 0,
              "ticks": ""
             }
            },
            "type": "scattergeo"
           }
          ],
          "scattergl": [
           {
            "marker": {
             "colorbar": {
              "outlinewidth": 0,
              "ticks": ""
             }
            },
            "type": "scattergl"
           }
          ],
          "scattermapbox": [
           {
            "marker": {
             "colorbar": {
              "outlinewidth": 0,
              "ticks": ""
             }
            },
            "type": "scattermapbox"
           }
          ],
          "scatterpolar": [
           {
            "marker": {
             "colorbar": {
              "outlinewidth": 0,
              "ticks": ""
             }
            },
            "type": "scatterpolar"
           }
          ],
          "scatterpolargl": [
           {
            "marker": {
             "colorbar": {
              "outlinewidth": 0,
              "ticks": ""
             }
            },
            "type": "scatterpolargl"
           }
          ],
          "scatterternary": [
           {
            "marker": {
             "colorbar": {
              "outlinewidth": 0,
              "ticks": ""
             }
            },
            "type": "scatterternary"
           }
          ],
          "surface": [
           {
            "colorbar": {
             "outlinewidth": 0,
             "ticks": ""
            },
            "colorscale": [
             [
              0,
              "#0d0887"
             ],
             [
              0.1111111111111111,
              "#46039f"
             ],
             [
              0.2222222222222222,
              "#7201a8"
             ],
             [
              0.3333333333333333,
              "#9c179e"
             ],
             [
              0.4444444444444444,
              "#bd3786"
             ],
             [
              0.5555555555555556,
              "#d8576b"
             ],
             [
              0.6666666666666666,
              "#ed7953"
             ],
             [
              0.7777777777777778,
              "#fb9f3a"
             ],
             [
              0.8888888888888888,
              "#fdca26"
             ],
             [
              1,
              "#f0f921"
             ]
            ],
            "type": "surface"
           }
          ],
          "table": [
           {
            "cells": {
             "fill": {
              "color": "#EBF0F8"
             },
             "line": {
              "color": "white"
             }
            },
            "header": {
             "fill": {
              "color": "#C8D4E3"
             },
             "line": {
              "color": "white"
             }
            },
            "type": "table"
           }
          ]
         },
         "layout": {
          "annotationdefaults": {
           "arrowcolor": "#2a3f5f",
           "arrowhead": 0,
           "arrowwidth": 1
          },
          "coloraxis": {
           "colorbar": {
            "outlinewidth": 0,
            "ticks": ""
           }
          },
          "colorscale": {
           "diverging": [
            [
             0,
             "#8e0152"
            ],
            [
             0.1,
             "#c51b7d"
            ],
            [
             0.2,
             "#de77ae"
            ],
            [
             0.3,
             "#f1b6da"
            ],
            [
             0.4,
             "#fde0ef"
            ],
            [
             0.5,
             "#f7f7f7"
            ],
            [
             0.6,
             "#e6f5d0"
            ],
            [
             0.7,
             "#b8e186"
            ],
            [
             0.8,
             "#7fbc41"
            ],
            [
             0.9,
             "#4d9221"
            ],
            [
             1,
             "#276419"
            ]
           ],
           "sequential": [
            [
             0,
             "#0d0887"
            ],
            [
             0.1111111111111111,
             "#46039f"
            ],
            [
             0.2222222222222222,
             "#7201a8"
            ],
            [
             0.3333333333333333,
             "#9c179e"
            ],
            [
             0.4444444444444444,
             "#bd3786"
            ],
            [
             0.5555555555555556,
             "#d8576b"
            ],
            [
             0.6666666666666666,
             "#ed7953"
            ],
            [
             0.7777777777777778,
             "#fb9f3a"
            ],
            [
             0.8888888888888888,
             "#fdca26"
            ],
            [
             1,
             "#f0f921"
            ]
           ],
           "sequentialminus": [
            [
             0,
             "#0d0887"
            ],
            [
             0.1111111111111111,
             "#46039f"
            ],
            [
             0.2222222222222222,
             "#7201a8"
            ],
            [
             0.3333333333333333,
             "#9c179e"
            ],
            [
             0.4444444444444444,
             "#bd3786"
            ],
            [
             0.5555555555555556,
             "#d8576b"
            ],
            [
             0.6666666666666666,
             "#ed7953"
            ],
            [
             0.7777777777777778,
             "#fb9f3a"
            ],
            [
             0.8888888888888888,
             "#fdca26"
            ],
            [
             1,
             "#f0f921"
            ]
           ]
          },
          "colorway": [
           "#636efa",
           "#EF553B",
           "#00cc96",
           "#ab63fa",
           "#FFA15A",
           "#19d3f3",
           "#FF6692",
           "#B6E880",
           "#FF97FF",
           "#FECB52"
          ],
          "font": {
           "color": "#2a3f5f"
          },
          "geo": {
           "bgcolor": "white",
           "lakecolor": "white",
           "landcolor": "#E5ECF6",
           "showlakes": true,
           "showland": true,
           "subunitcolor": "white"
          },
          "hoverlabel": {
           "align": "left"
          },
          "hovermode": "closest",
          "mapbox": {
           "style": "light"
          },
          "paper_bgcolor": "white",
          "plot_bgcolor": "#E5ECF6",
          "polar": {
           "angularaxis": {
            "gridcolor": "white",
            "linecolor": "white",
            "ticks": ""
           },
           "bgcolor": "#E5ECF6",
           "radialaxis": {
            "gridcolor": "white",
            "linecolor": "white",
            "ticks": ""
           }
          },
          "scene": {
           "xaxis": {
            "backgroundcolor": "#E5ECF6",
            "gridcolor": "white",
            "gridwidth": 2,
            "linecolor": "white",
            "showbackground": true,
            "ticks": "",
            "zerolinecolor": "white"
           },
           "yaxis": {
            "backgroundcolor": "#E5ECF6",
            "gridcolor": "white",
            "gridwidth": 2,
            "linecolor": "white",
            "showbackground": true,
            "ticks": "",
            "zerolinecolor": "white"
           },
           "zaxis": {
            "backgroundcolor": "#E5ECF6",
            "gridcolor": "white",
            "gridwidth": 2,
            "linecolor": "white",
            "showbackground": true,
            "ticks": "",
            "zerolinecolor": "white"
           }
          },
          "shapedefaults": {
           "line": {
            "color": "#2a3f5f"
           }
          },
          "ternary": {
           "aaxis": {
            "gridcolor": "white",
            "linecolor": "white",
            "ticks": ""
           },
           "baxis": {
            "gridcolor": "white",
            "linecolor": "white",
            "ticks": ""
           },
           "bgcolor": "#E5ECF6",
           "caxis": {
            "gridcolor": "white",
            "linecolor": "white",
            "ticks": ""
           }
          },
          "title": {
           "x": 0.05
          },
          "xaxis": {
           "automargin": true,
           "gridcolor": "white",
           "linecolor": "white",
           "ticks": "",
           "title": {
            "standoff": 15
           },
           "zerolinecolor": "white",
           "zerolinewidth": 2
          },
          "yaxis": {
           "automargin": true,
           "gridcolor": "white",
           "linecolor": "white",
           "ticks": "",
           "title": {
            "standoff": 15
           },
           "zerolinecolor": "white",
           "zerolinewidth": 2
          }
         }
        },
        "title": {
         "font": {
          "color": "#4D5663"
         }
        },
        "xaxis": {
         "gridcolor": "#E1E5ED",
         "showgrid": true,
         "tickfont": {
          "color": "#4D5663"
         },
         "title": {
          "font": {
           "color": "#4D5663"
          },
          "text": ""
         },
         "zerolinecolor": "#E1E5ED"
        },
        "yaxis": {
         "gridcolor": "#E1E5ED",
         "showgrid": true,
         "tickfont": {
          "color": "#4D5663"
         },
         "title": {
          "font": {
           "color": "#4D5663"
          },
          "text": ""
         },
         "zerolinecolor": "#E1E5ED"
        }
       }
      },
      "text/html": [
       "<div>\n",
       "        \n",
       "        \n",
       "            <div id=\"b0f04299-4e86-45e6-abf1-6e134c7e3732\" class=\"plotly-graph-div\" style=\"height:525px; width:100%;\"></div>\n",
       "            <script type=\"text/javascript\">\n",
       "                require([\"plotly\"], function(Plotly) {\n",
       "                    window.PLOTLYENV=window.PLOTLYENV || {};\n",
       "                    window.PLOTLYENV.BASE_URL='https://plot.ly';\n",
       "                    \n",
       "                if (document.getElementById(\"b0f04299-4e86-45e6-abf1-6e134c7e3732\")) {\n",
       "                    Plotly.newPlot(\n",
       "                        'b0f04299-4e86-45e6-abf1-6e134c7e3732',\n",
       "                        [{\"colorscale\": [[0.0, \"rgb(165,0,38)\"], [0.1, \"rgb(215,48,39)\"], [0.2, \"rgb(244,109,67)\"], [0.3, \"rgb(253,174,97)\"], [0.4, \"rgb(254,224,144)\"], [0.5, \"rgb(255,255,191)\"], [0.6, \"rgb(224,243,248)\"], [0.7, \"rgb(171,217,233)\"], [0.8, \"rgb(116,173,209)\"], [0.9, \"rgb(69,117,180)\"], [1.0, \"rgb(49,54,149)\"]], \"type\": \"surface\", \"x\": [0, 1, 2, 3, 4], \"y\": [\"x\", \"y\", \"z\"], \"z\": [[1, 2, 3, 4, 5], [10, 20, 30, 20, 10], [5, 4, 3, 2, 1]]}],\n",
       "                        {\"legend\": {\"bgcolor\": \"#F5F6F9\", \"font\": {\"color\": \"#4D5663\"}}, \"paper_bgcolor\": \"#F5F6F9\", \"plot_bgcolor\": \"#F5F6F9\", \"template\": {\"data\": {\"bar\": [{\"error_x\": {\"color\": \"#2a3f5f\"}, \"error_y\": {\"color\": \"#2a3f5f\"}, \"marker\": {\"line\": {\"color\": \"#E5ECF6\", \"width\": 0.5}}, \"type\": \"bar\"}], \"barpolar\": [{\"marker\": {\"line\": {\"color\": \"#E5ECF6\", \"width\": 0.5}}, \"type\": \"barpolar\"}], \"carpet\": [{\"aaxis\": {\"endlinecolor\": \"#2a3f5f\", \"gridcolor\": \"white\", \"linecolor\": \"white\", \"minorgridcolor\": \"white\", \"startlinecolor\": \"#2a3f5f\"}, \"baxis\": {\"endlinecolor\": \"#2a3f5f\", \"gridcolor\": \"white\", \"linecolor\": \"white\", \"minorgridcolor\": \"white\", \"startlinecolor\": \"#2a3f5f\"}, \"type\": \"carpet\"}], \"choropleth\": [{\"colorbar\": {\"outlinewidth\": 0, \"ticks\": \"\"}, \"type\": \"choropleth\"}], \"contour\": [{\"colorbar\": {\"outlinewidth\": 0, \"ticks\": \"\"}, \"colorscale\": [[0.0, \"#0d0887\"], [0.1111111111111111, \"#46039f\"], [0.2222222222222222, \"#7201a8\"], [0.3333333333333333, \"#9c179e\"], [0.4444444444444444, \"#bd3786\"], [0.5555555555555556, \"#d8576b\"], [0.6666666666666666, \"#ed7953\"], [0.7777777777777778, \"#fb9f3a\"], [0.8888888888888888, \"#fdca26\"], [1.0, \"#f0f921\"]], \"type\": \"contour\"}], \"contourcarpet\": [{\"colorbar\": {\"outlinewidth\": 0, \"ticks\": \"\"}, \"type\": \"contourcarpet\"}], \"heatmap\": [{\"colorbar\": {\"outlinewidth\": 0, \"ticks\": \"\"}, \"colorscale\": [[0.0, \"#0d0887\"], [0.1111111111111111, \"#46039f\"], [0.2222222222222222, \"#7201a8\"], [0.3333333333333333, \"#9c179e\"], [0.4444444444444444, \"#bd3786\"], [0.5555555555555556, \"#d8576b\"], [0.6666666666666666, \"#ed7953\"], [0.7777777777777778, \"#fb9f3a\"], [0.8888888888888888, \"#fdca26\"], [1.0, \"#f0f921\"]], \"type\": \"heatmap\"}], \"heatmapgl\": [{\"colorbar\": {\"outlinewidth\": 0, \"ticks\": \"\"}, \"colorscale\": [[0.0, \"#0d0887\"], [0.1111111111111111, \"#46039f\"], [0.2222222222222222, \"#7201a8\"], [0.3333333333333333, \"#9c179e\"], [0.4444444444444444, \"#bd3786\"], [0.5555555555555556, \"#d8576b\"], [0.6666666666666666, \"#ed7953\"], [0.7777777777777778, \"#fb9f3a\"], [0.8888888888888888, \"#fdca26\"], [1.0, \"#f0f921\"]], \"type\": \"heatmapgl\"}], \"histogram\": [{\"marker\": {\"colorbar\": {\"outlinewidth\": 0, \"ticks\": \"\"}}, \"type\": \"histogram\"}], \"histogram2d\": [{\"colorbar\": {\"outlinewidth\": 0, \"ticks\": \"\"}, \"colorscale\": [[0.0, \"#0d0887\"], [0.1111111111111111, \"#46039f\"], [0.2222222222222222, \"#7201a8\"], [0.3333333333333333, \"#9c179e\"], [0.4444444444444444, \"#bd3786\"], [0.5555555555555556, \"#d8576b\"], [0.6666666666666666, \"#ed7953\"], [0.7777777777777778, \"#fb9f3a\"], [0.8888888888888888, \"#fdca26\"], [1.0, \"#f0f921\"]], \"type\": \"histogram2d\"}], \"histogram2dcontour\": [{\"colorbar\": {\"outlinewidth\": 0, \"ticks\": \"\"}, \"colorscale\": [[0.0, \"#0d0887\"], [0.1111111111111111, \"#46039f\"], [0.2222222222222222, \"#7201a8\"], [0.3333333333333333, \"#9c179e\"], [0.4444444444444444, \"#bd3786\"], [0.5555555555555556, \"#d8576b\"], [0.6666666666666666, \"#ed7953\"], [0.7777777777777778, \"#fb9f3a\"], [0.8888888888888888, \"#fdca26\"], [1.0, \"#f0f921\"]], \"type\": \"histogram2dcontour\"}], \"mesh3d\": [{\"colorbar\": {\"outlinewidth\": 0, \"ticks\": \"\"}, \"type\": \"mesh3d\"}], \"parcoords\": [{\"line\": {\"colorbar\": {\"outlinewidth\": 0, \"ticks\": \"\"}}, \"type\": \"parcoords\"}], \"pie\": [{\"automargin\": true, \"type\": \"pie\"}], \"scatter\": [{\"marker\": {\"colorbar\": {\"outlinewidth\": 0, \"ticks\": \"\"}}, \"type\": \"scatter\"}], \"scatter3d\": [{\"line\": {\"colorbar\": {\"outlinewidth\": 0, \"ticks\": \"\"}}, \"marker\": {\"colorbar\": {\"outlinewidth\": 0, \"ticks\": \"\"}}, \"type\": \"scatter3d\"}], \"scattercarpet\": [{\"marker\": {\"colorbar\": {\"outlinewidth\": 0, \"ticks\": \"\"}}, \"type\": \"scattercarpet\"}], \"scattergeo\": [{\"marker\": {\"colorbar\": {\"outlinewidth\": 0, \"ticks\": \"\"}}, \"type\": \"scattergeo\"}], \"scattergl\": [{\"marker\": {\"colorbar\": {\"outlinewidth\": 0, \"ticks\": \"\"}}, \"type\": \"scattergl\"}], \"scattermapbox\": [{\"marker\": {\"colorbar\": {\"outlinewidth\": 0, \"ticks\": \"\"}}, \"type\": \"scattermapbox\"}], \"scatterpolar\": [{\"marker\": {\"colorbar\": {\"outlinewidth\": 0, \"ticks\": \"\"}}, \"type\": \"scatterpolar\"}], \"scatterpolargl\": [{\"marker\": {\"colorbar\": {\"outlinewidth\": 0, \"ticks\": \"\"}}, \"type\": \"scatterpolargl\"}], \"scatterternary\": [{\"marker\": {\"colorbar\": {\"outlinewidth\": 0, \"ticks\": \"\"}}, \"type\": \"scatterternary\"}], \"surface\": [{\"colorbar\": {\"outlinewidth\": 0, \"ticks\": \"\"}, \"colorscale\": [[0.0, \"#0d0887\"], [0.1111111111111111, \"#46039f\"], [0.2222222222222222, \"#7201a8\"], [0.3333333333333333, \"#9c179e\"], [0.4444444444444444, \"#bd3786\"], [0.5555555555555556, \"#d8576b\"], [0.6666666666666666, \"#ed7953\"], [0.7777777777777778, \"#fb9f3a\"], [0.8888888888888888, \"#fdca26\"], [1.0, \"#f0f921\"]], \"type\": \"surface\"}], \"table\": [{\"cells\": {\"fill\": {\"color\": \"#EBF0F8\"}, \"line\": {\"color\": \"white\"}}, \"header\": {\"fill\": {\"color\": \"#C8D4E3\"}, \"line\": {\"color\": \"white\"}}, \"type\": \"table\"}]}, \"layout\": {\"annotationdefaults\": {\"arrowcolor\": \"#2a3f5f\", \"arrowhead\": 0, \"arrowwidth\": 1}, \"coloraxis\": {\"colorbar\": {\"outlinewidth\": 0, \"ticks\": \"\"}}, \"colorscale\": {\"diverging\": [[0, \"#8e0152\"], [0.1, \"#c51b7d\"], [0.2, \"#de77ae\"], [0.3, \"#f1b6da\"], [0.4, \"#fde0ef\"], [0.5, \"#f7f7f7\"], [0.6, \"#e6f5d0\"], [0.7, \"#b8e186\"], [0.8, \"#7fbc41\"], [0.9, \"#4d9221\"], [1, \"#276419\"]], \"sequential\": [[0.0, \"#0d0887\"], [0.1111111111111111, \"#46039f\"], [0.2222222222222222, \"#7201a8\"], [0.3333333333333333, \"#9c179e\"], [0.4444444444444444, \"#bd3786\"], [0.5555555555555556, \"#d8576b\"], [0.6666666666666666, \"#ed7953\"], [0.7777777777777778, \"#fb9f3a\"], [0.8888888888888888, \"#fdca26\"], [1.0, \"#f0f921\"]], \"sequentialminus\": [[0.0, \"#0d0887\"], [0.1111111111111111, \"#46039f\"], [0.2222222222222222, \"#7201a8\"], [0.3333333333333333, \"#9c179e\"], [0.4444444444444444, \"#bd3786\"], [0.5555555555555556, \"#d8576b\"], [0.6666666666666666, \"#ed7953\"], [0.7777777777777778, \"#fb9f3a\"], [0.8888888888888888, \"#fdca26\"], [1.0, \"#f0f921\"]]}, \"colorway\": [\"#636efa\", \"#EF553B\", \"#00cc96\", \"#ab63fa\", \"#FFA15A\", \"#19d3f3\", \"#FF6692\", \"#B6E880\", \"#FF97FF\", \"#FECB52\"], \"font\": {\"color\": \"#2a3f5f\"}, \"geo\": {\"bgcolor\": \"white\", \"lakecolor\": \"white\", \"landcolor\": \"#E5ECF6\", \"showlakes\": true, \"showland\": true, \"subunitcolor\": \"white\"}, \"hoverlabel\": {\"align\": \"left\"}, \"hovermode\": \"closest\", \"mapbox\": {\"style\": \"light\"}, \"paper_bgcolor\": \"white\", \"plot_bgcolor\": \"#E5ECF6\", \"polar\": {\"angularaxis\": {\"gridcolor\": \"white\", \"linecolor\": \"white\", \"ticks\": \"\"}, \"bgcolor\": \"#E5ECF6\", \"radialaxis\": {\"gridcolor\": \"white\", \"linecolor\": \"white\", \"ticks\": \"\"}}, \"scene\": {\"xaxis\": {\"backgroundcolor\": \"#E5ECF6\", \"gridcolor\": \"white\", \"gridwidth\": 2, \"linecolor\": \"white\", \"showbackground\": true, \"ticks\": \"\", \"zerolinecolor\": \"white\"}, \"yaxis\": {\"backgroundcolor\": \"#E5ECF6\", \"gridcolor\": \"white\", \"gridwidth\": 2, \"linecolor\": \"white\", \"showbackground\": true, \"ticks\": \"\", \"zerolinecolor\": \"white\"}, \"zaxis\": {\"backgroundcolor\": \"#E5ECF6\", \"gridcolor\": \"white\", \"gridwidth\": 2, \"linecolor\": \"white\", \"showbackground\": true, \"ticks\": \"\", \"zerolinecolor\": \"white\"}}, \"shapedefaults\": {\"line\": {\"color\": \"#2a3f5f\"}}, \"ternary\": {\"aaxis\": {\"gridcolor\": \"white\", \"linecolor\": \"white\", \"ticks\": \"\"}, \"baxis\": {\"gridcolor\": \"white\", \"linecolor\": \"white\", \"ticks\": \"\"}, \"bgcolor\": \"#E5ECF6\", \"caxis\": {\"gridcolor\": \"white\", \"linecolor\": \"white\", \"ticks\": \"\"}}, \"title\": {\"x\": 0.05}, \"xaxis\": {\"automargin\": true, \"gridcolor\": \"white\", \"linecolor\": \"white\", \"ticks\": \"\", \"title\": {\"standoff\": 15}, \"zerolinecolor\": \"white\", \"zerolinewidth\": 2}, \"yaxis\": {\"automargin\": true, \"gridcolor\": \"white\", \"linecolor\": \"white\", \"ticks\": \"\", \"title\": {\"standoff\": 15}, \"zerolinecolor\": \"white\", \"zerolinewidth\": 2}}}, \"title\": {\"font\": {\"color\": \"#4D5663\"}}, \"xaxis\": {\"gridcolor\": \"#E1E5ED\", \"showgrid\": true, \"tickfont\": {\"color\": \"#4D5663\"}, \"title\": {\"font\": {\"color\": \"#4D5663\"}, \"text\": \"\"}, \"zerolinecolor\": \"#E1E5ED\"}, \"yaxis\": {\"gridcolor\": \"#E1E5ED\", \"showgrid\": true, \"tickfont\": {\"color\": \"#4D5663\"}, \"title\": {\"font\": {\"color\": \"#4D5663\"}, \"text\": \"\"}, \"zerolinecolor\": \"#E1E5ED\"}},\n",
       "                        {\"showLink\": true, \"linkText\": \"Export to plot.ly\", \"plotlyServerURL\": \"https://plot.ly\", \"responsive\": true}\n",
       "                    ).then(function(){\n",
       "                            \n",
       "var gd = document.getElementById('b0f04299-4e86-45e6-abf1-6e134c7e3732');\n",
       "var x = new MutationObserver(function (mutations, observer) {{\n",
       "        var display = window.getComputedStyle(gd).display;\n",
       "        if (!display || display === 'none') {{\n",
       "            console.log([gd, 'removed!']);\n",
       "            Plotly.purge(gd);\n",
       "            observer.disconnect();\n",
       "        }}\n",
       "}});\n",
       "\n",
       "// Listen for the removal of the full notebook cells\n",
       "var notebookContainer = gd.closest('#notebook-container');\n",
       "if (notebookContainer) {{\n",
       "    x.observe(notebookContainer, {childList: true});\n",
       "}}\n",
       "\n",
       "// Listen for the clearing of the current output cell\n",
       "var outputEl = gd.closest('.output');\n",
       "if (outputEl) {{\n",
       "    x.observe(outputEl, {childList: true});\n",
       "}}\n",
       "\n",
       "                        })\n",
       "                };\n",
       "                });\n",
       "            </script>\n",
       "        </div>"
      ]
     },
     "metadata": {},
     "output_type": "display_data"
    }
   ],
   "source": [
    "df3 = pd.DataFrame({'x':[1,2,3,4,5],'y':[10,20,30,20,10],'z':[5,4,3,2,1]})\n",
    "df3.iplot(kind='surface',colorscale='rdylbu')"
   ]
  },
  {
   "cell_type": "markdown",
   "metadata": {},
   "source": [
    "## Spread"
   ]
  },
  {
   "cell_type": "code",
   "execution_count": 20,
   "metadata": {},
   "outputs": [
    {
     "data": {
      "application/vnd.plotly.v1+json": {
       "config": {
        "linkText": "Export to plot.ly",
        "plotlyServerURL": "https://plot.ly",
        "showLink": true
       },
       "data": [
        {
         "line": {
          "color": "rgba(255, 153, 51, 1.0)",
          "dash": "solid",
          "shape": "linear",
          "width": 1.3
         },
         "mode": "lines",
         "name": "A",
         "text": "",
         "type": "scatter",
         "x": [
          0,
          1,
          2,
          3,
          4,
          5,
          6,
          7,
          8,
          9,
          10,
          11,
          12,
          13,
          14,
          15,
          16,
          17,
          18,
          19,
          20,
          21,
          22,
          23,
          24,
          25,
          26,
          27,
          28,
          29,
          30,
          31,
          32,
          33,
          34,
          35,
          36,
          37,
          38,
          39,
          40,
          41,
          42,
          43,
          44,
          45,
          46,
          47,
          48,
          49,
          50,
          51,
          52,
          53,
          54,
          55,
          56,
          57,
          58,
          59,
          60,
          61,
          62,
          63,
          64,
          65,
          66,
          67,
          68,
          69,
          70,
          71,
          72,
          73,
          74,
          75,
          76,
          77,
          78,
          79,
          80,
          81,
          82,
          83,
          84,
          85,
          86,
          87,
          88,
          89,
          90,
          91,
          92,
          93,
          94,
          95,
          96,
          97,
          98,
          99
         ],
         "y": [
          2.6373344784495645,
          -1.9514781140231166,
          1.048759696978105,
          -1.2963473714495244,
          0.27694889027081887,
          0.692496688521014,
          0.07606444168264838,
          -0.6406801537579438,
          -0.6800911741187079,
          -0.8518888122997218,
          -0.7791147369734518,
          -0.6734941267402332,
          1.0167773412090835,
          0.23352732552763336,
          0.6163742442520982,
          -0.062319690042786834,
          0.4481652315232757,
          -0.02433885182191795,
          -0.4495406344066845,
          0.256728595894281,
          -0.14869432230647567,
          -1.2719115094158837,
          -0.18309035858598605,
          0.9512382104394191,
          -1.3351222343701932,
          0.8118457968750349,
          -0.4592579259017499,
          0.017322515641877596,
          -0.10874037092289358,
          0.7231418010819272,
          0.24488018614133208,
          -0.5002111461510281,
          -0.6789918892111676,
          1.0651918883435525,
          -0.29021561808912394,
          -0.5543716289854907,
          0.25805961156717533,
          -0.24712456122109305,
          0.7710767621589241,
          -1.1037831746949724,
          1.634401350202134,
          -0.6841000935514857,
          0.41030079756170595,
          0.9058247386329331,
          -2.3161672250434076,
          0.8233980785593794,
          1.892568603868356,
          1.1105016985095562,
          1.0807787816525551,
          0.26329482385854525,
          0.6811746578863037,
          1.5953539436930355,
          -0.8709560373194579,
          1.133535395435486,
          1.993229916325945,
          -1.7783792766437496,
          -1.028962145596852,
          0.11030844695762584,
          0.07519092337124138,
          0.4998945230505707,
          -0.14543010621768782,
          2.006305468029981,
          0.02027007279842382,
          -0.5024886909118702,
          0.9748120761643012,
          -0.42348555508138697,
          0.11543167395240778,
          0.312886660558503,
          -0.24027670045074928,
          0.3752446493239127,
          0.1211156796304035,
          -0.6445287847348729,
          0.2764578536695193,
          0.10937742078251535,
          -1.655221776282199,
          -0.52926779494393,
          0.456193201572975,
          0.5155302426268643,
          -0.139552865775506,
          0.7012109814926522,
          -1.113704268358639,
          -1.9031496623660287,
          -1.0805160223732262,
          -1.4413303548350294,
          0.4576522935107792,
          1.4630078606653885,
          -1.2489647067372125,
          -0.6250555560710132,
          -0.10145369069764623,
          0.138125916178685,
          -1.4996158840708063,
          1.5118801883843067,
          -0.1993334647684355,
          0.0031373104395526923,
          1.3583255766429585,
          -1.2406567590300575,
          -0.5432080731603196,
          0.013525641271830868,
          -0.6655652043632769,
          0.9079388521323659
         ]
        },
        {
         "line": {
          "color": "rgba(55, 128, 191, 1.0)",
          "dash": "solid",
          "shape": "linear",
          "width": 1.3
         },
         "mode": "lines",
         "name": "B",
         "text": "",
         "type": "scatter",
         "x": [
          0,
          1,
          2,
          3,
          4,
          5,
          6,
          7,
          8,
          9,
          10,
          11,
          12,
          13,
          14,
          15,
          16,
          17,
          18,
          19,
          20,
          21,
          22,
          23,
          24,
          25,
          26,
          27,
          28,
          29,
          30,
          31,
          32,
          33,
          34,
          35,
          36,
          37,
          38,
          39,
          40,
          41,
          42,
          43,
          44,
          45,
          46,
          47,
          48,
          49,
          50,
          51,
          52,
          53,
          54,
          55,
          56,
          57,
          58,
          59,
          60,
          61,
          62,
          63,
          64,
          65,
          66,
          67,
          68,
          69,
          70,
          71,
          72,
          73,
          74,
          75,
          76,
          77,
          78,
          79,
          80,
          81,
          82,
          83,
          84,
          85,
          86,
          87,
          88,
          89,
          90,
          91,
          92,
          93,
          94,
          95,
          96,
          97,
          98,
          99
         ],
         "y": [
          -2.284695843780699,
          -0.12897863957239397,
          -0.5960163415525992,
          0.6927278091908197,
          -1.073096401837728,
          -0.5784207622519486,
          -0.23519756874658382,
          -0.9451011638490537,
          -1.063843416629175,
          0.6756848161415443,
          0.8151176376126024,
          -0.8913414043464327,
          1.586858684811914,
          -0.49092565487567463,
          -1.2918634219359029,
          0.5036484512397292,
          -0.6014396795922873,
          0.43023242215496327,
          -0.5140747441600014,
          -1.64299938662231,
          0.19220870639914056,
          0.8203705341311345,
          -1.3573891161830567,
          0.9824384134933203,
          -0.4431038482458481,
          0.831281467639583,
          0.5991381056360517,
          -0.19798352319493737,
          1.6225181625321803,
          0.15865883270680928,
          -0.24062204610389426,
          -0.17416125564133053,
          1.0077119144555593,
          1.7385666186605993,
          -0.2493143010520831,
          1.427211355261423,
          -0.10332308539021648,
          -0.16680760836093397,
          2.0625300652181706,
          -0.029300367935213394,
          2.8039443472510506,
          0.346449737438328,
          -0.32633297104558556,
          -0.046492928263603656,
          -0.4363171197337111,
          0.056197128779733936,
          0.029384019930100338,
          0.7419514855583611,
          -0.5169707337572688,
          0.7157470081371733,
          0.36528987025749876,
          0.07089580181332032,
          0.5816741379834732,
          -1.980963012540804,
          1.5736259710506741,
          0.6377350546144804,
          -0.9773283769613775,
          0.6271683365660647,
          -0.20769018041276938,
          -0.13629364916807668,
          -1.0973203981421389,
          -0.5708035111791355,
          -1.4518036666885026,
          1.144197133868288,
          0.18607831353941073,
          -0.6319881383179478,
          -0.11362523685186736,
          0.040575359081890784,
          0.9243094765600892,
          -1.3476554400860434,
          -0.7963687182642614,
          0.6813966725874765,
          -0.3003150585184621,
          -1.7367007129274277,
          0.9276116141824441,
          -0.9356833375574491,
          0.0031066811508997944,
          -0.9927386805528503,
          2.4095902696689846,
          0.8022472832942091,
          0.18688783972328699,
          0.68311543513717,
          -0.5938759721272218,
          -0.14109286740742658,
          1.3991284943838274,
          0.3546468501567292,
          0.06716378301515893,
          1.4330738198409538,
          1.2093940166410524,
          -0.002097060041586007,
          -0.888013370871234,
          1.3046302754895798,
          -1.4518307583462837,
          -1.2772735047680706,
          0.5455088989553084,
          1.3906872989486303,
          -0.3322633074372016,
          1.4057999871358426,
          -1.6056202884422215,
          0.8482521990758864
         ]
        },
        {
         "connectgaps": false,
         "fill": "tozeroy",
         "line": {
          "color": "green",
          "dash": "solid",
          "shape": "linear",
          "width": 0.5
         },
         "mode": "lines",
         "name": "Spread",
         "showlegend": false,
         "type": "scatter",
         "x": [
          0,
          1,
          2,
          3,
          4,
          5,
          6,
          7,
          8,
          9,
          10,
          11,
          12,
          13,
          14,
          15,
          16,
          17,
          18,
          19,
          20,
          21,
          22,
          23,
          24,
          25,
          26,
          27,
          28,
          29,
          30,
          31,
          32,
          33,
          34,
          35,
          36,
          37,
          38,
          39,
          40,
          41,
          42,
          43,
          44,
          45,
          46,
          47,
          48,
          49,
          50,
          51,
          52,
          53,
          54,
          55,
          56,
          57,
          58,
          59,
          60,
          61,
          62,
          63,
          64,
          65,
          66,
          67,
          68,
          69,
          70,
          71,
          72,
          73,
          74,
          75,
          76,
          77,
          78,
          79,
          80,
          81,
          82,
          83,
          84,
          85,
          86,
          87,
          88,
          89,
          90,
          91,
          92,
          93,
          94,
          95,
          96,
          97,
          98,
          99
         ],
         "xaxis": "x2",
         "y": [
          4.922030322230263,
          "",
          1.6447760385307042,
          "",
          1.3500452921085468,
          1.2709174507729626,
          0.3112620104292322,
          0.3044210100911099,
          0.38375224251046713,
          "",
          "",
          0.21784727760619949,
          "",
          0.724452980403308,
          1.908237666188001,
          "",
          1.049604911115563,
          "",
          0.06453410975331692,
          1.8997279825165911,
          "",
          "",
          1.1742987575970707,
          "",
          "",
          "",
          "",
          0.21530603883681496,
          "",
          0.5644829683751179,
          0.4855022322452264,
          "",
          "",
          "",
          "",
          "",
          0.3613826969573918,
          "",
          "",
          "",
          "",
          "",
          0.7366337686072915,
          0.9523176668965367,
          "",
          0.7672009497796455,
          1.8631845839382557,
          0.36855021295119506,
          1.597749515409824,
          "",
          0.31588478762880495,
          1.5244581418797152,
          "",
          3.1144984079762903,
          0.4196039452752709,
          "",
          "",
          "",
          0.28288110378401077,
          0.6361881722186473,
          0.9518902919244511,
          2.577108979209117,
          1.4720737394869263,
          "",
          0.7887337626248905,
          0.2085025832365608,
          0.22905691080427515,
          0.2723113014766122,
          "",
          1.7229000894099562,
          0.9174843978946648,
          "",
          0.5767729121879814,
          1.846078133709943,
          "",
          0.4064155426135192,
          0.4530865204220752,
          1.5082689231797146,
          "",
          "",
          "",
          "",
          "",
          "",
          "",
          1.1083610105086592,
          "",
          "",
          "",
          0.140222976220271,
          "",
          0.20724991289472694,
          1.2524972935778482,
          1.2804108152076232,
          0.8128166776876501,
          "",
          "",
          "",
          0.9400550840789446,
          0.059686653056479466
         ],
         "yaxis": "y2"
        },
        {
         "connectgaps": false,
         "fill": "tozeroy",
         "line": {
          "color": "red",
          "dash": "solid",
          "shape": "linear",
          "width": 0.5
         },
         "mode": "lines",
         "name": "Spread",
         "showlegend": false,
         "type": "scatter",
         "x": [
          0,
          1,
          2,
          3,
          4,
          5,
          6,
          7,
          8,
          9,
          10,
          11,
          12,
          13,
          14,
          15,
          16,
          17,
          18,
          19,
          20,
          21,
          22,
          23,
          24,
          25,
          26,
          27,
          28,
          29,
          30,
          31,
          32,
          33,
          34,
          35,
          36,
          37,
          38,
          39,
          40,
          41,
          42,
          43,
          44,
          45,
          46,
          47,
          48,
          49,
          50,
          51,
          52,
          53,
          54,
          55,
          56,
          57,
          58,
          59,
          60,
          61,
          62,
          63,
          64,
          65,
          66,
          67,
          68,
          69,
          70,
          71,
          72,
          73,
          74,
          75,
          76,
          77,
          78,
          79,
          80,
          81,
          82,
          83,
          84,
          85,
          86,
          87,
          88,
          89,
          90,
          91,
          92,
          93,
          94,
          95,
          96,
          97,
          98,
          99
         ],
         "xaxis": "x2",
         "y": [
          "",
          -1.8224994744507226,
          "",
          -1.9890751806403442,
          "",
          "",
          "",
          "",
          "",
          -1.527573628441266,
          -1.594232374586054,
          "",
          -0.5700813436028305,
          "",
          "",
          -0.565968141282516,
          "",
          -0.45457127397688124,
          "",
          "",
          -0.34090302870561623,
          -2.0922820435470184,
          "",
          -0.031200203053901143,
          -0.8920183861243451,
          -0.019435670764548107,
          -1.0583960315378016,
          "",
          -1.7312585334550739,
          "",
          "",
          -0.32604989050969757,
          -1.686703803666727,
          -0.6733747303170468,
          -0.040901317037040835,
          -1.9815829842469137,
          "",
          -0.08031695286015908,
          -1.2914533030592465,
          -1.0744828067597592,
          -1.1695429970489166,
          -1.0305498309898138,
          "",
          "",
          -1.8798501053096963,
          "",
          "",
          "",
          "",
          -0.45245218427862804,
          "",
          "",
          -1.4526301753029311,
          "",
          "",
          -2.41611433125823,
          -0.05163376863547453,
          -0.5168598896084389,
          "",
          "",
          "",
          "",
          "",
          -1.6466858247801581,
          "",
          "",
          "",
          "",
          -1.1645861770108386,
          "",
          "",
          -1.3259254573223493,
          "",
          "",
          -2.582833390464643,
          "",
          "",
          "",
          -2.5491431354444907,
          -0.10103630180155698,
          -1.3005921080819258,
          -2.5862650975031984,
          -0.48664005024600443,
          -1.3002374874276028,
          -0.9414762008730482,
          "",
          -1.3161284897523715,
          -2.058129375911967,
          -1.3108477073386986,
          "",
          -0.6116025131995723,
          "",
          "",
          "",
          "",
          -2.631344057978688,
          -0.210944765723118,
          -1.3922743458640117,
          "",
          ""
         ],
         "yaxis": "y2"
        }
       ],
       "layout": {
        "hovermode": "x",
        "legend": {
         "bgcolor": "#F5F6F9",
         "font": {
          "color": "#4D5663"
         }
        },
        "paper_bgcolor": "#F5F6F9",
        "plot_bgcolor": "#F5F6F9",
        "template": {
         "data": {
          "bar": [
           {
            "error_x": {
             "color": "#2a3f5f"
            },
            "error_y": {
             "color": "#2a3f5f"
            },
            "marker": {
             "line": {
              "color": "#E5ECF6",
              "width": 0.5
             }
            },
            "type": "bar"
           }
          ],
          "barpolar": [
           {
            "marker": {
             "line": {
              "color": "#E5ECF6",
              "width": 0.5
             }
            },
            "type": "barpolar"
           }
          ],
          "carpet": [
           {
            "aaxis": {
             "endlinecolor": "#2a3f5f",
             "gridcolor": "white",
             "linecolor": "white",
             "minorgridcolor": "white",
             "startlinecolor": "#2a3f5f"
            },
            "baxis": {
             "endlinecolor": "#2a3f5f",
             "gridcolor": "white",
             "linecolor": "white",
             "minorgridcolor": "white",
             "startlinecolor": "#2a3f5f"
            },
            "type": "carpet"
           }
          ],
          "choropleth": [
           {
            "colorbar": {
             "outlinewidth": 0,
             "ticks": ""
            },
            "type": "choropleth"
           }
          ],
          "contour": [
           {
            "colorbar": {
             "outlinewidth": 0,
             "ticks": ""
            },
            "colorscale": [
             [
              0,
              "#0d0887"
             ],
             [
              0.1111111111111111,
              "#46039f"
             ],
             [
              0.2222222222222222,
              "#7201a8"
             ],
             [
              0.3333333333333333,
              "#9c179e"
             ],
             [
              0.4444444444444444,
              "#bd3786"
             ],
             [
              0.5555555555555556,
              "#d8576b"
             ],
             [
              0.6666666666666666,
              "#ed7953"
             ],
             [
              0.7777777777777778,
              "#fb9f3a"
             ],
             [
              0.8888888888888888,
              "#fdca26"
             ],
             [
              1,
              "#f0f921"
             ]
            ],
            "type": "contour"
           }
          ],
          "contourcarpet": [
           {
            "colorbar": {
             "outlinewidth": 0,
             "ticks": ""
            },
            "type": "contourcarpet"
           }
          ],
          "heatmap": [
           {
            "colorbar": {
             "outlinewidth": 0,
             "ticks": ""
            },
            "colorscale": [
             [
              0,
              "#0d0887"
             ],
             [
              0.1111111111111111,
              "#46039f"
             ],
             [
              0.2222222222222222,
              "#7201a8"
             ],
             [
              0.3333333333333333,
              "#9c179e"
             ],
             [
              0.4444444444444444,
              "#bd3786"
             ],
             [
              0.5555555555555556,
              "#d8576b"
             ],
             [
              0.6666666666666666,
              "#ed7953"
             ],
             [
              0.7777777777777778,
              "#fb9f3a"
             ],
             [
              0.8888888888888888,
              "#fdca26"
             ],
             [
              1,
              "#f0f921"
             ]
            ],
            "type": "heatmap"
           }
          ],
          "heatmapgl": [
           {
            "colorbar": {
             "outlinewidth": 0,
             "ticks": ""
            },
            "colorscale": [
             [
              0,
              "#0d0887"
             ],
             [
              0.1111111111111111,
              "#46039f"
             ],
             [
              0.2222222222222222,
              "#7201a8"
             ],
             [
              0.3333333333333333,
              "#9c179e"
             ],
             [
              0.4444444444444444,
              "#bd3786"
             ],
             [
              0.5555555555555556,
              "#d8576b"
             ],
             [
              0.6666666666666666,
              "#ed7953"
             ],
             [
              0.7777777777777778,
              "#fb9f3a"
             ],
             [
              0.8888888888888888,
              "#fdca26"
             ],
             [
              1,
              "#f0f921"
             ]
            ],
            "type": "heatmapgl"
           }
          ],
          "histogram": [
           {
            "marker": {
             "colorbar": {
              "outlinewidth": 0,
              "ticks": ""
             }
            },
            "type": "histogram"
           }
          ],
          "histogram2d": [
           {
            "colorbar": {
             "outlinewidth": 0,
             "ticks": ""
            },
            "colorscale": [
             [
              0,
              "#0d0887"
             ],
             [
              0.1111111111111111,
              "#46039f"
             ],
             [
              0.2222222222222222,
              "#7201a8"
             ],
             [
              0.3333333333333333,
              "#9c179e"
             ],
             [
              0.4444444444444444,
              "#bd3786"
             ],
             [
              0.5555555555555556,
              "#d8576b"
             ],
             [
              0.6666666666666666,
              "#ed7953"
             ],
             [
              0.7777777777777778,
              "#fb9f3a"
             ],
             [
              0.8888888888888888,
              "#fdca26"
             ],
             [
              1,
              "#f0f921"
             ]
            ],
            "type": "histogram2d"
           }
          ],
          "histogram2dcontour": [
           {
            "colorbar": {
             "outlinewidth": 0,
             "ticks": ""
            },
            "colorscale": [
             [
              0,
              "#0d0887"
             ],
             [
              0.1111111111111111,
              "#46039f"
             ],
             [
              0.2222222222222222,
              "#7201a8"
             ],
             [
              0.3333333333333333,
              "#9c179e"
             ],
             [
              0.4444444444444444,
              "#bd3786"
             ],
             [
              0.5555555555555556,
              "#d8576b"
             ],
             [
              0.6666666666666666,
              "#ed7953"
             ],
             [
              0.7777777777777778,
              "#fb9f3a"
             ],
             [
              0.8888888888888888,
              "#fdca26"
             ],
             [
              1,
              "#f0f921"
             ]
            ],
            "type": "histogram2dcontour"
           }
          ],
          "mesh3d": [
           {
            "colorbar": {
             "outlinewidth": 0,
             "ticks": ""
            },
            "type": "mesh3d"
           }
          ],
          "parcoords": [
           {
            "line": {
             "colorbar": {
              "outlinewidth": 0,
              "ticks": ""
             }
            },
            "type": "parcoords"
           }
          ],
          "pie": [
           {
            "automargin": true,
            "type": "pie"
           }
          ],
          "scatter": [
           {
            "marker": {
             "colorbar": {
              "outlinewidth": 0,
              "ticks": ""
             }
            },
            "type": "scatter"
           }
          ],
          "scatter3d": [
           {
            "line": {
             "colorbar": {
              "outlinewidth": 0,
              "ticks": ""
             }
            },
            "marker": {
             "colorbar": {
              "outlinewidth": 0,
              "ticks": ""
             }
            },
            "type": "scatter3d"
           }
          ],
          "scattercarpet": [
           {
            "marker": {
             "colorbar": {
              "outlinewidth": 0,
              "ticks": ""
             }
            },
            "type": "scattercarpet"
           }
          ],
          "scattergeo": [
           {
            "marker": {
             "colorbar": {
              "outlinewidth": 0,
              "ticks": ""
             }
            },
            "type": "scattergeo"
           }
          ],
          "scattergl": [
           {
            "marker": {
             "colorbar": {
              "outlinewidth": 0,
              "ticks": ""
             }
            },
            "type": "scattergl"
           }
          ],
          "scattermapbox": [
           {
            "marker": {
             "colorbar": {
              "outlinewidth": 0,
              "ticks": ""
             }
            },
            "type": "scattermapbox"
           }
          ],
          "scatterpolar": [
           {
            "marker": {
             "colorbar": {
              "outlinewidth": 0,
              "ticks": ""
             }
            },
            "type": "scatterpolar"
           }
          ],
          "scatterpolargl": [
           {
            "marker": {
             "colorbar": {
              "outlinewidth": 0,
              "ticks": ""
             }
            },
            "type": "scatterpolargl"
           }
          ],
          "scatterternary": [
           {
            "marker": {
             "colorbar": {
              "outlinewidth": 0,
              "ticks": ""
             }
            },
            "type": "scatterternary"
           }
          ],
          "surface": [
           {
            "colorbar": {
             "outlinewidth": 0,
             "ticks": ""
            },
            "colorscale": [
             [
              0,
              "#0d0887"
             ],
             [
              0.1111111111111111,
              "#46039f"
             ],
             [
              0.2222222222222222,
              "#7201a8"
             ],
             [
              0.3333333333333333,
              "#9c179e"
             ],
             [
              0.4444444444444444,
              "#bd3786"
             ],
             [
              0.5555555555555556,
              "#d8576b"
             ],
             [
              0.6666666666666666,
              "#ed7953"
             ],
             [
              0.7777777777777778,
              "#fb9f3a"
             ],
             [
              0.8888888888888888,
              "#fdca26"
             ],
             [
              1,
              "#f0f921"
             ]
            ],
            "type": "surface"
           }
          ],
          "table": [
           {
            "cells": {
             "fill": {
              "color": "#EBF0F8"
             },
             "line": {
              "color": "white"
             }
            },
            "header": {
             "fill": {
              "color": "#C8D4E3"
             },
             "line": {
              "color": "white"
             }
            },
            "type": "table"
           }
          ]
         },
         "layout": {
          "annotationdefaults": {
           "arrowcolor": "#2a3f5f",
           "arrowhead": 0,
           "arrowwidth": 1
          },
          "coloraxis": {
           "colorbar": {
            "outlinewidth": 0,
            "ticks": ""
           }
          },
          "colorscale": {
           "diverging": [
            [
             0,
             "#8e0152"
            ],
            [
             0.1,
             "#c51b7d"
            ],
            [
             0.2,
             "#de77ae"
            ],
            [
             0.3,
             "#f1b6da"
            ],
            [
             0.4,
             "#fde0ef"
            ],
            [
             0.5,
             "#f7f7f7"
            ],
            [
             0.6,
             "#e6f5d0"
            ],
            [
             0.7,
             "#b8e186"
            ],
            [
             0.8,
             "#7fbc41"
            ],
            [
             0.9,
             "#4d9221"
            ],
            [
             1,
             "#276419"
            ]
           ],
           "sequential": [
            [
             0,
             "#0d0887"
            ],
            [
             0.1111111111111111,
             "#46039f"
            ],
            [
             0.2222222222222222,
             "#7201a8"
            ],
            [
             0.3333333333333333,
             "#9c179e"
            ],
            [
             0.4444444444444444,
             "#bd3786"
            ],
            [
             0.5555555555555556,
             "#d8576b"
            ],
            [
             0.6666666666666666,
             "#ed7953"
            ],
            [
             0.7777777777777778,
             "#fb9f3a"
            ],
            [
             0.8888888888888888,
             "#fdca26"
            ],
            [
             1,
             "#f0f921"
            ]
           ],
           "sequentialminus": [
            [
             0,
             "#0d0887"
            ],
            [
             0.1111111111111111,
             "#46039f"
            ],
            [
             0.2222222222222222,
             "#7201a8"
            ],
            [
             0.3333333333333333,
             "#9c179e"
            ],
            [
             0.4444444444444444,
             "#bd3786"
            ],
            [
             0.5555555555555556,
             "#d8576b"
            ],
            [
             0.6666666666666666,
             "#ed7953"
            ],
            [
             0.7777777777777778,
             "#fb9f3a"
            ],
            [
             0.8888888888888888,
             "#fdca26"
            ],
            [
             1,
             "#f0f921"
            ]
           ]
          },
          "colorway": [
           "#636efa",
           "#EF553B",
           "#00cc96",
           "#ab63fa",
           "#FFA15A",
           "#19d3f3",
           "#FF6692",
           "#B6E880",
           "#FF97FF",
           "#FECB52"
          ],
          "font": {
           "color": "#2a3f5f"
          },
          "geo": {
           "bgcolor": "white",
           "lakecolor": "white",
           "landcolor": "#E5ECF6",
           "showlakes": true,
           "showland": true,
           "subunitcolor": "white"
          },
          "hoverlabel": {
           "align": "left"
          },
          "hovermode": "closest",
          "mapbox": {
           "style": "light"
          },
          "paper_bgcolor": "white",
          "plot_bgcolor": "#E5ECF6",
          "polar": {
           "angularaxis": {
            "gridcolor": "white",
            "linecolor": "white",
            "ticks": ""
           },
           "bgcolor": "#E5ECF6",
           "radialaxis": {
            "gridcolor": "white",
            "linecolor": "white",
            "ticks": ""
           }
          },
          "scene": {
           "xaxis": {
            "backgroundcolor": "#E5ECF6",
            "gridcolor": "white",
            "gridwidth": 2,
            "linecolor": "white",
            "showbackground": true,
            "ticks": "",
            "zerolinecolor": "white"
           },
           "yaxis": {
            "backgroundcolor": "#E5ECF6",
            "gridcolor": "white",
            "gridwidth": 2,
            "linecolor": "white",
            "showbackground": true,
            "ticks": "",
            "zerolinecolor": "white"
           },
           "zaxis": {
            "backgroundcolor": "#E5ECF6",
            "gridcolor": "white",
            "gridwidth": 2,
            "linecolor": "white",
            "showbackground": true,
            "ticks": "",
            "zerolinecolor": "white"
           }
          },
          "shapedefaults": {
           "line": {
            "color": "#2a3f5f"
           }
          },
          "ternary": {
           "aaxis": {
            "gridcolor": "white",
            "linecolor": "white",
            "ticks": ""
           },
           "baxis": {
            "gridcolor": "white",
            "linecolor": "white",
            "ticks": ""
           },
           "bgcolor": "#E5ECF6",
           "caxis": {
            "gridcolor": "white",
            "linecolor": "white",
            "ticks": ""
           }
          },
          "title": {
           "x": 0.05
          },
          "xaxis": {
           "automargin": true,
           "gridcolor": "white",
           "linecolor": "white",
           "ticks": "",
           "title": {
            "standoff": 15
           },
           "zerolinecolor": "white",
           "zerolinewidth": 2
          },
          "yaxis": {
           "automargin": true,
           "gridcolor": "white",
           "linecolor": "white",
           "ticks": "",
           "title": {
            "standoff": 15
           },
           "zerolinecolor": "white",
           "zerolinewidth": 2
          }
         }
        },
        "title": {
         "font": {
          "color": "#4D5663"
         }
        },
        "xaxis": {
         "gridcolor": "#E1E5ED",
         "showgrid": true,
         "tickfont": {
          "color": "#4D5663"
         },
         "title": {
          "font": {
           "color": "#4D5663"
          },
          "text": ""
         },
         "zerolinecolor": "#E1E5ED"
        },
        "xaxis2": {
         "anchor": "y2",
         "gridcolor": "#E1E5ED",
         "showgrid": true,
         "showticklabels": false,
         "tickfont": {
          "color": "#4D5663"
         },
         "title": {
          "font": {
           "color": "#4D5663"
          },
          "text": ""
         },
         "zerolinecolor": "#E1E5ED"
        },
        "yaxis": {
         "domain": [
          0.3,
          1
         ],
         "gridcolor": "#E1E5ED",
         "showgrid": true,
         "tickfont": {
          "color": "#4D5663"
         },
         "title": {
          "font": {
           "color": "#4D5663"
          },
          "text": ""
         },
         "zerolinecolor": "#E1E5ED"
        },
        "yaxis2": {
         "domain": [
          0,
          0.25
         ],
         "gridcolor": "#E1E5ED",
         "showgrid": true,
         "tickfont": {
          "color": "#4D5663"
         },
         "title": {
          "font": {
           "color": "#4D5663"
          },
          "text": "Spread"
         },
         "zerolinecolor": "#E1E5ED"
        }
       }
      },
      "text/html": [
       "<div>\n",
       "        \n",
       "        \n",
       "            <div id=\"a506ce2f-2e12-45c3-8b4f-e915a3b8de02\" class=\"plotly-graph-div\" style=\"height:525px; width:100%;\"></div>\n",
       "            <script type=\"text/javascript\">\n",
       "                require([\"plotly\"], function(Plotly) {\n",
       "                    window.PLOTLYENV=window.PLOTLYENV || {};\n",
       "                    window.PLOTLYENV.BASE_URL='https://plot.ly';\n",
       "                    \n",
       "                if (document.getElementById(\"a506ce2f-2e12-45c3-8b4f-e915a3b8de02\")) {\n",
       "                    Plotly.newPlot(\n",
       "                        'a506ce2f-2e12-45c3-8b4f-e915a3b8de02',\n",
       "                        [{\"line\": {\"color\": \"rgba(255, 153, 51, 1.0)\", \"dash\": \"solid\", \"shape\": \"linear\", \"width\": 1.3}, \"mode\": \"lines\", \"name\": \"A\", \"text\": \"\", \"type\": \"scatter\", \"x\": [0, 1, 2, 3, 4, 5, 6, 7, 8, 9, 10, 11, 12, 13, 14, 15, 16, 17, 18, 19, 20, 21, 22, 23, 24, 25, 26, 27, 28, 29, 30, 31, 32, 33, 34, 35, 36, 37, 38, 39, 40, 41, 42, 43, 44, 45, 46, 47, 48, 49, 50, 51, 52, 53, 54, 55, 56, 57, 58, 59, 60, 61, 62, 63, 64, 65, 66, 67, 68, 69, 70, 71, 72, 73, 74, 75, 76, 77, 78, 79, 80, 81, 82, 83, 84, 85, 86, 87, 88, 89, 90, 91, 92, 93, 94, 95, 96, 97, 98, 99], \"y\": [2.6373344784495645, -1.9514781140231166, 1.048759696978105, -1.2963473714495244, 0.27694889027081887, 0.692496688521014, 0.07606444168264838, -0.6406801537579438, -0.6800911741187079, -0.8518888122997218, -0.7791147369734518, -0.6734941267402332, 1.0167773412090835, 0.23352732552763336, 0.6163742442520982, -0.062319690042786834, 0.4481652315232757, -0.02433885182191795, -0.4495406344066845, 0.256728595894281, -0.14869432230647567, -1.2719115094158837, -0.18309035858598605, 0.9512382104394191, -1.3351222343701932, 0.8118457968750349, -0.4592579259017499, 0.017322515641877596, -0.10874037092289358, 0.7231418010819272, 0.24488018614133208, -0.5002111461510281, -0.6789918892111676, 1.0651918883435525, -0.29021561808912394, -0.5543716289854907, 0.25805961156717533, -0.24712456122109305, 0.7710767621589241, -1.1037831746949724, 1.634401350202134, -0.6841000935514857, 0.41030079756170595, 0.9058247386329331, -2.3161672250434076, 0.8233980785593794, 1.892568603868356, 1.1105016985095562, 1.0807787816525551, 0.26329482385854525, 0.6811746578863037, 1.5953539436930355, -0.8709560373194579, 1.133535395435486, 1.993229916325945, -1.7783792766437496, -1.028962145596852, 0.11030844695762584, 0.07519092337124138, 0.4998945230505707, -0.14543010621768782, 2.006305468029981, 0.02027007279842382, -0.5024886909118702, 0.9748120761643012, -0.42348555508138697, 0.11543167395240778, 0.312886660558503, -0.24027670045074928, 0.3752446493239127, 0.1211156796304035, -0.6445287847348729, 0.2764578536695193, 0.10937742078251535, -1.655221776282199, -0.52926779494393, 0.456193201572975, 0.5155302426268643, -0.139552865775506, 0.7012109814926522, -1.113704268358639, -1.9031496623660287, -1.0805160223732262, -1.4413303548350294, 0.4576522935107792, 1.4630078606653885, -1.2489647067372125, -0.6250555560710132, -0.10145369069764623, 0.138125916178685, -1.4996158840708063, 1.5118801883843067, -0.1993334647684355, 0.0031373104395526923, 1.3583255766429585, -1.2406567590300575, -0.5432080731603196, 0.013525641271830868, -0.6655652043632769, 0.9079388521323659]}, {\"line\": {\"color\": \"rgba(55, 128, 191, 1.0)\", \"dash\": \"solid\", \"shape\": \"linear\", \"width\": 1.3}, \"mode\": \"lines\", \"name\": \"B\", \"text\": \"\", \"type\": \"scatter\", \"x\": [0, 1, 2, 3, 4, 5, 6, 7, 8, 9, 10, 11, 12, 13, 14, 15, 16, 17, 18, 19, 20, 21, 22, 23, 24, 25, 26, 27, 28, 29, 30, 31, 32, 33, 34, 35, 36, 37, 38, 39, 40, 41, 42, 43, 44, 45, 46, 47, 48, 49, 50, 51, 52, 53, 54, 55, 56, 57, 58, 59, 60, 61, 62, 63, 64, 65, 66, 67, 68, 69, 70, 71, 72, 73, 74, 75, 76, 77, 78, 79, 80, 81, 82, 83, 84, 85, 86, 87, 88, 89, 90, 91, 92, 93, 94, 95, 96, 97, 98, 99], \"y\": [-2.284695843780699, -0.12897863957239397, -0.5960163415525992, 0.6927278091908197, -1.073096401837728, -0.5784207622519486, -0.23519756874658382, -0.9451011638490537, -1.063843416629175, 0.6756848161415443, 0.8151176376126024, -0.8913414043464327, 1.586858684811914, -0.49092565487567463, -1.2918634219359029, 0.5036484512397292, -0.6014396795922873, 0.43023242215496327, -0.5140747441600014, -1.64299938662231, 0.19220870639914056, 0.8203705341311345, -1.3573891161830567, 0.9824384134933203, -0.4431038482458481, 0.831281467639583, 0.5991381056360517, -0.19798352319493737, 1.6225181625321803, 0.15865883270680928, -0.24062204610389426, -0.17416125564133053, 1.0077119144555593, 1.7385666186605993, -0.2493143010520831, 1.427211355261423, -0.10332308539021648, -0.16680760836093397, 2.0625300652181706, -0.029300367935213394, 2.8039443472510506, 0.346449737438328, -0.32633297104558556, -0.046492928263603656, -0.4363171197337111, 0.056197128779733936, 0.029384019930100338, 0.7419514855583611, -0.5169707337572688, 0.7157470081371733, 0.36528987025749876, 0.07089580181332032, 0.5816741379834732, -1.980963012540804, 1.5736259710506741, 0.6377350546144804, -0.9773283769613775, 0.6271683365660647, -0.20769018041276938, -0.13629364916807668, -1.0973203981421389, -0.5708035111791355, -1.4518036666885026, 1.144197133868288, 0.18607831353941073, -0.6319881383179478, -0.11362523685186736, 0.040575359081890784, 0.9243094765600892, -1.3476554400860434, -0.7963687182642614, 0.6813966725874765, -0.3003150585184621, -1.7367007129274277, 0.9276116141824441, -0.9356833375574491, 0.0031066811508997944, -0.9927386805528503, 2.4095902696689846, 0.8022472832942091, 0.18688783972328699, 0.68311543513717, -0.5938759721272218, -0.14109286740742658, 1.3991284943838274, 0.3546468501567292, 0.06716378301515893, 1.4330738198409538, 1.2093940166410524, -0.002097060041586007, -0.888013370871234, 1.3046302754895798, -1.4518307583462837, -1.2772735047680706, 0.5455088989553084, 1.3906872989486303, -0.3322633074372016, 1.4057999871358426, -1.6056202884422215, 0.8482521990758864]}, {\"connectgaps\": false, \"fill\": \"tozeroy\", \"line\": {\"color\": \"green\", \"dash\": \"solid\", \"shape\": \"linear\", \"width\": 0.5}, \"mode\": \"lines\", \"name\": \"Spread\", \"showlegend\": false, \"type\": \"scatter\", \"x\": [0, 1, 2, 3, 4, 5, 6, 7, 8, 9, 10, 11, 12, 13, 14, 15, 16, 17, 18, 19, 20, 21, 22, 23, 24, 25, 26, 27, 28, 29, 30, 31, 32, 33, 34, 35, 36, 37, 38, 39, 40, 41, 42, 43, 44, 45, 46, 47, 48, 49, 50, 51, 52, 53, 54, 55, 56, 57, 58, 59, 60, 61, 62, 63, 64, 65, 66, 67, 68, 69, 70, 71, 72, 73, 74, 75, 76, 77, 78, 79, 80, 81, 82, 83, 84, 85, 86, 87, 88, 89, 90, 91, 92, 93, 94, 95, 96, 97, 98, 99], \"xaxis\": \"x2\", \"y\": [4.922030322230263, \"\", 1.6447760385307042, \"\", 1.3500452921085468, 1.2709174507729626, 0.3112620104292322, 0.3044210100911099, 0.38375224251046713, \"\", \"\", 0.21784727760619949, \"\", 0.724452980403308, 1.908237666188001, \"\", 1.049604911115563, \"\", 0.06453410975331692, 1.8997279825165911, \"\", \"\", 1.1742987575970707, \"\", \"\", \"\", \"\", 0.21530603883681496, \"\", 0.5644829683751179, 0.4855022322452264, \"\", \"\", \"\", \"\", \"\", 0.3613826969573918, \"\", \"\", \"\", \"\", \"\", 0.7366337686072915, 0.9523176668965367, \"\", 0.7672009497796455, 1.8631845839382557, 0.36855021295119506, 1.597749515409824, \"\", 0.31588478762880495, 1.5244581418797152, \"\", 3.1144984079762903, 0.4196039452752709, \"\", \"\", \"\", 0.28288110378401077, 0.6361881722186473, 0.9518902919244511, 2.577108979209117, 1.4720737394869263, \"\", 0.7887337626248905, 0.2085025832365608, 0.22905691080427515, 0.2723113014766122, \"\", 1.7229000894099562, 0.9174843978946648, \"\", 0.5767729121879814, 1.846078133709943, \"\", 0.4064155426135192, 0.4530865204220752, 1.5082689231797146, \"\", \"\", \"\", \"\", \"\", \"\", \"\", 1.1083610105086592, \"\", \"\", \"\", 0.140222976220271, \"\", 0.20724991289472694, 1.2524972935778482, 1.2804108152076232, 0.8128166776876501, \"\", \"\", \"\", 0.9400550840789446, 0.059686653056479466], \"yaxis\": \"y2\"}, {\"connectgaps\": false, \"fill\": \"tozeroy\", \"line\": {\"color\": \"red\", \"dash\": \"solid\", \"shape\": \"linear\", \"width\": 0.5}, \"mode\": \"lines\", \"name\": \"Spread\", \"showlegend\": false, \"type\": \"scatter\", \"x\": [0, 1, 2, 3, 4, 5, 6, 7, 8, 9, 10, 11, 12, 13, 14, 15, 16, 17, 18, 19, 20, 21, 22, 23, 24, 25, 26, 27, 28, 29, 30, 31, 32, 33, 34, 35, 36, 37, 38, 39, 40, 41, 42, 43, 44, 45, 46, 47, 48, 49, 50, 51, 52, 53, 54, 55, 56, 57, 58, 59, 60, 61, 62, 63, 64, 65, 66, 67, 68, 69, 70, 71, 72, 73, 74, 75, 76, 77, 78, 79, 80, 81, 82, 83, 84, 85, 86, 87, 88, 89, 90, 91, 92, 93, 94, 95, 96, 97, 98, 99], \"xaxis\": \"x2\", \"y\": [\"\", -1.8224994744507226, \"\", -1.9890751806403442, \"\", \"\", \"\", \"\", \"\", -1.527573628441266, -1.594232374586054, \"\", -0.5700813436028305, \"\", \"\", -0.565968141282516, \"\", -0.45457127397688124, \"\", \"\", -0.34090302870561623, -2.0922820435470184, \"\", -0.031200203053901143, -0.8920183861243451, -0.019435670764548107, -1.0583960315378016, \"\", -1.7312585334550739, \"\", \"\", -0.32604989050969757, -1.686703803666727, -0.6733747303170468, -0.040901317037040835, -1.9815829842469137, \"\", -0.08031695286015908, -1.2914533030592465, -1.0744828067597592, -1.1695429970489166, -1.0305498309898138, \"\", \"\", -1.8798501053096963, \"\", \"\", \"\", \"\", -0.45245218427862804, \"\", \"\", -1.4526301753029311, \"\", \"\", -2.41611433125823, -0.05163376863547453, -0.5168598896084389, \"\", \"\", \"\", \"\", \"\", -1.6466858247801581, \"\", \"\", \"\", \"\", -1.1645861770108386, \"\", \"\", -1.3259254573223493, \"\", \"\", -2.582833390464643, \"\", \"\", \"\", -2.5491431354444907, -0.10103630180155698, -1.3005921080819258, -2.5862650975031984, -0.48664005024600443, -1.3002374874276028, -0.9414762008730482, \"\", -1.3161284897523715, -2.058129375911967, -1.3108477073386986, \"\", -0.6116025131995723, \"\", \"\", \"\", \"\", -2.631344057978688, -0.210944765723118, -1.3922743458640117, \"\", \"\"], \"yaxis\": \"y2\"}],\n",
       "                        {\"hovermode\": \"x\", \"legend\": {\"bgcolor\": \"#F5F6F9\", \"font\": {\"color\": \"#4D5663\"}}, \"paper_bgcolor\": \"#F5F6F9\", \"plot_bgcolor\": \"#F5F6F9\", \"template\": {\"data\": {\"bar\": [{\"error_x\": {\"color\": \"#2a3f5f\"}, \"error_y\": {\"color\": \"#2a3f5f\"}, \"marker\": {\"line\": {\"color\": \"#E5ECF6\", \"width\": 0.5}}, \"type\": \"bar\"}], \"barpolar\": [{\"marker\": {\"line\": {\"color\": \"#E5ECF6\", \"width\": 0.5}}, \"type\": \"barpolar\"}], \"carpet\": [{\"aaxis\": {\"endlinecolor\": \"#2a3f5f\", \"gridcolor\": \"white\", \"linecolor\": \"white\", \"minorgridcolor\": \"white\", \"startlinecolor\": \"#2a3f5f\"}, \"baxis\": {\"endlinecolor\": \"#2a3f5f\", \"gridcolor\": \"white\", \"linecolor\": \"white\", \"minorgridcolor\": \"white\", \"startlinecolor\": \"#2a3f5f\"}, \"type\": \"carpet\"}], \"choropleth\": [{\"colorbar\": {\"outlinewidth\": 0, \"ticks\": \"\"}, \"type\": \"choropleth\"}], \"contour\": [{\"colorbar\": {\"outlinewidth\": 0, \"ticks\": \"\"}, \"colorscale\": [[0.0, \"#0d0887\"], [0.1111111111111111, \"#46039f\"], [0.2222222222222222, \"#7201a8\"], [0.3333333333333333, \"#9c179e\"], [0.4444444444444444, \"#bd3786\"], [0.5555555555555556, \"#d8576b\"], [0.6666666666666666, \"#ed7953\"], [0.7777777777777778, \"#fb9f3a\"], [0.8888888888888888, \"#fdca26\"], [1.0, \"#f0f921\"]], \"type\": \"contour\"}], \"contourcarpet\": [{\"colorbar\": {\"outlinewidth\": 0, \"ticks\": \"\"}, \"type\": \"contourcarpet\"}], \"heatmap\": [{\"colorbar\": {\"outlinewidth\": 0, \"ticks\": \"\"}, \"colorscale\": [[0.0, \"#0d0887\"], [0.1111111111111111, \"#46039f\"], [0.2222222222222222, \"#7201a8\"], [0.3333333333333333, \"#9c179e\"], [0.4444444444444444, \"#bd3786\"], [0.5555555555555556, \"#d8576b\"], [0.6666666666666666, \"#ed7953\"], [0.7777777777777778, \"#fb9f3a\"], [0.8888888888888888, \"#fdca26\"], [1.0, \"#f0f921\"]], \"type\": \"heatmap\"}], \"heatmapgl\": [{\"colorbar\": {\"outlinewidth\": 0, \"ticks\": \"\"}, \"colorscale\": [[0.0, \"#0d0887\"], [0.1111111111111111, \"#46039f\"], [0.2222222222222222, \"#7201a8\"], [0.3333333333333333, \"#9c179e\"], [0.4444444444444444, \"#bd3786\"], [0.5555555555555556, \"#d8576b\"], [0.6666666666666666, \"#ed7953\"], [0.7777777777777778, \"#fb9f3a\"], [0.8888888888888888, \"#fdca26\"], [1.0, \"#f0f921\"]], \"type\": \"heatmapgl\"}], \"histogram\": [{\"marker\": {\"colorbar\": {\"outlinewidth\": 0, \"ticks\": \"\"}}, \"type\": \"histogram\"}], \"histogram2d\": [{\"colorbar\": {\"outlinewidth\": 0, \"ticks\": \"\"}, \"colorscale\": [[0.0, \"#0d0887\"], [0.1111111111111111, \"#46039f\"], [0.2222222222222222, \"#7201a8\"], [0.3333333333333333, \"#9c179e\"], [0.4444444444444444, \"#bd3786\"], [0.5555555555555556, \"#d8576b\"], [0.6666666666666666, \"#ed7953\"], [0.7777777777777778, \"#fb9f3a\"], [0.8888888888888888, \"#fdca26\"], [1.0, \"#f0f921\"]], \"type\": \"histogram2d\"}], \"histogram2dcontour\": [{\"colorbar\": {\"outlinewidth\": 0, \"ticks\": \"\"}, \"colorscale\": [[0.0, \"#0d0887\"], [0.1111111111111111, \"#46039f\"], [0.2222222222222222, \"#7201a8\"], [0.3333333333333333, \"#9c179e\"], [0.4444444444444444, \"#bd3786\"], [0.5555555555555556, \"#d8576b\"], [0.6666666666666666, \"#ed7953\"], [0.7777777777777778, \"#fb9f3a\"], [0.8888888888888888, \"#fdca26\"], [1.0, \"#f0f921\"]], \"type\": \"histogram2dcontour\"}], \"mesh3d\": [{\"colorbar\": {\"outlinewidth\": 0, \"ticks\": \"\"}, \"type\": \"mesh3d\"}], \"parcoords\": [{\"line\": {\"colorbar\": {\"outlinewidth\": 0, \"ticks\": \"\"}}, \"type\": \"parcoords\"}], \"pie\": [{\"automargin\": true, \"type\": \"pie\"}], \"scatter\": [{\"marker\": {\"colorbar\": {\"outlinewidth\": 0, \"ticks\": \"\"}}, \"type\": \"scatter\"}], \"scatter3d\": [{\"line\": {\"colorbar\": {\"outlinewidth\": 0, \"ticks\": \"\"}}, \"marker\": {\"colorbar\": {\"outlinewidth\": 0, \"ticks\": \"\"}}, \"type\": \"scatter3d\"}], \"scattercarpet\": [{\"marker\": {\"colorbar\": {\"outlinewidth\": 0, \"ticks\": \"\"}}, \"type\": \"scattercarpet\"}], \"scattergeo\": [{\"marker\": {\"colorbar\": {\"outlinewidth\": 0, \"ticks\": \"\"}}, \"type\": \"scattergeo\"}], \"scattergl\": [{\"marker\": {\"colorbar\": {\"outlinewidth\": 0, \"ticks\": \"\"}}, \"type\": \"scattergl\"}], \"scattermapbox\": [{\"marker\": {\"colorbar\": {\"outlinewidth\": 0, \"ticks\": \"\"}}, \"type\": \"scattermapbox\"}], \"scatterpolar\": [{\"marker\": {\"colorbar\": {\"outlinewidth\": 0, \"ticks\": \"\"}}, \"type\": \"scatterpolar\"}], \"scatterpolargl\": [{\"marker\": {\"colorbar\": {\"outlinewidth\": 0, \"ticks\": \"\"}}, \"type\": \"scatterpolargl\"}], \"scatterternary\": [{\"marker\": {\"colorbar\": {\"outlinewidth\": 0, \"ticks\": \"\"}}, \"type\": \"scatterternary\"}], \"surface\": [{\"colorbar\": {\"outlinewidth\": 0, \"ticks\": \"\"}, \"colorscale\": [[0.0, \"#0d0887\"], [0.1111111111111111, \"#46039f\"], [0.2222222222222222, \"#7201a8\"], [0.3333333333333333, \"#9c179e\"], [0.4444444444444444, \"#bd3786\"], [0.5555555555555556, \"#d8576b\"], [0.6666666666666666, \"#ed7953\"], [0.7777777777777778, \"#fb9f3a\"], [0.8888888888888888, \"#fdca26\"], [1.0, \"#f0f921\"]], \"type\": \"surface\"}], \"table\": [{\"cells\": {\"fill\": {\"color\": \"#EBF0F8\"}, \"line\": {\"color\": \"white\"}}, \"header\": {\"fill\": {\"color\": \"#C8D4E3\"}, \"line\": {\"color\": \"white\"}}, \"type\": \"table\"}]}, \"layout\": {\"annotationdefaults\": {\"arrowcolor\": \"#2a3f5f\", \"arrowhead\": 0, \"arrowwidth\": 1}, \"coloraxis\": {\"colorbar\": {\"outlinewidth\": 0, \"ticks\": \"\"}}, \"colorscale\": {\"diverging\": [[0, \"#8e0152\"], [0.1, \"#c51b7d\"], [0.2, \"#de77ae\"], [0.3, \"#f1b6da\"], [0.4, \"#fde0ef\"], [0.5, \"#f7f7f7\"], [0.6, \"#e6f5d0\"], [0.7, \"#b8e186\"], [0.8, \"#7fbc41\"], [0.9, \"#4d9221\"], [1, \"#276419\"]], \"sequential\": [[0.0, \"#0d0887\"], [0.1111111111111111, \"#46039f\"], [0.2222222222222222, \"#7201a8\"], [0.3333333333333333, \"#9c179e\"], [0.4444444444444444, \"#bd3786\"], [0.5555555555555556, \"#d8576b\"], [0.6666666666666666, \"#ed7953\"], [0.7777777777777778, \"#fb9f3a\"], [0.8888888888888888, \"#fdca26\"], [1.0, \"#f0f921\"]], \"sequentialminus\": [[0.0, \"#0d0887\"], [0.1111111111111111, \"#46039f\"], [0.2222222222222222, \"#7201a8\"], [0.3333333333333333, \"#9c179e\"], [0.4444444444444444, \"#bd3786\"], [0.5555555555555556, \"#d8576b\"], [0.6666666666666666, \"#ed7953\"], [0.7777777777777778, \"#fb9f3a\"], [0.8888888888888888, \"#fdca26\"], [1.0, \"#f0f921\"]]}, \"colorway\": [\"#636efa\", \"#EF553B\", \"#00cc96\", \"#ab63fa\", \"#FFA15A\", \"#19d3f3\", \"#FF6692\", \"#B6E880\", \"#FF97FF\", \"#FECB52\"], \"font\": {\"color\": \"#2a3f5f\"}, \"geo\": {\"bgcolor\": \"white\", \"lakecolor\": \"white\", \"landcolor\": \"#E5ECF6\", \"showlakes\": true, \"showland\": true, \"subunitcolor\": \"white\"}, \"hoverlabel\": {\"align\": \"left\"}, \"hovermode\": \"closest\", \"mapbox\": {\"style\": \"light\"}, \"paper_bgcolor\": \"white\", \"plot_bgcolor\": \"#E5ECF6\", \"polar\": {\"angularaxis\": {\"gridcolor\": \"white\", \"linecolor\": \"white\", \"ticks\": \"\"}, \"bgcolor\": \"#E5ECF6\", \"radialaxis\": {\"gridcolor\": \"white\", \"linecolor\": \"white\", \"ticks\": \"\"}}, \"scene\": {\"xaxis\": {\"backgroundcolor\": \"#E5ECF6\", \"gridcolor\": \"white\", \"gridwidth\": 2, \"linecolor\": \"white\", \"showbackground\": true, \"ticks\": \"\", \"zerolinecolor\": \"white\"}, \"yaxis\": {\"backgroundcolor\": \"#E5ECF6\", \"gridcolor\": \"white\", \"gridwidth\": 2, \"linecolor\": \"white\", \"showbackground\": true, \"ticks\": \"\", \"zerolinecolor\": \"white\"}, \"zaxis\": {\"backgroundcolor\": \"#E5ECF6\", \"gridcolor\": \"white\", \"gridwidth\": 2, \"linecolor\": \"white\", \"showbackground\": true, \"ticks\": \"\", \"zerolinecolor\": \"white\"}}, \"shapedefaults\": {\"line\": {\"color\": \"#2a3f5f\"}}, \"ternary\": {\"aaxis\": {\"gridcolor\": \"white\", \"linecolor\": \"white\", \"ticks\": \"\"}, \"baxis\": {\"gridcolor\": \"white\", \"linecolor\": \"white\", \"ticks\": \"\"}, \"bgcolor\": \"#E5ECF6\", \"caxis\": {\"gridcolor\": \"white\", \"linecolor\": \"white\", \"ticks\": \"\"}}, \"title\": {\"x\": 0.05}, \"xaxis\": {\"automargin\": true, \"gridcolor\": \"white\", \"linecolor\": \"white\", \"ticks\": \"\", \"title\": {\"standoff\": 15}, \"zerolinecolor\": \"white\", \"zerolinewidth\": 2}, \"yaxis\": {\"automargin\": true, \"gridcolor\": \"white\", \"linecolor\": \"white\", \"ticks\": \"\", \"title\": {\"standoff\": 15}, \"zerolinecolor\": \"white\", \"zerolinewidth\": 2}}}, \"title\": {\"font\": {\"color\": \"#4D5663\"}}, \"xaxis\": {\"gridcolor\": \"#E1E5ED\", \"showgrid\": true, \"tickfont\": {\"color\": \"#4D5663\"}, \"title\": {\"font\": {\"color\": \"#4D5663\"}, \"text\": \"\"}, \"zerolinecolor\": \"#E1E5ED\"}, \"xaxis2\": {\"anchor\": \"y2\", \"gridcolor\": \"#E1E5ED\", \"showgrid\": true, \"showticklabels\": false, \"tickfont\": {\"color\": \"#4D5663\"}, \"title\": {\"font\": {\"color\": \"#4D5663\"}, \"text\": \"\"}, \"zerolinecolor\": \"#E1E5ED\"}, \"yaxis\": {\"domain\": [0.3, 1], \"gridcolor\": \"#E1E5ED\", \"showgrid\": true, \"tickfont\": {\"color\": \"#4D5663\"}, \"title\": {\"font\": {\"color\": \"#4D5663\"}, \"text\": \"\"}, \"zerolinecolor\": \"#E1E5ED\"}, \"yaxis2\": {\"domain\": [0, 0.25], \"gridcolor\": \"#E1E5ED\", \"showgrid\": true, \"tickfont\": {\"color\": \"#4D5663\"}, \"title\": {\"font\": {\"color\": \"#4D5663\"}, \"text\": \"Spread\"}, \"zerolinecolor\": \"#E1E5ED\"}},\n",
       "                        {\"showLink\": true, \"linkText\": \"Export to plot.ly\", \"plotlyServerURL\": \"https://plot.ly\", \"responsive\": true}\n",
       "                    ).then(function(){\n",
       "                            \n",
       "var gd = document.getElementById('a506ce2f-2e12-45c3-8b4f-e915a3b8de02');\n",
       "var x = new MutationObserver(function (mutations, observer) {{\n",
       "        var display = window.getComputedStyle(gd).display;\n",
       "        if (!display || display === 'none') {{\n",
       "            console.log([gd, 'removed!']);\n",
       "            Plotly.purge(gd);\n",
       "            observer.disconnect();\n",
       "        }}\n",
       "}});\n",
       "\n",
       "// Listen for the removal of the full notebook cells\n",
       "var notebookContainer = gd.closest('#notebook-container');\n",
       "if (notebookContainer) {{\n",
       "    x.observe(notebookContainer, {childList: true});\n",
       "}}\n",
       "\n",
       "// Listen for the clearing of the current output cell\n",
       "var outputEl = gd.closest('.output');\n",
       "if (outputEl) {{\n",
       "    x.observe(outputEl, {childList: true});\n",
       "}}\n",
       "\n",
       "                        })\n",
       "                };\n",
       "                });\n",
       "            </script>\n",
       "        </div>"
      ]
     },
     "metadata": {},
     "output_type": "display_data"
    }
   ],
   "source": [
    "df[['A','B']].iplot(kind='spread')"
   ]
  },
  {
   "cell_type": "markdown",
   "metadata": {},
   "source": [
    "## histogram"
   ]
  },
  {
   "cell_type": "code",
   "execution_count": 21,
   "metadata": {},
   "outputs": [
    {
     "data": {
      "application/vnd.plotly.v1+json": {
       "config": {
        "linkText": "Export to plot.ly",
        "plotlyServerURL": "https://plot.ly",
        "showLink": true
       },
       "data": [
        {
         "histfunc": "count",
         "histnorm": "",
         "marker": {
          "color": "rgba(255, 153, 51, 1.0)",
          "line": {
           "color": "#4D5663",
           "width": 1.3
          }
         },
         "name": "A",
         "nbinsx": 25,
         "opacity": 0.8,
         "orientation": "v",
         "type": "histogram",
         "x": [
          2.6373344784495645,
          -1.9514781140231166,
          1.048759696978105,
          -1.2963473714495244,
          0.27694889027081887,
          0.692496688521014,
          0.07606444168264838,
          -0.6406801537579438,
          -0.6800911741187079,
          -0.8518888122997218,
          -0.7791147369734518,
          -0.6734941267402332,
          1.0167773412090835,
          0.23352732552763336,
          0.6163742442520982,
          -0.062319690042786834,
          0.4481652315232757,
          -0.02433885182191795,
          -0.4495406344066845,
          0.256728595894281,
          -0.14869432230647567,
          -1.2719115094158837,
          -0.18309035858598605,
          0.9512382104394191,
          -1.3351222343701932,
          0.8118457968750349,
          -0.4592579259017499,
          0.017322515641877596,
          -0.10874037092289358,
          0.7231418010819272,
          0.24488018614133208,
          -0.5002111461510281,
          -0.6789918892111676,
          1.0651918883435525,
          -0.29021561808912394,
          -0.5543716289854907,
          0.25805961156717533,
          -0.24712456122109305,
          0.7710767621589241,
          -1.1037831746949724,
          1.634401350202134,
          -0.6841000935514857,
          0.41030079756170595,
          0.9058247386329331,
          -2.3161672250434076,
          0.8233980785593794,
          1.892568603868356,
          1.1105016985095562,
          1.0807787816525551,
          0.26329482385854525,
          0.6811746578863037,
          1.5953539436930355,
          -0.8709560373194579,
          1.133535395435486,
          1.993229916325945,
          -1.7783792766437496,
          -1.028962145596852,
          0.11030844695762584,
          0.07519092337124138,
          0.4998945230505707,
          -0.14543010621768782,
          2.006305468029981,
          0.02027007279842382,
          -0.5024886909118702,
          0.9748120761643012,
          -0.42348555508138697,
          0.11543167395240778,
          0.312886660558503,
          -0.24027670045074928,
          0.3752446493239127,
          0.1211156796304035,
          -0.6445287847348729,
          0.2764578536695193,
          0.10937742078251535,
          -1.655221776282199,
          -0.52926779494393,
          0.456193201572975,
          0.5155302426268643,
          -0.139552865775506,
          0.7012109814926522,
          -1.113704268358639,
          -1.9031496623660287,
          -1.0805160223732262,
          -1.4413303548350294,
          0.4576522935107792,
          1.4630078606653885,
          -1.2489647067372125,
          -0.6250555560710132,
          -0.10145369069764623,
          0.138125916178685,
          -1.4996158840708063,
          1.5118801883843067,
          -0.1993334647684355,
          0.0031373104395526923,
          1.3583255766429585,
          -1.2406567590300575,
          -0.5432080731603196,
          0.013525641271830868,
          -0.6655652043632769,
          0.9079388521323659
         ]
        }
       ],
       "layout": {
        "barmode": "overlay",
        "legend": {
         "bgcolor": "#F5F6F9",
         "font": {
          "color": "#4D5663"
         }
        },
        "paper_bgcolor": "#F5F6F9",
        "plot_bgcolor": "#F5F6F9",
        "template": {
         "data": {
          "bar": [
           {
            "error_x": {
             "color": "#2a3f5f"
            },
            "error_y": {
             "color": "#2a3f5f"
            },
            "marker": {
             "line": {
              "color": "#E5ECF6",
              "width": 0.5
             }
            },
            "type": "bar"
           }
          ],
          "barpolar": [
           {
            "marker": {
             "line": {
              "color": "#E5ECF6",
              "width": 0.5
             }
            },
            "type": "barpolar"
           }
          ],
          "carpet": [
           {
            "aaxis": {
             "endlinecolor": "#2a3f5f",
             "gridcolor": "white",
             "linecolor": "white",
             "minorgridcolor": "white",
             "startlinecolor": "#2a3f5f"
            },
            "baxis": {
             "endlinecolor": "#2a3f5f",
             "gridcolor": "white",
             "linecolor": "white",
             "minorgridcolor": "white",
             "startlinecolor": "#2a3f5f"
            },
            "type": "carpet"
           }
          ],
          "choropleth": [
           {
            "colorbar": {
             "outlinewidth": 0,
             "ticks": ""
            },
            "type": "choropleth"
           }
          ],
          "contour": [
           {
            "colorbar": {
             "outlinewidth": 0,
             "ticks": ""
            },
            "colorscale": [
             [
              0,
              "#0d0887"
             ],
             [
              0.1111111111111111,
              "#46039f"
             ],
             [
              0.2222222222222222,
              "#7201a8"
             ],
             [
              0.3333333333333333,
              "#9c179e"
             ],
             [
              0.4444444444444444,
              "#bd3786"
             ],
             [
              0.5555555555555556,
              "#d8576b"
             ],
             [
              0.6666666666666666,
              "#ed7953"
             ],
             [
              0.7777777777777778,
              "#fb9f3a"
             ],
             [
              0.8888888888888888,
              "#fdca26"
             ],
             [
              1,
              "#f0f921"
             ]
            ],
            "type": "contour"
           }
          ],
          "contourcarpet": [
           {
            "colorbar": {
             "outlinewidth": 0,
             "ticks": ""
            },
            "type": "contourcarpet"
           }
          ],
          "heatmap": [
           {
            "colorbar": {
             "outlinewidth": 0,
             "ticks": ""
            },
            "colorscale": [
             [
              0,
              "#0d0887"
             ],
             [
              0.1111111111111111,
              "#46039f"
             ],
             [
              0.2222222222222222,
              "#7201a8"
             ],
             [
              0.3333333333333333,
              "#9c179e"
             ],
             [
              0.4444444444444444,
              "#bd3786"
             ],
             [
              0.5555555555555556,
              "#d8576b"
             ],
             [
              0.6666666666666666,
              "#ed7953"
             ],
             [
              0.7777777777777778,
              "#fb9f3a"
             ],
             [
              0.8888888888888888,
              "#fdca26"
             ],
             [
              1,
              "#f0f921"
             ]
            ],
            "type": "heatmap"
           }
          ],
          "heatmapgl": [
           {
            "colorbar": {
             "outlinewidth": 0,
             "ticks": ""
            },
            "colorscale": [
             [
              0,
              "#0d0887"
             ],
             [
              0.1111111111111111,
              "#46039f"
             ],
             [
              0.2222222222222222,
              "#7201a8"
             ],
             [
              0.3333333333333333,
              "#9c179e"
             ],
             [
              0.4444444444444444,
              "#bd3786"
             ],
             [
              0.5555555555555556,
              "#d8576b"
             ],
             [
              0.6666666666666666,
              "#ed7953"
             ],
             [
              0.7777777777777778,
              "#fb9f3a"
             ],
             [
              0.8888888888888888,
              "#fdca26"
             ],
             [
              1,
              "#f0f921"
             ]
            ],
            "type": "heatmapgl"
           }
          ],
          "histogram": [
           {
            "marker": {
             "colorbar": {
              "outlinewidth": 0,
              "ticks": ""
             }
            },
            "type": "histogram"
           }
          ],
          "histogram2d": [
           {
            "colorbar": {
             "outlinewidth": 0,
             "ticks": ""
            },
            "colorscale": [
             [
              0,
              "#0d0887"
             ],
             [
              0.1111111111111111,
              "#46039f"
             ],
             [
              0.2222222222222222,
              "#7201a8"
             ],
             [
              0.3333333333333333,
              "#9c179e"
             ],
             [
              0.4444444444444444,
              "#bd3786"
             ],
             [
              0.5555555555555556,
              "#d8576b"
             ],
             [
              0.6666666666666666,
              "#ed7953"
             ],
             [
              0.7777777777777778,
              "#fb9f3a"
             ],
             [
              0.8888888888888888,
              "#fdca26"
             ],
             [
              1,
              "#f0f921"
             ]
            ],
            "type": "histogram2d"
           }
          ],
          "histogram2dcontour": [
           {
            "colorbar": {
             "outlinewidth": 0,
             "ticks": ""
            },
            "colorscale": [
             [
              0,
              "#0d0887"
             ],
             [
              0.1111111111111111,
              "#46039f"
             ],
             [
              0.2222222222222222,
              "#7201a8"
             ],
             [
              0.3333333333333333,
              "#9c179e"
             ],
             [
              0.4444444444444444,
              "#bd3786"
             ],
             [
              0.5555555555555556,
              "#d8576b"
             ],
             [
              0.6666666666666666,
              "#ed7953"
             ],
             [
              0.7777777777777778,
              "#fb9f3a"
             ],
             [
              0.8888888888888888,
              "#fdca26"
             ],
             [
              1,
              "#f0f921"
             ]
            ],
            "type": "histogram2dcontour"
           }
          ],
          "mesh3d": [
           {
            "colorbar": {
             "outlinewidth": 0,
             "ticks": ""
            },
            "type": "mesh3d"
           }
          ],
          "parcoords": [
           {
            "line": {
             "colorbar": {
              "outlinewidth": 0,
              "ticks": ""
             }
            },
            "type": "parcoords"
           }
          ],
          "pie": [
           {
            "automargin": true,
            "type": "pie"
           }
          ],
          "scatter": [
           {
            "marker": {
             "colorbar": {
              "outlinewidth": 0,
              "ticks": ""
             }
            },
            "type": "scatter"
           }
          ],
          "scatter3d": [
           {
            "line": {
             "colorbar": {
              "outlinewidth": 0,
              "ticks": ""
             }
            },
            "marker": {
             "colorbar": {
              "outlinewidth": 0,
              "ticks": ""
             }
            },
            "type": "scatter3d"
           }
          ],
          "scattercarpet": [
           {
            "marker": {
             "colorbar": {
              "outlinewidth": 0,
              "ticks": ""
             }
            },
            "type": "scattercarpet"
           }
          ],
          "scattergeo": [
           {
            "marker": {
             "colorbar": {
              "outlinewidth": 0,
              "ticks": ""
             }
            },
            "type": "scattergeo"
           }
          ],
          "scattergl": [
           {
            "marker": {
             "colorbar": {
              "outlinewidth": 0,
              "ticks": ""
             }
            },
            "type": "scattergl"
           }
          ],
          "scattermapbox": [
           {
            "marker": {
             "colorbar": {
              "outlinewidth": 0,
              "ticks": ""
             }
            },
            "type": "scattermapbox"
           }
          ],
          "scatterpolar": [
           {
            "marker": {
             "colorbar": {
              "outlinewidth": 0,
              "ticks": ""
             }
            },
            "type": "scatterpolar"
           }
          ],
          "scatterpolargl": [
           {
            "marker": {
             "colorbar": {
              "outlinewidth": 0,
              "ticks": ""
             }
            },
            "type": "scatterpolargl"
           }
          ],
          "scatterternary": [
           {
            "marker": {
             "colorbar": {
              "outlinewidth": 0,
              "ticks": ""
             }
            },
            "type": "scatterternary"
           }
          ],
          "surface": [
           {
            "colorbar": {
             "outlinewidth": 0,
             "ticks": ""
            },
            "colorscale": [
             [
              0,
              "#0d0887"
             ],
             [
              0.1111111111111111,
              "#46039f"
             ],
             [
              0.2222222222222222,
              "#7201a8"
             ],
             [
              0.3333333333333333,
              "#9c179e"
             ],
             [
              0.4444444444444444,
              "#bd3786"
             ],
             [
              0.5555555555555556,
              "#d8576b"
             ],
             [
              0.6666666666666666,
              "#ed7953"
             ],
             [
              0.7777777777777778,
              "#fb9f3a"
             ],
             [
              0.8888888888888888,
              "#fdca26"
             ],
             [
              1,
              "#f0f921"
             ]
            ],
            "type": "surface"
           }
          ],
          "table": [
           {
            "cells": {
             "fill": {
              "color": "#EBF0F8"
             },
             "line": {
              "color": "white"
             }
            },
            "header": {
             "fill": {
              "color": "#C8D4E3"
             },
             "line": {
              "color": "white"
             }
            },
            "type": "table"
           }
          ]
         },
         "layout": {
          "annotationdefaults": {
           "arrowcolor": "#2a3f5f",
           "arrowhead": 0,
           "arrowwidth": 1
          },
          "coloraxis": {
           "colorbar": {
            "outlinewidth": 0,
            "ticks": ""
           }
          },
          "colorscale": {
           "diverging": [
            [
             0,
             "#8e0152"
            ],
            [
             0.1,
             "#c51b7d"
            ],
            [
             0.2,
             "#de77ae"
            ],
            [
             0.3,
             "#f1b6da"
            ],
            [
             0.4,
             "#fde0ef"
            ],
            [
             0.5,
             "#f7f7f7"
            ],
            [
             0.6,
             "#e6f5d0"
            ],
            [
             0.7,
             "#b8e186"
            ],
            [
             0.8,
             "#7fbc41"
            ],
            [
             0.9,
             "#4d9221"
            ],
            [
             1,
             "#276419"
            ]
           ],
           "sequential": [
            [
             0,
             "#0d0887"
            ],
            [
             0.1111111111111111,
             "#46039f"
            ],
            [
             0.2222222222222222,
             "#7201a8"
            ],
            [
             0.3333333333333333,
             "#9c179e"
            ],
            [
             0.4444444444444444,
             "#bd3786"
            ],
            [
             0.5555555555555556,
             "#d8576b"
            ],
            [
             0.6666666666666666,
             "#ed7953"
            ],
            [
             0.7777777777777778,
             "#fb9f3a"
            ],
            [
             0.8888888888888888,
             "#fdca26"
            ],
            [
             1,
             "#f0f921"
            ]
           ],
           "sequentialminus": [
            [
             0,
             "#0d0887"
            ],
            [
             0.1111111111111111,
             "#46039f"
            ],
            [
             0.2222222222222222,
             "#7201a8"
            ],
            [
             0.3333333333333333,
             "#9c179e"
            ],
            [
             0.4444444444444444,
             "#bd3786"
            ],
            [
             0.5555555555555556,
             "#d8576b"
            ],
            [
             0.6666666666666666,
             "#ed7953"
            ],
            [
             0.7777777777777778,
             "#fb9f3a"
            ],
            [
             0.8888888888888888,
             "#fdca26"
            ],
            [
             1,
             "#f0f921"
            ]
           ]
          },
          "colorway": [
           "#636efa",
           "#EF553B",
           "#00cc96",
           "#ab63fa",
           "#FFA15A",
           "#19d3f3",
           "#FF6692",
           "#B6E880",
           "#FF97FF",
           "#FECB52"
          ],
          "font": {
           "color": "#2a3f5f"
          },
          "geo": {
           "bgcolor": "white",
           "lakecolor": "white",
           "landcolor": "#E5ECF6",
           "showlakes": true,
           "showland": true,
           "subunitcolor": "white"
          },
          "hoverlabel": {
           "align": "left"
          },
          "hovermode": "closest",
          "mapbox": {
           "style": "light"
          },
          "paper_bgcolor": "white",
          "plot_bgcolor": "#E5ECF6",
          "polar": {
           "angularaxis": {
            "gridcolor": "white",
            "linecolor": "white",
            "ticks": ""
           },
           "bgcolor": "#E5ECF6",
           "radialaxis": {
            "gridcolor": "white",
            "linecolor": "white",
            "ticks": ""
           }
          },
          "scene": {
           "xaxis": {
            "backgroundcolor": "#E5ECF6",
            "gridcolor": "white",
            "gridwidth": 2,
            "linecolor": "white",
            "showbackground": true,
            "ticks": "",
            "zerolinecolor": "white"
           },
           "yaxis": {
            "backgroundcolor": "#E5ECF6",
            "gridcolor": "white",
            "gridwidth": 2,
            "linecolor": "white",
            "showbackground": true,
            "ticks": "",
            "zerolinecolor": "white"
           },
           "zaxis": {
            "backgroundcolor": "#E5ECF6",
            "gridcolor": "white",
            "gridwidth": 2,
            "linecolor": "white",
            "showbackground": true,
            "ticks": "",
            "zerolinecolor": "white"
           }
          },
          "shapedefaults": {
           "line": {
            "color": "#2a3f5f"
           }
          },
          "ternary": {
           "aaxis": {
            "gridcolor": "white",
            "linecolor": "white",
            "ticks": ""
           },
           "baxis": {
            "gridcolor": "white",
            "linecolor": "white",
            "ticks": ""
           },
           "bgcolor": "#E5ECF6",
           "caxis": {
            "gridcolor": "white",
            "linecolor": "white",
            "ticks": ""
           }
          },
          "title": {
           "x": 0.05
          },
          "xaxis": {
           "automargin": true,
           "gridcolor": "white",
           "linecolor": "white",
           "ticks": "",
           "title": {
            "standoff": 15
           },
           "zerolinecolor": "white",
           "zerolinewidth": 2
          },
          "yaxis": {
           "automargin": true,
           "gridcolor": "white",
           "linecolor": "white",
           "ticks": "",
           "title": {
            "standoff": 15
           },
           "zerolinecolor": "white",
           "zerolinewidth": 2
          }
         }
        },
        "title": {
         "font": {
          "color": "#4D5663"
         }
        },
        "xaxis": {
         "gridcolor": "#E1E5ED",
         "showgrid": true,
         "tickfont": {
          "color": "#4D5663"
         },
         "title": {
          "font": {
           "color": "#4D5663"
          },
          "text": ""
         },
         "zerolinecolor": "#E1E5ED"
        },
        "yaxis": {
         "gridcolor": "#E1E5ED",
         "showgrid": true,
         "tickfont": {
          "color": "#4D5663"
         },
         "title": {
          "font": {
           "color": "#4D5663"
          },
          "text": ""
         },
         "zerolinecolor": "#E1E5ED"
        }
       }
      },
      "text/html": [
       "<div>\n",
       "        \n",
       "        \n",
       "            <div id=\"f1793bcd-5e57-4643-8d1d-0913aba5dcf5\" class=\"plotly-graph-div\" style=\"height:525px; width:100%;\"></div>\n",
       "            <script type=\"text/javascript\">\n",
       "                require([\"plotly\"], function(Plotly) {\n",
       "                    window.PLOTLYENV=window.PLOTLYENV || {};\n",
       "                    window.PLOTLYENV.BASE_URL='https://plot.ly';\n",
       "                    \n",
       "                if (document.getElementById(\"f1793bcd-5e57-4643-8d1d-0913aba5dcf5\")) {\n",
       "                    Plotly.newPlot(\n",
       "                        'f1793bcd-5e57-4643-8d1d-0913aba5dcf5',\n",
       "                        [{\"histfunc\": \"count\", \"histnorm\": \"\", \"marker\": {\"color\": \"rgba(255, 153, 51, 1.0)\", \"line\": {\"color\": \"#4D5663\", \"width\": 1.3}}, \"name\": \"A\", \"nbinsx\": 25, \"opacity\": 0.8, \"orientation\": \"v\", \"type\": \"histogram\", \"x\": [2.6373344784495645, -1.9514781140231166, 1.048759696978105, -1.2963473714495244, 0.27694889027081887, 0.692496688521014, 0.07606444168264838, -0.6406801537579438, -0.6800911741187079, -0.8518888122997218, -0.7791147369734518, -0.6734941267402332, 1.0167773412090835, 0.23352732552763336, 0.6163742442520982, -0.062319690042786834, 0.4481652315232757, -0.02433885182191795, -0.4495406344066845, 0.256728595894281, -0.14869432230647567, -1.2719115094158837, -0.18309035858598605, 0.9512382104394191, -1.3351222343701932, 0.8118457968750349, -0.4592579259017499, 0.017322515641877596, -0.10874037092289358, 0.7231418010819272, 0.24488018614133208, -0.5002111461510281, -0.6789918892111676, 1.0651918883435525, -0.29021561808912394, -0.5543716289854907, 0.25805961156717533, -0.24712456122109305, 0.7710767621589241, -1.1037831746949724, 1.634401350202134, -0.6841000935514857, 0.41030079756170595, 0.9058247386329331, -2.3161672250434076, 0.8233980785593794, 1.892568603868356, 1.1105016985095562, 1.0807787816525551, 0.26329482385854525, 0.6811746578863037, 1.5953539436930355, -0.8709560373194579, 1.133535395435486, 1.993229916325945, -1.7783792766437496, -1.028962145596852, 0.11030844695762584, 0.07519092337124138, 0.4998945230505707, -0.14543010621768782, 2.006305468029981, 0.02027007279842382, -0.5024886909118702, 0.9748120761643012, -0.42348555508138697, 0.11543167395240778, 0.312886660558503, -0.24027670045074928, 0.3752446493239127, 0.1211156796304035, -0.6445287847348729, 0.2764578536695193, 0.10937742078251535, -1.655221776282199, -0.52926779494393, 0.456193201572975, 0.5155302426268643, -0.139552865775506, 0.7012109814926522, -1.113704268358639, -1.9031496623660287, -1.0805160223732262, -1.4413303548350294, 0.4576522935107792, 1.4630078606653885, -1.2489647067372125, -0.6250555560710132, -0.10145369069764623, 0.138125916178685, -1.4996158840708063, 1.5118801883843067, -0.1993334647684355, 0.0031373104395526923, 1.3583255766429585, -1.2406567590300575, -0.5432080731603196, 0.013525641271830868, -0.6655652043632769, 0.9079388521323659]}],\n",
       "                        {\"barmode\": \"overlay\", \"legend\": {\"bgcolor\": \"#F5F6F9\", \"font\": {\"color\": \"#4D5663\"}}, \"paper_bgcolor\": \"#F5F6F9\", \"plot_bgcolor\": \"#F5F6F9\", \"template\": {\"data\": {\"bar\": [{\"error_x\": {\"color\": \"#2a3f5f\"}, \"error_y\": {\"color\": \"#2a3f5f\"}, \"marker\": {\"line\": {\"color\": \"#E5ECF6\", \"width\": 0.5}}, \"type\": \"bar\"}], \"barpolar\": [{\"marker\": {\"line\": {\"color\": \"#E5ECF6\", \"width\": 0.5}}, \"type\": \"barpolar\"}], \"carpet\": [{\"aaxis\": {\"endlinecolor\": \"#2a3f5f\", \"gridcolor\": \"white\", \"linecolor\": \"white\", \"minorgridcolor\": \"white\", \"startlinecolor\": \"#2a3f5f\"}, \"baxis\": {\"endlinecolor\": \"#2a3f5f\", \"gridcolor\": \"white\", \"linecolor\": \"white\", \"minorgridcolor\": \"white\", \"startlinecolor\": \"#2a3f5f\"}, \"type\": \"carpet\"}], \"choropleth\": [{\"colorbar\": {\"outlinewidth\": 0, \"ticks\": \"\"}, \"type\": \"choropleth\"}], \"contour\": [{\"colorbar\": {\"outlinewidth\": 0, \"ticks\": \"\"}, \"colorscale\": [[0.0, \"#0d0887\"], [0.1111111111111111, \"#46039f\"], [0.2222222222222222, \"#7201a8\"], [0.3333333333333333, \"#9c179e\"], [0.4444444444444444, \"#bd3786\"], [0.5555555555555556, \"#d8576b\"], [0.6666666666666666, \"#ed7953\"], [0.7777777777777778, \"#fb9f3a\"], [0.8888888888888888, \"#fdca26\"], [1.0, \"#f0f921\"]], \"type\": \"contour\"}], \"contourcarpet\": [{\"colorbar\": {\"outlinewidth\": 0, \"ticks\": \"\"}, \"type\": \"contourcarpet\"}], \"heatmap\": [{\"colorbar\": {\"outlinewidth\": 0, \"ticks\": \"\"}, \"colorscale\": [[0.0, \"#0d0887\"], [0.1111111111111111, \"#46039f\"], [0.2222222222222222, \"#7201a8\"], [0.3333333333333333, \"#9c179e\"], [0.4444444444444444, \"#bd3786\"], [0.5555555555555556, \"#d8576b\"], [0.6666666666666666, \"#ed7953\"], [0.7777777777777778, \"#fb9f3a\"], [0.8888888888888888, \"#fdca26\"], [1.0, \"#f0f921\"]], \"type\": \"heatmap\"}], \"heatmapgl\": [{\"colorbar\": {\"outlinewidth\": 0, \"ticks\": \"\"}, \"colorscale\": [[0.0, \"#0d0887\"], [0.1111111111111111, \"#46039f\"], [0.2222222222222222, \"#7201a8\"], [0.3333333333333333, \"#9c179e\"], [0.4444444444444444, \"#bd3786\"], [0.5555555555555556, \"#d8576b\"], [0.6666666666666666, \"#ed7953\"], [0.7777777777777778, \"#fb9f3a\"], [0.8888888888888888, \"#fdca26\"], [1.0, \"#f0f921\"]], \"type\": \"heatmapgl\"}], \"histogram\": [{\"marker\": {\"colorbar\": {\"outlinewidth\": 0, \"ticks\": \"\"}}, \"type\": \"histogram\"}], \"histogram2d\": [{\"colorbar\": {\"outlinewidth\": 0, \"ticks\": \"\"}, \"colorscale\": [[0.0, \"#0d0887\"], [0.1111111111111111, \"#46039f\"], [0.2222222222222222, \"#7201a8\"], [0.3333333333333333, \"#9c179e\"], [0.4444444444444444, \"#bd3786\"], [0.5555555555555556, \"#d8576b\"], [0.6666666666666666, \"#ed7953\"], [0.7777777777777778, \"#fb9f3a\"], [0.8888888888888888, \"#fdca26\"], [1.0, \"#f0f921\"]], \"type\": \"histogram2d\"}], \"histogram2dcontour\": [{\"colorbar\": {\"outlinewidth\": 0, \"ticks\": \"\"}, \"colorscale\": [[0.0, \"#0d0887\"], [0.1111111111111111, \"#46039f\"], [0.2222222222222222, \"#7201a8\"], [0.3333333333333333, \"#9c179e\"], [0.4444444444444444, \"#bd3786\"], [0.5555555555555556, \"#d8576b\"], [0.6666666666666666, \"#ed7953\"], [0.7777777777777778, \"#fb9f3a\"], [0.8888888888888888, \"#fdca26\"], [1.0, \"#f0f921\"]], \"type\": \"histogram2dcontour\"}], \"mesh3d\": [{\"colorbar\": {\"outlinewidth\": 0, \"ticks\": \"\"}, \"type\": \"mesh3d\"}], \"parcoords\": [{\"line\": {\"colorbar\": {\"outlinewidth\": 0, \"ticks\": \"\"}}, \"type\": \"parcoords\"}], \"pie\": [{\"automargin\": true, \"type\": \"pie\"}], \"scatter\": [{\"marker\": {\"colorbar\": {\"outlinewidth\": 0, \"ticks\": \"\"}}, \"type\": \"scatter\"}], \"scatter3d\": [{\"line\": {\"colorbar\": {\"outlinewidth\": 0, \"ticks\": \"\"}}, \"marker\": {\"colorbar\": {\"outlinewidth\": 0, \"ticks\": \"\"}}, \"type\": \"scatter3d\"}], \"scattercarpet\": [{\"marker\": {\"colorbar\": {\"outlinewidth\": 0, \"ticks\": \"\"}}, \"type\": \"scattercarpet\"}], \"scattergeo\": [{\"marker\": {\"colorbar\": {\"outlinewidth\": 0, \"ticks\": \"\"}}, \"type\": \"scattergeo\"}], \"scattergl\": [{\"marker\": {\"colorbar\": {\"outlinewidth\": 0, \"ticks\": \"\"}}, \"type\": \"scattergl\"}], \"scattermapbox\": [{\"marker\": {\"colorbar\": {\"outlinewidth\": 0, \"ticks\": \"\"}}, \"type\": \"scattermapbox\"}], \"scatterpolar\": [{\"marker\": {\"colorbar\": {\"outlinewidth\": 0, \"ticks\": \"\"}}, \"type\": \"scatterpolar\"}], \"scatterpolargl\": [{\"marker\": {\"colorbar\": {\"outlinewidth\": 0, \"ticks\": \"\"}}, \"type\": \"scatterpolargl\"}], \"scatterternary\": [{\"marker\": {\"colorbar\": {\"outlinewidth\": 0, \"ticks\": \"\"}}, \"type\": \"scatterternary\"}], \"surface\": [{\"colorbar\": {\"outlinewidth\": 0, \"ticks\": \"\"}, \"colorscale\": [[0.0, \"#0d0887\"], [0.1111111111111111, \"#46039f\"], [0.2222222222222222, \"#7201a8\"], [0.3333333333333333, \"#9c179e\"], [0.4444444444444444, \"#bd3786\"], [0.5555555555555556, \"#d8576b\"], [0.6666666666666666, \"#ed7953\"], [0.7777777777777778, \"#fb9f3a\"], [0.8888888888888888, \"#fdca26\"], [1.0, \"#f0f921\"]], \"type\": \"surface\"}], \"table\": [{\"cells\": {\"fill\": {\"color\": \"#EBF0F8\"}, \"line\": {\"color\": \"white\"}}, \"header\": {\"fill\": {\"color\": \"#C8D4E3\"}, \"line\": {\"color\": \"white\"}}, \"type\": \"table\"}]}, \"layout\": {\"annotationdefaults\": {\"arrowcolor\": \"#2a3f5f\", \"arrowhead\": 0, \"arrowwidth\": 1}, \"coloraxis\": {\"colorbar\": {\"outlinewidth\": 0, \"ticks\": \"\"}}, \"colorscale\": {\"diverging\": [[0, \"#8e0152\"], [0.1, \"#c51b7d\"], [0.2, \"#de77ae\"], [0.3, \"#f1b6da\"], [0.4, \"#fde0ef\"], [0.5, \"#f7f7f7\"], [0.6, \"#e6f5d0\"], [0.7, \"#b8e186\"], [0.8, \"#7fbc41\"], [0.9, \"#4d9221\"], [1, \"#276419\"]], \"sequential\": [[0.0, \"#0d0887\"], [0.1111111111111111, \"#46039f\"], [0.2222222222222222, \"#7201a8\"], [0.3333333333333333, \"#9c179e\"], [0.4444444444444444, \"#bd3786\"], [0.5555555555555556, \"#d8576b\"], [0.6666666666666666, \"#ed7953\"], [0.7777777777777778, \"#fb9f3a\"], [0.8888888888888888, \"#fdca26\"], [1.0, \"#f0f921\"]], \"sequentialminus\": [[0.0, \"#0d0887\"], [0.1111111111111111, \"#46039f\"], [0.2222222222222222, \"#7201a8\"], [0.3333333333333333, \"#9c179e\"], [0.4444444444444444, \"#bd3786\"], [0.5555555555555556, \"#d8576b\"], [0.6666666666666666, \"#ed7953\"], [0.7777777777777778, \"#fb9f3a\"], [0.8888888888888888, \"#fdca26\"], [1.0, \"#f0f921\"]]}, \"colorway\": [\"#636efa\", \"#EF553B\", \"#00cc96\", \"#ab63fa\", \"#FFA15A\", \"#19d3f3\", \"#FF6692\", \"#B6E880\", \"#FF97FF\", \"#FECB52\"], \"font\": {\"color\": \"#2a3f5f\"}, \"geo\": {\"bgcolor\": \"white\", \"lakecolor\": \"white\", \"landcolor\": \"#E5ECF6\", \"showlakes\": true, \"showland\": true, \"subunitcolor\": \"white\"}, \"hoverlabel\": {\"align\": \"left\"}, \"hovermode\": \"closest\", \"mapbox\": {\"style\": \"light\"}, \"paper_bgcolor\": \"white\", \"plot_bgcolor\": \"#E5ECF6\", \"polar\": {\"angularaxis\": {\"gridcolor\": \"white\", \"linecolor\": \"white\", \"ticks\": \"\"}, \"bgcolor\": \"#E5ECF6\", \"radialaxis\": {\"gridcolor\": \"white\", \"linecolor\": \"white\", \"ticks\": \"\"}}, \"scene\": {\"xaxis\": {\"backgroundcolor\": \"#E5ECF6\", \"gridcolor\": \"white\", \"gridwidth\": 2, \"linecolor\": \"white\", \"showbackground\": true, \"ticks\": \"\", \"zerolinecolor\": \"white\"}, \"yaxis\": {\"backgroundcolor\": \"#E5ECF6\", \"gridcolor\": \"white\", \"gridwidth\": 2, \"linecolor\": \"white\", \"showbackground\": true, \"ticks\": \"\", \"zerolinecolor\": \"white\"}, \"zaxis\": {\"backgroundcolor\": \"#E5ECF6\", \"gridcolor\": \"white\", \"gridwidth\": 2, \"linecolor\": \"white\", \"showbackground\": true, \"ticks\": \"\", \"zerolinecolor\": \"white\"}}, \"shapedefaults\": {\"line\": {\"color\": \"#2a3f5f\"}}, \"ternary\": {\"aaxis\": {\"gridcolor\": \"white\", \"linecolor\": \"white\", \"ticks\": \"\"}, \"baxis\": {\"gridcolor\": \"white\", \"linecolor\": \"white\", \"ticks\": \"\"}, \"bgcolor\": \"#E5ECF6\", \"caxis\": {\"gridcolor\": \"white\", \"linecolor\": \"white\", \"ticks\": \"\"}}, \"title\": {\"x\": 0.05}, \"xaxis\": {\"automargin\": true, \"gridcolor\": \"white\", \"linecolor\": \"white\", \"ticks\": \"\", \"title\": {\"standoff\": 15}, \"zerolinecolor\": \"white\", \"zerolinewidth\": 2}, \"yaxis\": {\"automargin\": true, \"gridcolor\": \"white\", \"linecolor\": \"white\", \"ticks\": \"\", \"title\": {\"standoff\": 15}, \"zerolinecolor\": \"white\", \"zerolinewidth\": 2}}}, \"title\": {\"font\": {\"color\": \"#4D5663\"}}, \"xaxis\": {\"gridcolor\": \"#E1E5ED\", \"showgrid\": true, \"tickfont\": {\"color\": \"#4D5663\"}, \"title\": {\"font\": {\"color\": \"#4D5663\"}, \"text\": \"\"}, \"zerolinecolor\": \"#E1E5ED\"}, \"yaxis\": {\"gridcolor\": \"#E1E5ED\", \"showgrid\": true, \"tickfont\": {\"color\": \"#4D5663\"}, \"title\": {\"font\": {\"color\": \"#4D5663\"}, \"text\": \"\"}, \"zerolinecolor\": \"#E1E5ED\"}},\n",
       "                        {\"showLink\": true, \"linkText\": \"Export to plot.ly\", \"plotlyServerURL\": \"https://plot.ly\", \"responsive\": true}\n",
       "                    ).then(function(){\n",
       "                            \n",
       "var gd = document.getElementById('f1793bcd-5e57-4643-8d1d-0913aba5dcf5');\n",
       "var x = new MutationObserver(function (mutations, observer) {{\n",
       "        var display = window.getComputedStyle(gd).display;\n",
       "        if (!display || display === 'none') {{\n",
       "            console.log([gd, 'removed!']);\n",
       "            Plotly.purge(gd);\n",
       "            observer.disconnect();\n",
       "        }}\n",
       "}});\n",
       "\n",
       "// Listen for the removal of the full notebook cells\n",
       "var notebookContainer = gd.closest('#notebook-container');\n",
       "if (notebookContainer) {{\n",
       "    x.observe(notebookContainer, {childList: true});\n",
       "}}\n",
       "\n",
       "// Listen for the clearing of the current output cell\n",
       "var outputEl = gd.closest('.output');\n",
       "if (outputEl) {{\n",
       "    x.observe(outputEl, {childList: true});\n",
       "}}\n",
       "\n",
       "                        })\n",
       "                };\n",
       "                });\n",
       "            </script>\n",
       "        </div>"
      ]
     },
     "metadata": {},
     "output_type": "display_data"
    }
   ],
   "source": [
    "df['A'].iplot(kind='hist',bins=25)"
   ]
  },
  {
   "cell_type": "code",
   "execution_count": 22,
   "metadata": {},
   "outputs": [
    {
     "data": {
      "application/vnd.plotly.v1+json": {
       "config": {
        "linkText": "Export to plot.ly",
        "plotlyServerURL": "https://plot.ly",
        "showLink": true
       },
       "data": [
        {
         "marker": {
          "color": [
           "rgb(255, 153, 51)",
           "rgb(55, 128, 191)",
           "rgb(50, 171, 96)",
           "rgb(128, 0, 128)",
           "rgb(219, 64, 82)",
           "rgb(0, 128, 128)",
           "rgb(255, 255, 51)",
           "rgb(128, 128, 0)",
           "rgb(251, 128, 114)",
           "rgb(128, 177, 211)"
          ],
          "line": {
           "width": 1.3
          },
          "size": [
           101,
           107,
           91,
           34,
           72,
           49,
           80,
           79,
           48,
           75,
           82,
           55,
           108,
           76,
           56,
           66,
           62,
           81,
           106,
           58,
           73,
           88,
           75,
           49,
           82,
           87,
           70,
           48,
           56,
           47,
           81,
           59,
           81,
           71,
           62,
           63,
           51,
           59,
           70,
           96,
           87,
           96,
           12,
           109,
           85,
           112,
           48,
           71,
           45,
           77,
           86,
           108,
           84,
           33,
           79,
           26,
           29,
           54,
           70,
           89,
           46,
           64,
           77,
           93,
           93,
           76,
           97,
           60,
           59,
           53,
           79,
           80,
           46,
           81,
           70,
           68,
           70,
           56,
           65,
           52,
           62,
           48,
           41,
           67,
           72,
           59,
           89,
           75,
           46,
           69,
           80,
           86,
           19,
           104,
           71,
           89,
           42,
           63,
           69,
           73
          ],
          "symbol": "circle"
         },
         "mode": "markers",
         "text": "",
         "type": "scatter",
         "x": [
          2.6373344784495645,
          -1.9514781140231166,
          1.048759696978105,
          -1.2963473714495244,
          0.27694889027081887,
          0.692496688521014,
          0.07606444168264838,
          -0.6406801537579438,
          -0.6800911741187079,
          -0.8518888122997218,
          -0.7791147369734518,
          -0.6734941267402332,
          1.0167773412090835,
          0.23352732552763336,
          0.6163742442520982,
          -0.062319690042786834,
          0.4481652315232757,
          -0.02433885182191795,
          -0.4495406344066845,
          0.256728595894281,
          -0.14869432230647567,
          -1.2719115094158837,
          -0.18309035858598605,
          0.9512382104394191,
          -1.3351222343701932,
          0.8118457968750349,
          -0.4592579259017499,
          0.017322515641877596,
          -0.10874037092289358,
          0.7231418010819272,
          0.24488018614133208,
          -0.5002111461510281,
          -0.6789918892111676,
          1.0651918883435525,
          -0.29021561808912394,
          -0.5543716289854907,
          0.25805961156717533,
          -0.24712456122109305,
          0.7710767621589241,
          -1.1037831746949724,
          1.634401350202134,
          -0.6841000935514857,
          0.41030079756170595,
          0.9058247386329331,
          -2.3161672250434076,
          0.8233980785593794,
          1.892568603868356,
          1.1105016985095562,
          1.0807787816525551,
          0.26329482385854525,
          0.6811746578863037,
          1.5953539436930355,
          -0.8709560373194579,
          1.133535395435486,
          1.993229916325945,
          -1.7783792766437496,
          -1.028962145596852,
          0.11030844695762584,
          0.07519092337124138,
          0.4998945230505707,
          -0.14543010621768782,
          2.006305468029981,
          0.02027007279842382,
          -0.5024886909118702,
          0.9748120761643012,
          -0.42348555508138697,
          0.11543167395240778,
          0.312886660558503,
          -0.24027670045074928,
          0.3752446493239127,
          0.1211156796304035,
          -0.6445287847348729,
          0.2764578536695193,
          0.10937742078251535,
          -1.655221776282199,
          -0.52926779494393,
          0.456193201572975,
          0.5155302426268643,
          -0.139552865775506,
          0.7012109814926522,
          -1.113704268358639,
          -1.9031496623660287,
          -1.0805160223732262,
          -1.4413303548350294,
          0.4576522935107792,
          1.4630078606653885,
          -1.2489647067372125,
          -0.6250555560710132,
          -0.10145369069764623,
          0.138125916178685,
          -1.4996158840708063,
          1.5118801883843067,
          -0.1993334647684355,
          0.0031373104395526923,
          1.3583255766429585,
          -1.2406567590300575,
          -0.5432080731603196,
          0.013525641271830868,
          -0.6655652043632769,
          0.9079388521323659
         ],
         "y": [
          -2.284695843780699,
          -0.12897863957239397,
          -0.5960163415525992,
          0.6927278091908197,
          -1.073096401837728,
          -0.5784207622519486,
          -0.23519756874658382,
          -0.9451011638490537,
          -1.063843416629175,
          0.6756848161415443,
          0.8151176376126024,
          -0.8913414043464327,
          1.586858684811914,
          -0.49092565487567463,
          -1.2918634219359029,
          0.5036484512397292,
          -0.6014396795922873,
          0.43023242215496327,
          -0.5140747441600014,
          -1.64299938662231,
          0.19220870639914056,
          0.8203705341311345,
          -1.3573891161830567,
          0.9824384134933203,
          -0.4431038482458481,
          0.831281467639583,
          0.5991381056360517,
          -0.19798352319493737,
          1.6225181625321803,
          0.15865883270680928,
          -0.24062204610389426,
          -0.17416125564133053,
          1.0077119144555593,
          1.7385666186605993,
          -0.2493143010520831,
          1.427211355261423,
          -0.10332308539021648,
          -0.16680760836093397,
          2.0625300652181706,
          -0.029300367935213394,
          2.8039443472510506,
          0.346449737438328,
          -0.32633297104558556,
          -0.046492928263603656,
          -0.4363171197337111,
          0.056197128779733936,
          0.029384019930100338,
          0.7419514855583611,
          -0.5169707337572688,
          0.7157470081371733,
          0.36528987025749876,
          0.07089580181332032,
          0.5816741379834732,
          -1.980963012540804,
          1.5736259710506741,
          0.6377350546144804,
          -0.9773283769613775,
          0.6271683365660647,
          -0.20769018041276938,
          -0.13629364916807668,
          -1.0973203981421389,
          -0.5708035111791355,
          -1.4518036666885026,
          1.144197133868288,
          0.18607831353941073,
          -0.6319881383179478,
          -0.11362523685186736,
          0.040575359081890784,
          0.9243094765600892,
          -1.3476554400860434,
          -0.7963687182642614,
          0.6813966725874765,
          -0.3003150585184621,
          -1.7367007129274277,
          0.9276116141824441,
          -0.9356833375574491,
          0.0031066811508997944,
          -0.9927386805528503,
          2.4095902696689846,
          0.8022472832942091,
          0.18688783972328699,
          0.68311543513717,
          -0.5938759721272218,
          -0.14109286740742658,
          1.3991284943838274,
          0.3546468501567292,
          0.06716378301515893,
          1.4330738198409538,
          1.2093940166410524,
          -0.002097060041586007,
          -0.888013370871234,
          1.3046302754895798,
          -1.4518307583462837,
          -1.2772735047680706,
          0.5455088989553084,
          1.3906872989486303,
          -0.3322633074372016,
          1.4057999871358426,
          -1.6056202884422215,
          0.8482521990758864
         ]
        }
       ],
       "layout": {
        "legend": {
         "bgcolor": "#F5F6F9",
         "font": {
          "color": "#4D5663"
         }
        },
        "paper_bgcolor": "#F5F6F9",
        "plot_bgcolor": "#F5F6F9",
        "template": {
         "data": {
          "bar": [
           {
            "error_x": {
             "color": "#2a3f5f"
            },
            "error_y": {
             "color": "#2a3f5f"
            },
            "marker": {
             "line": {
              "color": "#E5ECF6",
              "width": 0.5
             }
            },
            "type": "bar"
           }
          ],
          "barpolar": [
           {
            "marker": {
             "line": {
              "color": "#E5ECF6",
              "width": 0.5
             }
            },
            "type": "barpolar"
           }
          ],
          "carpet": [
           {
            "aaxis": {
             "endlinecolor": "#2a3f5f",
             "gridcolor": "white",
             "linecolor": "white",
             "minorgridcolor": "white",
             "startlinecolor": "#2a3f5f"
            },
            "baxis": {
             "endlinecolor": "#2a3f5f",
             "gridcolor": "white",
             "linecolor": "white",
             "minorgridcolor": "white",
             "startlinecolor": "#2a3f5f"
            },
            "type": "carpet"
           }
          ],
          "choropleth": [
           {
            "colorbar": {
             "outlinewidth": 0,
             "ticks": ""
            },
            "type": "choropleth"
           }
          ],
          "contour": [
           {
            "colorbar": {
             "outlinewidth": 0,
             "ticks": ""
            },
            "colorscale": [
             [
              0,
              "#0d0887"
             ],
             [
              0.1111111111111111,
              "#46039f"
             ],
             [
              0.2222222222222222,
              "#7201a8"
             ],
             [
              0.3333333333333333,
              "#9c179e"
             ],
             [
              0.4444444444444444,
              "#bd3786"
             ],
             [
              0.5555555555555556,
              "#d8576b"
             ],
             [
              0.6666666666666666,
              "#ed7953"
             ],
             [
              0.7777777777777778,
              "#fb9f3a"
             ],
             [
              0.8888888888888888,
              "#fdca26"
             ],
             [
              1,
              "#f0f921"
             ]
            ],
            "type": "contour"
           }
          ],
          "contourcarpet": [
           {
            "colorbar": {
             "outlinewidth": 0,
             "ticks": ""
            },
            "type": "contourcarpet"
           }
          ],
          "heatmap": [
           {
            "colorbar": {
             "outlinewidth": 0,
             "ticks": ""
            },
            "colorscale": [
             [
              0,
              "#0d0887"
             ],
             [
              0.1111111111111111,
              "#46039f"
             ],
             [
              0.2222222222222222,
              "#7201a8"
             ],
             [
              0.3333333333333333,
              "#9c179e"
             ],
             [
              0.4444444444444444,
              "#bd3786"
             ],
             [
              0.5555555555555556,
              "#d8576b"
             ],
             [
              0.6666666666666666,
              "#ed7953"
             ],
             [
              0.7777777777777778,
              "#fb9f3a"
             ],
             [
              0.8888888888888888,
              "#fdca26"
             ],
             [
              1,
              "#f0f921"
             ]
            ],
            "type": "heatmap"
           }
          ],
          "heatmapgl": [
           {
            "colorbar": {
             "outlinewidth": 0,
             "ticks": ""
            },
            "colorscale": [
             [
              0,
              "#0d0887"
             ],
             [
              0.1111111111111111,
              "#46039f"
             ],
             [
              0.2222222222222222,
              "#7201a8"
             ],
             [
              0.3333333333333333,
              "#9c179e"
             ],
             [
              0.4444444444444444,
              "#bd3786"
             ],
             [
              0.5555555555555556,
              "#d8576b"
             ],
             [
              0.6666666666666666,
              "#ed7953"
             ],
             [
              0.7777777777777778,
              "#fb9f3a"
             ],
             [
              0.8888888888888888,
              "#fdca26"
             ],
             [
              1,
              "#f0f921"
             ]
            ],
            "type": "heatmapgl"
           }
          ],
          "histogram": [
           {
            "marker": {
             "colorbar": {
              "outlinewidth": 0,
              "ticks": ""
             }
            },
            "type": "histogram"
           }
          ],
          "histogram2d": [
           {
            "colorbar": {
             "outlinewidth": 0,
             "ticks": ""
            },
            "colorscale": [
             [
              0,
              "#0d0887"
             ],
             [
              0.1111111111111111,
              "#46039f"
             ],
             [
              0.2222222222222222,
              "#7201a8"
             ],
             [
              0.3333333333333333,
              "#9c179e"
             ],
             [
              0.4444444444444444,
              "#bd3786"
             ],
             [
              0.5555555555555556,
              "#d8576b"
             ],
             [
              0.6666666666666666,
              "#ed7953"
             ],
             [
              0.7777777777777778,
              "#fb9f3a"
             ],
             [
              0.8888888888888888,
              "#fdca26"
             ],
             [
              1,
              "#f0f921"
             ]
            ],
            "type": "histogram2d"
           }
          ],
          "histogram2dcontour": [
           {
            "colorbar": {
             "outlinewidth": 0,
             "ticks": ""
            },
            "colorscale": [
             [
              0,
              "#0d0887"
             ],
             [
              0.1111111111111111,
              "#46039f"
             ],
             [
              0.2222222222222222,
              "#7201a8"
             ],
             [
              0.3333333333333333,
              "#9c179e"
             ],
             [
              0.4444444444444444,
              "#bd3786"
             ],
             [
              0.5555555555555556,
              "#d8576b"
             ],
             [
              0.6666666666666666,
              "#ed7953"
             ],
             [
              0.7777777777777778,
              "#fb9f3a"
             ],
             [
              0.8888888888888888,
              "#fdca26"
             ],
             [
              1,
              "#f0f921"
             ]
            ],
            "type": "histogram2dcontour"
           }
          ],
          "mesh3d": [
           {
            "colorbar": {
             "outlinewidth": 0,
             "ticks": ""
            },
            "type": "mesh3d"
           }
          ],
          "parcoords": [
           {
            "line": {
             "colorbar": {
              "outlinewidth": 0,
              "ticks": ""
             }
            },
            "type": "parcoords"
           }
          ],
          "pie": [
           {
            "automargin": true,
            "type": "pie"
           }
          ],
          "scatter": [
           {
            "marker": {
             "colorbar": {
              "outlinewidth": 0,
              "ticks": ""
             }
            },
            "type": "scatter"
           }
          ],
          "scatter3d": [
           {
            "line": {
             "colorbar": {
              "outlinewidth": 0,
              "ticks": ""
             }
            },
            "marker": {
             "colorbar": {
              "outlinewidth": 0,
              "ticks": ""
             }
            },
            "type": "scatter3d"
           }
          ],
          "scattercarpet": [
           {
            "marker": {
             "colorbar": {
              "outlinewidth": 0,
              "ticks": ""
             }
            },
            "type": "scattercarpet"
           }
          ],
          "scattergeo": [
           {
            "marker": {
             "colorbar": {
              "outlinewidth": 0,
              "ticks": ""
             }
            },
            "type": "scattergeo"
           }
          ],
          "scattergl": [
           {
            "marker": {
             "colorbar": {
              "outlinewidth": 0,
              "ticks": ""
             }
            },
            "type": "scattergl"
           }
          ],
          "scattermapbox": [
           {
            "marker": {
             "colorbar": {
              "outlinewidth": 0,
              "ticks": ""
             }
            },
            "type": "scattermapbox"
           }
          ],
          "scatterpolar": [
           {
            "marker": {
             "colorbar": {
              "outlinewidth": 0,
              "ticks": ""
             }
            },
            "type": "scatterpolar"
           }
          ],
          "scatterpolargl": [
           {
            "marker": {
             "colorbar": {
              "outlinewidth": 0,
              "ticks": ""
             }
            },
            "type": "scatterpolargl"
           }
          ],
          "scatterternary": [
           {
            "marker": {
             "colorbar": {
              "outlinewidth": 0,
              "ticks": ""
             }
            },
            "type": "scatterternary"
           }
          ],
          "surface": [
           {
            "colorbar": {
             "outlinewidth": 0,
             "ticks": ""
            },
            "colorscale": [
             [
              0,
              "#0d0887"
             ],
             [
              0.1111111111111111,
              "#46039f"
             ],
             [
              0.2222222222222222,
              "#7201a8"
             ],
             [
              0.3333333333333333,
              "#9c179e"
             ],
             [
              0.4444444444444444,
              "#bd3786"
             ],
             [
              0.5555555555555556,
              "#d8576b"
             ],
             [
              0.6666666666666666,
              "#ed7953"
             ],
             [
              0.7777777777777778,
              "#fb9f3a"
             ],
             [
              0.8888888888888888,
              "#fdca26"
             ],
             [
              1,
              "#f0f921"
             ]
            ],
            "type": "surface"
           }
          ],
          "table": [
           {
            "cells": {
             "fill": {
              "color": "#EBF0F8"
             },
             "line": {
              "color": "white"
             }
            },
            "header": {
             "fill": {
              "color": "#C8D4E3"
             },
             "line": {
              "color": "white"
             }
            },
            "type": "table"
           }
          ]
         },
         "layout": {
          "annotationdefaults": {
           "arrowcolor": "#2a3f5f",
           "arrowhead": 0,
           "arrowwidth": 1
          },
          "coloraxis": {
           "colorbar": {
            "outlinewidth": 0,
            "ticks": ""
           }
          },
          "colorscale": {
           "diverging": [
            [
             0,
             "#8e0152"
            ],
            [
             0.1,
             "#c51b7d"
            ],
            [
             0.2,
             "#de77ae"
            ],
            [
             0.3,
             "#f1b6da"
            ],
            [
             0.4,
             "#fde0ef"
            ],
            [
             0.5,
             "#f7f7f7"
            ],
            [
             0.6,
             "#e6f5d0"
            ],
            [
             0.7,
             "#b8e186"
            ],
            [
             0.8,
             "#7fbc41"
            ],
            [
             0.9,
             "#4d9221"
            ],
            [
             1,
             "#276419"
            ]
           ],
           "sequential": [
            [
             0,
             "#0d0887"
            ],
            [
             0.1111111111111111,
             "#46039f"
            ],
            [
             0.2222222222222222,
             "#7201a8"
            ],
            [
             0.3333333333333333,
             "#9c179e"
            ],
            [
             0.4444444444444444,
             "#bd3786"
            ],
            [
             0.5555555555555556,
             "#d8576b"
            ],
            [
             0.6666666666666666,
             "#ed7953"
            ],
            [
             0.7777777777777778,
             "#fb9f3a"
            ],
            [
             0.8888888888888888,
             "#fdca26"
            ],
            [
             1,
             "#f0f921"
            ]
           ],
           "sequentialminus": [
            [
             0,
             "#0d0887"
            ],
            [
             0.1111111111111111,
             "#46039f"
            ],
            [
             0.2222222222222222,
             "#7201a8"
            ],
            [
             0.3333333333333333,
             "#9c179e"
            ],
            [
             0.4444444444444444,
             "#bd3786"
            ],
            [
             0.5555555555555556,
             "#d8576b"
            ],
            [
             0.6666666666666666,
             "#ed7953"
            ],
            [
             0.7777777777777778,
             "#fb9f3a"
            ],
            [
             0.8888888888888888,
             "#fdca26"
            ],
            [
             1,
             "#f0f921"
            ]
           ]
          },
          "colorway": [
           "#636efa",
           "#EF553B",
           "#00cc96",
           "#ab63fa",
           "#FFA15A",
           "#19d3f3",
           "#FF6692",
           "#B6E880",
           "#FF97FF",
           "#FECB52"
          ],
          "font": {
           "color": "#2a3f5f"
          },
          "geo": {
           "bgcolor": "white",
           "lakecolor": "white",
           "landcolor": "#E5ECF6",
           "showlakes": true,
           "showland": true,
           "subunitcolor": "white"
          },
          "hoverlabel": {
           "align": "left"
          },
          "hovermode": "closest",
          "mapbox": {
           "style": "light"
          },
          "paper_bgcolor": "white",
          "plot_bgcolor": "#E5ECF6",
          "polar": {
           "angularaxis": {
            "gridcolor": "white",
            "linecolor": "white",
            "ticks": ""
           },
           "bgcolor": "#E5ECF6",
           "radialaxis": {
            "gridcolor": "white",
            "linecolor": "white",
            "ticks": ""
           }
          },
          "scene": {
           "xaxis": {
            "backgroundcolor": "#E5ECF6",
            "gridcolor": "white",
            "gridwidth": 2,
            "linecolor": "white",
            "showbackground": true,
            "ticks": "",
            "zerolinecolor": "white"
           },
           "yaxis": {
            "backgroundcolor": "#E5ECF6",
            "gridcolor": "white",
            "gridwidth": 2,
            "linecolor": "white",
            "showbackground": true,
            "ticks": "",
            "zerolinecolor": "white"
           },
           "zaxis": {
            "backgroundcolor": "#E5ECF6",
            "gridcolor": "white",
            "gridwidth": 2,
            "linecolor": "white",
            "showbackground": true,
            "ticks": "",
            "zerolinecolor": "white"
           }
          },
          "shapedefaults": {
           "line": {
            "color": "#2a3f5f"
           }
          },
          "ternary": {
           "aaxis": {
            "gridcolor": "white",
            "linecolor": "white",
            "ticks": ""
           },
           "baxis": {
            "gridcolor": "white",
            "linecolor": "white",
            "ticks": ""
           },
           "bgcolor": "#E5ECF6",
           "caxis": {
            "gridcolor": "white",
            "linecolor": "white",
            "ticks": ""
           }
          },
          "title": {
           "x": 0.05
          },
          "xaxis": {
           "automargin": true,
           "gridcolor": "white",
           "linecolor": "white",
           "ticks": "",
           "title": {
            "standoff": 15
           },
           "zerolinecolor": "white",
           "zerolinewidth": 2
          },
          "yaxis": {
           "automargin": true,
           "gridcolor": "white",
           "linecolor": "white",
           "ticks": "",
           "title": {
            "standoff": 15
           },
           "zerolinecolor": "white",
           "zerolinewidth": 2
          }
         }
        },
        "title": {
         "font": {
          "color": "#4D5663"
         }
        },
        "xaxis": {
         "gridcolor": "#E1E5ED",
         "showgrid": true,
         "tickfont": {
          "color": "#4D5663"
         },
         "title": {
          "font": {
           "color": "#4D5663"
          },
          "text": ""
         },
         "zerolinecolor": "#E1E5ED"
        },
        "yaxis": {
         "gridcolor": "#E1E5ED",
         "showgrid": true,
         "tickfont": {
          "color": "#4D5663"
         },
         "title": {
          "font": {
           "color": "#4D5663"
          },
          "text": ""
         },
         "zerolinecolor": "#E1E5ED"
        }
       }
      },
      "text/html": [
       "<div>\n",
       "        \n",
       "        \n",
       "            <div id=\"ef5a26a2-5ad9-4522-9a6c-e883b8534c88\" class=\"plotly-graph-div\" style=\"height:525px; width:100%;\"></div>\n",
       "            <script type=\"text/javascript\">\n",
       "                require([\"plotly\"], function(Plotly) {\n",
       "                    window.PLOTLYENV=window.PLOTLYENV || {};\n",
       "                    window.PLOTLYENV.BASE_URL='https://plot.ly';\n",
       "                    \n",
       "                if (document.getElementById(\"ef5a26a2-5ad9-4522-9a6c-e883b8534c88\")) {\n",
       "                    Plotly.newPlot(\n",
       "                        'ef5a26a2-5ad9-4522-9a6c-e883b8534c88',\n",
       "                        [{\"marker\": {\"color\": [\"rgb(255, 153, 51)\", \"rgb(55, 128, 191)\", \"rgb(50, 171, 96)\", \"rgb(128, 0, 128)\", \"rgb(219, 64, 82)\", \"rgb(0, 128, 128)\", \"rgb(255, 255, 51)\", \"rgb(128, 128, 0)\", \"rgb(251, 128, 114)\", \"rgb(128, 177, 211)\"], \"line\": {\"width\": 1.3}, \"size\": [101, 107, 91, 34, 72, 49, 80, 79, 48, 75, 82, 55, 108, 76, 56, 66, 62, 81, 106, 58, 73, 88, 75, 49, 82, 87, 70, 48, 56, 47, 81, 59, 81, 71, 62, 63, 51, 59, 70, 96, 87, 96, 12, 109, 85, 112, 48, 71, 45, 77, 86, 108, 84, 33, 79, 26, 29, 54, 70, 89, 46, 64, 77, 93, 93, 76, 97, 60, 59, 53, 79, 80, 46, 81, 70, 68, 70, 56, 65, 52, 62, 48, 41, 67, 72, 59, 89, 75, 46, 69, 80, 86, 19, 104, 71, 89, 42, 63, 69, 73], \"symbol\": \"circle\"}, \"mode\": \"markers\", \"text\": \"\", \"type\": \"scatter\", \"x\": [2.6373344784495645, -1.9514781140231166, 1.048759696978105, -1.2963473714495244, 0.27694889027081887, 0.692496688521014, 0.07606444168264838, -0.6406801537579438, -0.6800911741187079, -0.8518888122997218, -0.7791147369734518, -0.6734941267402332, 1.0167773412090835, 0.23352732552763336, 0.6163742442520982, -0.062319690042786834, 0.4481652315232757, -0.02433885182191795, -0.4495406344066845, 0.256728595894281, -0.14869432230647567, -1.2719115094158837, -0.18309035858598605, 0.9512382104394191, -1.3351222343701932, 0.8118457968750349, -0.4592579259017499, 0.017322515641877596, -0.10874037092289358, 0.7231418010819272, 0.24488018614133208, -0.5002111461510281, -0.6789918892111676, 1.0651918883435525, -0.29021561808912394, -0.5543716289854907, 0.25805961156717533, -0.24712456122109305, 0.7710767621589241, -1.1037831746949724, 1.634401350202134, -0.6841000935514857, 0.41030079756170595, 0.9058247386329331, -2.3161672250434076, 0.8233980785593794, 1.892568603868356, 1.1105016985095562, 1.0807787816525551, 0.26329482385854525, 0.6811746578863037, 1.5953539436930355, -0.8709560373194579, 1.133535395435486, 1.993229916325945, -1.7783792766437496, -1.028962145596852, 0.11030844695762584, 0.07519092337124138, 0.4998945230505707, -0.14543010621768782, 2.006305468029981, 0.02027007279842382, -0.5024886909118702, 0.9748120761643012, -0.42348555508138697, 0.11543167395240778, 0.312886660558503, -0.24027670045074928, 0.3752446493239127, 0.1211156796304035, -0.6445287847348729, 0.2764578536695193, 0.10937742078251535, -1.655221776282199, -0.52926779494393, 0.456193201572975, 0.5155302426268643, -0.139552865775506, 0.7012109814926522, -1.113704268358639, -1.9031496623660287, -1.0805160223732262, -1.4413303548350294, 0.4576522935107792, 1.4630078606653885, -1.2489647067372125, -0.6250555560710132, -0.10145369069764623, 0.138125916178685, -1.4996158840708063, 1.5118801883843067, -0.1993334647684355, 0.0031373104395526923, 1.3583255766429585, -1.2406567590300575, -0.5432080731603196, 0.013525641271830868, -0.6655652043632769, 0.9079388521323659], \"y\": [-2.284695843780699, -0.12897863957239397, -0.5960163415525992, 0.6927278091908197, -1.073096401837728, -0.5784207622519486, -0.23519756874658382, -0.9451011638490537, -1.063843416629175, 0.6756848161415443, 0.8151176376126024, -0.8913414043464327, 1.586858684811914, -0.49092565487567463, -1.2918634219359029, 0.5036484512397292, -0.6014396795922873, 0.43023242215496327, -0.5140747441600014, -1.64299938662231, 0.19220870639914056, 0.8203705341311345, -1.3573891161830567, 0.9824384134933203, -0.4431038482458481, 0.831281467639583, 0.5991381056360517, -0.19798352319493737, 1.6225181625321803, 0.15865883270680928, -0.24062204610389426, -0.17416125564133053, 1.0077119144555593, 1.7385666186605993, -0.2493143010520831, 1.427211355261423, -0.10332308539021648, -0.16680760836093397, 2.0625300652181706, -0.029300367935213394, 2.8039443472510506, 0.346449737438328, -0.32633297104558556, -0.046492928263603656, -0.4363171197337111, 0.056197128779733936, 0.029384019930100338, 0.7419514855583611, -0.5169707337572688, 0.7157470081371733, 0.36528987025749876, 0.07089580181332032, 0.5816741379834732, -1.980963012540804, 1.5736259710506741, 0.6377350546144804, -0.9773283769613775, 0.6271683365660647, -0.20769018041276938, -0.13629364916807668, -1.0973203981421389, -0.5708035111791355, -1.4518036666885026, 1.144197133868288, 0.18607831353941073, -0.6319881383179478, -0.11362523685186736, 0.040575359081890784, 0.9243094765600892, -1.3476554400860434, -0.7963687182642614, 0.6813966725874765, -0.3003150585184621, -1.7367007129274277, 0.9276116141824441, -0.9356833375574491, 0.0031066811508997944, -0.9927386805528503, 2.4095902696689846, 0.8022472832942091, 0.18688783972328699, 0.68311543513717, -0.5938759721272218, -0.14109286740742658, 1.3991284943838274, 0.3546468501567292, 0.06716378301515893, 1.4330738198409538, 1.2093940166410524, -0.002097060041586007, -0.888013370871234, 1.3046302754895798, -1.4518307583462837, -1.2772735047680706, 0.5455088989553084, 1.3906872989486303, -0.3322633074372016, 1.4057999871358426, -1.6056202884422215, 0.8482521990758864]}],\n",
       "                        {\"legend\": {\"bgcolor\": \"#F5F6F9\", \"font\": {\"color\": \"#4D5663\"}}, \"paper_bgcolor\": \"#F5F6F9\", \"plot_bgcolor\": \"#F5F6F9\", \"template\": {\"data\": {\"bar\": [{\"error_x\": {\"color\": \"#2a3f5f\"}, \"error_y\": {\"color\": \"#2a3f5f\"}, \"marker\": {\"line\": {\"color\": \"#E5ECF6\", \"width\": 0.5}}, \"type\": \"bar\"}], \"barpolar\": [{\"marker\": {\"line\": {\"color\": \"#E5ECF6\", \"width\": 0.5}}, \"type\": \"barpolar\"}], \"carpet\": [{\"aaxis\": {\"endlinecolor\": \"#2a3f5f\", \"gridcolor\": \"white\", \"linecolor\": \"white\", \"minorgridcolor\": \"white\", \"startlinecolor\": \"#2a3f5f\"}, \"baxis\": {\"endlinecolor\": \"#2a3f5f\", \"gridcolor\": \"white\", \"linecolor\": \"white\", \"minorgridcolor\": \"white\", \"startlinecolor\": \"#2a3f5f\"}, \"type\": \"carpet\"}], \"choropleth\": [{\"colorbar\": {\"outlinewidth\": 0, \"ticks\": \"\"}, \"type\": \"choropleth\"}], \"contour\": [{\"colorbar\": {\"outlinewidth\": 0, \"ticks\": \"\"}, \"colorscale\": [[0.0, \"#0d0887\"], [0.1111111111111111, \"#46039f\"], [0.2222222222222222, \"#7201a8\"], [0.3333333333333333, \"#9c179e\"], [0.4444444444444444, \"#bd3786\"], [0.5555555555555556, \"#d8576b\"], [0.6666666666666666, \"#ed7953\"], [0.7777777777777778, \"#fb9f3a\"], [0.8888888888888888, \"#fdca26\"], [1.0, \"#f0f921\"]], \"type\": \"contour\"}], \"contourcarpet\": [{\"colorbar\": {\"outlinewidth\": 0, \"ticks\": \"\"}, \"type\": \"contourcarpet\"}], \"heatmap\": [{\"colorbar\": {\"outlinewidth\": 0, \"ticks\": \"\"}, \"colorscale\": [[0.0, \"#0d0887\"], [0.1111111111111111, \"#46039f\"], [0.2222222222222222, \"#7201a8\"], [0.3333333333333333, \"#9c179e\"], [0.4444444444444444, \"#bd3786\"], [0.5555555555555556, \"#d8576b\"], [0.6666666666666666, \"#ed7953\"], [0.7777777777777778, \"#fb9f3a\"], [0.8888888888888888, \"#fdca26\"], [1.0, \"#f0f921\"]], \"type\": \"heatmap\"}], \"heatmapgl\": [{\"colorbar\": {\"outlinewidth\": 0, \"ticks\": \"\"}, \"colorscale\": [[0.0, \"#0d0887\"], [0.1111111111111111, \"#46039f\"], [0.2222222222222222, \"#7201a8\"], [0.3333333333333333, \"#9c179e\"], [0.4444444444444444, \"#bd3786\"], [0.5555555555555556, \"#d8576b\"], [0.6666666666666666, \"#ed7953\"], [0.7777777777777778, \"#fb9f3a\"], [0.8888888888888888, \"#fdca26\"], [1.0, \"#f0f921\"]], \"type\": \"heatmapgl\"}], \"histogram\": [{\"marker\": {\"colorbar\": {\"outlinewidth\": 0, \"ticks\": \"\"}}, \"type\": \"histogram\"}], \"histogram2d\": [{\"colorbar\": {\"outlinewidth\": 0, \"ticks\": \"\"}, \"colorscale\": [[0.0, \"#0d0887\"], [0.1111111111111111, \"#46039f\"], [0.2222222222222222, \"#7201a8\"], [0.3333333333333333, \"#9c179e\"], [0.4444444444444444, \"#bd3786\"], [0.5555555555555556, \"#d8576b\"], [0.6666666666666666, \"#ed7953\"], [0.7777777777777778, \"#fb9f3a\"], [0.8888888888888888, \"#fdca26\"], [1.0, \"#f0f921\"]], \"type\": \"histogram2d\"}], \"histogram2dcontour\": [{\"colorbar\": {\"outlinewidth\": 0, \"ticks\": \"\"}, \"colorscale\": [[0.0, \"#0d0887\"], [0.1111111111111111, \"#46039f\"], [0.2222222222222222, \"#7201a8\"], [0.3333333333333333, \"#9c179e\"], [0.4444444444444444, \"#bd3786\"], [0.5555555555555556, \"#d8576b\"], [0.6666666666666666, \"#ed7953\"], [0.7777777777777778, \"#fb9f3a\"], [0.8888888888888888, \"#fdca26\"], [1.0, \"#f0f921\"]], \"type\": \"histogram2dcontour\"}], \"mesh3d\": [{\"colorbar\": {\"outlinewidth\": 0, \"ticks\": \"\"}, \"type\": \"mesh3d\"}], \"parcoords\": [{\"line\": {\"colorbar\": {\"outlinewidth\": 0, \"ticks\": \"\"}}, \"type\": \"parcoords\"}], \"pie\": [{\"automargin\": true, \"type\": \"pie\"}], \"scatter\": [{\"marker\": {\"colorbar\": {\"outlinewidth\": 0, \"ticks\": \"\"}}, \"type\": \"scatter\"}], \"scatter3d\": [{\"line\": {\"colorbar\": {\"outlinewidth\": 0, \"ticks\": \"\"}}, \"marker\": {\"colorbar\": {\"outlinewidth\": 0, \"ticks\": \"\"}}, \"type\": \"scatter3d\"}], \"scattercarpet\": [{\"marker\": {\"colorbar\": {\"outlinewidth\": 0, \"ticks\": \"\"}}, \"type\": \"scattercarpet\"}], \"scattergeo\": [{\"marker\": {\"colorbar\": {\"outlinewidth\": 0, \"ticks\": \"\"}}, \"type\": \"scattergeo\"}], \"scattergl\": [{\"marker\": {\"colorbar\": {\"outlinewidth\": 0, \"ticks\": \"\"}}, \"type\": \"scattergl\"}], \"scattermapbox\": [{\"marker\": {\"colorbar\": {\"outlinewidth\": 0, \"ticks\": \"\"}}, \"type\": \"scattermapbox\"}], \"scatterpolar\": [{\"marker\": {\"colorbar\": {\"outlinewidth\": 0, \"ticks\": \"\"}}, \"type\": \"scatterpolar\"}], \"scatterpolargl\": [{\"marker\": {\"colorbar\": {\"outlinewidth\": 0, \"ticks\": \"\"}}, \"type\": \"scatterpolargl\"}], \"scatterternary\": [{\"marker\": {\"colorbar\": {\"outlinewidth\": 0, \"ticks\": \"\"}}, \"type\": \"scatterternary\"}], \"surface\": [{\"colorbar\": {\"outlinewidth\": 0, \"ticks\": \"\"}, \"colorscale\": [[0.0, \"#0d0887\"], [0.1111111111111111, \"#46039f\"], [0.2222222222222222, \"#7201a8\"], [0.3333333333333333, \"#9c179e\"], [0.4444444444444444, \"#bd3786\"], [0.5555555555555556, \"#d8576b\"], [0.6666666666666666, \"#ed7953\"], [0.7777777777777778, \"#fb9f3a\"], [0.8888888888888888, \"#fdca26\"], [1.0, \"#f0f921\"]], \"type\": \"surface\"}], \"table\": [{\"cells\": {\"fill\": {\"color\": \"#EBF0F8\"}, \"line\": {\"color\": \"white\"}}, \"header\": {\"fill\": {\"color\": \"#C8D4E3\"}, \"line\": {\"color\": \"white\"}}, \"type\": \"table\"}]}, \"layout\": {\"annotationdefaults\": {\"arrowcolor\": \"#2a3f5f\", \"arrowhead\": 0, \"arrowwidth\": 1}, \"coloraxis\": {\"colorbar\": {\"outlinewidth\": 0, \"ticks\": \"\"}}, \"colorscale\": {\"diverging\": [[0, \"#8e0152\"], [0.1, \"#c51b7d\"], [0.2, \"#de77ae\"], [0.3, \"#f1b6da\"], [0.4, \"#fde0ef\"], [0.5, \"#f7f7f7\"], [0.6, \"#e6f5d0\"], [0.7, \"#b8e186\"], [0.8, \"#7fbc41\"], [0.9, \"#4d9221\"], [1, \"#276419\"]], \"sequential\": [[0.0, \"#0d0887\"], [0.1111111111111111, \"#46039f\"], [0.2222222222222222, \"#7201a8\"], [0.3333333333333333, \"#9c179e\"], [0.4444444444444444, \"#bd3786\"], [0.5555555555555556, \"#d8576b\"], [0.6666666666666666, \"#ed7953\"], [0.7777777777777778, \"#fb9f3a\"], [0.8888888888888888, \"#fdca26\"], [1.0, \"#f0f921\"]], \"sequentialminus\": [[0.0, \"#0d0887\"], [0.1111111111111111, \"#46039f\"], [0.2222222222222222, \"#7201a8\"], [0.3333333333333333, \"#9c179e\"], [0.4444444444444444, \"#bd3786\"], [0.5555555555555556, \"#d8576b\"], [0.6666666666666666, \"#ed7953\"], [0.7777777777777778, \"#fb9f3a\"], [0.8888888888888888, \"#fdca26\"], [1.0, \"#f0f921\"]]}, \"colorway\": [\"#636efa\", \"#EF553B\", \"#00cc96\", \"#ab63fa\", \"#FFA15A\", \"#19d3f3\", \"#FF6692\", \"#B6E880\", \"#FF97FF\", \"#FECB52\"], \"font\": {\"color\": \"#2a3f5f\"}, \"geo\": {\"bgcolor\": \"white\", \"lakecolor\": \"white\", \"landcolor\": \"#E5ECF6\", \"showlakes\": true, \"showland\": true, \"subunitcolor\": \"white\"}, \"hoverlabel\": {\"align\": \"left\"}, \"hovermode\": \"closest\", \"mapbox\": {\"style\": \"light\"}, \"paper_bgcolor\": \"white\", \"plot_bgcolor\": \"#E5ECF6\", \"polar\": {\"angularaxis\": {\"gridcolor\": \"white\", \"linecolor\": \"white\", \"ticks\": \"\"}, \"bgcolor\": \"#E5ECF6\", \"radialaxis\": {\"gridcolor\": \"white\", \"linecolor\": \"white\", \"ticks\": \"\"}}, \"scene\": {\"xaxis\": {\"backgroundcolor\": \"#E5ECF6\", \"gridcolor\": \"white\", \"gridwidth\": 2, \"linecolor\": \"white\", \"showbackground\": true, \"ticks\": \"\", \"zerolinecolor\": \"white\"}, \"yaxis\": {\"backgroundcolor\": \"#E5ECF6\", \"gridcolor\": \"white\", \"gridwidth\": 2, \"linecolor\": \"white\", \"showbackground\": true, \"ticks\": \"\", \"zerolinecolor\": \"white\"}, \"zaxis\": {\"backgroundcolor\": \"#E5ECF6\", \"gridcolor\": \"white\", \"gridwidth\": 2, \"linecolor\": \"white\", \"showbackground\": true, \"ticks\": \"\", \"zerolinecolor\": \"white\"}}, \"shapedefaults\": {\"line\": {\"color\": \"#2a3f5f\"}}, \"ternary\": {\"aaxis\": {\"gridcolor\": \"white\", \"linecolor\": \"white\", \"ticks\": \"\"}, \"baxis\": {\"gridcolor\": \"white\", \"linecolor\": \"white\", \"ticks\": \"\"}, \"bgcolor\": \"#E5ECF6\", \"caxis\": {\"gridcolor\": \"white\", \"linecolor\": \"white\", \"ticks\": \"\"}}, \"title\": {\"x\": 0.05}, \"xaxis\": {\"automargin\": true, \"gridcolor\": \"white\", \"linecolor\": \"white\", \"ticks\": \"\", \"title\": {\"standoff\": 15}, \"zerolinecolor\": \"white\", \"zerolinewidth\": 2}, \"yaxis\": {\"automargin\": true, \"gridcolor\": \"white\", \"linecolor\": \"white\", \"ticks\": \"\", \"title\": {\"standoff\": 15}, \"zerolinecolor\": \"white\", \"zerolinewidth\": 2}}}, \"title\": {\"font\": {\"color\": \"#4D5663\"}}, \"xaxis\": {\"gridcolor\": \"#E1E5ED\", \"showgrid\": true, \"tickfont\": {\"color\": \"#4D5663\"}, \"title\": {\"font\": {\"color\": \"#4D5663\"}, \"text\": \"\"}, \"zerolinecolor\": \"#E1E5ED\"}, \"yaxis\": {\"gridcolor\": \"#E1E5ED\", \"showgrid\": true, \"tickfont\": {\"color\": \"#4D5663\"}, \"title\": {\"font\": {\"color\": \"#4D5663\"}, \"text\": \"\"}, \"zerolinecolor\": \"#E1E5ED\"}},\n",
       "                        {\"showLink\": true, \"linkText\": \"Export to plot.ly\", \"plotlyServerURL\": \"https://plot.ly\", \"responsive\": true}\n",
       "                    ).then(function(){\n",
       "                            \n",
       "var gd = document.getElementById('ef5a26a2-5ad9-4522-9a6c-e883b8534c88');\n",
       "var x = new MutationObserver(function (mutations, observer) {{\n",
       "        var display = window.getComputedStyle(gd).display;\n",
       "        if (!display || display === 'none') {{\n",
       "            console.log([gd, 'removed!']);\n",
       "            Plotly.purge(gd);\n",
       "            observer.disconnect();\n",
       "        }}\n",
       "}});\n",
       "\n",
       "// Listen for the removal of the full notebook cells\n",
       "var notebookContainer = gd.closest('#notebook-container');\n",
       "if (notebookContainer) {{\n",
       "    x.observe(notebookContainer, {childList: true});\n",
       "}}\n",
       "\n",
       "// Listen for the clearing of the current output cell\n",
       "var outputEl = gd.closest('.output');\n",
       "if (outputEl) {{\n",
       "    x.observe(outputEl, {childList: true});\n",
       "}}\n",
       "\n",
       "                        })\n",
       "                };\n",
       "                });\n",
       "            </script>\n",
       "        </div>"
      ]
     },
     "metadata": {},
     "output_type": "display_data"
    }
   ],
   "source": [
    "df.iplot(kind='bubble',x='A',y='B',size='C')"
   ]
  },
  {
   "cell_type": "markdown",
   "metadata": {},
   "source": [
    "## scatter_matrix()\n",
    "\n",
    "Similar to sns.pairplot()"
   ]
  },
  {
   "cell_type": "code",
   "execution_count": 23,
   "metadata": {},
   "outputs": [
    {
     "data": {
      "application/vnd.plotly.v1+json": {
       "config": {
        "linkText": "Export to plot.ly",
        "plotlyServerURL": "https://plot.ly",
        "showLink": true
       },
       "data": [
        {
         "histfunc": "count",
         "histnorm": "",
         "marker": {
          "color": "rgba(255, 153, 51, 1.0)",
          "line": {
           "color": "#4D5663",
           "width": 1.3
          }
         },
         "name": "A",
         "nbinsx": 10,
         "opacity": 0.8,
         "orientation": "v",
         "type": "histogram",
         "x": [
          2.6373344784495645,
          -1.9514781140231166,
          1.048759696978105,
          -1.2963473714495244,
          0.27694889027081887,
          0.692496688521014,
          0.07606444168264838,
          -0.6406801537579438,
          -0.6800911741187079,
          -0.8518888122997218,
          -0.7791147369734518,
          -0.6734941267402332,
          1.0167773412090835,
          0.23352732552763336,
          0.6163742442520982,
          -0.062319690042786834,
          0.4481652315232757,
          -0.02433885182191795,
          -0.4495406344066845,
          0.256728595894281,
          -0.14869432230647567,
          -1.2719115094158837,
          -0.18309035858598605,
          0.9512382104394191,
          -1.3351222343701932,
          0.8118457968750349,
          -0.4592579259017499,
          0.017322515641877596,
          -0.10874037092289358,
          0.7231418010819272,
          0.24488018614133208,
          -0.5002111461510281,
          -0.6789918892111676,
          1.0651918883435525,
          -0.29021561808912394,
          -0.5543716289854907,
          0.25805961156717533,
          -0.24712456122109305,
          0.7710767621589241,
          -1.1037831746949724,
          1.634401350202134,
          -0.6841000935514857,
          0.41030079756170595,
          0.9058247386329331,
          -2.3161672250434076,
          0.8233980785593794,
          1.892568603868356,
          1.1105016985095562,
          1.0807787816525551,
          0.26329482385854525,
          0.6811746578863037,
          1.5953539436930355,
          -0.8709560373194579,
          1.133535395435486,
          1.993229916325945,
          -1.7783792766437496,
          -1.028962145596852,
          0.11030844695762584,
          0.07519092337124138,
          0.4998945230505707,
          -0.14543010621768782,
          2.006305468029981,
          0.02027007279842382,
          -0.5024886909118702,
          0.9748120761643012,
          -0.42348555508138697,
          0.11543167395240778,
          0.312886660558503,
          -0.24027670045074928,
          0.3752446493239127,
          0.1211156796304035,
          -0.6445287847348729,
          0.2764578536695193,
          0.10937742078251535,
          -1.655221776282199,
          -0.52926779494393,
          0.456193201572975,
          0.5155302426268643,
          -0.139552865775506,
          0.7012109814926522,
          -1.113704268358639,
          -1.9031496623660287,
          -1.0805160223732262,
          -1.4413303548350294,
          0.4576522935107792,
          1.4630078606653885,
          -1.2489647067372125,
          -0.6250555560710132,
          -0.10145369069764623,
          0.138125916178685,
          -1.4996158840708063,
          1.5118801883843067,
          -0.1993334647684355,
          0.0031373104395526923,
          1.3583255766429585,
          -1.2406567590300575,
          -0.5432080731603196,
          0.013525641271830868,
          -0.6655652043632769,
          0.9079388521323659
         ],
         "xaxis": "x",
         "yaxis": "y"
        },
        {
         "line": {
          "color": "rgba(128, 128, 128, 1.0)",
          "dash": "solid",
          "shape": "linear",
          "width": 1.3
         },
         "marker": {
          "size": 2,
          "symbol": "circle"
         },
         "mode": "markers",
         "name": "A",
         "text": "",
         "type": "scatter",
         "x": [
          -2.284695843780699,
          -0.12897863957239397,
          -0.5960163415525992,
          0.6927278091908197,
          -1.073096401837728,
          -0.5784207622519486,
          -0.23519756874658382,
          -0.9451011638490537,
          -1.063843416629175,
          0.6756848161415443,
          0.8151176376126024,
          -0.8913414043464327,
          1.586858684811914,
          -0.49092565487567463,
          -1.2918634219359029,
          0.5036484512397292,
          -0.6014396795922873,
          0.43023242215496327,
          -0.5140747441600014,
          -1.64299938662231,
          0.19220870639914056,
          0.8203705341311345,
          -1.3573891161830567,
          0.9824384134933203,
          -0.4431038482458481,
          0.831281467639583,
          0.5991381056360517,
          -0.19798352319493737,
          1.6225181625321803,
          0.15865883270680928,
          -0.24062204610389426,
          -0.17416125564133053,
          1.0077119144555593,
          1.7385666186605993,
          -0.2493143010520831,
          1.427211355261423,
          -0.10332308539021648,
          -0.16680760836093397,
          2.0625300652181706,
          -0.029300367935213394,
          2.8039443472510506,
          0.346449737438328,
          -0.32633297104558556,
          -0.046492928263603656,
          -0.4363171197337111,
          0.056197128779733936,
          0.029384019930100338,
          0.7419514855583611,
          -0.5169707337572688,
          0.7157470081371733,
          0.36528987025749876,
          0.07089580181332032,
          0.5816741379834732,
          -1.980963012540804,
          1.5736259710506741,
          0.6377350546144804,
          -0.9773283769613775,
          0.6271683365660647,
          -0.20769018041276938,
          -0.13629364916807668,
          -1.0973203981421389,
          -0.5708035111791355,
          -1.4518036666885026,
          1.144197133868288,
          0.18607831353941073,
          -0.6319881383179478,
          -0.11362523685186736,
          0.040575359081890784,
          0.9243094765600892,
          -1.3476554400860434,
          -0.7963687182642614,
          0.6813966725874765,
          -0.3003150585184621,
          -1.7367007129274277,
          0.9276116141824441,
          -0.9356833375574491,
          0.0031066811508997944,
          -0.9927386805528503,
          2.4095902696689846,
          0.8022472832942091,
          0.18688783972328699,
          0.68311543513717,
          -0.5938759721272218,
          -0.14109286740742658,
          1.3991284943838274,
          0.3546468501567292,
          0.06716378301515893,
          1.4330738198409538,
          1.2093940166410524,
          -0.002097060041586007,
          -0.888013370871234,
          1.3046302754895798,
          -1.4518307583462837,
          -1.2772735047680706,
          0.5455088989553084,
          1.3906872989486303,
          -0.3322633074372016,
          1.4057999871358426,
          -1.6056202884422215,
          0.8482521990758864
         ],
         "xaxis": "x2",
         "y": [
          2.6373344784495645,
          -1.9514781140231166,
          1.048759696978105,
          -1.2963473714495244,
          0.27694889027081887,
          0.692496688521014,
          0.07606444168264838,
          -0.6406801537579438,
          -0.6800911741187079,
          -0.8518888122997218,
          -0.7791147369734518,
          -0.6734941267402332,
          1.0167773412090835,
          0.23352732552763336,
          0.6163742442520982,
          -0.062319690042786834,
          0.4481652315232757,
          -0.02433885182191795,
          -0.4495406344066845,
          0.256728595894281,
          -0.14869432230647567,
          -1.2719115094158837,
          -0.18309035858598605,
          0.9512382104394191,
          -1.3351222343701932,
          0.8118457968750349,
          -0.4592579259017499,
          0.017322515641877596,
          -0.10874037092289358,
          0.7231418010819272,
          0.24488018614133208,
          -0.5002111461510281,
          -0.6789918892111676,
          1.0651918883435525,
          -0.29021561808912394,
          -0.5543716289854907,
          0.25805961156717533,
          -0.24712456122109305,
          0.7710767621589241,
          -1.1037831746949724,
          1.634401350202134,
          -0.6841000935514857,
          0.41030079756170595,
          0.9058247386329331,
          -2.3161672250434076,
          0.8233980785593794,
          1.892568603868356,
          1.1105016985095562,
          1.0807787816525551,
          0.26329482385854525,
          0.6811746578863037,
          1.5953539436930355,
          -0.8709560373194579,
          1.133535395435486,
          1.993229916325945,
          -1.7783792766437496,
          -1.028962145596852,
          0.11030844695762584,
          0.07519092337124138,
          0.4998945230505707,
          -0.14543010621768782,
          2.006305468029981,
          0.02027007279842382,
          -0.5024886909118702,
          0.9748120761643012,
          -0.42348555508138697,
          0.11543167395240778,
          0.312886660558503,
          -0.24027670045074928,
          0.3752446493239127,
          0.1211156796304035,
          -0.6445287847348729,
          0.2764578536695193,
          0.10937742078251535,
          -1.655221776282199,
          -0.52926779494393,
          0.456193201572975,
          0.5155302426268643,
          -0.139552865775506,
          0.7012109814926522,
          -1.113704268358639,
          -1.9031496623660287,
          -1.0805160223732262,
          -1.4413303548350294,
          0.4576522935107792,
          1.4630078606653885,
          -1.2489647067372125,
          -0.6250555560710132,
          -0.10145369069764623,
          0.138125916178685,
          -1.4996158840708063,
          1.5118801883843067,
          -0.1993334647684355,
          0.0031373104395526923,
          1.3583255766429585,
          -1.2406567590300575,
          -0.5432080731603196,
          0.013525641271830868,
          -0.6655652043632769,
          0.9079388521323659
         ],
         "yaxis": "y2"
        },
        {
         "line": {
          "color": "rgba(128, 128, 128, 1.0)",
          "dash": "solid",
          "shape": "linear",
          "width": 1.3
         },
         "marker": {
          "size": 2,
          "symbol": "circle"
         },
         "mode": "markers",
         "name": "A",
         "text": "",
         "type": "scatter",
         "x": [
          1.4498618288752683,
          1.7328385294714626,
          1.004029008894011,
          -1.6062799113700785,
          0.10683529586961767,
          -0.9227494274259259,
          0.5016233374493976,
          0.4354959107702326,
          -0.981635039698152,
          0.28224061934882305,
          0.5883067823745549,
          -0.6446220549102041,
          1.768397668585287,
          0.32338086206029415,
          -0.6089631213972786,
          -0.15129613728977628,
          -0.3144696304365042,
          0.5227768411444701,
          1.6614567904707604,
          -0.4869697386654161,
          0.19398758454251058,
          0.8575978399112405,
          0.26381374000339447,
          -0.9103604354300123,
          0.5893877833130567,
          0.8279645023396632,
          0.01918743234644123,
          -0.9664222932991421,
          -0.6087572488542209,
          -0.9882009943289728,
          0.5434582351840901,
          -0.4812707455824255,
          0.5398624960803878,
          0.07351615050022245,
          -0.3210454754474769,
          -0.2821986291700468,
          -0.8092585537606711,
          -0.47575748700220716,
          0.037940755559431404,
          1.2174504410859734,
          0.8096217559663961,
          1.199037661245566,
          -2.6137452389556706,
          1.8017531439695935,
          0.7223063986846324,
          1.9162335165144655,
          -0.938633398487276,
          0.08178004193787466,
          -1.1028424257647615,
          0.3622292444051127,
          0.7400190974839389,
          1.7780673644609164,
          0.6884856774045507,
          -1.6597689767374229,
          0.4600551461952232,
          -1.9712567864189725,
          -1.8142214238159273,
          -0.677006487182066,
          0.028750448897952474,
          0.9034262142857564,
          -1.0675149990814656,
          -0.2387559638776159,
          0.337658907093047,
          1.0933290047093895,
          1.0848457209409406,
          0.2909426767810236,
          1.27184614625548,
          -0.39949098889170837,
          -0.44561670717636037,
          -0.7231984682824852,
          0.44266707629108853,
          0.49334567974278326,
          -1.043205922737734,
          0.533815468923195,
          0.0258742485257691,
          -0.04704901221899354,
          0.031243252497379484,
          -0.588683452669337,
          -0.1859260710197727,
          -0.7612975393485383,
          -0.31002788643206625,
          -0.9541081966716133,
          -1.2784860040761195,
          -0.09907495519478068,
          0.14533700386121376,
          -0.468672665870601,
          0.9158383776779138,
          0.2705739668923256,
          -1.0495071745403368,
          0.010182105127980824,
          0.4816408618138371,
          0.7387513938876691,
          -2.2736959595736908,
          1.5595974707953337,
          0.09698004787927725,
          0.9075739425020036,
          -1.2106168525632064,
          -0.2797082884843704,
          -0.01211438348049651,
          0.15671383784238285
         ],
         "xaxis": "x3",
         "y": [
          2.6373344784495645,
          -1.9514781140231166,
          1.048759696978105,
          -1.2963473714495244,
          0.27694889027081887,
          0.692496688521014,
          0.07606444168264838,
          -0.6406801537579438,
          -0.6800911741187079,
          -0.8518888122997218,
          -0.7791147369734518,
          -0.6734941267402332,
          1.0167773412090835,
          0.23352732552763336,
          0.6163742442520982,
          -0.062319690042786834,
          0.4481652315232757,
          -0.02433885182191795,
          -0.4495406344066845,
          0.256728595894281,
          -0.14869432230647567,
          -1.2719115094158837,
          -0.18309035858598605,
          0.9512382104394191,
          -1.3351222343701932,
          0.8118457968750349,
          -0.4592579259017499,
          0.017322515641877596,
          -0.10874037092289358,
          0.7231418010819272,
          0.24488018614133208,
          -0.5002111461510281,
          -0.6789918892111676,
          1.0651918883435525,
          -0.29021561808912394,
          -0.5543716289854907,
          0.25805961156717533,
          -0.24712456122109305,
          0.7710767621589241,
          -1.1037831746949724,
          1.634401350202134,
          -0.6841000935514857,
          0.41030079756170595,
          0.9058247386329331,
          -2.3161672250434076,
          0.8233980785593794,
          1.892568603868356,
          1.1105016985095562,
          1.0807787816525551,
          0.26329482385854525,
          0.6811746578863037,
          1.5953539436930355,
          -0.8709560373194579,
          1.133535395435486,
          1.993229916325945,
          -1.7783792766437496,
          -1.028962145596852,
          0.11030844695762584,
          0.07519092337124138,
          0.4998945230505707,
          -0.14543010621768782,
          2.006305468029981,
          0.02027007279842382,
          -0.5024886909118702,
          0.9748120761643012,
          -0.42348555508138697,
          0.11543167395240778,
          0.312886660558503,
          -0.24027670045074928,
          0.3752446493239127,
          0.1211156796304035,
          -0.6445287847348729,
          0.2764578536695193,
          0.10937742078251535,
          -1.655221776282199,
          -0.52926779494393,
          0.456193201572975,
          0.5155302426268643,
          -0.139552865775506,
          0.7012109814926522,
          -1.113704268358639,
          -1.9031496623660287,
          -1.0805160223732262,
          -1.4413303548350294,
          0.4576522935107792,
          1.4630078606653885,
          -1.2489647067372125,
          -0.6250555560710132,
          -0.10145369069764623,
          0.138125916178685,
          -1.4996158840708063,
          1.5118801883843067,
          -0.1993334647684355,
          0.0031373104395526923,
          1.3583255766429585,
          -1.2406567590300575,
          -0.5432080731603196,
          0.013525641271830868,
          -0.6655652043632769,
          0.9079388521323659
         ],
         "yaxis": "y3"
        },
        {
         "line": {
          "color": "rgba(128, 128, 128, 1.0)",
          "dash": "solid",
          "shape": "linear",
          "width": 1.3
         },
         "marker": {
          "size": 2,
          "symbol": "circle"
         },
         "mode": "markers",
         "name": "A",
         "text": "",
         "type": "scatter",
         "x": [
          0.5890479225695289,
          -1.8800411793152518,
          0.10532538331081642,
          1.304760382357214,
          -1.5207865261635254,
          0.80535504560426,
          -0.016330642922064067,
          0.02346801037178581,
          1.7187522662306425,
          -2.1955063834539095,
          -0.5769981172028733,
          0.09000375755023558,
          -1.8624235173191004,
          -1.1009286359164434,
          0.15449174404624288,
          -0.42030335631153876,
          -1.2256200134025306,
          -0.6523156049271698,
          2.1418338776140713,
          -0.19855603884017475,
          0.16109942465094543,
          1.3361635559784157,
          -0.9819981197421579,
          0.9642739356717789,
          -0.6562500412096507,
          0.1112529484100331,
          -0.6398772958913014,
          0.42268956402601804,
          -0.025294790234960885,
          -0.030153433080490136,
          -0.8313725843186645,
          -0.938201127839907,
          -1.911009011521281,
          0.8720607514505231,
          0.20159372153891028,
          0.23854622358629274,
          1.0357643646879247,
          -0.6222508816703947,
          -0.201051672633647,
          0.10920878354186614,
          1.2931967890721783,
          0.4003630051396867,
          0.9347665699410361,
          -0.40133229197578224,
          1.5820953338987511,
          0.5443403357634087,
          0.0924046147742567,
          0.8409666621612053,
          0.023884694373222874,
          0.8002845648753338,
          -0.36760501095246834,
          -1.0515766041945838,
          0.25523843882386366,
          0.5916949790905618,
          -1.0888968601899538,
          -0.5693980953228801,
          1.4241100987389872,
          -1.4877147062766232,
          1.8964324401552328,
          0.8073979821389569,
          0.5757146381949131,
          -1.0088956105103228,
          1.1580015396293046,
          0.8755378007049406,
          0.061826717503275556,
          0.367970255682253,
          -0.1353273470208465,
          -1.218789274166298,
          0.7635454904032188,
          -1.1824825314425427,
          -0.9522044303030941,
          -0.421519984789472,
          -1.8914640355164,
          0.04257370988149448,
          -0.347977886168004,
          0.47268827424963816,
          1.3983171133480505,
          -1.5121319797280075,
          0.7234650439386268,
          0.03972270240900846,
          0.3611548111125105,
          0.9080514626747183,
          -0.41115121905120605,
          0.3862596497626326,
          -0.6398397853488617,
          -0.5966853595462834,
          -1.194536857405595,
          0.29658390402603535,
          0.44733922912517365,
          -0.6156507465655643,
          -0.7913395436051006,
          0.8477144688179395,
          1.3416561326521723,
          1.4327616831608472,
          -0.23062208960279115,
          0.6442741499092415,
          -0.6184935147963586,
          -2.4488058934072754,
          -0.9749751937995255,
          1.1575746951540418
         ],
         "xaxis": "x4",
         "y": [
          2.6373344784495645,
          -1.9514781140231166,
          1.048759696978105,
          -1.2963473714495244,
          0.27694889027081887,
          0.692496688521014,
          0.07606444168264838,
          -0.6406801537579438,
          -0.6800911741187079,
          -0.8518888122997218,
          -0.7791147369734518,
          -0.6734941267402332,
          1.0167773412090835,
          0.23352732552763336,
          0.6163742442520982,
          -0.062319690042786834,
          0.4481652315232757,
          -0.02433885182191795,
          -0.4495406344066845,
          0.256728595894281,
          -0.14869432230647567,
          -1.2719115094158837,
          -0.18309035858598605,
          0.9512382104394191,
          -1.3351222343701932,
          0.8118457968750349,
          -0.4592579259017499,
          0.017322515641877596,
          -0.10874037092289358,
          0.7231418010819272,
          0.24488018614133208,
          -0.5002111461510281,
          -0.6789918892111676,
          1.0651918883435525,
          -0.29021561808912394,
          -0.5543716289854907,
          0.25805961156717533,
          -0.24712456122109305,
          0.7710767621589241,
          -1.1037831746949724,
          1.634401350202134,
          -0.6841000935514857,
          0.41030079756170595,
          0.9058247386329331,
          -2.3161672250434076,
          0.8233980785593794,
          1.892568603868356,
          1.1105016985095562,
          1.0807787816525551,
          0.26329482385854525,
          0.6811746578863037,
          1.5953539436930355,
          -0.8709560373194579,
          1.133535395435486,
          1.993229916325945,
          -1.7783792766437496,
          -1.028962145596852,
          0.11030844695762584,
          0.07519092337124138,
          0.4998945230505707,
          -0.14543010621768782,
          2.006305468029981,
          0.02027007279842382,
          -0.5024886909118702,
          0.9748120761643012,
          -0.42348555508138697,
          0.11543167395240778,
          0.312886660558503,
          -0.24027670045074928,
          0.3752446493239127,
          0.1211156796304035,
          -0.6445287847348729,
          0.2764578536695193,
          0.10937742078251535,
          -1.655221776282199,
          -0.52926779494393,
          0.456193201572975,
          0.5155302426268643,
          -0.139552865775506,
          0.7012109814926522,
          -1.113704268358639,
          -1.9031496623660287,
          -1.0805160223732262,
          -1.4413303548350294,
          0.4576522935107792,
          1.4630078606653885,
          -1.2489647067372125,
          -0.6250555560710132,
          -0.10145369069764623,
          0.138125916178685,
          -1.4996158840708063,
          1.5118801883843067,
          -0.1993334647684355,
          0.0031373104395526923,
          1.3583255766429585,
          -1.2406567590300575,
          -0.5432080731603196,
          0.013525641271830868,
          -0.6655652043632769,
          0.9079388521323659
         ],
         "yaxis": "y4"
        },
        {
         "line": {
          "color": "rgba(128, 128, 128, 1.0)",
          "dash": "solid",
          "shape": "linear",
          "width": 1.3
         },
         "marker": {
          "size": 2,
          "symbol": "circle"
         },
         "mode": "markers",
         "name": "B",
         "text": "",
         "type": "scatter",
         "x": [
          2.6373344784495645,
          -1.9514781140231166,
          1.048759696978105,
          -1.2963473714495244,
          0.27694889027081887,
          0.692496688521014,
          0.07606444168264838,
          -0.6406801537579438,
          -0.6800911741187079,
          -0.8518888122997218,
          -0.7791147369734518,
          -0.6734941267402332,
          1.0167773412090835,
          0.23352732552763336,
          0.6163742442520982,
          -0.062319690042786834,
          0.4481652315232757,
          -0.02433885182191795,
          -0.4495406344066845,
          0.256728595894281,
          -0.14869432230647567,
          -1.2719115094158837,
          -0.18309035858598605,
          0.9512382104394191,
          -1.3351222343701932,
          0.8118457968750349,
          -0.4592579259017499,
          0.017322515641877596,
          -0.10874037092289358,
          0.7231418010819272,
          0.24488018614133208,
          -0.5002111461510281,
          -0.6789918892111676,
          1.0651918883435525,
          -0.29021561808912394,
          -0.5543716289854907,
          0.25805961156717533,
          -0.24712456122109305,
          0.7710767621589241,
          -1.1037831746949724,
          1.634401350202134,
          -0.6841000935514857,
          0.41030079756170595,
          0.9058247386329331,
          -2.3161672250434076,
          0.8233980785593794,
          1.892568603868356,
          1.1105016985095562,
          1.0807787816525551,
          0.26329482385854525,
          0.6811746578863037,
          1.5953539436930355,
          -0.8709560373194579,
          1.133535395435486,
          1.993229916325945,
          -1.7783792766437496,
          -1.028962145596852,
          0.11030844695762584,
          0.07519092337124138,
          0.4998945230505707,
          -0.14543010621768782,
          2.006305468029981,
          0.02027007279842382,
          -0.5024886909118702,
          0.9748120761643012,
          -0.42348555508138697,
          0.11543167395240778,
          0.312886660558503,
          -0.24027670045074928,
          0.3752446493239127,
          0.1211156796304035,
          -0.6445287847348729,
          0.2764578536695193,
          0.10937742078251535,
          -1.655221776282199,
          -0.52926779494393,
          0.456193201572975,
          0.5155302426268643,
          -0.139552865775506,
          0.7012109814926522,
          -1.113704268358639,
          -1.9031496623660287,
          -1.0805160223732262,
          -1.4413303548350294,
          0.4576522935107792,
          1.4630078606653885,
          -1.2489647067372125,
          -0.6250555560710132,
          -0.10145369069764623,
          0.138125916178685,
          -1.4996158840708063,
          1.5118801883843067,
          -0.1993334647684355,
          0.0031373104395526923,
          1.3583255766429585,
          -1.2406567590300575,
          -0.5432080731603196,
          0.013525641271830868,
          -0.6655652043632769,
          0.9079388521323659
         ],
         "xaxis": "x5",
         "y": [
          -2.284695843780699,
          -0.12897863957239397,
          -0.5960163415525992,
          0.6927278091908197,
          -1.073096401837728,
          -0.5784207622519486,
          -0.23519756874658382,
          -0.9451011638490537,
          -1.063843416629175,
          0.6756848161415443,
          0.8151176376126024,
          -0.8913414043464327,
          1.586858684811914,
          -0.49092565487567463,
          -1.2918634219359029,
          0.5036484512397292,
          -0.6014396795922873,
          0.43023242215496327,
          -0.5140747441600014,
          -1.64299938662231,
          0.19220870639914056,
          0.8203705341311345,
          -1.3573891161830567,
          0.9824384134933203,
          -0.4431038482458481,
          0.831281467639583,
          0.5991381056360517,
          -0.19798352319493737,
          1.6225181625321803,
          0.15865883270680928,
          -0.24062204610389426,
          -0.17416125564133053,
          1.0077119144555593,
          1.7385666186605993,
          -0.2493143010520831,
          1.427211355261423,
          -0.10332308539021648,
          -0.16680760836093397,
          2.0625300652181706,
          -0.029300367935213394,
          2.8039443472510506,
          0.346449737438328,
          -0.32633297104558556,
          -0.046492928263603656,
          -0.4363171197337111,
          0.056197128779733936,
          0.029384019930100338,
          0.7419514855583611,
          -0.5169707337572688,
          0.7157470081371733,
          0.36528987025749876,
          0.07089580181332032,
          0.5816741379834732,
          -1.980963012540804,
          1.5736259710506741,
          0.6377350546144804,
          -0.9773283769613775,
          0.6271683365660647,
          -0.20769018041276938,
          -0.13629364916807668,
          -1.0973203981421389,
          -0.5708035111791355,
          -1.4518036666885026,
          1.144197133868288,
          0.18607831353941073,
          -0.6319881383179478,
          -0.11362523685186736,
          0.040575359081890784,
          0.9243094765600892,
          -1.3476554400860434,
          -0.7963687182642614,
          0.6813966725874765,
          -0.3003150585184621,
          -1.7367007129274277,
          0.9276116141824441,
          -0.9356833375574491,
          0.0031066811508997944,
          -0.9927386805528503,
          2.4095902696689846,
          0.8022472832942091,
          0.18688783972328699,
          0.68311543513717,
          -0.5938759721272218,
          -0.14109286740742658,
          1.3991284943838274,
          0.3546468501567292,
          0.06716378301515893,
          1.4330738198409538,
          1.2093940166410524,
          -0.002097060041586007,
          -0.888013370871234,
          1.3046302754895798,
          -1.4518307583462837,
          -1.2772735047680706,
          0.5455088989553084,
          1.3906872989486303,
          -0.3322633074372016,
          1.4057999871358426,
          -1.6056202884422215,
          0.8482521990758864
         ],
         "yaxis": "y5"
        },
        {
         "histfunc": "count",
         "histnorm": "",
         "marker": {
          "color": "rgba(55, 128, 191, 1.0)",
          "line": {
           "color": "#4D5663",
           "width": 1.3
          }
         },
         "name": "B",
         "nbinsx": 10,
         "opacity": 0.8,
         "orientation": "v",
         "type": "histogram",
         "x": [
          -2.284695843780699,
          -0.12897863957239397,
          -0.5960163415525992,
          0.6927278091908197,
          -1.073096401837728,
          -0.5784207622519486,
          -0.23519756874658382,
          -0.9451011638490537,
          -1.063843416629175,
          0.6756848161415443,
          0.8151176376126024,
          -0.8913414043464327,
          1.586858684811914,
          -0.49092565487567463,
          -1.2918634219359029,
          0.5036484512397292,
          -0.6014396795922873,
          0.43023242215496327,
          -0.5140747441600014,
          -1.64299938662231,
          0.19220870639914056,
          0.8203705341311345,
          -1.3573891161830567,
          0.9824384134933203,
          -0.4431038482458481,
          0.831281467639583,
          0.5991381056360517,
          -0.19798352319493737,
          1.6225181625321803,
          0.15865883270680928,
          -0.24062204610389426,
          -0.17416125564133053,
          1.0077119144555593,
          1.7385666186605993,
          -0.2493143010520831,
          1.427211355261423,
          -0.10332308539021648,
          -0.16680760836093397,
          2.0625300652181706,
          -0.029300367935213394,
          2.8039443472510506,
          0.346449737438328,
          -0.32633297104558556,
          -0.046492928263603656,
          -0.4363171197337111,
          0.056197128779733936,
          0.029384019930100338,
          0.7419514855583611,
          -0.5169707337572688,
          0.7157470081371733,
          0.36528987025749876,
          0.07089580181332032,
          0.5816741379834732,
          -1.980963012540804,
          1.5736259710506741,
          0.6377350546144804,
          -0.9773283769613775,
          0.6271683365660647,
          -0.20769018041276938,
          -0.13629364916807668,
          -1.0973203981421389,
          -0.5708035111791355,
          -1.4518036666885026,
          1.144197133868288,
          0.18607831353941073,
          -0.6319881383179478,
          -0.11362523685186736,
          0.040575359081890784,
          0.9243094765600892,
          -1.3476554400860434,
          -0.7963687182642614,
          0.6813966725874765,
          -0.3003150585184621,
          -1.7367007129274277,
          0.9276116141824441,
          -0.9356833375574491,
          0.0031066811508997944,
          -0.9927386805528503,
          2.4095902696689846,
          0.8022472832942091,
          0.18688783972328699,
          0.68311543513717,
          -0.5938759721272218,
          -0.14109286740742658,
          1.3991284943838274,
          0.3546468501567292,
          0.06716378301515893,
          1.4330738198409538,
          1.2093940166410524,
          -0.002097060041586007,
          -0.888013370871234,
          1.3046302754895798,
          -1.4518307583462837,
          -1.2772735047680706,
          0.5455088989553084,
          1.3906872989486303,
          -0.3322633074372016,
          1.4057999871358426,
          -1.6056202884422215,
          0.8482521990758864
         ],
         "xaxis": "x6",
         "yaxis": "y6"
        },
        {
         "line": {
          "color": "rgba(128, 128, 128, 1.0)",
          "dash": "solid",
          "shape": "linear",
          "width": 1.3
         },
         "marker": {
          "size": 2,
          "symbol": "circle"
         },
         "mode": "markers",
         "name": "B",
         "text": "",
         "type": "scatter",
         "x": [
          1.4498618288752683,
          1.7328385294714626,
          1.004029008894011,
          -1.6062799113700785,
          0.10683529586961767,
          -0.9227494274259259,
          0.5016233374493976,
          0.4354959107702326,
          -0.981635039698152,
          0.28224061934882305,
          0.5883067823745549,
          -0.6446220549102041,
          1.768397668585287,
          0.32338086206029415,
          -0.6089631213972786,
          -0.15129613728977628,
          -0.3144696304365042,
          0.5227768411444701,
          1.6614567904707604,
          -0.4869697386654161,
          0.19398758454251058,
          0.8575978399112405,
          0.26381374000339447,
          -0.9103604354300123,
          0.5893877833130567,
          0.8279645023396632,
          0.01918743234644123,
          -0.9664222932991421,
          -0.6087572488542209,
          -0.9882009943289728,
          0.5434582351840901,
          -0.4812707455824255,
          0.5398624960803878,
          0.07351615050022245,
          -0.3210454754474769,
          -0.2821986291700468,
          -0.8092585537606711,
          -0.47575748700220716,
          0.037940755559431404,
          1.2174504410859734,
          0.8096217559663961,
          1.199037661245566,
          -2.6137452389556706,
          1.8017531439695935,
          0.7223063986846324,
          1.9162335165144655,
          -0.938633398487276,
          0.08178004193787466,
          -1.1028424257647615,
          0.3622292444051127,
          0.7400190974839389,
          1.7780673644609164,
          0.6884856774045507,
          -1.6597689767374229,
          0.4600551461952232,
          -1.9712567864189725,
          -1.8142214238159273,
          -0.677006487182066,
          0.028750448897952474,
          0.9034262142857564,
          -1.0675149990814656,
          -0.2387559638776159,
          0.337658907093047,
          1.0933290047093895,
          1.0848457209409406,
          0.2909426767810236,
          1.27184614625548,
          -0.39949098889170837,
          -0.44561670717636037,
          -0.7231984682824852,
          0.44266707629108853,
          0.49334567974278326,
          -1.043205922737734,
          0.533815468923195,
          0.0258742485257691,
          -0.04704901221899354,
          0.031243252497379484,
          -0.588683452669337,
          -0.1859260710197727,
          -0.7612975393485383,
          -0.31002788643206625,
          -0.9541081966716133,
          -1.2784860040761195,
          -0.09907495519478068,
          0.14533700386121376,
          -0.468672665870601,
          0.9158383776779138,
          0.2705739668923256,
          -1.0495071745403368,
          0.010182105127980824,
          0.4816408618138371,
          0.7387513938876691,
          -2.2736959595736908,
          1.5595974707953337,
          0.09698004787927725,
          0.9075739425020036,
          -1.2106168525632064,
          -0.2797082884843704,
          -0.01211438348049651,
          0.15671383784238285
         ],
         "xaxis": "x7",
         "y": [
          -2.284695843780699,
          -0.12897863957239397,
          -0.5960163415525992,
          0.6927278091908197,
          -1.073096401837728,
          -0.5784207622519486,
          -0.23519756874658382,
          -0.9451011638490537,
          -1.063843416629175,
          0.6756848161415443,
          0.8151176376126024,
          -0.8913414043464327,
          1.586858684811914,
          -0.49092565487567463,
          -1.2918634219359029,
          0.5036484512397292,
          -0.6014396795922873,
          0.43023242215496327,
          -0.5140747441600014,
          -1.64299938662231,
          0.19220870639914056,
          0.8203705341311345,
          -1.3573891161830567,
          0.9824384134933203,
          -0.4431038482458481,
          0.831281467639583,
          0.5991381056360517,
          -0.19798352319493737,
          1.6225181625321803,
          0.15865883270680928,
          -0.24062204610389426,
          -0.17416125564133053,
          1.0077119144555593,
          1.7385666186605993,
          -0.2493143010520831,
          1.427211355261423,
          -0.10332308539021648,
          -0.16680760836093397,
          2.0625300652181706,
          -0.029300367935213394,
          2.8039443472510506,
          0.346449737438328,
          -0.32633297104558556,
          -0.046492928263603656,
          -0.4363171197337111,
          0.056197128779733936,
          0.029384019930100338,
          0.7419514855583611,
          -0.5169707337572688,
          0.7157470081371733,
          0.36528987025749876,
          0.07089580181332032,
          0.5816741379834732,
          -1.980963012540804,
          1.5736259710506741,
          0.6377350546144804,
          -0.9773283769613775,
          0.6271683365660647,
          -0.20769018041276938,
          -0.13629364916807668,
          -1.0973203981421389,
          -0.5708035111791355,
          -1.4518036666885026,
          1.144197133868288,
          0.18607831353941073,
          -0.6319881383179478,
          -0.11362523685186736,
          0.040575359081890784,
          0.9243094765600892,
          -1.3476554400860434,
          -0.7963687182642614,
          0.6813966725874765,
          -0.3003150585184621,
          -1.7367007129274277,
          0.9276116141824441,
          -0.9356833375574491,
          0.0031066811508997944,
          -0.9927386805528503,
          2.4095902696689846,
          0.8022472832942091,
          0.18688783972328699,
          0.68311543513717,
          -0.5938759721272218,
          -0.14109286740742658,
          1.3991284943838274,
          0.3546468501567292,
          0.06716378301515893,
          1.4330738198409538,
          1.2093940166410524,
          -0.002097060041586007,
          -0.888013370871234,
          1.3046302754895798,
          -1.4518307583462837,
          -1.2772735047680706,
          0.5455088989553084,
          1.3906872989486303,
          -0.3322633074372016,
          1.4057999871358426,
          -1.6056202884422215,
          0.8482521990758864
         ],
         "yaxis": "y7"
        },
        {
         "line": {
          "color": "rgba(128, 128, 128, 1.0)",
          "dash": "solid",
          "shape": "linear",
          "width": 1.3
         },
         "marker": {
          "size": 2,
          "symbol": "circle"
         },
         "mode": "markers",
         "name": "B",
         "text": "",
         "type": "scatter",
         "x": [
          0.5890479225695289,
          -1.8800411793152518,
          0.10532538331081642,
          1.304760382357214,
          -1.5207865261635254,
          0.80535504560426,
          -0.016330642922064067,
          0.02346801037178581,
          1.7187522662306425,
          -2.1955063834539095,
          -0.5769981172028733,
          0.09000375755023558,
          -1.8624235173191004,
          -1.1009286359164434,
          0.15449174404624288,
          -0.42030335631153876,
          -1.2256200134025306,
          -0.6523156049271698,
          2.1418338776140713,
          -0.19855603884017475,
          0.16109942465094543,
          1.3361635559784157,
          -0.9819981197421579,
          0.9642739356717789,
          -0.6562500412096507,
          0.1112529484100331,
          -0.6398772958913014,
          0.42268956402601804,
          -0.025294790234960885,
          -0.030153433080490136,
          -0.8313725843186645,
          -0.938201127839907,
          -1.911009011521281,
          0.8720607514505231,
          0.20159372153891028,
          0.23854622358629274,
          1.0357643646879247,
          -0.6222508816703947,
          -0.201051672633647,
          0.10920878354186614,
          1.2931967890721783,
          0.4003630051396867,
          0.9347665699410361,
          -0.40133229197578224,
          1.5820953338987511,
          0.5443403357634087,
          0.0924046147742567,
          0.8409666621612053,
          0.023884694373222874,
          0.8002845648753338,
          -0.36760501095246834,
          -1.0515766041945838,
          0.25523843882386366,
          0.5916949790905618,
          -1.0888968601899538,
          -0.5693980953228801,
          1.4241100987389872,
          -1.4877147062766232,
          1.8964324401552328,
          0.8073979821389569,
          0.5757146381949131,
          -1.0088956105103228,
          1.1580015396293046,
          0.8755378007049406,
          0.061826717503275556,
          0.367970255682253,
          -0.1353273470208465,
          -1.218789274166298,
          0.7635454904032188,
          -1.1824825314425427,
          -0.9522044303030941,
          -0.421519984789472,
          -1.8914640355164,
          0.04257370988149448,
          -0.347977886168004,
          0.47268827424963816,
          1.3983171133480505,
          -1.5121319797280075,
          0.7234650439386268,
          0.03972270240900846,
          0.3611548111125105,
          0.9080514626747183,
          -0.41115121905120605,
          0.3862596497626326,
          -0.6398397853488617,
          -0.5966853595462834,
          -1.194536857405595,
          0.29658390402603535,
          0.44733922912517365,
          -0.6156507465655643,
          -0.7913395436051006,
          0.8477144688179395,
          1.3416561326521723,
          1.4327616831608472,
          -0.23062208960279115,
          0.6442741499092415,
          -0.6184935147963586,
          -2.4488058934072754,
          -0.9749751937995255,
          1.1575746951540418
         ],
         "xaxis": "x8",
         "y": [
          -2.284695843780699,
          -0.12897863957239397,
          -0.5960163415525992,
          0.6927278091908197,
          -1.073096401837728,
          -0.5784207622519486,
          -0.23519756874658382,
          -0.9451011638490537,
          -1.063843416629175,
          0.6756848161415443,
          0.8151176376126024,
          -0.8913414043464327,
          1.586858684811914,
          -0.49092565487567463,
          -1.2918634219359029,
          0.5036484512397292,
          -0.6014396795922873,
          0.43023242215496327,
          -0.5140747441600014,
          -1.64299938662231,
          0.19220870639914056,
          0.8203705341311345,
          -1.3573891161830567,
          0.9824384134933203,
          -0.4431038482458481,
          0.831281467639583,
          0.5991381056360517,
          -0.19798352319493737,
          1.6225181625321803,
          0.15865883270680928,
          -0.24062204610389426,
          -0.17416125564133053,
          1.0077119144555593,
          1.7385666186605993,
          -0.2493143010520831,
          1.427211355261423,
          -0.10332308539021648,
          -0.16680760836093397,
          2.0625300652181706,
          -0.029300367935213394,
          2.8039443472510506,
          0.346449737438328,
          -0.32633297104558556,
          -0.046492928263603656,
          -0.4363171197337111,
          0.056197128779733936,
          0.029384019930100338,
          0.7419514855583611,
          -0.5169707337572688,
          0.7157470081371733,
          0.36528987025749876,
          0.07089580181332032,
          0.5816741379834732,
          -1.980963012540804,
          1.5736259710506741,
          0.6377350546144804,
          -0.9773283769613775,
          0.6271683365660647,
          -0.20769018041276938,
          -0.13629364916807668,
          -1.0973203981421389,
          -0.5708035111791355,
          -1.4518036666885026,
          1.144197133868288,
          0.18607831353941073,
          -0.6319881383179478,
          -0.11362523685186736,
          0.040575359081890784,
          0.9243094765600892,
          -1.3476554400860434,
          -0.7963687182642614,
          0.6813966725874765,
          -0.3003150585184621,
          -1.7367007129274277,
          0.9276116141824441,
          -0.9356833375574491,
          0.0031066811508997944,
          -0.9927386805528503,
          2.4095902696689846,
          0.8022472832942091,
          0.18688783972328699,
          0.68311543513717,
          -0.5938759721272218,
          -0.14109286740742658,
          1.3991284943838274,
          0.3546468501567292,
          0.06716378301515893,
          1.4330738198409538,
          1.2093940166410524,
          -0.002097060041586007,
          -0.888013370871234,
          1.3046302754895798,
          -1.4518307583462837,
          -1.2772735047680706,
          0.5455088989553084,
          1.3906872989486303,
          -0.3322633074372016,
          1.4057999871358426,
          -1.6056202884422215,
          0.8482521990758864
         ],
         "yaxis": "y8"
        },
        {
         "line": {
          "color": "rgba(128, 128, 128, 1.0)",
          "dash": "solid",
          "shape": "linear",
          "width": 1.3
         },
         "marker": {
          "size": 2,
          "symbol": "circle"
         },
         "mode": "markers",
         "name": "C",
         "text": "",
         "type": "scatter",
         "x": [
          2.6373344784495645,
          -1.9514781140231166,
          1.048759696978105,
          -1.2963473714495244,
          0.27694889027081887,
          0.692496688521014,
          0.07606444168264838,
          -0.6406801537579438,
          -0.6800911741187079,
          -0.8518888122997218,
          -0.7791147369734518,
          -0.6734941267402332,
          1.0167773412090835,
          0.23352732552763336,
          0.6163742442520982,
          -0.062319690042786834,
          0.4481652315232757,
          -0.02433885182191795,
          -0.4495406344066845,
          0.256728595894281,
          -0.14869432230647567,
          -1.2719115094158837,
          -0.18309035858598605,
          0.9512382104394191,
          -1.3351222343701932,
          0.8118457968750349,
          -0.4592579259017499,
          0.017322515641877596,
          -0.10874037092289358,
          0.7231418010819272,
          0.24488018614133208,
          -0.5002111461510281,
          -0.6789918892111676,
          1.0651918883435525,
          -0.29021561808912394,
          -0.5543716289854907,
          0.25805961156717533,
          -0.24712456122109305,
          0.7710767621589241,
          -1.1037831746949724,
          1.634401350202134,
          -0.6841000935514857,
          0.41030079756170595,
          0.9058247386329331,
          -2.3161672250434076,
          0.8233980785593794,
          1.892568603868356,
          1.1105016985095562,
          1.0807787816525551,
          0.26329482385854525,
          0.6811746578863037,
          1.5953539436930355,
          -0.8709560373194579,
          1.133535395435486,
          1.993229916325945,
          -1.7783792766437496,
          -1.028962145596852,
          0.11030844695762584,
          0.07519092337124138,
          0.4998945230505707,
          -0.14543010621768782,
          2.006305468029981,
          0.02027007279842382,
          -0.5024886909118702,
          0.9748120761643012,
          -0.42348555508138697,
          0.11543167395240778,
          0.312886660558503,
          -0.24027670045074928,
          0.3752446493239127,
          0.1211156796304035,
          -0.6445287847348729,
          0.2764578536695193,
          0.10937742078251535,
          -1.655221776282199,
          -0.52926779494393,
          0.456193201572975,
          0.5155302426268643,
          -0.139552865775506,
          0.7012109814926522,
          -1.113704268358639,
          -1.9031496623660287,
          -1.0805160223732262,
          -1.4413303548350294,
          0.4576522935107792,
          1.4630078606653885,
          -1.2489647067372125,
          -0.6250555560710132,
          -0.10145369069764623,
          0.138125916178685,
          -1.4996158840708063,
          1.5118801883843067,
          -0.1993334647684355,
          0.0031373104395526923,
          1.3583255766429585,
          -1.2406567590300575,
          -0.5432080731603196,
          0.013525641271830868,
          -0.6655652043632769,
          0.9079388521323659
         ],
         "xaxis": "x9",
         "y": [
          1.4498618288752683,
          1.7328385294714626,
          1.004029008894011,
          -1.6062799113700785,
          0.10683529586961767,
          -0.9227494274259259,
          0.5016233374493976,
          0.4354959107702326,
          -0.981635039698152,
          0.28224061934882305,
          0.5883067823745549,
          -0.6446220549102041,
          1.768397668585287,
          0.32338086206029415,
          -0.6089631213972786,
          -0.15129613728977628,
          -0.3144696304365042,
          0.5227768411444701,
          1.6614567904707604,
          -0.4869697386654161,
          0.19398758454251058,
          0.8575978399112405,
          0.26381374000339447,
          -0.9103604354300123,
          0.5893877833130567,
          0.8279645023396632,
          0.01918743234644123,
          -0.9664222932991421,
          -0.6087572488542209,
          -0.9882009943289728,
          0.5434582351840901,
          -0.4812707455824255,
          0.5398624960803878,
          0.07351615050022245,
          -0.3210454754474769,
          -0.2821986291700468,
          -0.8092585537606711,
          -0.47575748700220716,
          0.037940755559431404,
          1.2174504410859734,
          0.8096217559663961,
          1.199037661245566,
          -2.6137452389556706,
          1.8017531439695935,
          0.7223063986846324,
          1.9162335165144655,
          -0.938633398487276,
          0.08178004193787466,
          -1.1028424257647615,
          0.3622292444051127,
          0.7400190974839389,
          1.7780673644609164,
          0.6884856774045507,
          -1.6597689767374229,
          0.4600551461952232,
          -1.9712567864189725,
          -1.8142214238159273,
          -0.677006487182066,
          0.028750448897952474,
          0.9034262142857564,
          -1.0675149990814656,
          -0.2387559638776159,
          0.337658907093047,
          1.0933290047093895,
          1.0848457209409406,
          0.2909426767810236,
          1.27184614625548,
          -0.39949098889170837,
          -0.44561670717636037,
          -0.7231984682824852,
          0.44266707629108853,
          0.49334567974278326,
          -1.043205922737734,
          0.533815468923195,
          0.0258742485257691,
          -0.04704901221899354,
          0.031243252497379484,
          -0.588683452669337,
          -0.1859260710197727,
          -0.7612975393485383,
          -0.31002788643206625,
          -0.9541081966716133,
          -1.2784860040761195,
          -0.09907495519478068,
          0.14533700386121376,
          -0.468672665870601,
          0.9158383776779138,
          0.2705739668923256,
          -1.0495071745403368,
          0.010182105127980824,
          0.4816408618138371,
          0.7387513938876691,
          -2.2736959595736908,
          1.5595974707953337,
          0.09698004787927725,
          0.9075739425020036,
          -1.2106168525632064,
          -0.2797082884843704,
          -0.01211438348049651,
          0.15671383784238285
         ],
         "yaxis": "y9"
        },
        {
         "line": {
          "color": "rgba(128, 128, 128, 1.0)",
          "dash": "solid",
          "shape": "linear",
          "width": 1.3
         },
         "marker": {
          "size": 2,
          "symbol": "circle"
         },
         "mode": "markers",
         "name": "C",
         "text": "",
         "type": "scatter",
         "x": [
          -2.284695843780699,
          -0.12897863957239397,
          -0.5960163415525992,
          0.6927278091908197,
          -1.073096401837728,
          -0.5784207622519486,
          -0.23519756874658382,
          -0.9451011638490537,
          -1.063843416629175,
          0.6756848161415443,
          0.8151176376126024,
          -0.8913414043464327,
          1.586858684811914,
          -0.49092565487567463,
          -1.2918634219359029,
          0.5036484512397292,
          -0.6014396795922873,
          0.43023242215496327,
          -0.5140747441600014,
          -1.64299938662231,
          0.19220870639914056,
          0.8203705341311345,
          -1.3573891161830567,
          0.9824384134933203,
          -0.4431038482458481,
          0.831281467639583,
          0.5991381056360517,
          -0.19798352319493737,
          1.6225181625321803,
          0.15865883270680928,
          -0.24062204610389426,
          -0.17416125564133053,
          1.0077119144555593,
          1.7385666186605993,
          -0.2493143010520831,
          1.427211355261423,
          -0.10332308539021648,
          -0.16680760836093397,
          2.0625300652181706,
          -0.029300367935213394,
          2.8039443472510506,
          0.346449737438328,
          -0.32633297104558556,
          -0.046492928263603656,
          -0.4363171197337111,
          0.056197128779733936,
          0.029384019930100338,
          0.7419514855583611,
          -0.5169707337572688,
          0.7157470081371733,
          0.36528987025749876,
          0.07089580181332032,
          0.5816741379834732,
          -1.980963012540804,
          1.5736259710506741,
          0.6377350546144804,
          -0.9773283769613775,
          0.6271683365660647,
          -0.20769018041276938,
          -0.13629364916807668,
          -1.0973203981421389,
          -0.5708035111791355,
          -1.4518036666885026,
          1.144197133868288,
          0.18607831353941073,
          -0.6319881383179478,
          -0.11362523685186736,
          0.040575359081890784,
          0.9243094765600892,
          -1.3476554400860434,
          -0.7963687182642614,
          0.6813966725874765,
          -0.3003150585184621,
          -1.7367007129274277,
          0.9276116141824441,
          -0.9356833375574491,
          0.0031066811508997944,
          -0.9927386805528503,
          2.4095902696689846,
          0.8022472832942091,
          0.18688783972328699,
          0.68311543513717,
          -0.5938759721272218,
          -0.14109286740742658,
          1.3991284943838274,
          0.3546468501567292,
          0.06716378301515893,
          1.4330738198409538,
          1.2093940166410524,
          -0.002097060041586007,
          -0.888013370871234,
          1.3046302754895798,
          -1.4518307583462837,
          -1.2772735047680706,
          0.5455088989553084,
          1.3906872989486303,
          -0.3322633074372016,
          1.4057999871358426,
          -1.6056202884422215,
          0.8482521990758864
         ],
         "xaxis": "x10",
         "y": [
          1.4498618288752683,
          1.7328385294714626,
          1.004029008894011,
          -1.6062799113700785,
          0.10683529586961767,
          -0.9227494274259259,
          0.5016233374493976,
          0.4354959107702326,
          -0.981635039698152,
          0.28224061934882305,
          0.5883067823745549,
          -0.6446220549102041,
          1.768397668585287,
          0.32338086206029415,
          -0.6089631213972786,
          -0.15129613728977628,
          -0.3144696304365042,
          0.5227768411444701,
          1.6614567904707604,
          -0.4869697386654161,
          0.19398758454251058,
          0.8575978399112405,
          0.26381374000339447,
          -0.9103604354300123,
          0.5893877833130567,
          0.8279645023396632,
          0.01918743234644123,
          -0.9664222932991421,
          -0.6087572488542209,
          -0.9882009943289728,
          0.5434582351840901,
          -0.4812707455824255,
          0.5398624960803878,
          0.07351615050022245,
          -0.3210454754474769,
          -0.2821986291700468,
          -0.8092585537606711,
          -0.47575748700220716,
          0.037940755559431404,
          1.2174504410859734,
          0.8096217559663961,
          1.199037661245566,
          -2.6137452389556706,
          1.8017531439695935,
          0.7223063986846324,
          1.9162335165144655,
          -0.938633398487276,
          0.08178004193787466,
          -1.1028424257647615,
          0.3622292444051127,
          0.7400190974839389,
          1.7780673644609164,
          0.6884856774045507,
          -1.6597689767374229,
          0.4600551461952232,
          -1.9712567864189725,
          -1.8142214238159273,
          -0.677006487182066,
          0.028750448897952474,
          0.9034262142857564,
          -1.0675149990814656,
          -0.2387559638776159,
          0.337658907093047,
          1.0933290047093895,
          1.0848457209409406,
          0.2909426767810236,
          1.27184614625548,
          -0.39949098889170837,
          -0.44561670717636037,
          -0.7231984682824852,
          0.44266707629108853,
          0.49334567974278326,
          -1.043205922737734,
          0.533815468923195,
          0.0258742485257691,
          -0.04704901221899354,
          0.031243252497379484,
          -0.588683452669337,
          -0.1859260710197727,
          -0.7612975393485383,
          -0.31002788643206625,
          -0.9541081966716133,
          -1.2784860040761195,
          -0.09907495519478068,
          0.14533700386121376,
          -0.468672665870601,
          0.9158383776779138,
          0.2705739668923256,
          -1.0495071745403368,
          0.010182105127980824,
          0.4816408618138371,
          0.7387513938876691,
          -2.2736959595736908,
          1.5595974707953337,
          0.09698004787927725,
          0.9075739425020036,
          -1.2106168525632064,
          -0.2797082884843704,
          -0.01211438348049651,
          0.15671383784238285
         ],
         "yaxis": "y10"
        },
        {
         "histfunc": "count",
         "histnorm": "",
         "marker": {
          "color": "rgba(50, 171, 96, 1.0)",
          "line": {
           "color": "#4D5663",
           "width": 1.3
          }
         },
         "name": "C",
         "nbinsx": 10,
         "opacity": 0.8,
         "orientation": "v",
         "type": "histogram",
         "x": [
          1.4498618288752683,
          1.7328385294714626,
          1.004029008894011,
          -1.6062799113700785,
          0.10683529586961767,
          -0.9227494274259259,
          0.5016233374493976,
          0.4354959107702326,
          -0.981635039698152,
          0.28224061934882305,
          0.5883067823745549,
          -0.6446220549102041,
          1.768397668585287,
          0.32338086206029415,
          -0.6089631213972786,
          -0.15129613728977628,
          -0.3144696304365042,
          0.5227768411444701,
          1.6614567904707604,
          -0.4869697386654161,
          0.19398758454251058,
          0.8575978399112405,
          0.26381374000339447,
          -0.9103604354300123,
          0.5893877833130567,
          0.8279645023396632,
          0.01918743234644123,
          -0.9664222932991421,
          -0.6087572488542209,
          -0.9882009943289728,
          0.5434582351840901,
          -0.4812707455824255,
          0.5398624960803878,
          0.07351615050022245,
          -0.3210454754474769,
          -0.2821986291700468,
          -0.8092585537606711,
          -0.47575748700220716,
          0.037940755559431404,
          1.2174504410859734,
          0.8096217559663961,
          1.199037661245566,
          -2.6137452389556706,
          1.8017531439695935,
          0.7223063986846324,
          1.9162335165144655,
          -0.938633398487276,
          0.08178004193787466,
          -1.1028424257647615,
          0.3622292444051127,
          0.7400190974839389,
          1.7780673644609164,
          0.6884856774045507,
          -1.6597689767374229,
          0.4600551461952232,
          -1.9712567864189725,
          -1.8142214238159273,
          -0.677006487182066,
          0.028750448897952474,
          0.9034262142857564,
          -1.0675149990814656,
          -0.2387559638776159,
          0.337658907093047,
          1.0933290047093895,
          1.0848457209409406,
          0.2909426767810236,
          1.27184614625548,
          -0.39949098889170837,
          -0.44561670717636037,
          -0.7231984682824852,
          0.44266707629108853,
          0.49334567974278326,
          -1.043205922737734,
          0.533815468923195,
          0.0258742485257691,
          -0.04704901221899354,
          0.031243252497379484,
          -0.588683452669337,
          -0.1859260710197727,
          -0.7612975393485383,
          -0.31002788643206625,
          -0.9541081966716133,
          -1.2784860040761195,
          -0.09907495519478068,
          0.14533700386121376,
          -0.468672665870601,
          0.9158383776779138,
          0.2705739668923256,
          -1.0495071745403368,
          0.010182105127980824,
          0.4816408618138371,
          0.7387513938876691,
          -2.2736959595736908,
          1.5595974707953337,
          0.09698004787927725,
          0.9075739425020036,
          -1.2106168525632064,
          -0.2797082884843704,
          -0.01211438348049651,
          0.15671383784238285
         ],
         "xaxis": "x11",
         "yaxis": "y11"
        },
        {
         "line": {
          "color": "rgba(128, 128, 128, 1.0)",
          "dash": "solid",
          "shape": "linear",
          "width": 1.3
         },
         "marker": {
          "size": 2,
          "symbol": "circle"
         },
         "mode": "markers",
         "name": "C",
         "text": "",
         "type": "scatter",
         "x": [
          0.5890479225695289,
          -1.8800411793152518,
          0.10532538331081642,
          1.304760382357214,
          -1.5207865261635254,
          0.80535504560426,
          -0.016330642922064067,
          0.02346801037178581,
          1.7187522662306425,
          -2.1955063834539095,
          -0.5769981172028733,
          0.09000375755023558,
          -1.8624235173191004,
          -1.1009286359164434,
          0.15449174404624288,
          -0.42030335631153876,
          -1.2256200134025306,
          -0.6523156049271698,
          2.1418338776140713,
          -0.19855603884017475,
          0.16109942465094543,
          1.3361635559784157,
          -0.9819981197421579,
          0.9642739356717789,
          -0.6562500412096507,
          0.1112529484100331,
          -0.6398772958913014,
          0.42268956402601804,
          -0.025294790234960885,
          -0.030153433080490136,
          -0.8313725843186645,
          -0.938201127839907,
          -1.911009011521281,
          0.8720607514505231,
          0.20159372153891028,
          0.23854622358629274,
          1.0357643646879247,
          -0.6222508816703947,
          -0.201051672633647,
          0.10920878354186614,
          1.2931967890721783,
          0.4003630051396867,
          0.9347665699410361,
          -0.40133229197578224,
          1.5820953338987511,
          0.5443403357634087,
          0.0924046147742567,
          0.8409666621612053,
          0.023884694373222874,
          0.8002845648753338,
          -0.36760501095246834,
          -1.0515766041945838,
          0.25523843882386366,
          0.5916949790905618,
          -1.0888968601899538,
          -0.5693980953228801,
          1.4241100987389872,
          -1.4877147062766232,
          1.8964324401552328,
          0.8073979821389569,
          0.5757146381949131,
          -1.0088956105103228,
          1.1580015396293046,
          0.8755378007049406,
          0.061826717503275556,
          0.367970255682253,
          -0.1353273470208465,
          -1.218789274166298,
          0.7635454904032188,
          -1.1824825314425427,
          -0.9522044303030941,
          -0.421519984789472,
          -1.8914640355164,
          0.04257370988149448,
          -0.347977886168004,
          0.47268827424963816,
          1.3983171133480505,
          -1.5121319797280075,
          0.7234650439386268,
          0.03972270240900846,
          0.3611548111125105,
          0.9080514626747183,
          -0.41115121905120605,
          0.3862596497626326,
          -0.6398397853488617,
          -0.5966853595462834,
          -1.194536857405595,
          0.29658390402603535,
          0.44733922912517365,
          -0.6156507465655643,
          -0.7913395436051006,
          0.8477144688179395,
          1.3416561326521723,
          1.4327616831608472,
          -0.23062208960279115,
          0.6442741499092415,
          -0.6184935147963586,
          -2.4488058934072754,
          -0.9749751937995255,
          1.1575746951540418
         ],
         "xaxis": "x12",
         "y": [
          1.4498618288752683,
          1.7328385294714626,
          1.004029008894011,
          -1.6062799113700785,
          0.10683529586961767,
          -0.9227494274259259,
          0.5016233374493976,
          0.4354959107702326,
          -0.981635039698152,
          0.28224061934882305,
          0.5883067823745549,
          -0.6446220549102041,
          1.768397668585287,
          0.32338086206029415,
          -0.6089631213972786,
          -0.15129613728977628,
          -0.3144696304365042,
          0.5227768411444701,
          1.6614567904707604,
          -0.4869697386654161,
          0.19398758454251058,
          0.8575978399112405,
          0.26381374000339447,
          -0.9103604354300123,
          0.5893877833130567,
          0.8279645023396632,
          0.01918743234644123,
          -0.9664222932991421,
          -0.6087572488542209,
          -0.9882009943289728,
          0.5434582351840901,
          -0.4812707455824255,
          0.5398624960803878,
          0.07351615050022245,
          -0.3210454754474769,
          -0.2821986291700468,
          -0.8092585537606711,
          -0.47575748700220716,
          0.037940755559431404,
          1.2174504410859734,
          0.8096217559663961,
          1.199037661245566,
          -2.6137452389556706,
          1.8017531439695935,
          0.7223063986846324,
          1.9162335165144655,
          -0.938633398487276,
          0.08178004193787466,
          -1.1028424257647615,
          0.3622292444051127,
          0.7400190974839389,
          1.7780673644609164,
          0.6884856774045507,
          -1.6597689767374229,
          0.4600551461952232,
          -1.9712567864189725,
          -1.8142214238159273,
          -0.677006487182066,
          0.028750448897952474,
          0.9034262142857564,
          -1.0675149990814656,
          -0.2387559638776159,
          0.337658907093047,
          1.0933290047093895,
          1.0848457209409406,
          0.2909426767810236,
          1.27184614625548,
          -0.39949098889170837,
          -0.44561670717636037,
          -0.7231984682824852,
          0.44266707629108853,
          0.49334567974278326,
          -1.043205922737734,
          0.533815468923195,
          0.0258742485257691,
          -0.04704901221899354,
          0.031243252497379484,
          -0.588683452669337,
          -0.1859260710197727,
          -0.7612975393485383,
          -0.31002788643206625,
          -0.9541081966716133,
          -1.2784860040761195,
          -0.09907495519478068,
          0.14533700386121376,
          -0.468672665870601,
          0.9158383776779138,
          0.2705739668923256,
          -1.0495071745403368,
          0.010182105127980824,
          0.4816408618138371,
          0.7387513938876691,
          -2.2736959595736908,
          1.5595974707953337,
          0.09698004787927725,
          0.9075739425020036,
          -1.2106168525632064,
          -0.2797082884843704,
          -0.01211438348049651,
          0.15671383784238285
         ],
         "yaxis": "y12"
        },
        {
         "line": {
          "color": "rgba(128, 128, 128, 1.0)",
          "dash": "solid",
          "shape": "linear",
          "width": 1.3
         },
         "marker": {
          "size": 2,
          "symbol": "circle"
         },
         "mode": "markers",
         "name": "D",
         "text": "",
         "type": "scatter",
         "x": [
          2.6373344784495645,
          -1.9514781140231166,
          1.048759696978105,
          -1.2963473714495244,
          0.27694889027081887,
          0.692496688521014,
          0.07606444168264838,
          -0.6406801537579438,
          -0.6800911741187079,
          -0.8518888122997218,
          -0.7791147369734518,
          -0.6734941267402332,
          1.0167773412090835,
          0.23352732552763336,
          0.6163742442520982,
          -0.062319690042786834,
          0.4481652315232757,
          -0.02433885182191795,
          -0.4495406344066845,
          0.256728595894281,
          -0.14869432230647567,
          -1.2719115094158837,
          -0.18309035858598605,
          0.9512382104394191,
          -1.3351222343701932,
          0.8118457968750349,
          -0.4592579259017499,
          0.017322515641877596,
          -0.10874037092289358,
          0.7231418010819272,
          0.24488018614133208,
          -0.5002111461510281,
          -0.6789918892111676,
          1.0651918883435525,
          -0.29021561808912394,
          -0.5543716289854907,
          0.25805961156717533,
          -0.24712456122109305,
          0.7710767621589241,
          -1.1037831746949724,
          1.634401350202134,
          -0.6841000935514857,
          0.41030079756170595,
          0.9058247386329331,
          -2.3161672250434076,
          0.8233980785593794,
          1.892568603868356,
          1.1105016985095562,
          1.0807787816525551,
          0.26329482385854525,
          0.6811746578863037,
          1.5953539436930355,
          -0.8709560373194579,
          1.133535395435486,
          1.993229916325945,
          -1.7783792766437496,
          -1.028962145596852,
          0.11030844695762584,
          0.07519092337124138,
          0.4998945230505707,
          -0.14543010621768782,
          2.006305468029981,
          0.02027007279842382,
          -0.5024886909118702,
          0.9748120761643012,
          -0.42348555508138697,
          0.11543167395240778,
          0.312886660558503,
          -0.24027670045074928,
          0.3752446493239127,
          0.1211156796304035,
          -0.6445287847348729,
          0.2764578536695193,
          0.10937742078251535,
          -1.655221776282199,
          -0.52926779494393,
          0.456193201572975,
          0.5155302426268643,
          -0.139552865775506,
          0.7012109814926522,
          -1.113704268358639,
          -1.9031496623660287,
          -1.0805160223732262,
          -1.4413303548350294,
          0.4576522935107792,
          1.4630078606653885,
          -1.2489647067372125,
          -0.6250555560710132,
          -0.10145369069764623,
          0.138125916178685,
          -1.4996158840708063,
          1.5118801883843067,
          -0.1993334647684355,
          0.0031373104395526923,
          1.3583255766429585,
          -1.2406567590300575,
          -0.5432080731603196,
          0.013525641271830868,
          -0.6655652043632769,
          0.9079388521323659
         ],
         "xaxis": "x13",
         "y": [
          0.5890479225695289,
          -1.8800411793152518,
          0.10532538331081642,
          1.304760382357214,
          -1.5207865261635254,
          0.80535504560426,
          -0.016330642922064067,
          0.02346801037178581,
          1.7187522662306425,
          -2.1955063834539095,
          -0.5769981172028733,
          0.09000375755023558,
          -1.8624235173191004,
          -1.1009286359164434,
          0.15449174404624288,
          -0.42030335631153876,
          -1.2256200134025306,
          -0.6523156049271698,
          2.1418338776140713,
          -0.19855603884017475,
          0.16109942465094543,
          1.3361635559784157,
          -0.9819981197421579,
          0.9642739356717789,
          -0.6562500412096507,
          0.1112529484100331,
          -0.6398772958913014,
          0.42268956402601804,
          -0.025294790234960885,
          -0.030153433080490136,
          -0.8313725843186645,
          -0.938201127839907,
          -1.911009011521281,
          0.8720607514505231,
          0.20159372153891028,
          0.23854622358629274,
          1.0357643646879247,
          -0.6222508816703947,
          -0.201051672633647,
          0.10920878354186614,
          1.2931967890721783,
          0.4003630051396867,
          0.9347665699410361,
          -0.40133229197578224,
          1.5820953338987511,
          0.5443403357634087,
          0.0924046147742567,
          0.8409666621612053,
          0.023884694373222874,
          0.8002845648753338,
          -0.36760501095246834,
          -1.0515766041945838,
          0.25523843882386366,
          0.5916949790905618,
          -1.0888968601899538,
          -0.5693980953228801,
          1.4241100987389872,
          -1.4877147062766232,
          1.8964324401552328,
          0.8073979821389569,
          0.5757146381949131,
          -1.0088956105103228,
          1.1580015396293046,
          0.8755378007049406,
          0.061826717503275556,
          0.367970255682253,
          -0.1353273470208465,
          -1.218789274166298,
          0.7635454904032188,
          -1.1824825314425427,
          -0.9522044303030941,
          -0.421519984789472,
          -1.8914640355164,
          0.04257370988149448,
          -0.347977886168004,
          0.47268827424963816,
          1.3983171133480505,
          -1.5121319797280075,
          0.7234650439386268,
          0.03972270240900846,
          0.3611548111125105,
          0.9080514626747183,
          -0.41115121905120605,
          0.3862596497626326,
          -0.6398397853488617,
          -0.5966853595462834,
          -1.194536857405595,
          0.29658390402603535,
          0.44733922912517365,
          -0.6156507465655643,
          -0.7913395436051006,
          0.8477144688179395,
          1.3416561326521723,
          1.4327616831608472,
          -0.23062208960279115,
          0.6442741499092415,
          -0.6184935147963586,
          -2.4488058934072754,
          -0.9749751937995255,
          1.1575746951540418
         ],
         "yaxis": "y13"
        },
        {
         "line": {
          "color": "rgba(128, 128, 128, 1.0)",
          "dash": "solid",
          "shape": "linear",
          "width": 1.3
         },
         "marker": {
          "size": 2,
          "symbol": "circle"
         },
         "mode": "markers",
         "name": "D",
         "text": "",
         "type": "scatter",
         "x": [
          -2.284695843780699,
          -0.12897863957239397,
          -0.5960163415525992,
          0.6927278091908197,
          -1.073096401837728,
          -0.5784207622519486,
          -0.23519756874658382,
          -0.9451011638490537,
          -1.063843416629175,
          0.6756848161415443,
          0.8151176376126024,
          -0.8913414043464327,
          1.586858684811914,
          -0.49092565487567463,
          -1.2918634219359029,
          0.5036484512397292,
          -0.6014396795922873,
          0.43023242215496327,
          -0.5140747441600014,
          -1.64299938662231,
          0.19220870639914056,
          0.8203705341311345,
          -1.3573891161830567,
          0.9824384134933203,
          -0.4431038482458481,
          0.831281467639583,
          0.5991381056360517,
          -0.19798352319493737,
          1.6225181625321803,
          0.15865883270680928,
          -0.24062204610389426,
          -0.17416125564133053,
          1.0077119144555593,
          1.7385666186605993,
          -0.2493143010520831,
          1.427211355261423,
          -0.10332308539021648,
          -0.16680760836093397,
          2.0625300652181706,
          -0.029300367935213394,
          2.8039443472510506,
          0.346449737438328,
          -0.32633297104558556,
          -0.046492928263603656,
          -0.4363171197337111,
          0.056197128779733936,
          0.029384019930100338,
          0.7419514855583611,
          -0.5169707337572688,
          0.7157470081371733,
          0.36528987025749876,
          0.07089580181332032,
          0.5816741379834732,
          -1.980963012540804,
          1.5736259710506741,
          0.6377350546144804,
          -0.9773283769613775,
          0.6271683365660647,
          -0.20769018041276938,
          -0.13629364916807668,
          -1.0973203981421389,
          -0.5708035111791355,
          -1.4518036666885026,
          1.144197133868288,
          0.18607831353941073,
          -0.6319881383179478,
          -0.11362523685186736,
          0.040575359081890784,
          0.9243094765600892,
          -1.3476554400860434,
          -0.7963687182642614,
          0.6813966725874765,
          -0.3003150585184621,
          -1.7367007129274277,
          0.9276116141824441,
          -0.9356833375574491,
          0.0031066811508997944,
          -0.9927386805528503,
          2.4095902696689846,
          0.8022472832942091,
          0.18688783972328699,
          0.68311543513717,
          -0.5938759721272218,
          -0.14109286740742658,
          1.3991284943838274,
          0.3546468501567292,
          0.06716378301515893,
          1.4330738198409538,
          1.2093940166410524,
          -0.002097060041586007,
          -0.888013370871234,
          1.3046302754895798,
          -1.4518307583462837,
          -1.2772735047680706,
          0.5455088989553084,
          1.3906872989486303,
          -0.3322633074372016,
          1.4057999871358426,
          -1.6056202884422215,
          0.8482521990758864
         ],
         "xaxis": "x14",
         "y": [
          0.5890479225695289,
          -1.8800411793152518,
          0.10532538331081642,
          1.304760382357214,
          -1.5207865261635254,
          0.80535504560426,
          -0.016330642922064067,
          0.02346801037178581,
          1.7187522662306425,
          -2.1955063834539095,
          -0.5769981172028733,
          0.09000375755023558,
          -1.8624235173191004,
          -1.1009286359164434,
          0.15449174404624288,
          -0.42030335631153876,
          -1.2256200134025306,
          -0.6523156049271698,
          2.1418338776140713,
          -0.19855603884017475,
          0.16109942465094543,
          1.3361635559784157,
          -0.9819981197421579,
          0.9642739356717789,
          -0.6562500412096507,
          0.1112529484100331,
          -0.6398772958913014,
          0.42268956402601804,
          -0.025294790234960885,
          -0.030153433080490136,
          -0.8313725843186645,
          -0.938201127839907,
          -1.911009011521281,
          0.8720607514505231,
          0.20159372153891028,
          0.23854622358629274,
          1.0357643646879247,
          -0.6222508816703947,
          -0.201051672633647,
          0.10920878354186614,
          1.2931967890721783,
          0.4003630051396867,
          0.9347665699410361,
          -0.40133229197578224,
          1.5820953338987511,
          0.5443403357634087,
          0.0924046147742567,
          0.8409666621612053,
          0.023884694373222874,
          0.8002845648753338,
          -0.36760501095246834,
          -1.0515766041945838,
          0.25523843882386366,
          0.5916949790905618,
          -1.0888968601899538,
          -0.5693980953228801,
          1.4241100987389872,
          -1.4877147062766232,
          1.8964324401552328,
          0.8073979821389569,
          0.5757146381949131,
          -1.0088956105103228,
          1.1580015396293046,
          0.8755378007049406,
          0.061826717503275556,
          0.367970255682253,
          -0.1353273470208465,
          -1.218789274166298,
          0.7635454904032188,
          -1.1824825314425427,
          -0.9522044303030941,
          -0.421519984789472,
          -1.8914640355164,
          0.04257370988149448,
          -0.347977886168004,
          0.47268827424963816,
          1.3983171133480505,
          -1.5121319797280075,
          0.7234650439386268,
          0.03972270240900846,
          0.3611548111125105,
          0.9080514626747183,
          -0.41115121905120605,
          0.3862596497626326,
          -0.6398397853488617,
          -0.5966853595462834,
          -1.194536857405595,
          0.29658390402603535,
          0.44733922912517365,
          -0.6156507465655643,
          -0.7913395436051006,
          0.8477144688179395,
          1.3416561326521723,
          1.4327616831608472,
          -0.23062208960279115,
          0.6442741499092415,
          -0.6184935147963586,
          -2.4488058934072754,
          -0.9749751937995255,
          1.1575746951540418
         ],
         "yaxis": "y14"
        },
        {
         "line": {
          "color": "rgba(128, 128, 128, 1.0)",
          "dash": "solid",
          "shape": "linear",
          "width": 1.3
         },
         "marker": {
          "size": 2,
          "symbol": "circle"
         },
         "mode": "markers",
         "name": "D",
         "text": "",
         "type": "scatter",
         "x": [
          1.4498618288752683,
          1.7328385294714626,
          1.004029008894011,
          -1.6062799113700785,
          0.10683529586961767,
          -0.9227494274259259,
          0.5016233374493976,
          0.4354959107702326,
          -0.981635039698152,
          0.28224061934882305,
          0.5883067823745549,
          -0.6446220549102041,
          1.768397668585287,
          0.32338086206029415,
          -0.6089631213972786,
          -0.15129613728977628,
          -0.3144696304365042,
          0.5227768411444701,
          1.6614567904707604,
          -0.4869697386654161,
          0.19398758454251058,
          0.8575978399112405,
          0.26381374000339447,
          -0.9103604354300123,
          0.5893877833130567,
          0.8279645023396632,
          0.01918743234644123,
          -0.9664222932991421,
          -0.6087572488542209,
          -0.9882009943289728,
          0.5434582351840901,
          -0.4812707455824255,
          0.5398624960803878,
          0.07351615050022245,
          -0.3210454754474769,
          -0.2821986291700468,
          -0.8092585537606711,
          -0.47575748700220716,
          0.037940755559431404,
          1.2174504410859734,
          0.8096217559663961,
          1.199037661245566,
          -2.6137452389556706,
          1.8017531439695935,
          0.7223063986846324,
          1.9162335165144655,
          -0.938633398487276,
          0.08178004193787466,
          -1.1028424257647615,
          0.3622292444051127,
          0.7400190974839389,
          1.7780673644609164,
          0.6884856774045507,
          -1.6597689767374229,
          0.4600551461952232,
          -1.9712567864189725,
          -1.8142214238159273,
          -0.677006487182066,
          0.028750448897952474,
          0.9034262142857564,
          -1.0675149990814656,
          -0.2387559638776159,
          0.337658907093047,
          1.0933290047093895,
          1.0848457209409406,
          0.2909426767810236,
          1.27184614625548,
          -0.39949098889170837,
          -0.44561670717636037,
          -0.7231984682824852,
          0.44266707629108853,
          0.49334567974278326,
          -1.043205922737734,
          0.533815468923195,
          0.0258742485257691,
          -0.04704901221899354,
          0.031243252497379484,
          -0.588683452669337,
          -0.1859260710197727,
          -0.7612975393485383,
          -0.31002788643206625,
          -0.9541081966716133,
          -1.2784860040761195,
          -0.09907495519478068,
          0.14533700386121376,
          -0.468672665870601,
          0.9158383776779138,
          0.2705739668923256,
          -1.0495071745403368,
          0.010182105127980824,
          0.4816408618138371,
          0.7387513938876691,
          -2.2736959595736908,
          1.5595974707953337,
          0.09698004787927725,
          0.9075739425020036,
          -1.2106168525632064,
          -0.2797082884843704,
          -0.01211438348049651,
          0.15671383784238285
         ],
         "xaxis": "x15",
         "y": [
          0.5890479225695289,
          -1.8800411793152518,
          0.10532538331081642,
          1.304760382357214,
          -1.5207865261635254,
          0.80535504560426,
          -0.016330642922064067,
          0.02346801037178581,
          1.7187522662306425,
          -2.1955063834539095,
          -0.5769981172028733,
          0.09000375755023558,
          -1.8624235173191004,
          -1.1009286359164434,
          0.15449174404624288,
          -0.42030335631153876,
          -1.2256200134025306,
          -0.6523156049271698,
          2.1418338776140713,
          -0.19855603884017475,
          0.16109942465094543,
          1.3361635559784157,
          -0.9819981197421579,
          0.9642739356717789,
          -0.6562500412096507,
          0.1112529484100331,
          -0.6398772958913014,
          0.42268956402601804,
          -0.025294790234960885,
          -0.030153433080490136,
          -0.8313725843186645,
          -0.938201127839907,
          -1.911009011521281,
          0.8720607514505231,
          0.20159372153891028,
          0.23854622358629274,
          1.0357643646879247,
          -0.6222508816703947,
          -0.201051672633647,
          0.10920878354186614,
          1.2931967890721783,
          0.4003630051396867,
          0.9347665699410361,
          -0.40133229197578224,
          1.5820953338987511,
          0.5443403357634087,
          0.0924046147742567,
          0.8409666621612053,
          0.023884694373222874,
          0.8002845648753338,
          -0.36760501095246834,
          -1.0515766041945838,
          0.25523843882386366,
          0.5916949790905618,
          -1.0888968601899538,
          -0.5693980953228801,
          1.4241100987389872,
          -1.4877147062766232,
          1.8964324401552328,
          0.8073979821389569,
          0.5757146381949131,
          -1.0088956105103228,
          1.1580015396293046,
          0.8755378007049406,
          0.061826717503275556,
          0.367970255682253,
          -0.1353273470208465,
          -1.218789274166298,
          0.7635454904032188,
          -1.1824825314425427,
          -0.9522044303030941,
          -0.421519984789472,
          -1.8914640355164,
          0.04257370988149448,
          -0.347977886168004,
          0.47268827424963816,
          1.3983171133480505,
          -1.5121319797280075,
          0.7234650439386268,
          0.03972270240900846,
          0.3611548111125105,
          0.9080514626747183,
          -0.41115121905120605,
          0.3862596497626326,
          -0.6398397853488617,
          -0.5966853595462834,
          -1.194536857405595,
          0.29658390402603535,
          0.44733922912517365,
          -0.6156507465655643,
          -0.7913395436051006,
          0.8477144688179395,
          1.3416561326521723,
          1.4327616831608472,
          -0.23062208960279115,
          0.6442741499092415,
          -0.6184935147963586,
          -2.4488058934072754,
          -0.9749751937995255,
          1.1575746951540418
         ],
         "yaxis": "y15"
        },
        {
         "histfunc": "count",
         "histnorm": "",
         "marker": {
          "color": "rgba(128, 0, 128, 1.0)",
          "line": {
           "color": "#4D5663",
           "width": 1.3
          }
         },
         "name": "D",
         "nbinsx": 10,
         "opacity": 0.8,
         "orientation": "v",
         "type": "histogram",
         "x": [
          0.5890479225695289,
          -1.8800411793152518,
          0.10532538331081642,
          1.304760382357214,
          -1.5207865261635254,
          0.80535504560426,
          -0.016330642922064067,
          0.02346801037178581,
          1.7187522662306425,
          -2.1955063834539095,
          -0.5769981172028733,
          0.09000375755023558,
          -1.8624235173191004,
          -1.1009286359164434,
          0.15449174404624288,
          -0.42030335631153876,
          -1.2256200134025306,
          -0.6523156049271698,
          2.1418338776140713,
          -0.19855603884017475,
          0.16109942465094543,
          1.3361635559784157,
          -0.9819981197421579,
          0.9642739356717789,
          -0.6562500412096507,
          0.1112529484100331,
          -0.6398772958913014,
          0.42268956402601804,
          -0.025294790234960885,
          -0.030153433080490136,
          -0.8313725843186645,
          -0.938201127839907,
          -1.911009011521281,
          0.8720607514505231,
          0.20159372153891028,
          0.23854622358629274,
          1.0357643646879247,
          -0.6222508816703947,
          -0.201051672633647,
          0.10920878354186614,
          1.2931967890721783,
          0.4003630051396867,
          0.9347665699410361,
          -0.40133229197578224,
          1.5820953338987511,
          0.5443403357634087,
          0.0924046147742567,
          0.8409666621612053,
          0.023884694373222874,
          0.8002845648753338,
          -0.36760501095246834,
          -1.0515766041945838,
          0.25523843882386366,
          0.5916949790905618,
          -1.0888968601899538,
          -0.5693980953228801,
          1.4241100987389872,
          -1.4877147062766232,
          1.8964324401552328,
          0.8073979821389569,
          0.5757146381949131,
          -1.0088956105103228,
          1.1580015396293046,
          0.8755378007049406,
          0.061826717503275556,
          0.367970255682253,
          -0.1353273470208465,
          -1.218789274166298,
          0.7635454904032188,
          -1.1824825314425427,
          -0.9522044303030941,
          -0.421519984789472,
          -1.8914640355164,
          0.04257370988149448,
          -0.347977886168004,
          0.47268827424963816,
          1.3983171133480505,
          -1.5121319797280075,
          0.7234650439386268,
          0.03972270240900846,
          0.3611548111125105,
          0.9080514626747183,
          -0.41115121905120605,
          0.3862596497626326,
          -0.6398397853488617,
          -0.5966853595462834,
          -1.194536857405595,
          0.29658390402603535,
          0.44733922912517365,
          -0.6156507465655643,
          -0.7913395436051006,
          0.8477144688179395,
          1.3416561326521723,
          1.4327616831608472,
          -0.23062208960279115,
          0.6442741499092415,
          -0.6184935147963586,
          -2.4488058934072754,
          -0.9749751937995255,
          1.1575746951540418
         ],
         "xaxis": "x16",
         "yaxis": "y16"
        }
       ],
       "layout": {
        "bargap": 0.02,
        "legend": {
         "bgcolor": "#F5F6F9",
         "font": {
          "color": "#4D5663"
         }
        },
        "paper_bgcolor": "#F5F6F9",
        "plot_bgcolor": "#F5F6F9",
        "showlegend": false,
        "template": {
         "data": {
          "bar": [
           {
            "error_x": {
             "color": "#2a3f5f"
            },
            "error_y": {
             "color": "#2a3f5f"
            },
            "marker": {
             "line": {
              "color": "#E5ECF6",
              "width": 0.5
             }
            },
            "type": "bar"
           }
          ],
          "barpolar": [
           {
            "marker": {
             "line": {
              "color": "#E5ECF6",
              "width": 0.5
             }
            },
            "type": "barpolar"
           }
          ],
          "carpet": [
           {
            "aaxis": {
             "endlinecolor": "#2a3f5f",
             "gridcolor": "white",
             "linecolor": "white",
             "minorgridcolor": "white",
             "startlinecolor": "#2a3f5f"
            },
            "baxis": {
             "endlinecolor": "#2a3f5f",
             "gridcolor": "white",
             "linecolor": "white",
             "minorgridcolor": "white",
             "startlinecolor": "#2a3f5f"
            },
            "type": "carpet"
           }
          ],
          "choropleth": [
           {
            "colorbar": {
             "outlinewidth": 0,
             "ticks": ""
            },
            "type": "choropleth"
           }
          ],
          "contour": [
           {
            "colorbar": {
             "outlinewidth": 0,
             "ticks": ""
            },
            "colorscale": [
             [
              0,
              "#0d0887"
             ],
             [
              0.1111111111111111,
              "#46039f"
             ],
             [
              0.2222222222222222,
              "#7201a8"
             ],
             [
              0.3333333333333333,
              "#9c179e"
             ],
             [
              0.4444444444444444,
              "#bd3786"
             ],
             [
              0.5555555555555556,
              "#d8576b"
             ],
             [
              0.6666666666666666,
              "#ed7953"
             ],
             [
              0.7777777777777778,
              "#fb9f3a"
             ],
             [
              0.8888888888888888,
              "#fdca26"
             ],
             [
              1,
              "#f0f921"
             ]
            ],
            "type": "contour"
           }
          ],
          "contourcarpet": [
           {
            "colorbar": {
             "outlinewidth": 0,
             "ticks": ""
            },
            "type": "contourcarpet"
           }
          ],
          "heatmap": [
           {
            "colorbar": {
             "outlinewidth": 0,
             "ticks": ""
            },
            "colorscale": [
             [
              0,
              "#0d0887"
             ],
             [
              0.1111111111111111,
              "#46039f"
             ],
             [
              0.2222222222222222,
              "#7201a8"
             ],
             [
              0.3333333333333333,
              "#9c179e"
             ],
             [
              0.4444444444444444,
              "#bd3786"
             ],
             [
              0.5555555555555556,
              "#d8576b"
             ],
             [
              0.6666666666666666,
              "#ed7953"
             ],
             [
              0.7777777777777778,
              "#fb9f3a"
             ],
             [
              0.8888888888888888,
              "#fdca26"
             ],
             [
              1,
              "#f0f921"
             ]
            ],
            "type": "heatmap"
           }
          ],
          "heatmapgl": [
           {
            "colorbar": {
             "outlinewidth": 0,
             "ticks": ""
            },
            "colorscale": [
             [
              0,
              "#0d0887"
             ],
             [
              0.1111111111111111,
              "#46039f"
             ],
             [
              0.2222222222222222,
              "#7201a8"
             ],
             [
              0.3333333333333333,
              "#9c179e"
             ],
             [
              0.4444444444444444,
              "#bd3786"
             ],
             [
              0.5555555555555556,
              "#d8576b"
             ],
             [
              0.6666666666666666,
              "#ed7953"
             ],
             [
              0.7777777777777778,
              "#fb9f3a"
             ],
             [
              0.8888888888888888,
              "#fdca26"
             ],
             [
              1,
              "#f0f921"
             ]
            ],
            "type": "heatmapgl"
           }
          ],
          "histogram": [
           {
            "marker": {
             "colorbar": {
              "outlinewidth": 0,
              "ticks": ""
             }
            },
            "type": "histogram"
           }
          ],
          "histogram2d": [
           {
            "colorbar": {
             "outlinewidth": 0,
             "ticks": ""
            },
            "colorscale": [
             [
              0,
              "#0d0887"
             ],
             [
              0.1111111111111111,
              "#46039f"
             ],
             [
              0.2222222222222222,
              "#7201a8"
             ],
             [
              0.3333333333333333,
              "#9c179e"
             ],
             [
              0.4444444444444444,
              "#bd3786"
             ],
             [
              0.5555555555555556,
              "#d8576b"
             ],
             [
              0.6666666666666666,
              "#ed7953"
             ],
             [
              0.7777777777777778,
              "#fb9f3a"
             ],
             [
              0.8888888888888888,
              "#fdca26"
             ],
             [
              1,
              "#f0f921"
             ]
            ],
            "type": "histogram2d"
           }
          ],
          "histogram2dcontour": [
           {
            "colorbar": {
             "outlinewidth": 0,
             "ticks": ""
            },
            "colorscale": [
             [
              0,
              "#0d0887"
             ],
             [
              0.1111111111111111,
              "#46039f"
             ],
             [
              0.2222222222222222,
              "#7201a8"
             ],
             [
              0.3333333333333333,
              "#9c179e"
             ],
             [
              0.4444444444444444,
              "#bd3786"
             ],
             [
              0.5555555555555556,
              "#d8576b"
             ],
             [
              0.6666666666666666,
              "#ed7953"
             ],
             [
              0.7777777777777778,
              "#fb9f3a"
             ],
             [
              0.8888888888888888,
              "#fdca26"
             ],
             [
              1,
              "#f0f921"
             ]
            ],
            "type": "histogram2dcontour"
           }
          ],
          "mesh3d": [
           {
            "colorbar": {
             "outlinewidth": 0,
             "ticks": ""
            },
            "type": "mesh3d"
           }
          ],
          "parcoords": [
           {
            "line": {
             "colorbar": {
              "outlinewidth": 0,
              "ticks": ""
             }
            },
            "type": "parcoords"
           }
          ],
          "pie": [
           {
            "automargin": true,
            "type": "pie"
           }
          ],
          "scatter": [
           {
            "marker": {
             "colorbar": {
              "outlinewidth": 0,
              "ticks": ""
             }
            },
            "type": "scatter"
           }
          ],
          "scatter3d": [
           {
            "line": {
             "colorbar": {
              "outlinewidth": 0,
              "ticks": ""
             }
            },
            "marker": {
             "colorbar": {
              "outlinewidth": 0,
              "ticks": ""
             }
            },
            "type": "scatter3d"
           }
          ],
          "scattercarpet": [
           {
            "marker": {
             "colorbar": {
              "outlinewidth": 0,
              "ticks": ""
             }
            },
            "type": "scattercarpet"
           }
          ],
          "scattergeo": [
           {
            "marker": {
             "colorbar": {
              "outlinewidth": 0,
              "ticks": ""
             }
            },
            "type": "scattergeo"
           }
          ],
          "scattergl": [
           {
            "marker": {
             "colorbar": {
              "outlinewidth": 0,
              "ticks": ""
             }
            },
            "type": "scattergl"
           }
          ],
          "scattermapbox": [
           {
            "marker": {
             "colorbar": {
              "outlinewidth": 0,
              "ticks": ""
             }
            },
            "type": "scattermapbox"
           }
          ],
          "scatterpolar": [
           {
            "marker": {
             "colorbar": {
              "outlinewidth": 0,
              "ticks": ""
             }
            },
            "type": "scatterpolar"
           }
          ],
          "scatterpolargl": [
           {
            "marker": {
             "colorbar": {
              "outlinewidth": 0,
              "ticks": ""
             }
            },
            "type": "scatterpolargl"
           }
          ],
          "scatterternary": [
           {
            "marker": {
             "colorbar": {
              "outlinewidth": 0,
              "ticks": ""
             }
            },
            "type": "scatterternary"
           }
          ],
          "surface": [
           {
            "colorbar": {
             "outlinewidth": 0,
             "ticks": ""
            },
            "colorscale": [
             [
              0,
              "#0d0887"
             ],
             [
              0.1111111111111111,
              "#46039f"
             ],
             [
              0.2222222222222222,
              "#7201a8"
             ],
             [
              0.3333333333333333,
              "#9c179e"
             ],
             [
              0.4444444444444444,
              "#bd3786"
             ],
             [
              0.5555555555555556,
              "#d8576b"
             ],
             [
              0.6666666666666666,
              "#ed7953"
             ],
             [
              0.7777777777777778,
              "#fb9f3a"
             ],
             [
              0.8888888888888888,
              "#fdca26"
             ],
             [
              1,
              "#f0f921"
             ]
            ],
            "type": "surface"
           }
          ],
          "table": [
           {
            "cells": {
             "fill": {
              "color": "#EBF0F8"
             },
             "line": {
              "color": "white"
             }
            },
            "header": {
             "fill": {
              "color": "#C8D4E3"
             },
             "line": {
              "color": "white"
             }
            },
            "type": "table"
           }
          ]
         },
         "layout": {
          "annotationdefaults": {
           "arrowcolor": "#2a3f5f",
           "arrowhead": 0,
           "arrowwidth": 1
          },
          "coloraxis": {
           "colorbar": {
            "outlinewidth": 0,
            "ticks": ""
           }
          },
          "colorscale": {
           "diverging": [
            [
             0,
             "#8e0152"
            ],
            [
             0.1,
             "#c51b7d"
            ],
            [
             0.2,
             "#de77ae"
            ],
            [
             0.3,
             "#f1b6da"
            ],
            [
             0.4,
             "#fde0ef"
            ],
            [
             0.5,
             "#f7f7f7"
            ],
            [
             0.6,
             "#e6f5d0"
            ],
            [
             0.7,
             "#b8e186"
            ],
            [
             0.8,
             "#7fbc41"
            ],
            [
             0.9,
             "#4d9221"
            ],
            [
             1,
             "#276419"
            ]
           ],
           "sequential": [
            [
             0,
             "#0d0887"
            ],
            [
             0.1111111111111111,
             "#46039f"
            ],
            [
             0.2222222222222222,
             "#7201a8"
            ],
            [
             0.3333333333333333,
             "#9c179e"
            ],
            [
             0.4444444444444444,
             "#bd3786"
            ],
            [
             0.5555555555555556,
             "#d8576b"
            ],
            [
             0.6666666666666666,
             "#ed7953"
            ],
            [
             0.7777777777777778,
             "#fb9f3a"
            ],
            [
             0.8888888888888888,
             "#fdca26"
            ],
            [
             1,
             "#f0f921"
            ]
           ],
           "sequentialminus": [
            [
             0,
             "#0d0887"
            ],
            [
             0.1111111111111111,
             "#46039f"
            ],
            [
             0.2222222222222222,
             "#7201a8"
            ],
            [
             0.3333333333333333,
             "#9c179e"
            ],
            [
             0.4444444444444444,
             "#bd3786"
            ],
            [
             0.5555555555555556,
             "#d8576b"
            ],
            [
             0.6666666666666666,
             "#ed7953"
            ],
            [
             0.7777777777777778,
             "#fb9f3a"
            ],
            [
             0.8888888888888888,
             "#fdca26"
            ],
            [
             1,
             "#f0f921"
            ]
           ]
          },
          "colorway": [
           "#636efa",
           "#EF553B",
           "#00cc96",
           "#ab63fa",
           "#FFA15A",
           "#19d3f3",
           "#FF6692",
           "#B6E880",
           "#FF97FF",
           "#FECB52"
          ],
          "font": {
           "color": "#2a3f5f"
          },
          "geo": {
           "bgcolor": "white",
           "lakecolor": "white",
           "landcolor": "#E5ECF6",
           "showlakes": true,
           "showland": true,
           "subunitcolor": "white"
          },
          "hoverlabel": {
           "align": "left"
          },
          "hovermode": "closest",
          "mapbox": {
           "style": "light"
          },
          "paper_bgcolor": "white",
          "plot_bgcolor": "#E5ECF6",
          "polar": {
           "angularaxis": {
            "gridcolor": "white",
            "linecolor": "white",
            "ticks": ""
           },
           "bgcolor": "#E5ECF6",
           "radialaxis": {
            "gridcolor": "white",
            "linecolor": "white",
            "ticks": ""
           }
          },
          "scene": {
           "xaxis": {
            "backgroundcolor": "#E5ECF6",
            "gridcolor": "white",
            "gridwidth": 2,
            "linecolor": "white",
            "showbackground": true,
            "ticks": "",
            "zerolinecolor": "white"
           },
           "yaxis": {
            "backgroundcolor": "#E5ECF6",
            "gridcolor": "white",
            "gridwidth": 2,
            "linecolor": "white",
            "showbackground": true,
            "ticks": "",
            "zerolinecolor": "white"
           },
           "zaxis": {
            "backgroundcolor": "#E5ECF6",
            "gridcolor": "white",
            "gridwidth": 2,
            "linecolor": "white",
            "showbackground": true,
            "ticks": "",
            "zerolinecolor": "white"
           }
          },
          "shapedefaults": {
           "line": {
            "color": "#2a3f5f"
           }
          },
          "ternary": {
           "aaxis": {
            "gridcolor": "white",
            "linecolor": "white",
            "ticks": ""
           },
           "baxis": {
            "gridcolor": "white",
            "linecolor": "white",
            "ticks": ""
           },
           "bgcolor": "#E5ECF6",
           "caxis": {
            "gridcolor": "white",
            "linecolor": "white",
            "ticks": ""
           }
          },
          "title": {
           "x": 0.05
          },
          "xaxis": {
           "automargin": true,
           "gridcolor": "white",
           "linecolor": "white",
           "ticks": "",
           "title": {
            "standoff": 15
           },
           "zerolinecolor": "white",
           "zerolinewidth": 2
          },
          "yaxis": {
           "automargin": true,
           "gridcolor": "white",
           "linecolor": "white",
           "ticks": "",
           "title": {
            "standoff": 15
           },
           "zerolinecolor": "white",
           "zerolinewidth": 2
          }
         }
        },
        "title": {
         "font": {
          "color": "#4D5663"
         }
        },
        "xaxis": {
         "anchor": "y",
         "domain": [
          0,
          0.2125
         ],
         "gridcolor": "#E1E5ED",
         "showgrid": false,
         "tickfont": {
          "color": "#4D5663"
         },
         "title": {
          "font": {
           "color": "#4D5663"
          },
          "text": ""
         },
         "zerolinecolor": "#E1E5ED"
        },
        "xaxis10": {
         "anchor": "y10",
         "domain": [
          0.2625,
          0.475
         ],
         "gridcolor": "#E1E5ED",
         "showgrid": false,
         "tickfont": {
          "color": "#4D5663"
         },
         "title": {
          "font": {
           "color": "#4D5663"
          },
          "text": ""
         },
         "zerolinecolor": "#E1E5ED"
        },
        "xaxis11": {
         "anchor": "y11",
         "domain": [
          0.525,
          0.7375
         ],
         "gridcolor": "#E1E5ED",
         "showgrid": false,
         "tickfont": {
          "color": "#4D5663"
         },
         "title": {
          "font": {
           "color": "#4D5663"
          },
          "text": ""
         },
         "zerolinecolor": "#E1E5ED"
        },
        "xaxis12": {
         "anchor": "y12",
         "domain": [
          0.7875,
          1
         ],
         "gridcolor": "#E1E5ED",
         "showgrid": false,
         "tickfont": {
          "color": "#4D5663"
         },
         "title": {
          "font": {
           "color": "#4D5663"
          },
          "text": ""
         },
         "zerolinecolor": "#E1E5ED"
        },
        "xaxis13": {
         "anchor": "y13",
         "domain": [
          0,
          0.2125
         ],
         "gridcolor": "#E1E5ED",
         "showgrid": false,
         "tickfont": {
          "color": "#4D5663"
         },
         "title": {
          "font": {
           "color": "#4D5663"
          },
          "text": ""
         },
         "zerolinecolor": "#E1E5ED"
        },
        "xaxis14": {
         "anchor": "y14",
         "domain": [
          0.2625,
          0.475
         ],
         "gridcolor": "#E1E5ED",
         "showgrid": false,
         "tickfont": {
          "color": "#4D5663"
         },
         "title": {
          "font": {
           "color": "#4D5663"
          },
          "text": ""
         },
         "zerolinecolor": "#E1E5ED"
        },
        "xaxis15": {
         "anchor": "y15",
         "domain": [
          0.525,
          0.7375
         ],
         "gridcolor": "#E1E5ED",
         "showgrid": false,
         "tickfont": {
          "color": "#4D5663"
         },
         "title": {
          "font": {
           "color": "#4D5663"
          },
          "text": ""
         },
         "zerolinecolor": "#E1E5ED"
        },
        "xaxis16": {
         "anchor": "y16",
         "domain": [
          0.7875,
          1
         ],
         "gridcolor": "#E1E5ED",
         "showgrid": false,
         "tickfont": {
          "color": "#4D5663"
         },
         "title": {
          "font": {
           "color": "#4D5663"
          },
          "text": ""
         },
         "zerolinecolor": "#E1E5ED"
        },
        "xaxis2": {
         "anchor": "y2",
         "domain": [
          0.2625,
          0.475
         ],
         "gridcolor": "#E1E5ED",
         "showgrid": false,
         "tickfont": {
          "color": "#4D5663"
         },
         "title": {
          "font": {
           "color": "#4D5663"
          },
          "text": ""
         },
         "zerolinecolor": "#E1E5ED"
        },
        "xaxis3": {
         "anchor": "y3",
         "domain": [
          0.525,
          0.7375
         ],
         "gridcolor": "#E1E5ED",
         "showgrid": false,
         "tickfont": {
          "color": "#4D5663"
         },
         "title": {
          "font": {
           "color": "#4D5663"
          },
          "text": ""
         },
         "zerolinecolor": "#E1E5ED"
        },
        "xaxis4": {
         "anchor": "y4",
         "domain": [
          0.7875,
          1
         ],
         "gridcolor": "#E1E5ED",
         "showgrid": false,
         "tickfont": {
          "color": "#4D5663"
         },
         "title": {
          "font": {
           "color": "#4D5663"
          },
          "text": ""
         },
         "zerolinecolor": "#E1E5ED"
        },
        "xaxis5": {
         "anchor": "y5",
         "domain": [
          0,
          0.2125
         ],
         "gridcolor": "#E1E5ED",
         "showgrid": false,
         "tickfont": {
          "color": "#4D5663"
         },
         "title": {
          "font": {
           "color": "#4D5663"
          },
          "text": ""
         },
         "zerolinecolor": "#E1E5ED"
        },
        "xaxis6": {
         "anchor": "y6",
         "domain": [
          0.2625,
          0.475
         ],
         "gridcolor": "#E1E5ED",
         "showgrid": false,
         "tickfont": {
          "color": "#4D5663"
         },
         "title": {
          "font": {
           "color": "#4D5663"
          },
          "text": ""
         },
         "zerolinecolor": "#E1E5ED"
        },
        "xaxis7": {
         "anchor": "y7",
         "domain": [
          0.525,
          0.7375
         ],
         "gridcolor": "#E1E5ED",
         "showgrid": false,
         "tickfont": {
          "color": "#4D5663"
         },
         "title": {
          "font": {
           "color": "#4D5663"
          },
          "text": ""
         },
         "zerolinecolor": "#E1E5ED"
        },
        "xaxis8": {
         "anchor": "y8",
         "domain": [
          0.7875,
          1
         ],
         "gridcolor": "#E1E5ED",
         "showgrid": false,
         "tickfont": {
          "color": "#4D5663"
         },
         "title": {
          "font": {
           "color": "#4D5663"
          },
          "text": ""
         },
         "zerolinecolor": "#E1E5ED"
        },
        "xaxis9": {
         "anchor": "y9",
         "domain": [
          0,
          0.2125
         ],
         "gridcolor": "#E1E5ED",
         "showgrid": false,
         "tickfont": {
          "color": "#4D5663"
         },
         "title": {
          "font": {
           "color": "#4D5663"
          },
          "text": ""
         },
         "zerolinecolor": "#E1E5ED"
        },
        "yaxis": {
         "anchor": "x",
         "domain": [
          0.8025,
          1
         ],
         "gridcolor": "#E1E5ED",
         "showgrid": false,
         "tickfont": {
          "color": "#4D5663"
         },
         "title": {
          "font": {
           "color": "#4D5663"
          },
          "text": ""
         },
         "zerolinecolor": "#E1E5ED"
        },
        "yaxis10": {
         "anchor": "x10",
         "domain": [
          0.2675,
          0.465
         ],
         "gridcolor": "#E1E5ED",
         "showgrid": false,
         "tickfont": {
          "color": "#4D5663"
         },
         "title": {
          "font": {
           "color": "#4D5663"
          },
          "text": ""
         },
         "zerolinecolor": "#E1E5ED"
        },
        "yaxis11": {
         "anchor": "x11",
         "domain": [
          0.2675,
          0.465
         ],
         "gridcolor": "#E1E5ED",
         "showgrid": false,
         "tickfont": {
          "color": "#4D5663"
         },
         "title": {
          "font": {
           "color": "#4D5663"
          },
          "text": ""
         },
         "zerolinecolor": "#E1E5ED"
        },
        "yaxis12": {
         "anchor": "x12",
         "domain": [
          0.2675,
          0.465
         ],
         "gridcolor": "#E1E5ED",
         "showgrid": false,
         "tickfont": {
          "color": "#4D5663"
         },
         "title": {
          "font": {
           "color": "#4D5663"
          },
          "text": ""
         },
         "zerolinecolor": "#E1E5ED"
        },
        "yaxis13": {
         "anchor": "x13",
         "domain": [
          0,
          0.1975
         ],
         "gridcolor": "#E1E5ED",
         "showgrid": false,
         "tickfont": {
          "color": "#4D5663"
         },
         "title": {
          "font": {
           "color": "#4D5663"
          },
          "text": ""
         },
         "zerolinecolor": "#E1E5ED"
        },
        "yaxis14": {
         "anchor": "x14",
         "domain": [
          0,
          0.1975
         ],
         "gridcolor": "#E1E5ED",
         "showgrid": false,
         "tickfont": {
          "color": "#4D5663"
         },
         "title": {
          "font": {
           "color": "#4D5663"
          },
          "text": ""
         },
         "zerolinecolor": "#E1E5ED"
        },
        "yaxis15": {
         "anchor": "x15",
         "domain": [
          0,
          0.1975
         ],
         "gridcolor": "#E1E5ED",
         "showgrid": false,
         "tickfont": {
          "color": "#4D5663"
         },
         "title": {
          "font": {
           "color": "#4D5663"
          },
          "text": ""
         },
         "zerolinecolor": "#E1E5ED"
        },
        "yaxis16": {
         "anchor": "x16",
         "domain": [
          0,
          0.1975
         ],
         "gridcolor": "#E1E5ED",
         "showgrid": false,
         "tickfont": {
          "color": "#4D5663"
         },
         "title": {
          "font": {
           "color": "#4D5663"
          },
          "text": ""
         },
         "zerolinecolor": "#E1E5ED"
        },
        "yaxis2": {
         "anchor": "x2",
         "domain": [
          0.8025,
          1
         ],
         "gridcolor": "#E1E5ED",
         "showgrid": false,
         "tickfont": {
          "color": "#4D5663"
         },
         "title": {
          "font": {
           "color": "#4D5663"
          },
          "text": ""
         },
         "zerolinecolor": "#E1E5ED"
        },
        "yaxis3": {
         "anchor": "x3",
         "domain": [
          0.8025,
          1
         ],
         "gridcolor": "#E1E5ED",
         "showgrid": false,
         "tickfont": {
          "color": "#4D5663"
         },
         "title": {
          "font": {
           "color": "#4D5663"
          },
          "text": ""
         },
         "zerolinecolor": "#E1E5ED"
        },
        "yaxis4": {
         "anchor": "x4",
         "domain": [
          0.8025,
          1
         ],
         "gridcolor": "#E1E5ED",
         "showgrid": false,
         "tickfont": {
          "color": "#4D5663"
         },
         "title": {
          "font": {
           "color": "#4D5663"
          },
          "text": ""
         },
         "zerolinecolor": "#E1E5ED"
        },
        "yaxis5": {
         "anchor": "x5",
         "domain": [
          0.535,
          0.7325
         ],
         "gridcolor": "#E1E5ED",
         "showgrid": false,
         "tickfont": {
          "color": "#4D5663"
         },
         "title": {
          "font": {
           "color": "#4D5663"
          },
          "text": ""
         },
         "zerolinecolor": "#E1E5ED"
        },
        "yaxis6": {
         "anchor": "x6",
         "domain": [
          0.535,
          0.7325
         ],
         "gridcolor": "#E1E5ED",
         "showgrid": false,
         "tickfont": {
          "color": "#4D5663"
         },
         "title": {
          "font": {
           "color": "#4D5663"
          },
          "text": ""
         },
         "zerolinecolor": "#E1E5ED"
        },
        "yaxis7": {
         "anchor": "x7",
         "domain": [
          0.535,
          0.7325
         ],
         "gridcolor": "#E1E5ED",
         "showgrid": false,
         "tickfont": {
          "color": "#4D5663"
         },
         "title": {
          "font": {
           "color": "#4D5663"
          },
          "text": ""
         },
         "zerolinecolor": "#E1E5ED"
        },
        "yaxis8": {
         "anchor": "x8",
         "domain": [
          0.535,
          0.7325
         ],
         "gridcolor": "#E1E5ED",
         "showgrid": false,
         "tickfont": {
          "color": "#4D5663"
         },
         "title": {
          "font": {
           "color": "#4D5663"
          },
          "text": ""
         },
         "zerolinecolor": "#E1E5ED"
        },
        "yaxis9": {
         "anchor": "x9",
         "domain": [
          0.2675,
          0.465
         ],
         "gridcolor": "#E1E5ED",
         "showgrid": false,
         "tickfont": {
          "color": "#4D5663"
         },
         "title": {
          "font": {
           "color": "#4D5663"
          },
          "text": ""
         },
         "zerolinecolor": "#E1E5ED"
        }
       }
      },
      "text/html": [
       "<div>\n",
       "        \n",
       "        \n",
       "            <div id=\"c102c09f-f483-4824-9c94-75936d1fa378\" class=\"plotly-graph-div\" style=\"height:525px; width:100%;\"></div>\n",
       "            <script type=\"text/javascript\">\n",
       "                require([\"plotly\"], function(Plotly) {\n",
       "                    window.PLOTLYENV=window.PLOTLYENV || {};\n",
       "                    window.PLOTLYENV.BASE_URL='https://plot.ly';\n",
       "                    \n",
       "                if (document.getElementById(\"c102c09f-f483-4824-9c94-75936d1fa378\")) {\n",
       "                    Plotly.newPlot(\n",
       "                        'c102c09f-f483-4824-9c94-75936d1fa378',\n",
       "                        [{\"histfunc\": \"count\", \"histnorm\": \"\", \"marker\": {\"color\": \"rgba(255, 153, 51, 1.0)\", \"line\": {\"color\": \"#4D5663\", \"width\": 1.3}}, \"name\": \"A\", \"nbinsx\": 10, \"opacity\": 0.8, \"orientation\": \"v\", \"type\": \"histogram\", \"x\": [2.6373344784495645, -1.9514781140231166, 1.048759696978105, -1.2963473714495244, 0.27694889027081887, 0.692496688521014, 0.07606444168264838, -0.6406801537579438, -0.6800911741187079, -0.8518888122997218, -0.7791147369734518, -0.6734941267402332, 1.0167773412090835, 0.23352732552763336, 0.6163742442520982, -0.062319690042786834, 0.4481652315232757, -0.02433885182191795, -0.4495406344066845, 0.256728595894281, -0.14869432230647567, -1.2719115094158837, -0.18309035858598605, 0.9512382104394191, -1.3351222343701932, 0.8118457968750349, -0.4592579259017499, 0.017322515641877596, -0.10874037092289358, 0.7231418010819272, 0.24488018614133208, -0.5002111461510281, -0.6789918892111676, 1.0651918883435525, -0.29021561808912394, -0.5543716289854907, 0.25805961156717533, -0.24712456122109305, 0.7710767621589241, -1.1037831746949724, 1.634401350202134, -0.6841000935514857, 0.41030079756170595, 0.9058247386329331, -2.3161672250434076, 0.8233980785593794, 1.892568603868356, 1.1105016985095562, 1.0807787816525551, 0.26329482385854525, 0.6811746578863037, 1.5953539436930355, -0.8709560373194579, 1.133535395435486, 1.993229916325945, -1.7783792766437496, -1.028962145596852, 0.11030844695762584, 0.07519092337124138, 0.4998945230505707, -0.14543010621768782, 2.006305468029981, 0.02027007279842382, -0.5024886909118702, 0.9748120761643012, -0.42348555508138697, 0.11543167395240778, 0.312886660558503, -0.24027670045074928, 0.3752446493239127, 0.1211156796304035, -0.6445287847348729, 0.2764578536695193, 0.10937742078251535, -1.655221776282199, -0.52926779494393, 0.456193201572975, 0.5155302426268643, -0.139552865775506, 0.7012109814926522, -1.113704268358639, -1.9031496623660287, -1.0805160223732262, -1.4413303548350294, 0.4576522935107792, 1.4630078606653885, -1.2489647067372125, -0.6250555560710132, -0.10145369069764623, 0.138125916178685, -1.4996158840708063, 1.5118801883843067, -0.1993334647684355, 0.0031373104395526923, 1.3583255766429585, -1.2406567590300575, -0.5432080731603196, 0.013525641271830868, -0.6655652043632769, 0.9079388521323659], \"xaxis\": \"x\", \"yaxis\": \"y\"}, {\"line\": {\"color\": \"rgba(128, 128, 128, 1.0)\", \"dash\": \"solid\", \"shape\": \"linear\", \"width\": 1.3}, \"marker\": {\"size\": 2, \"symbol\": \"circle\"}, \"mode\": \"markers\", \"name\": \"A\", \"text\": \"\", \"type\": \"scatter\", \"x\": [-2.284695843780699, -0.12897863957239397, -0.5960163415525992, 0.6927278091908197, -1.073096401837728, -0.5784207622519486, -0.23519756874658382, -0.9451011638490537, -1.063843416629175, 0.6756848161415443, 0.8151176376126024, -0.8913414043464327, 1.586858684811914, -0.49092565487567463, -1.2918634219359029, 0.5036484512397292, -0.6014396795922873, 0.43023242215496327, -0.5140747441600014, -1.64299938662231, 0.19220870639914056, 0.8203705341311345, -1.3573891161830567, 0.9824384134933203, -0.4431038482458481, 0.831281467639583, 0.5991381056360517, -0.19798352319493737, 1.6225181625321803, 0.15865883270680928, -0.24062204610389426, -0.17416125564133053, 1.0077119144555593, 1.7385666186605993, -0.2493143010520831, 1.427211355261423, -0.10332308539021648, -0.16680760836093397, 2.0625300652181706, -0.029300367935213394, 2.8039443472510506, 0.346449737438328, -0.32633297104558556, -0.046492928263603656, -0.4363171197337111, 0.056197128779733936, 0.029384019930100338, 0.7419514855583611, -0.5169707337572688, 0.7157470081371733, 0.36528987025749876, 0.07089580181332032, 0.5816741379834732, -1.980963012540804, 1.5736259710506741, 0.6377350546144804, -0.9773283769613775, 0.6271683365660647, -0.20769018041276938, -0.13629364916807668, -1.0973203981421389, -0.5708035111791355, -1.4518036666885026, 1.144197133868288, 0.18607831353941073, -0.6319881383179478, -0.11362523685186736, 0.040575359081890784, 0.9243094765600892, -1.3476554400860434, -0.7963687182642614, 0.6813966725874765, -0.3003150585184621, -1.7367007129274277, 0.9276116141824441, -0.9356833375574491, 0.0031066811508997944, -0.9927386805528503, 2.4095902696689846, 0.8022472832942091, 0.18688783972328699, 0.68311543513717, -0.5938759721272218, -0.14109286740742658, 1.3991284943838274, 0.3546468501567292, 0.06716378301515893, 1.4330738198409538, 1.2093940166410524, -0.002097060041586007, -0.888013370871234, 1.3046302754895798, -1.4518307583462837, -1.2772735047680706, 0.5455088989553084, 1.3906872989486303, -0.3322633074372016, 1.4057999871358426, -1.6056202884422215, 0.8482521990758864], \"xaxis\": \"x2\", \"y\": [2.6373344784495645, -1.9514781140231166, 1.048759696978105, -1.2963473714495244, 0.27694889027081887, 0.692496688521014, 0.07606444168264838, -0.6406801537579438, -0.6800911741187079, -0.8518888122997218, -0.7791147369734518, -0.6734941267402332, 1.0167773412090835, 0.23352732552763336, 0.6163742442520982, -0.062319690042786834, 0.4481652315232757, -0.02433885182191795, -0.4495406344066845, 0.256728595894281, -0.14869432230647567, -1.2719115094158837, -0.18309035858598605, 0.9512382104394191, -1.3351222343701932, 0.8118457968750349, -0.4592579259017499, 0.017322515641877596, -0.10874037092289358, 0.7231418010819272, 0.24488018614133208, -0.5002111461510281, -0.6789918892111676, 1.0651918883435525, -0.29021561808912394, -0.5543716289854907, 0.25805961156717533, -0.24712456122109305, 0.7710767621589241, -1.1037831746949724, 1.634401350202134, -0.6841000935514857, 0.41030079756170595, 0.9058247386329331, -2.3161672250434076, 0.8233980785593794, 1.892568603868356, 1.1105016985095562, 1.0807787816525551, 0.26329482385854525, 0.6811746578863037, 1.5953539436930355, -0.8709560373194579, 1.133535395435486, 1.993229916325945, -1.7783792766437496, -1.028962145596852, 0.11030844695762584, 0.07519092337124138, 0.4998945230505707, -0.14543010621768782, 2.006305468029981, 0.02027007279842382, -0.5024886909118702, 0.9748120761643012, -0.42348555508138697, 0.11543167395240778, 0.312886660558503, -0.24027670045074928, 0.3752446493239127, 0.1211156796304035, -0.6445287847348729, 0.2764578536695193, 0.10937742078251535, -1.655221776282199, -0.52926779494393, 0.456193201572975, 0.5155302426268643, -0.139552865775506, 0.7012109814926522, -1.113704268358639, -1.9031496623660287, -1.0805160223732262, -1.4413303548350294, 0.4576522935107792, 1.4630078606653885, -1.2489647067372125, -0.6250555560710132, -0.10145369069764623, 0.138125916178685, -1.4996158840708063, 1.5118801883843067, -0.1993334647684355, 0.0031373104395526923, 1.3583255766429585, -1.2406567590300575, -0.5432080731603196, 0.013525641271830868, -0.6655652043632769, 0.9079388521323659], \"yaxis\": \"y2\"}, {\"line\": {\"color\": \"rgba(128, 128, 128, 1.0)\", \"dash\": \"solid\", \"shape\": \"linear\", \"width\": 1.3}, \"marker\": {\"size\": 2, \"symbol\": \"circle\"}, \"mode\": \"markers\", \"name\": \"A\", \"text\": \"\", \"type\": \"scatter\", \"x\": [1.4498618288752683, 1.7328385294714626, 1.004029008894011, -1.6062799113700785, 0.10683529586961767, -0.9227494274259259, 0.5016233374493976, 0.4354959107702326, -0.981635039698152, 0.28224061934882305, 0.5883067823745549, -0.6446220549102041, 1.768397668585287, 0.32338086206029415, -0.6089631213972786, -0.15129613728977628, -0.3144696304365042, 0.5227768411444701, 1.6614567904707604, -0.4869697386654161, 0.19398758454251058, 0.8575978399112405, 0.26381374000339447, -0.9103604354300123, 0.5893877833130567, 0.8279645023396632, 0.01918743234644123, -0.9664222932991421, -0.6087572488542209, -0.9882009943289728, 0.5434582351840901, -0.4812707455824255, 0.5398624960803878, 0.07351615050022245, -0.3210454754474769, -0.2821986291700468, -0.8092585537606711, -0.47575748700220716, 0.037940755559431404, 1.2174504410859734, 0.8096217559663961, 1.199037661245566, -2.6137452389556706, 1.8017531439695935, 0.7223063986846324, 1.9162335165144655, -0.938633398487276, 0.08178004193787466, -1.1028424257647615, 0.3622292444051127, 0.7400190974839389, 1.7780673644609164, 0.6884856774045507, -1.6597689767374229, 0.4600551461952232, -1.9712567864189725, -1.8142214238159273, -0.677006487182066, 0.028750448897952474, 0.9034262142857564, -1.0675149990814656, -0.2387559638776159, 0.337658907093047, 1.0933290047093895, 1.0848457209409406, 0.2909426767810236, 1.27184614625548, -0.39949098889170837, -0.44561670717636037, -0.7231984682824852, 0.44266707629108853, 0.49334567974278326, -1.043205922737734, 0.533815468923195, 0.0258742485257691, -0.04704901221899354, 0.031243252497379484, -0.588683452669337, -0.1859260710197727, -0.7612975393485383, -0.31002788643206625, -0.9541081966716133, -1.2784860040761195, -0.09907495519478068, 0.14533700386121376, -0.468672665870601, 0.9158383776779138, 0.2705739668923256, -1.0495071745403368, 0.010182105127980824, 0.4816408618138371, 0.7387513938876691, -2.2736959595736908, 1.5595974707953337, 0.09698004787927725, 0.9075739425020036, -1.2106168525632064, -0.2797082884843704, -0.01211438348049651, 0.15671383784238285], \"xaxis\": \"x3\", \"y\": [2.6373344784495645, -1.9514781140231166, 1.048759696978105, -1.2963473714495244, 0.27694889027081887, 0.692496688521014, 0.07606444168264838, -0.6406801537579438, -0.6800911741187079, -0.8518888122997218, -0.7791147369734518, -0.6734941267402332, 1.0167773412090835, 0.23352732552763336, 0.6163742442520982, -0.062319690042786834, 0.4481652315232757, -0.02433885182191795, -0.4495406344066845, 0.256728595894281, -0.14869432230647567, -1.2719115094158837, -0.18309035858598605, 0.9512382104394191, -1.3351222343701932, 0.8118457968750349, -0.4592579259017499, 0.017322515641877596, -0.10874037092289358, 0.7231418010819272, 0.24488018614133208, -0.5002111461510281, -0.6789918892111676, 1.0651918883435525, -0.29021561808912394, -0.5543716289854907, 0.25805961156717533, -0.24712456122109305, 0.7710767621589241, -1.1037831746949724, 1.634401350202134, -0.6841000935514857, 0.41030079756170595, 0.9058247386329331, -2.3161672250434076, 0.8233980785593794, 1.892568603868356, 1.1105016985095562, 1.0807787816525551, 0.26329482385854525, 0.6811746578863037, 1.5953539436930355, -0.8709560373194579, 1.133535395435486, 1.993229916325945, -1.7783792766437496, -1.028962145596852, 0.11030844695762584, 0.07519092337124138, 0.4998945230505707, -0.14543010621768782, 2.006305468029981, 0.02027007279842382, -0.5024886909118702, 0.9748120761643012, -0.42348555508138697, 0.11543167395240778, 0.312886660558503, -0.24027670045074928, 0.3752446493239127, 0.1211156796304035, -0.6445287847348729, 0.2764578536695193, 0.10937742078251535, -1.655221776282199, -0.52926779494393, 0.456193201572975, 0.5155302426268643, -0.139552865775506, 0.7012109814926522, -1.113704268358639, -1.9031496623660287, -1.0805160223732262, -1.4413303548350294, 0.4576522935107792, 1.4630078606653885, -1.2489647067372125, -0.6250555560710132, -0.10145369069764623, 0.138125916178685, -1.4996158840708063, 1.5118801883843067, -0.1993334647684355, 0.0031373104395526923, 1.3583255766429585, -1.2406567590300575, -0.5432080731603196, 0.013525641271830868, -0.6655652043632769, 0.9079388521323659], \"yaxis\": \"y3\"}, {\"line\": {\"color\": \"rgba(128, 128, 128, 1.0)\", \"dash\": \"solid\", \"shape\": \"linear\", \"width\": 1.3}, \"marker\": {\"size\": 2, \"symbol\": \"circle\"}, \"mode\": \"markers\", \"name\": \"A\", \"text\": \"\", \"type\": \"scatter\", \"x\": [0.5890479225695289, -1.8800411793152518, 0.10532538331081642, 1.304760382357214, -1.5207865261635254, 0.80535504560426, -0.016330642922064067, 0.02346801037178581, 1.7187522662306425, -2.1955063834539095, -0.5769981172028733, 0.09000375755023558, -1.8624235173191004, -1.1009286359164434, 0.15449174404624288, -0.42030335631153876, -1.2256200134025306, -0.6523156049271698, 2.1418338776140713, -0.19855603884017475, 0.16109942465094543, 1.3361635559784157, -0.9819981197421579, 0.9642739356717789, -0.6562500412096507, 0.1112529484100331, -0.6398772958913014, 0.42268956402601804, -0.025294790234960885, -0.030153433080490136, -0.8313725843186645, -0.938201127839907, -1.911009011521281, 0.8720607514505231, 0.20159372153891028, 0.23854622358629274, 1.0357643646879247, -0.6222508816703947, -0.201051672633647, 0.10920878354186614, 1.2931967890721783, 0.4003630051396867, 0.9347665699410361, -0.40133229197578224, 1.5820953338987511, 0.5443403357634087, 0.0924046147742567, 0.8409666621612053, 0.023884694373222874, 0.8002845648753338, -0.36760501095246834, -1.0515766041945838, 0.25523843882386366, 0.5916949790905618, -1.0888968601899538, -0.5693980953228801, 1.4241100987389872, -1.4877147062766232, 1.8964324401552328, 0.8073979821389569, 0.5757146381949131, -1.0088956105103228, 1.1580015396293046, 0.8755378007049406, 0.061826717503275556, 0.367970255682253, -0.1353273470208465, -1.218789274166298, 0.7635454904032188, -1.1824825314425427, -0.9522044303030941, -0.421519984789472, -1.8914640355164, 0.04257370988149448, -0.347977886168004, 0.47268827424963816, 1.3983171133480505, -1.5121319797280075, 0.7234650439386268, 0.03972270240900846, 0.3611548111125105, 0.9080514626747183, -0.41115121905120605, 0.3862596497626326, -0.6398397853488617, -0.5966853595462834, -1.194536857405595, 0.29658390402603535, 0.44733922912517365, -0.6156507465655643, -0.7913395436051006, 0.8477144688179395, 1.3416561326521723, 1.4327616831608472, -0.23062208960279115, 0.6442741499092415, -0.6184935147963586, -2.4488058934072754, -0.9749751937995255, 1.1575746951540418], \"xaxis\": \"x4\", \"y\": [2.6373344784495645, -1.9514781140231166, 1.048759696978105, -1.2963473714495244, 0.27694889027081887, 0.692496688521014, 0.07606444168264838, -0.6406801537579438, -0.6800911741187079, -0.8518888122997218, -0.7791147369734518, -0.6734941267402332, 1.0167773412090835, 0.23352732552763336, 0.6163742442520982, -0.062319690042786834, 0.4481652315232757, -0.02433885182191795, -0.4495406344066845, 0.256728595894281, -0.14869432230647567, -1.2719115094158837, -0.18309035858598605, 0.9512382104394191, -1.3351222343701932, 0.8118457968750349, -0.4592579259017499, 0.017322515641877596, -0.10874037092289358, 0.7231418010819272, 0.24488018614133208, -0.5002111461510281, -0.6789918892111676, 1.0651918883435525, -0.29021561808912394, -0.5543716289854907, 0.25805961156717533, -0.24712456122109305, 0.7710767621589241, -1.1037831746949724, 1.634401350202134, -0.6841000935514857, 0.41030079756170595, 0.9058247386329331, -2.3161672250434076, 0.8233980785593794, 1.892568603868356, 1.1105016985095562, 1.0807787816525551, 0.26329482385854525, 0.6811746578863037, 1.5953539436930355, -0.8709560373194579, 1.133535395435486, 1.993229916325945, -1.7783792766437496, -1.028962145596852, 0.11030844695762584, 0.07519092337124138, 0.4998945230505707, -0.14543010621768782, 2.006305468029981, 0.02027007279842382, -0.5024886909118702, 0.9748120761643012, -0.42348555508138697, 0.11543167395240778, 0.312886660558503, -0.24027670045074928, 0.3752446493239127, 0.1211156796304035, -0.6445287847348729, 0.2764578536695193, 0.10937742078251535, -1.655221776282199, -0.52926779494393, 0.456193201572975, 0.5155302426268643, -0.139552865775506, 0.7012109814926522, -1.113704268358639, -1.9031496623660287, -1.0805160223732262, -1.4413303548350294, 0.4576522935107792, 1.4630078606653885, -1.2489647067372125, -0.6250555560710132, -0.10145369069764623, 0.138125916178685, -1.4996158840708063, 1.5118801883843067, -0.1993334647684355, 0.0031373104395526923, 1.3583255766429585, -1.2406567590300575, -0.5432080731603196, 0.013525641271830868, -0.6655652043632769, 0.9079388521323659], \"yaxis\": \"y4\"}, {\"line\": {\"color\": \"rgba(128, 128, 128, 1.0)\", \"dash\": \"solid\", \"shape\": \"linear\", \"width\": 1.3}, \"marker\": {\"size\": 2, \"symbol\": \"circle\"}, \"mode\": \"markers\", \"name\": \"B\", \"text\": \"\", \"type\": \"scatter\", \"x\": [2.6373344784495645, -1.9514781140231166, 1.048759696978105, -1.2963473714495244, 0.27694889027081887, 0.692496688521014, 0.07606444168264838, -0.6406801537579438, -0.6800911741187079, -0.8518888122997218, -0.7791147369734518, -0.6734941267402332, 1.0167773412090835, 0.23352732552763336, 0.6163742442520982, -0.062319690042786834, 0.4481652315232757, -0.02433885182191795, -0.4495406344066845, 0.256728595894281, -0.14869432230647567, -1.2719115094158837, -0.18309035858598605, 0.9512382104394191, -1.3351222343701932, 0.8118457968750349, -0.4592579259017499, 0.017322515641877596, -0.10874037092289358, 0.7231418010819272, 0.24488018614133208, -0.5002111461510281, -0.6789918892111676, 1.0651918883435525, -0.29021561808912394, -0.5543716289854907, 0.25805961156717533, -0.24712456122109305, 0.7710767621589241, -1.1037831746949724, 1.634401350202134, -0.6841000935514857, 0.41030079756170595, 0.9058247386329331, -2.3161672250434076, 0.8233980785593794, 1.892568603868356, 1.1105016985095562, 1.0807787816525551, 0.26329482385854525, 0.6811746578863037, 1.5953539436930355, -0.8709560373194579, 1.133535395435486, 1.993229916325945, -1.7783792766437496, -1.028962145596852, 0.11030844695762584, 0.07519092337124138, 0.4998945230505707, -0.14543010621768782, 2.006305468029981, 0.02027007279842382, -0.5024886909118702, 0.9748120761643012, -0.42348555508138697, 0.11543167395240778, 0.312886660558503, -0.24027670045074928, 0.3752446493239127, 0.1211156796304035, -0.6445287847348729, 0.2764578536695193, 0.10937742078251535, -1.655221776282199, -0.52926779494393, 0.456193201572975, 0.5155302426268643, -0.139552865775506, 0.7012109814926522, -1.113704268358639, -1.9031496623660287, -1.0805160223732262, -1.4413303548350294, 0.4576522935107792, 1.4630078606653885, -1.2489647067372125, -0.6250555560710132, -0.10145369069764623, 0.138125916178685, -1.4996158840708063, 1.5118801883843067, -0.1993334647684355, 0.0031373104395526923, 1.3583255766429585, -1.2406567590300575, -0.5432080731603196, 0.013525641271830868, -0.6655652043632769, 0.9079388521323659], \"xaxis\": \"x5\", \"y\": [-2.284695843780699, -0.12897863957239397, -0.5960163415525992, 0.6927278091908197, -1.073096401837728, -0.5784207622519486, -0.23519756874658382, -0.9451011638490537, -1.063843416629175, 0.6756848161415443, 0.8151176376126024, -0.8913414043464327, 1.586858684811914, -0.49092565487567463, -1.2918634219359029, 0.5036484512397292, -0.6014396795922873, 0.43023242215496327, -0.5140747441600014, -1.64299938662231, 0.19220870639914056, 0.8203705341311345, -1.3573891161830567, 0.9824384134933203, -0.4431038482458481, 0.831281467639583, 0.5991381056360517, -0.19798352319493737, 1.6225181625321803, 0.15865883270680928, -0.24062204610389426, -0.17416125564133053, 1.0077119144555593, 1.7385666186605993, -0.2493143010520831, 1.427211355261423, -0.10332308539021648, -0.16680760836093397, 2.0625300652181706, -0.029300367935213394, 2.8039443472510506, 0.346449737438328, -0.32633297104558556, -0.046492928263603656, -0.4363171197337111, 0.056197128779733936, 0.029384019930100338, 0.7419514855583611, -0.5169707337572688, 0.7157470081371733, 0.36528987025749876, 0.07089580181332032, 0.5816741379834732, -1.980963012540804, 1.5736259710506741, 0.6377350546144804, -0.9773283769613775, 0.6271683365660647, -0.20769018041276938, -0.13629364916807668, -1.0973203981421389, -0.5708035111791355, -1.4518036666885026, 1.144197133868288, 0.18607831353941073, -0.6319881383179478, -0.11362523685186736, 0.040575359081890784, 0.9243094765600892, -1.3476554400860434, -0.7963687182642614, 0.6813966725874765, -0.3003150585184621, -1.7367007129274277, 0.9276116141824441, -0.9356833375574491, 0.0031066811508997944, -0.9927386805528503, 2.4095902696689846, 0.8022472832942091, 0.18688783972328699, 0.68311543513717, -0.5938759721272218, -0.14109286740742658, 1.3991284943838274, 0.3546468501567292, 0.06716378301515893, 1.4330738198409538, 1.2093940166410524, -0.002097060041586007, -0.888013370871234, 1.3046302754895798, -1.4518307583462837, -1.2772735047680706, 0.5455088989553084, 1.3906872989486303, -0.3322633074372016, 1.4057999871358426, -1.6056202884422215, 0.8482521990758864], \"yaxis\": \"y5\"}, {\"histfunc\": \"count\", \"histnorm\": \"\", \"marker\": {\"color\": \"rgba(55, 128, 191, 1.0)\", \"line\": {\"color\": \"#4D5663\", \"width\": 1.3}}, \"name\": \"B\", \"nbinsx\": 10, \"opacity\": 0.8, \"orientation\": \"v\", \"type\": \"histogram\", \"x\": [-2.284695843780699, -0.12897863957239397, -0.5960163415525992, 0.6927278091908197, -1.073096401837728, -0.5784207622519486, -0.23519756874658382, -0.9451011638490537, -1.063843416629175, 0.6756848161415443, 0.8151176376126024, -0.8913414043464327, 1.586858684811914, -0.49092565487567463, -1.2918634219359029, 0.5036484512397292, -0.6014396795922873, 0.43023242215496327, -0.5140747441600014, -1.64299938662231, 0.19220870639914056, 0.8203705341311345, -1.3573891161830567, 0.9824384134933203, -0.4431038482458481, 0.831281467639583, 0.5991381056360517, -0.19798352319493737, 1.6225181625321803, 0.15865883270680928, -0.24062204610389426, -0.17416125564133053, 1.0077119144555593, 1.7385666186605993, -0.2493143010520831, 1.427211355261423, -0.10332308539021648, -0.16680760836093397, 2.0625300652181706, -0.029300367935213394, 2.8039443472510506, 0.346449737438328, -0.32633297104558556, -0.046492928263603656, -0.4363171197337111, 0.056197128779733936, 0.029384019930100338, 0.7419514855583611, -0.5169707337572688, 0.7157470081371733, 0.36528987025749876, 0.07089580181332032, 0.5816741379834732, -1.980963012540804, 1.5736259710506741, 0.6377350546144804, -0.9773283769613775, 0.6271683365660647, -0.20769018041276938, -0.13629364916807668, -1.0973203981421389, -0.5708035111791355, -1.4518036666885026, 1.144197133868288, 0.18607831353941073, -0.6319881383179478, -0.11362523685186736, 0.040575359081890784, 0.9243094765600892, -1.3476554400860434, -0.7963687182642614, 0.6813966725874765, -0.3003150585184621, -1.7367007129274277, 0.9276116141824441, -0.9356833375574491, 0.0031066811508997944, -0.9927386805528503, 2.4095902696689846, 0.8022472832942091, 0.18688783972328699, 0.68311543513717, -0.5938759721272218, -0.14109286740742658, 1.3991284943838274, 0.3546468501567292, 0.06716378301515893, 1.4330738198409538, 1.2093940166410524, -0.002097060041586007, -0.888013370871234, 1.3046302754895798, -1.4518307583462837, -1.2772735047680706, 0.5455088989553084, 1.3906872989486303, -0.3322633074372016, 1.4057999871358426, -1.6056202884422215, 0.8482521990758864], \"xaxis\": \"x6\", \"yaxis\": \"y6\"}, {\"line\": {\"color\": \"rgba(128, 128, 128, 1.0)\", \"dash\": \"solid\", \"shape\": \"linear\", \"width\": 1.3}, \"marker\": {\"size\": 2, \"symbol\": \"circle\"}, \"mode\": \"markers\", \"name\": \"B\", \"text\": \"\", \"type\": \"scatter\", \"x\": [1.4498618288752683, 1.7328385294714626, 1.004029008894011, -1.6062799113700785, 0.10683529586961767, -0.9227494274259259, 0.5016233374493976, 0.4354959107702326, -0.981635039698152, 0.28224061934882305, 0.5883067823745549, -0.6446220549102041, 1.768397668585287, 0.32338086206029415, -0.6089631213972786, -0.15129613728977628, -0.3144696304365042, 0.5227768411444701, 1.6614567904707604, -0.4869697386654161, 0.19398758454251058, 0.8575978399112405, 0.26381374000339447, -0.9103604354300123, 0.5893877833130567, 0.8279645023396632, 0.01918743234644123, -0.9664222932991421, -0.6087572488542209, -0.9882009943289728, 0.5434582351840901, -0.4812707455824255, 0.5398624960803878, 0.07351615050022245, -0.3210454754474769, -0.2821986291700468, -0.8092585537606711, -0.47575748700220716, 0.037940755559431404, 1.2174504410859734, 0.8096217559663961, 1.199037661245566, -2.6137452389556706, 1.8017531439695935, 0.7223063986846324, 1.9162335165144655, -0.938633398487276, 0.08178004193787466, -1.1028424257647615, 0.3622292444051127, 0.7400190974839389, 1.7780673644609164, 0.6884856774045507, -1.6597689767374229, 0.4600551461952232, -1.9712567864189725, -1.8142214238159273, -0.677006487182066, 0.028750448897952474, 0.9034262142857564, -1.0675149990814656, -0.2387559638776159, 0.337658907093047, 1.0933290047093895, 1.0848457209409406, 0.2909426767810236, 1.27184614625548, -0.39949098889170837, -0.44561670717636037, -0.7231984682824852, 0.44266707629108853, 0.49334567974278326, -1.043205922737734, 0.533815468923195, 0.0258742485257691, -0.04704901221899354, 0.031243252497379484, -0.588683452669337, -0.1859260710197727, -0.7612975393485383, -0.31002788643206625, -0.9541081966716133, -1.2784860040761195, -0.09907495519478068, 0.14533700386121376, -0.468672665870601, 0.9158383776779138, 0.2705739668923256, -1.0495071745403368, 0.010182105127980824, 0.4816408618138371, 0.7387513938876691, -2.2736959595736908, 1.5595974707953337, 0.09698004787927725, 0.9075739425020036, -1.2106168525632064, -0.2797082884843704, -0.01211438348049651, 0.15671383784238285], \"xaxis\": \"x7\", \"y\": [-2.284695843780699, -0.12897863957239397, -0.5960163415525992, 0.6927278091908197, -1.073096401837728, -0.5784207622519486, -0.23519756874658382, -0.9451011638490537, -1.063843416629175, 0.6756848161415443, 0.8151176376126024, -0.8913414043464327, 1.586858684811914, -0.49092565487567463, -1.2918634219359029, 0.5036484512397292, -0.6014396795922873, 0.43023242215496327, -0.5140747441600014, -1.64299938662231, 0.19220870639914056, 0.8203705341311345, -1.3573891161830567, 0.9824384134933203, -0.4431038482458481, 0.831281467639583, 0.5991381056360517, -0.19798352319493737, 1.6225181625321803, 0.15865883270680928, -0.24062204610389426, -0.17416125564133053, 1.0077119144555593, 1.7385666186605993, -0.2493143010520831, 1.427211355261423, -0.10332308539021648, -0.16680760836093397, 2.0625300652181706, -0.029300367935213394, 2.8039443472510506, 0.346449737438328, -0.32633297104558556, -0.046492928263603656, -0.4363171197337111, 0.056197128779733936, 0.029384019930100338, 0.7419514855583611, -0.5169707337572688, 0.7157470081371733, 0.36528987025749876, 0.07089580181332032, 0.5816741379834732, -1.980963012540804, 1.5736259710506741, 0.6377350546144804, -0.9773283769613775, 0.6271683365660647, -0.20769018041276938, -0.13629364916807668, -1.0973203981421389, -0.5708035111791355, -1.4518036666885026, 1.144197133868288, 0.18607831353941073, -0.6319881383179478, -0.11362523685186736, 0.040575359081890784, 0.9243094765600892, -1.3476554400860434, -0.7963687182642614, 0.6813966725874765, -0.3003150585184621, -1.7367007129274277, 0.9276116141824441, -0.9356833375574491, 0.0031066811508997944, -0.9927386805528503, 2.4095902696689846, 0.8022472832942091, 0.18688783972328699, 0.68311543513717, -0.5938759721272218, -0.14109286740742658, 1.3991284943838274, 0.3546468501567292, 0.06716378301515893, 1.4330738198409538, 1.2093940166410524, -0.002097060041586007, -0.888013370871234, 1.3046302754895798, -1.4518307583462837, -1.2772735047680706, 0.5455088989553084, 1.3906872989486303, -0.3322633074372016, 1.4057999871358426, -1.6056202884422215, 0.8482521990758864], \"yaxis\": \"y7\"}, {\"line\": {\"color\": \"rgba(128, 128, 128, 1.0)\", \"dash\": \"solid\", \"shape\": \"linear\", \"width\": 1.3}, \"marker\": {\"size\": 2, \"symbol\": \"circle\"}, \"mode\": \"markers\", \"name\": \"B\", \"text\": \"\", \"type\": \"scatter\", \"x\": [0.5890479225695289, -1.8800411793152518, 0.10532538331081642, 1.304760382357214, -1.5207865261635254, 0.80535504560426, -0.016330642922064067, 0.02346801037178581, 1.7187522662306425, -2.1955063834539095, -0.5769981172028733, 0.09000375755023558, -1.8624235173191004, -1.1009286359164434, 0.15449174404624288, -0.42030335631153876, -1.2256200134025306, -0.6523156049271698, 2.1418338776140713, -0.19855603884017475, 0.16109942465094543, 1.3361635559784157, -0.9819981197421579, 0.9642739356717789, -0.6562500412096507, 0.1112529484100331, -0.6398772958913014, 0.42268956402601804, -0.025294790234960885, -0.030153433080490136, -0.8313725843186645, -0.938201127839907, -1.911009011521281, 0.8720607514505231, 0.20159372153891028, 0.23854622358629274, 1.0357643646879247, -0.6222508816703947, -0.201051672633647, 0.10920878354186614, 1.2931967890721783, 0.4003630051396867, 0.9347665699410361, -0.40133229197578224, 1.5820953338987511, 0.5443403357634087, 0.0924046147742567, 0.8409666621612053, 0.023884694373222874, 0.8002845648753338, -0.36760501095246834, -1.0515766041945838, 0.25523843882386366, 0.5916949790905618, -1.0888968601899538, -0.5693980953228801, 1.4241100987389872, -1.4877147062766232, 1.8964324401552328, 0.8073979821389569, 0.5757146381949131, -1.0088956105103228, 1.1580015396293046, 0.8755378007049406, 0.061826717503275556, 0.367970255682253, -0.1353273470208465, -1.218789274166298, 0.7635454904032188, -1.1824825314425427, -0.9522044303030941, -0.421519984789472, -1.8914640355164, 0.04257370988149448, -0.347977886168004, 0.47268827424963816, 1.3983171133480505, -1.5121319797280075, 0.7234650439386268, 0.03972270240900846, 0.3611548111125105, 0.9080514626747183, -0.41115121905120605, 0.3862596497626326, -0.6398397853488617, -0.5966853595462834, -1.194536857405595, 0.29658390402603535, 0.44733922912517365, -0.6156507465655643, -0.7913395436051006, 0.8477144688179395, 1.3416561326521723, 1.4327616831608472, -0.23062208960279115, 0.6442741499092415, -0.6184935147963586, -2.4488058934072754, -0.9749751937995255, 1.1575746951540418], \"xaxis\": \"x8\", \"y\": [-2.284695843780699, -0.12897863957239397, -0.5960163415525992, 0.6927278091908197, -1.073096401837728, -0.5784207622519486, -0.23519756874658382, -0.9451011638490537, -1.063843416629175, 0.6756848161415443, 0.8151176376126024, -0.8913414043464327, 1.586858684811914, -0.49092565487567463, -1.2918634219359029, 0.5036484512397292, -0.6014396795922873, 0.43023242215496327, -0.5140747441600014, -1.64299938662231, 0.19220870639914056, 0.8203705341311345, -1.3573891161830567, 0.9824384134933203, -0.4431038482458481, 0.831281467639583, 0.5991381056360517, -0.19798352319493737, 1.6225181625321803, 0.15865883270680928, -0.24062204610389426, -0.17416125564133053, 1.0077119144555593, 1.7385666186605993, -0.2493143010520831, 1.427211355261423, -0.10332308539021648, -0.16680760836093397, 2.0625300652181706, -0.029300367935213394, 2.8039443472510506, 0.346449737438328, -0.32633297104558556, -0.046492928263603656, -0.4363171197337111, 0.056197128779733936, 0.029384019930100338, 0.7419514855583611, -0.5169707337572688, 0.7157470081371733, 0.36528987025749876, 0.07089580181332032, 0.5816741379834732, -1.980963012540804, 1.5736259710506741, 0.6377350546144804, -0.9773283769613775, 0.6271683365660647, -0.20769018041276938, -0.13629364916807668, -1.0973203981421389, -0.5708035111791355, -1.4518036666885026, 1.144197133868288, 0.18607831353941073, -0.6319881383179478, -0.11362523685186736, 0.040575359081890784, 0.9243094765600892, -1.3476554400860434, -0.7963687182642614, 0.6813966725874765, -0.3003150585184621, -1.7367007129274277, 0.9276116141824441, -0.9356833375574491, 0.0031066811508997944, -0.9927386805528503, 2.4095902696689846, 0.8022472832942091, 0.18688783972328699, 0.68311543513717, -0.5938759721272218, -0.14109286740742658, 1.3991284943838274, 0.3546468501567292, 0.06716378301515893, 1.4330738198409538, 1.2093940166410524, -0.002097060041586007, -0.888013370871234, 1.3046302754895798, -1.4518307583462837, -1.2772735047680706, 0.5455088989553084, 1.3906872989486303, -0.3322633074372016, 1.4057999871358426, -1.6056202884422215, 0.8482521990758864], \"yaxis\": \"y8\"}, {\"line\": {\"color\": \"rgba(128, 128, 128, 1.0)\", \"dash\": \"solid\", \"shape\": \"linear\", \"width\": 1.3}, \"marker\": {\"size\": 2, \"symbol\": \"circle\"}, \"mode\": \"markers\", \"name\": \"C\", \"text\": \"\", \"type\": \"scatter\", \"x\": [2.6373344784495645, -1.9514781140231166, 1.048759696978105, -1.2963473714495244, 0.27694889027081887, 0.692496688521014, 0.07606444168264838, -0.6406801537579438, -0.6800911741187079, -0.8518888122997218, -0.7791147369734518, -0.6734941267402332, 1.0167773412090835, 0.23352732552763336, 0.6163742442520982, -0.062319690042786834, 0.4481652315232757, -0.02433885182191795, -0.4495406344066845, 0.256728595894281, -0.14869432230647567, -1.2719115094158837, -0.18309035858598605, 0.9512382104394191, -1.3351222343701932, 0.8118457968750349, -0.4592579259017499, 0.017322515641877596, -0.10874037092289358, 0.7231418010819272, 0.24488018614133208, -0.5002111461510281, -0.6789918892111676, 1.0651918883435525, -0.29021561808912394, -0.5543716289854907, 0.25805961156717533, -0.24712456122109305, 0.7710767621589241, -1.1037831746949724, 1.634401350202134, -0.6841000935514857, 0.41030079756170595, 0.9058247386329331, -2.3161672250434076, 0.8233980785593794, 1.892568603868356, 1.1105016985095562, 1.0807787816525551, 0.26329482385854525, 0.6811746578863037, 1.5953539436930355, -0.8709560373194579, 1.133535395435486, 1.993229916325945, -1.7783792766437496, -1.028962145596852, 0.11030844695762584, 0.07519092337124138, 0.4998945230505707, -0.14543010621768782, 2.006305468029981, 0.02027007279842382, -0.5024886909118702, 0.9748120761643012, -0.42348555508138697, 0.11543167395240778, 0.312886660558503, -0.24027670045074928, 0.3752446493239127, 0.1211156796304035, -0.6445287847348729, 0.2764578536695193, 0.10937742078251535, -1.655221776282199, -0.52926779494393, 0.456193201572975, 0.5155302426268643, -0.139552865775506, 0.7012109814926522, -1.113704268358639, -1.9031496623660287, -1.0805160223732262, -1.4413303548350294, 0.4576522935107792, 1.4630078606653885, -1.2489647067372125, -0.6250555560710132, -0.10145369069764623, 0.138125916178685, -1.4996158840708063, 1.5118801883843067, -0.1993334647684355, 0.0031373104395526923, 1.3583255766429585, -1.2406567590300575, -0.5432080731603196, 0.013525641271830868, -0.6655652043632769, 0.9079388521323659], \"xaxis\": \"x9\", \"y\": [1.4498618288752683, 1.7328385294714626, 1.004029008894011, -1.6062799113700785, 0.10683529586961767, -0.9227494274259259, 0.5016233374493976, 0.4354959107702326, -0.981635039698152, 0.28224061934882305, 0.5883067823745549, -0.6446220549102041, 1.768397668585287, 0.32338086206029415, -0.6089631213972786, -0.15129613728977628, -0.3144696304365042, 0.5227768411444701, 1.6614567904707604, -0.4869697386654161, 0.19398758454251058, 0.8575978399112405, 0.26381374000339447, -0.9103604354300123, 0.5893877833130567, 0.8279645023396632, 0.01918743234644123, -0.9664222932991421, -0.6087572488542209, -0.9882009943289728, 0.5434582351840901, -0.4812707455824255, 0.5398624960803878, 0.07351615050022245, -0.3210454754474769, -0.2821986291700468, -0.8092585537606711, -0.47575748700220716, 0.037940755559431404, 1.2174504410859734, 0.8096217559663961, 1.199037661245566, -2.6137452389556706, 1.8017531439695935, 0.7223063986846324, 1.9162335165144655, -0.938633398487276, 0.08178004193787466, -1.1028424257647615, 0.3622292444051127, 0.7400190974839389, 1.7780673644609164, 0.6884856774045507, -1.6597689767374229, 0.4600551461952232, -1.9712567864189725, -1.8142214238159273, -0.677006487182066, 0.028750448897952474, 0.9034262142857564, -1.0675149990814656, -0.2387559638776159, 0.337658907093047, 1.0933290047093895, 1.0848457209409406, 0.2909426767810236, 1.27184614625548, -0.39949098889170837, -0.44561670717636037, -0.7231984682824852, 0.44266707629108853, 0.49334567974278326, -1.043205922737734, 0.533815468923195, 0.0258742485257691, -0.04704901221899354, 0.031243252497379484, -0.588683452669337, -0.1859260710197727, -0.7612975393485383, -0.31002788643206625, -0.9541081966716133, -1.2784860040761195, -0.09907495519478068, 0.14533700386121376, -0.468672665870601, 0.9158383776779138, 0.2705739668923256, -1.0495071745403368, 0.010182105127980824, 0.4816408618138371, 0.7387513938876691, -2.2736959595736908, 1.5595974707953337, 0.09698004787927725, 0.9075739425020036, -1.2106168525632064, -0.2797082884843704, -0.01211438348049651, 0.15671383784238285], \"yaxis\": \"y9\"}, {\"line\": {\"color\": \"rgba(128, 128, 128, 1.0)\", \"dash\": \"solid\", \"shape\": \"linear\", \"width\": 1.3}, \"marker\": {\"size\": 2, \"symbol\": \"circle\"}, \"mode\": \"markers\", \"name\": \"C\", \"text\": \"\", \"type\": \"scatter\", \"x\": [-2.284695843780699, -0.12897863957239397, -0.5960163415525992, 0.6927278091908197, -1.073096401837728, -0.5784207622519486, -0.23519756874658382, -0.9451011638490537, -1.063843416629175, 0.6756848161415443, 0.8151176376126024, -0.8913414043464327, 1.586858684811914, -0.49092565487567463, -1.2918634219359029, 0.5036484512397292, -0.6014396795922873, 0.43023242215496327, -0.5140747441600014, -1.64299938662231, 0.19220870639914056, 0.8203705341311345, -1.3573891161830567, 0.9824384134933203, -0.4431038482458481, 0.831281467639583, 0.5991381056360517, -0.19798352319493737, 1.6225181625321803, 0.15865883270680928, -0.24062204610389426, -0.17416125564133053, 1.0077119144555593, 1.7385666186605993, -0.2493143010520831, 1.427211355261423, -0.10332308539021648, -0.16680760836093397, 2.0625300652181706, -0.029300367935213394, 2.8039443472510506, 0.346449737438328, -0.32633297104558556, -0.046492928263603656, -0.4363171197337111, 0.056197128779733936, 0.029384019930100338, 0.7419514855583611, -0.5169707337572688, 0.7157470081371733, 0.36528987025749876, 0.07089580181332032, 0.5816741379834732, -1.980963012540804, 1.5736259710506741, 0.6377350546144804, -0.9773283769613775, 0.6271683365660647, -0.20769018041276938, -0.13629364916807668, -1.0973203981421389, -0.5708035111791355, -1.4518036666885026, 1.144197133868288, 0.18607831353941073, -0.6319881383179478, -0.11362523685186736, 0.040575359081890784, 0.9243094765600892, -1.3476554400860434, -0.7963687182642614, 0.6813966725874765, -0.3003150585184621, -1.7367007129274277, 0.9276116141824441, -0.9356833375574491, 0.0031066811508997944, -0.9927386805528503, 2.4095902696689846, 0.8022472832942091, 0.18688783972328699, 0.68311543513717, -0.5938759721272218, -0.14109286740742658, 1.3991284943838274, 0.3546468501567292, 0.06716378301515893, 1.4330738198409538, 1.2093940166410524, -0.002097060041586007, -0.888013370871234, 1.3046302754895798, -1.4518307583462837, -1.2772735047680706, 0.5455088989553084, 1.3906872989486303, -0.3322633074372016, 1.4057999871358426, -1.6056202884422215, 0.8482521990758864], \"xaxis\": \"x10\", \"y\": [1.4498618288752683, 1.7328385294714626, 1.004029008894011, -1.6062799113700785, 0.10683529586961767, -0.9227494274259259, 0.5016233374493976, 0.4354959107702326, -0.981635039698152, 0.28224061934882305, 0.5883067823745549, -0.6446220549102041, 1.768397668585287, 0.32338086206029415, -0.6089631213972786, -0.15129613728977628, -0.3144696304365042, 0.5227768411444701, 1.6614567904707604, -0.4869697386654161, 0.19398758454251058, 0.8575978399112405, 0.26381374000339447, -0.9103604354300123, 0.5893877833130567, 0.8279645023396632, 0.01918743234644123, -0.9664222932991421, -0.6087572488542209, -0.9882009943289728, 0.5434582351840901, -0.4812707455824255, 0.5398624960803878, 0.07351615050022245, -0.3210454754474769, -0.2821986291700468, -0.8092585537606711, -0.47575748700220716, 0.037940755559431404, 1.2174504410859734, 0.8096217559663961, 1.199037661245566, -2.6137452389556706, 1.8017531439695935, 0.7223063986846324, 1.9162335165144655, -0.938633398487276, 0.08178004193787466, -1.1028424257647615, 0.3622292444051127, 0.7400190974839389, 1.7780673644609164, 0.6884856774045507, -1.6597689767374229, 0.4600551461952232, -1.9712567864189725, -1.8142214238159273, -0.677006487182066, 0.028750448897952474, 0.9034262142857564, -1.0675149990814656, -0.2387559638776159, 0.337658907093047, 1.0933290047093895, 1.0848457209409406, 0.2909426767810236, 1.27184614625548, -0.39949098889170837, -0.44561670717636037, -0.7231984682824852, 0.44266707629108853, 0.49334567974278326, -1.043205922737734, 0.533815468923195, 0.0258742485257691, -0.04704901221899354, 0.031243252497379484, -0.588683452669337, -0.1859260710197727, -0.7612975393485383, -0.31002788643206625, -0.9541081966716133, -1.2784860040761195, -0.09907495519478068, 0.14533700386121376, -0.468672665870601, 0.9158383776779138, 0.2705739668923256, -1.0495071745403368, 0.010182105127980824, 0.4816408618138371, 0.7387513938876691, -2.2736959595736908, 1.5595974707953337, 0.09698004787927725, 0.9075739425020036, -1.2106168525632064, -0.2797082884843704, -0.01211438348049651, 0.15671383784238285], \"yaxis\": \"y10\"}, {\"histfunc\": \"count\", \"histnorm\": \"\", \"marker\": {\"color\": \"rgba(50, 171, 96, 1.0)\", \"line\": {\"color\": \"#4D5663\", \"width\": 1.3}}, \"name\": \"C\", \"nbinsx\": 10, \"opacity\": 0.8, \"orientation\": \"v\", \"type\": \"histogram\", \"x\": [1.4498618288752683, 1.7328385294714626, 1.004029008894011, -1.6062799113700785, 0.10683529586961767, -0.9227494274259259, 0.5016233374493976, 0.4354959107702326, -0.981635039698152, 0.28224061934882305, 0.5883067823745549, -0.6446220549102041, 1.768397668585287, 0.32338086206029415, -0.6089631213972786, -0.15129613728977628, -0.3144696304365042, 0.5227768411444701, 1.6614567904707604, -0.4869697386654161, 0.19398758454251058, 0.8575978399112405, 0.26381374000339447, -0.9103604354300123, 0.5893877833130567, 0.8279645023396632, 0.01918743234644123, -0.9664222932991421, -0.6087572488542209, -0.9882009943289728, 0.5434582351840901, -0.4812707455824255, 0.5398624960803878, 0.07351615050022245, -0.3210454754474769, -0.2821986291700468, -0.8092585537606711, -0.47575748700220716, 0.037940755559431404, 1.2174504410859734, 0.8096217559663961, 1.199037661245566, -2.6137452389556706, 1.8017531439695935, 0.7223063986846324, 1.9162335165144655, -0.938633398487276, 0.08178004193787466, -1.1028424257647615, 0.3622292444051127, 0.7400190974839389, 1.7780673644609164, 0.6884856774045507, -1.6597689767374229, 0.4600551461952232, -1.9712567864189725, -1.8142214238159273, -0.677006487182066, 0.028750448897952474, 0.9034262142857564, -1.0675149990814656, -0.2387559638776159, 0.337658907093047, 1.0933290047093895, 1.0848457209409406, 0.2909426767810236, 1.27184614625548, -0.39949098889170837, -0.44561670717636037, -0.7231984682824852, 0.44266707629108853, 0.49334567974278326, -1.043205922737734, 0.533815468923195, 0.0258742485257691, -0.04704901221899354, 0.031243252497379484, -0.588683452669337, -0.1859260710197727, -0.7612975393485383, -0.31002788643206625, -0.9541081966716133, -1.2784860040761195, -0.09907495519478068, 0.14533700386121376, -0.468672665870601, 0.9158383776779138, 0.2705739668923256, -1.0495071745403368, 0.010182105127980824, 0.4816408618138371, 0.7387513938876691, -2.2736959595736908, 1.5595974707953337, 0.09698004787927725, 0.9075739425020036, -1.2106168525632064, -0.2797082884843704, -0.01211438348049651, 0.15671383784238285], \"xaxis\": \"x11\", \"yaxis\": \"y11\"}, {\"line\": {\"color\": \"rgba(128, 128, 128, 1.0)\", \"dash\": \"solid\", \"shape\": \"linear\", \"width\": 1.3}, \"marker\": {\"size\": 2, \"symbol\": \"circle\"}, \"mode\": \"markers\", \"name\": \"C\", \"text\": \"\", \"type\": \"scatter\", \"x\": [0.5890479225695289, -1.8800411793152518, 0.10532538331081642, 1.304760382357214, -1.5207865261635254, 0.80535504560426, -0.016330642922064067, 0.02346801037178581, 1.7187522662306425, -2.1955063834539095, -0.5769981172028733, 0.09000375755023558, -1.8624235173191004, -1.1009286359164434, 0.15449174404624288, -0.42030335631153876, -1.2256200134025306, -0.6523156049271698, 2.1418338776140713, -0.19855603884017475, 0.16109942465094543, 1.3361635559784157, -0.9819981197421579, 0.9642739356717789, -0.6562500412096507, 0.1112529484100331, -0.6398772958913014, 0.42268956402601804, -0.025294790234960885, -0.030153433080490136, -0.8313725843186645, -0.938201127839907, -1.911009011521281, 0.8720607514505231, 0.20159372153891028, 0.23854622358629274, 1.0357643646879247, -0.6222508816703947, -0.201051672633647, 0.10920878354186614, 1.2931967890721783, 0.4003630051396867, 0.9347665699410361, -0.40133229197578224, 1.5820953338987511, 0.5443403357634087, 0.0924046147742567, 0.8409666621612053, 0.023884694373222874, 0.8002845648753338, -0.36760501095246834, -1.0515766041945838, 0.25523843882386366, 0.5916949790905618, -1.0888968601899538, -0.5693980953228801, 1.4241100987389872, -1.4877147062766232, 1.8964324401552328, 0.8073979821389569, 0.5757146381949131, -1.0088956105103228, 1.1580015396293046, 0.8755378007049406, 0.061826717503275556, 0.367970255682253, -0.1353273470208465, -1.218789274166298, 0.7635454904032188, -1.1824825314425427, -0.9522044303030941, -0.421519984789472, -1.8914640355164, 0.04257370988149448, -0.347977886168004, 0.47268827424963816, 1.3983171133480505, -1.5121319797280075, 0.7234650439386268, 0.03972270240900846, 0.3611548111125105, 0.9080514626747183, -0.41115121905120605, 0.3862596497626326, -0.6398397853488617, -0.5966853595462834, -1.194536857405595, 0.29658390402603535, 0.44733922912517365, -0.6156507465655643, -0.7913395436051006, 0.8477144688179395, 1.3416561326521723, 1.4327616831608472, -0.23062208960279115, 0.6442741499092415, -0.6184935147963586, -2.4488058934072754, -0.9749751937995255, 1.1575746951540418], \"xaxis\": \"x12\", \"y\": [1.4498618288752683, 1.7328385294714626, 1.004029008894011, -1.6062799113700785, 0.10683529586961767, -0.9227494274259259, 0.5016233374493976, 0.4354959107702326, -0.981635039698152, 0.28224061934882305, 0.5883067823745549, -0.6446220549102041, 1.768397668585287, 0.32338086206029415, -0.6089631213972786, -0.15129613728977628, -0.3144696304365042, 0.5227768411444701, 1.6614567904707604, -0.4869697386654161, 0.19398758454251058, 0.8575978399112405, 0.26381374000339447, -0.9103604354300123, 0.5893877833130567, 0.8279645023396632, 0.01918743234644123, -0.9664222932991421, -0.6087572488542209, -0.9882009943289728, 0.5434582351840901, -0.4812707455824255, 0.5398624960803878, 0.07351615050022245, -0.3210454754474769, -0.2821986291700468, -0.8092585537606711, -0.47575748700220716, 0.037940755559431404, 1.2174504410859734, 0.8096217559663961, 1.199037661245566, -2.6137452389556706, 1.8017531439695935, 0.7223063986846324, 1.9162335165144655, -0.938633398487276, 0.08178004193787466, -1.1028424257647615, 0.3622292444051127, 0.7400190974839389, 1.7780673644609164, 0.6884856774045507, -1.6597689767374229, 0.4600551461952232, -1.9712567864189725, -1.8142214238159273, -0.677006487182066, 0.028750448897952474, 0.9034262142857564, -1.0675149990814656, -0.2387559638776159, 0.337658907093047, 1.0933290047093895, 1.0848457209409406, 0.2909426767810236, 1.27184614625548, -0.39949098889170837, -0.44561670717636037, -0.7231984682824852, 0.44266707629108853, 0.49334567974278326, -1.043205922737734, 0.533815468923195, 0.0258742485257691, -0.04704901221899354, 0.031243252497379484, -0.588683452669337, -0.1859260710197727, -0.7612975393485383, -0.31002788643206625, -0.9541081966716133, -1.2784860040761195, -0.09907495519478068, 0.14533700386121376, -0.468672665870601, 0.9158383776779138, 0.2705739668923256, -1.0495071745403368, 0.010182105127980824, 0.4816408618138371, 0.7387513938876691, -2.2736959595736908, 1.5595974707953337, 0.09698004787927725, 0.9075739425020036, -1.2106168525632064, -0.2797082884843704, -0.01211438348049651, 0.15671383784238285], \"yaxis\": \"y12\"}, {\"line\": {\"color\": \"rgba(128, 128, 128, 1.0)\", \"dash\": \"solid\", \"shape\": \"linear\", \"width\": 1.3}, \"marker\": {\"size\": 2, \"symbol\": \"circle\"}, \"mode\": \"markers\", \"name\": \"D\", \"text\": \"\", \"type\": \"scatter\", \"x\": [2.6373344784495645, -1.9514781140231166, 1.048759696978105, -1.2963473714495244, 0.27694889027081887, 0.692496688521014, 0.07606444168264838, -0.6406801537579438, -0.6800911741187079, -0.8518888122997218, -0.7791147369734518, -0.6734941267402332, 1.0167773412090835, 0.23352732552763336, 0.6163742442520982, -0.062319690042786834, 0.4481652315232757, -0.02433885182191795, -0.4495406344066845, 0.256728595894281, -0.14869432230647567, -1.2719115094158837, -0.18309035858598605, 0.9512382104394191, -1.3351222343701932, 0.8118457968750349, -0.4592579259017499, 0.017322515641877596, -0.10874037092289358, 0.7231418010819272, 0.24488018614133208, -0.5002111461510281, -0.6789918892111676, 1.0651918883435525, -0.29021561808912394, -0.5543716289854907, 0.25805961156717533, -0.24712456122109305, 0.7710767621589241, -1.1037831746949724, 1.634401350202134, -0.6841000935514857, 0.41030079756170595, 0.9058247386329331, -2.3161672250434076, 0.8233980785593794, 1.892568603868356, 1.1105016985095562, 1.0807787816525551, 0.26329482385854525, 0.6811746578863037, 1.5953539436930355, -0.8709560373194579, 1.133535395435486, 1.993229916325945, -1.7783792766437496, -1.028962145596852, 0.11030844695762584, 0.07519092337124138, 0.4998945230505707, -0.14543010621768782, 2.006305468029981, 0.02027007279842382, -0.5024886909118702, 0.9748120761643012, -0.42348555508138697, 0.11543167395240778, 0.312886660558503, -0.24027670045074928, 0.3752446493239127, 0.1211156796304035, -0.6445287847348729, 0.2764578536695193, 0.10937742078251535, -1.655221776282199, -0.52926779494393, 0.456193201572975, 0.5155302426268643, -0.139552865775506, 0.7012109814926522, -1.113704268358639, -1.9031496623660287, -1.0805160223732262, -1.4413303548350294, 0.4576522935107792, 1.4630078606653885, -1.2489647067372125, -0.6250555560710132, -0.10145369069764623, 0.138125916178685, -1.4996158840708063, 1.5118801883843067, -0.1993334647684355, 0.0031373104395526923, 1.3583255766429585, -1.2406567590300575, -0.5432080731603196, 0.013525641271830868, -0.6655652043632769, 0.9079388521323659], \"xaxis\": \"x13\", \"y\": [0.5890479225695289, -1.8800411793152518, 0.10532538331081642, 1.304760382357214, -1.5207865261635254, 0.80535504560426, -0.016330642922064067, 0.02346801037178581, 1.7187522662306425, -2.1955063834539095, -0.5769981172028733, 0.09000375755023558, -1.8624235173191004, -1.1009286359164434, 0.15449174404624288, -0.42030335631153876, -1.2256200134025306, -0.6523156049271698, 2.1418338776140713, -0.19855603884017475, 0.16109942465094543, 1.3361635559784157, -0.9819981197421579, 0.9642739356717789, -0.6562500412096507, 0.1112529484100331, -0.6398772958913014, 0.42268956402601804, -0.025294790234960885, -0.030153433080490136, -0.8313725843186645, -0.938201127839907, -1.911009011521281, 0.8720607514505231, 0.20159372153891028, 0.23854622358629274, 1.0357643646879247, -0.6222508816703947, -0.201051672633647, 0.10920878354186614, 1.2931967890721783, 0.4003630051396867, 0.9347665699410361, -0.40133229197578224, 1.5820953338987511, 0.5443403357634087, 0.0924046147742567, 0.8409666621612053, 0.023884694373222874, 0.8002845648753338, -0.36760501095246834, -1.0515766041945838, 0.25523843882386366, 0.5916949790905618, -1.0888968601899538, -0.5693980953228801, 1.4241100987389872, -1.4877147062766232, 1.8964324401552328, 0.8073979821389569, 0.5757146381949131, -1.0088956105103228, 1.1580015396293046, 0.8755378007049406, 0.061826717503275556, 0.367970255682253, -0.1353273470208465, -1.218789274166298, 0.7635454904032188, -1.1824825314425427, -0.9522044303030941, -0.421519984789472, -1.8914640355164, 0.04257370988149448, -0.347977886168004, 0.47268827424963816, 1.3983171133480505, -1.5121319797280075, 0.7234650439386268, 0.03972270240900846, 0.3611548111125105, 0.9080514626747183, -0.41115121905120605, 0.3862596497626326, -0.6398397853488617, -0.5966853595462834, -1.194536857405595, 0.29658390402603535, 0.44733922912517365, -0.6156507465655643, -0.7913395436051006, 0.8477144688179395, 1.3416561326521723, 1.4327616831608472, -0.23062208960279115, 0.6442741499092415, -0.6184935147963586, -2.4488058934072754, -0.9749751937995255, 1.1575746951540418], \"yaxis\": \"y13\"}, {\"line\": {\"color\": \"rgba(128, 128, 128, 1.0)\", \"dash\": \"solid\", \"shape\": \"linear\", \"width\": 1.3}, \"marker\": {\"size\": 2, \"symbol\": \"circle\"}, \"mode\": \"markers\", \"name\": \"D\", \"text\": \"\", \"type\": \"scatter\", \"x\": [-2.284695843780699, -0.12897863957239397, -0.5960163415525992, 0.6927278091908197, -1.073096401837728, -0.5784207622519486, -0.23519756874658382, -0.9451011638490537, -1.063843416629175, 0.6756848161415443, 0.8151176376126024, -0.8913414043464327, 1.586858684811914, -0.49092565487567463, -1.2918634219359029, 0.5036484512397292, -0.6014396795922873, 0.43023242215496327, -0.5140747441600014, -1.64299938662231, 0.19220870639914056, 0.8203705341311345, -1.3573891161830567, 0.9824384134933203, -0.4431038482458481, 0.831281467639583, 0.5991381056360517, -0.19798352319493737, 1.6225181625321803, 0.15865883270680928, -0.24062204610389426, -0.17416125564133053, 1.0077119144555593, 1.7385666186605993, -0.2493143010520831, 1.427211355261423, -0.10332308539021648, -0.16680760836093397, 2.0625300652181706, -0.029300367935213394, 2.8039443472510506, 0.346449737438328, -0.32633297104558556, -0.046492928263603656, -0.4363171197337111, 0.056197128779733936, 0.029384019930100338, 0.7419514855583611, -0.5169707337572688, 0.7157470081371733, 0.36528987025749876, 0.07089580181332032, 0.5816741379834732, -1.980963012540804, 1.5736259710506741, 0.6377350546144804, -0.9773283769613775, 0.6271683365660647, -0.20769018041276938, -0.13629364916807668, -1.0973203981421389, -0.5708035111791355, -1.4518036666885026, 1.144197133868288, 0.18607831353941073, -0.6319881383179478, -0.11362523685186736, 0.040575359081890784, 0.9243094765600892, -1.3476554400860434, -0.7963687182642614, 0.6813966725874765, -0.3003150585184621, -1.7367007129274277, 0.9276116141824441, -0.9356833375574491, 0.0031066811508997944, -0.9927386805528503, 2.4095902696689846, 0.8022472832942091, 0.18688783972328699, 0.68311543513717, -0.5938759721272218, -0.14109286740742658, 1.3991284943838274, 0.3546468501567292, 0.06716378301515893, 1.4330738198409538, 1.2093940166410524, -0.002097060041586007, -0.888013370871234, 1.3046302754895798, -1.4518307583462837, -1.2772735047680706, 0.5455088989553084, 1.3906872989486303, -0.3322633074372016, 1.4057999871358426, -1.6056202884422215, 0.8482521990758864], \"xaxis\": \"x14\", \"y\": [0.5890479225695289, -1.8800411793152518, 0.10532538331081642, 1.304760382357214, -1.5207865261635254, 0.80535504560426, -0.016330642922064067, 0.02346801037178581, 1.7187522662306425, -2.1955063834539095, -0.5769981172028733, 0.09000375755023558, -1.8624235173191004, -1.1009286359164434, 0.15449174404624288, -0.42030335631153876, -1.2256200134025306, -0.6523156049271698, 2.1418338776140713, -0.19855603884017475, 0.16109942465094543, 1.3361635559784157, -0.9819981197421579, 0.9642739356717789, -0.6562500412096507, 0.1112529484100331, -0.6398772958913014, 0.42268956402601804, -0.025294790234960885, -0.030153433080490136, -0.8313725843186645, -0.938201127839907, -1.911009011521281, 0.8720607514505231, 0.20159372153891028, 0.23854622358629274, 1.0357643646879247, -0.6222508816703947, -0.201051672633647, 0.10920878354186614, 1.2931967890721783, 0.4003630051396867, 0.9347665699410361, -0.40133229197578224, 1.5820953338987511, 0.5443403357634087, 0.0924046147742567, 0.8409666621612053, 0.023884694373222874, 0.8002845648753338, -0.36760501095246834, -1.0515766041945838, 0.25523843882386366, 0.5916949790905618, -1.0888968601899538, -0.5693980953228801, 1.4241100987389872, -1.4877147062766232, 1.8964324401552328, 0.8073979821389569, 0.5757146381949131, -1.0088956105103228, 1.1580015396293046, 0.8755378007049406, 0.061826717503275556, 0.367970255682253, -0.1353273470208465, -1.218789274166298, 0.7635454904032188, -1.1824825314425427, -0.9522044303030941, -0.421519984789472, -1.8914640355164, 0.04257370988149448, -0.347977886168004, 0.47268827424963816, 1.3983171133480505, -1.5121319797280075, 0.7234650439386268, 0.03972270240900846, 0.3611548111125105, 0.9080514626747183, -0.41115121905120605, 0.3862596497626326, -0.6398397853488617, -0.5966853595462834, -1.194536857405595, 0.29658390402603535, 0.44733922912517365, -0.6156507465655643, -0.7913395436051006, 0.8477144688179395, 1.3416561326521723, 1.4327616831608472, -0.23062208960279115, 0.6442741499092415, -0.6184935147963586, -2.4488058934072754, -0.9749751937995255, 1.1575746951540418], \"yaxis\": \"y14\"}, {\"line\": {\"color\": \"rgba(128, 128, 128, 1.0)\", \"dash\": \"solid\", \"shape\": \"linear\", \"width\": 1.3}, \"marker\": {\"size\": 2, \"symbol\": \"circle\"}, \"mode\": \"markers\", \"name\": \"D\", \"text\": \"\", \"type\": \"scatter\", \"x\": [1.4498618288752683, 1.7328385294714626, 1.004029008894011, -1.6062799113700785, 0.10683529586961767, -0.9227494274259259, 0.5016233374493976, 0.4354959107702326, -0.981635039698152, 0.28224061934882305, 0.5883067823745549, -0.6446220549102041, 1.768397668585287, 0.32338086206029415, -0.6089631213972786, -0.15129613728977628, -0.3144696304365042, 0.5227768411444701, 1.6614567904707604, -0.4869697386654161, 0.19398758454251058, 0.8575978399112405, 0.26381374000339447, -0.9103604354300123, 0.5893877833130567, 0.8279645023396632, 0.01918743234644123, -0.9664222932991421, -0.6087572488542209, -0.9882009943289728, 0.5434582351840901, -0.4812707455824255, 0.5398624960803878, 0.07351615050022245, -0.3210454754474769, -0.2821986291700468, -0.8092585537606711, -0.47575748700220716, 0.037940755559431404, 1.2174504410859734, 0.8096217559663961, 1.199037661245566, -2.6137452389556706, 1.8017531439695935, 0.7223063986846324, 1.9162335165144655, -0.938633398487276, 0.08178004193787466, -1.1028424257647615, 0.3622292444051127, 0.7400190974839389, 1.7780673644609164, 0.6884856774045507, -1.6597689767374229, 0.4600551461952232, -1.9712567864189725, -1.8142214238159273, -0.677006487182066, 0.028750448897952474, 0.9034262142857564, -1.0675149990814656, -0.2387559638776159, 0.337658907093047, 1.0933290047093895, 1.0848457209409406, 0.2909426767810236, 1.27184614625548, -0.39949098889170837, -0.44561670717636037, -0.7231984682824852, 0.44266707629108853, 0.49334567974278326, -1.043205922737734, 0.533815468923195, 0.0258742485257691, -0.04704901221899354, 0.031243252497379484, -0.588683452669337, -0.1859260710197727, -0.7612975393485383, -0.31002788643206625, -0.9541081966716133, -1.2784860040761195, -0.09907495519478068, 0.14533700386121376, -0.468672665870601, 0.9158383776779138, 0.2705739668923256, -1.0495071745403368, 0.010182105127980824, 0.4816408618138371, 0.7387513938876691, -2.2736959595736908, 1.5595974707953337, 0.09698004787927725, 0.9075739425020036, -1.2106168525632064, -0.2797082884843704, -0.01211438348049651, 0.15671383784238285], \"xaxis\": \"x15\", \"y\": [0.5890479225695289, -1.8800411793152518, 0.10532538331081642, 1.304760382357214, -1.5207865261635254, 0.80535504560426, -0.016330642922064067, 0.02346801037178581, 1.7187522662306425, -2.1955063834539095, -0.5769981172028733, 0.09000375755023558, -1.8624235173191004, -1.1009286359164434, 0.15449174404624288, -0.42030335631153876, -1.2256200134025306, -0.6523156049271698, 2.1418338776140713, -0.19855603884017475, 0.16109942465094543, 1.3361635559784157, -0.9819981197421579, 0.9642739356717789, -0.6562500412096507, 0.1112529484100331, -0.6398772958913014, 0.42268956402601804, -0.025294790234960885, -0.030153433080490136, -0.8313725843186645, -0.938201127839907, -1.911009011521281, 0.8720607514505231, 0.20159372153891028, 0.23854622358629274, 1.0357643646879247, -0.6222508816703947, -0.201051672633647, 0.10920878354186614, 1.2931967890721783, 0.4003630051396867, 0.9347665699410361, -0.40133229197578224, 1.5820953338987511, 0.5443403357634087, 0.0924046147742567, 0.8409666621612053, 0.023884694373222874, 0.8002845648753338, -0.36760501095246834, -1.0515766041945838, 0.25523843882386366, 0.5916949790905618, -1.0888968601899538, -0.5693980953228801, 1.4241100987389872, -1.4877147062766232, 1.8964324401552328, 0.8073979821389569, 0.5757146381949131, -1.0088956105103228, 1.1580015396293046, 0.8755378007049406, 0.061826717503275556, 0.367970255682253, -0.1353273470208465, -1.218789274166298, 0.7635454904032188, -1.1824825314425427, -0.9522044303030941, -0.421519984789472, -1.8914640355164, 0.04257370988149448, -0.347977886168004, 0.47268827424963816, 1.3983171133480505, -1.5121319797280075, 0.7234650439386268, 0.03972270240900846, 0.3611548111125105, 0.9080514626747183, -0.41115121905120605, 0.3862596497626326, -0.6398397853488617, -0.5966853595462834, -1.194536857405595, 0.29658390402603535, 0.44733922912517365, -0.6156507465655643, -0.7913395436051006, 0.8477144688179395, 1.3416561326521723, 1.4327616831608472, -0.23062208960279115, 0.6442741499092415, -0.6184935147963586, -2.4488058934072754, -0.9749751937995255, 1.1575746951540418], \"yaxis\": \"y15\"}, {\"histfunc\": \"count\", \"histnorm\": \"\", \"marker\": {\"color\": \"rgba(128, 0, 128, 1.0)\", \"line\": {\"color\": \"#4D5663\", \"width\": 1.3}}, \"name\": \"D\", \"nbinsx\": 10, \"opacity\": 0.8, \"orientation\": \"v\", \"type\": \"histogram\", \"x\": [0.5890479225695289, -1.8800411793152518, 0.10532538331081642, 1.304760382357214, -1.5207865261635254, 0.80535504560426, -0.016330642922064067, 0.02346801037178581, 1.7187522662306425, -2.1955063834539095, -0.5769981172028733, 0.09000375755023558, -1.8624235173191004, -1.1009286359164434, 0.15449174404624288, -0.42030335631153876, -1.2256200134025306, -0.6523156049271698, 2.1418338776140713, -0.19855603884017475, 0.16109942465094543, 1.3361635559784157, -0.9819981197421579, 0.9642739356717789, -0.6562500412096507, 0.1112529484100331, -0.6398772958913014, 0.42268956402601804, -0.025294790234960885, -0.030153433080490136, -0.8313725843186645, -0.938201127839907, -1.911009011521281, 0.8720607514505231, 0.20159372153891028, 0.23854622358629274, 1.0357643646879247, -0.6222508816703947, -0.201051672633647, 0.10920878354186614, 1.2931967890721783, 0.4003630051396867, 0.9347665699410361, -0.40133229197578224, 1.5820953338987511, 0.5443403357634087, 0.0924046147742567, 0.8409666621612053, 0.023884694373222874, 0.8002845648753338, -0.36760501095246834, -1.0515766041945838, 0.25523843882386366, 0.5916949790905618, -1.0888968601899538, -0.5693980953228801, 1.4241100987389872, -1.4877147062766232, 1.8964324401552328, 0.8073979821389569, 0.5757146381949131, -1.0088956105103228, 1.1580015396293046, 0.8755378007049406, 0.061826717503275556, 0.367970255682253, -0.1353273470208465, -1.218789274166298, 0.7635454904032188, -1.1824825314425427, -0.9522044303030941, -0.421519984789472, -1.8914640355164, 0.04257370988149448, -0.347977886168004, 0.47268827424963816, 1.3983171133480505, -1.5121319797280075, 0.7234650439386268, 0.03972270240900846, 0.3611548111125105, 0.9080514626747183, -0.41115121905120605, 0.3862596497626326, -0.6398397853488617, -0.5966853595462834, -1.194536857405595, 0.29658390402603535, 0.44733922912517365, -0.6156507465655643, -0.7913395436051006, 0.8477144688179395, 1.3416561326521723, 1.4327616831608472, -0.23062208960279115, 0.6442741499092415, -0.6184935147963586, -2.4488058934072754, -0.9749751937995255, 1.1575746951540418], \"xaxis\": \"x16\", \"yaxis\": \"y16\"}],\n",
       "                        {\"bargap\": 0.02, \"legend\": {\"bgcolor\": \"#F5F6F9\", \"font\": {\"color\": \"#4D5663\"}}, \"paper_bgcolor\": \"#F5F6F9\", \"plot_bgcolor\": \"#F5F6F9\", \"showlegend\": false, \"template\": {\"data\": {\"bar\": [{\"error_x\": {\"color\": \"#2a3f5f\"}, \"error_y\": {\"color\": \"#2a3f5f\"}, \"marker\": {\"line\": {\"color\": \"#E5ECF6\", \"width\": 0.5}}, \"type\": \"bar\"}], \"barpolar\": [{\"marker\": {\"line\": {\"color\": \"#E5ECF6\", \"width\": 0.5}}, \"type\": \"barpolar\"}], \"carpet\": [{\"aaxis\": {\"endlinecolor\": \"#2a3f5f\", \"gridcolor\": \"white\", \"linecolor\": \"white\", \"minorgridcolor\": \"white\", \"startlinecolor\": \"#2a3f5f\"}, \"baxis\": {\"endlinecolor\": \"#2a3f5f\", \"gridcolor\": \"white\", \"linecolor\": \"white\", \"minorgridcolor\": \"white\", \"startlinecolor\": \"#2a3f5f\"}, \"type\": \"carpet\"}], \"choropleth\": [{\"colorbar\": {\"outlinewidth\": 0, \"ticks\": \"\"}, \"type\": \"choropleth\"}], \"contour\": [{\"colorbar\": {\"outlinewidth\": 0, \"ticks\": \"\"}, \"colorscale\": [[0.0, \"#0d0887\"], [0.1111111111111111, \"#46039f\"], [0.2222222222222222, \"#7201a8\"], [0.3333333333333333, \"#9c179e\"], [0.4444444444444444, \"#bd3786\"], [0.5555555555555556, \"#d8576b\"], [0.6666666666666666, \"#ed7953\"], [0.7777777777777778, \"#fb9f3a\"], [0.8888888888888888, \"#fdca26\"], [1.0, \"#f0f921\"]], \"type\": \"contour\"}], \"contourcarpet\": [{\"colorbar\": {\"outlinewidth\": 0, \"ticks\": \"\"}, \"type\": \"contourcarpet\"}], \"heatmap\": [{\"colorbar\": {\"outlinewidth\": 0, \"ticks\": \"\"}, \"colorscale\": [[0.0, \"#0d0887\"], [0.1111111111111111, \"#46039f\"], [0.2222222222222222, \"#7201a8\"], [0.3333333333333333, \"#9c179e\"], [0.4444444444444444, \"#bd3786\"], [0.5555555555555556, \"#d8576b\"], [0.6666666666666666, \"#ed7953\"], [0.7777777777777778, \"#fb9f3a\"], [0.8888888888888888, \"#fdca26\"], [1.0, \"#f0f921\"]], \"type\": \"heatmap\"}], \"heatmapgl\": [{\"colorbar\": {\"outlinewidth\": 0, \"ticks\": \"\"}, \"colorscale\": [[0.0, \"#0d0887\"], [0.1111111111111111, \"#46039f\"], [0.2222222222222222, \"#7201a8\"], [0.3333333333333333, \"#9c179e\"], [0.4444444444444444, \"#bd3786\"], [0.5555555555555556, \"#d8576b\"], [0.6666666666666666, \"#ed7953\"], [0.7777777777777778, \"#fb9f3a\"], [0.8888888888888888, \"#fdca26\"], [1.0, \"#f0f921\"]], \"type\": \"heatmapgl\"}], \"histogram\": [{\"marker\": {\"colorbar\": {\"outlinewidth\": 0, \"ticks\": \"\"}}, \"type\": \"histogram\"}], \"histogram2d\": [{\"colorbar\": {\"outlinewidth\": 0, \"ticks\": \"\"}, \"colorscale\": [[0.0, \"#0d0887\"], [0.1111111111111111, \"#46039f\"], [0.2222222222222222, \"#7201a8\"], [0.3333333333333333, \"#9c179e\"], [0.4444444444444444, \"#bd3786\"], [0.5555555555555556, \"#d8576b\"], [0.6666666666666666, \"#ed7953\"], [0.7777777777777778, \"#fb9f3a\"], [0.8888888888888888, \"#fdca26\"], [1.0, \"#f0f921\"]], \"type\": \"histogram2d\"}], \"histogram2dcontour\": [{\"colorbar\": {\"outlinewidth\": 0, \"ticks\": \"\"}, \"colorscale\": [[0.0, \"#0d0887\"], [0.1111111111111111, \"#46039f\"], [0.2222222222222222, \"#7201a8\"], [0.3333333333333333, \"#9c179e\"], [0.4444444444444444, \"#bd3786\"], [0.5555555555555556, \"#d8576b\"], [0.6666666666666666, \"#ed7953\"], [0.7777777777777778, \"#fb9f3a\"], [0.8888888888888888, \"#fdca26\"], [1.0, \"#f0f921\"]], \"type\": \"histogram2dcontour\"}], \"mesh3d\": [{\"colorbar\": {\"outlinewidth\": 0, \"ticks\": \"\"}, \"type\": \"mesh3d\"}], \"parcoords\": [{\"line\": {\"colorbar\": {\"outlinewidth\": 0, \"ticks\": \"\"}}, \"type\": \"parcoords\"}], \"pie\": [{\"automargin\": true, \"type\": \"pie\"}], \"scatter\": [{\"marker\": {\"colorbar\": {\"outlinewidth\": 0, \"ticks\": \"\"}}, \"type\": \"scatter\"}], \"scatter3d\": [{\"line\": {\"colorbar\": {\"outlinewidth\": 0, \"ticks\": \"\"}}, \"marker\": {\"colorbar\": {\"outlinewidth\": 0, \"ticks\": \"\"}}, \"type\": \"scatter3d\"}], \"scattercarpet\": [{\"marker\": {\"colorbar\": {\"outlinewidth\": 0, \"ticks\": \"\"}}, \"type\": \"scattercarpet\"}], \"scattergeo\": [{\"marker\": {\"colorbar\": {\"outlinewidth\": 0, \"ticks\": \"\"}}, \"type\": \"scattergeo\"}], \"scattergl\": [{\"marker\": {\"colorbar\": {\"outlinewidth\": 0, \"ticks\": \"\"}}, \"type\": \"scattergl\"}], \"scattermapbox\": [{\"marker\": {\"colorbar\": {\"outlinewidth\": 0, \"ticks\": \"\"}}, \"type\": \"scattermapbox\"}], \"scatterpolar\": [{\"marker\": {\"colorbar\": {\"outlinewidth\": 0, \"ticks\": \"\"}}, \"type\": \"scatterpolar\"}], \"scatterpolargl\": [{\"marker\": {\"colorbar\": {\"outlinewidth\": 0, \"ticks\": \"\"}}, \"type\": \"scatterpolargl\"}], \"scatterternary\": [{\"marker\": {\"colorbar\": {\"outlinewidth\": 0, \"ticks\": \"\"}}, \"type\": \"scatterternary\"}], \"surface\": [{\"colorbar\": {\"outlinewidth\": 0, \"ticks\": \"\"}, \"colorscale\": [[0.0, \"#0d0887\"], [0.1111111111111111, \"#46039f\"], [0.2222222222222222, \"#7201a8\"], [0.3333333333333333, \"#9c179e\"], [0.4444444444444444, \"#bd3786\"], [0.5555555555555556, \"#d8576b\"], [0.6666666666666666, \"#ed7953\"], [0.7777777777777778, \"#fb9f3a\"], [0.8888888888888888, \"#fdca26\"], [1.0, \"#f0f921\"]], \"type\": \"surface\"}], \"table\": [{\"cells\": {\"fill\": {\"color\": \"#EBF0F8\"}, \"line\": {\"color\": \"white\"}}, \"header\": {\"fill\": {\"color\": \"#C8D4E3\"}, \"line\": {\"color\": \"white\"}}, \"type\": \"table\"}]}, \"layout\": {\"annotationdefaults\": {\"arrowcolor\": \"#2a3f5f\", \"arrowhead\": 0, \"arrowwidth\": 1}, \"coloraxis\": {\"colorbar\": {\"outlinewidth\": 0, \"ticks\": \"\"}}, \"colorscale\": {\"diverging\": [[0, \"#8e0152\"], [0.1, \"#c51b7d\"], [0.2, \"#de77ae\"], [0.3, \"#f1b6da\"], [0.4, \"#fde0ef\"], [0.5, \"#f7f7f7\"], [0.6, \"#e6f5d0\"], [0.7, \"#b8e186\"], [0.8, \"#7fbc41\"], [0.9, \"#4d9221\"], [1, \"#276419\"]], \"sequential\": [[0.0, \"#0d0887\"], [0.1111111111111111, \"#46039f\"], [0.2222222222222222, \"#7201a8\"], [0.3333333333333333, \"#9c179e\"], [0.4444444444444444, \"#bd3786\"], [0.5555555555555556, \"#d8576b\"], [0.6666666666666666, \"#ed7953\"], [0.7777777777777778, \"#fb9f3a\"], [0.8888888888888888, \"#fdca26\"], [1.0, \"#f0f921\"]], \"sequentialminus\": [[0.0, \"#0d0887\"], [0.1111111111111111, \"#46039f\"], [0.2222222222222222, \"#7201a8\"], [0.3333333333333333, \"#9c179e\"], [0.4444444444444444, \"#bd3786\"], [0.5555555555555556, \"#d8576b\"], [0.6666666666666666, \"#ed7953\"], [0.7777777777777778, \"#fb9f3a\"], [0.8888888888888888, \"#fdca26\"], [1.0, \"#f0f921\"]]}, \"colorway\": [\"#636efa\", \"#EF553B\", \"#00cc96\", \"#ab63fa\", \"#FFA15A\", \"#19d3f3\", \"#FF6692\", \"#B6E880\", \"#FF97FF\", \"#FECB52\"], \"font\": {\"color\": \"#2a3f5f\"}, \"geo\": {\"bgcolor\": \"white\", \"lakecolor\": \"white\", \"landcolor\": \"#E5ECF6\", \"showlakes\": true, \"showland\": true, \"subunitcolor\": \"white\"}, \"hoverlabel\": {\"align\": \"left\"}, \"hovermode\": \"closest\", \"mapbox\": {\"style\": \"light\"}, \"paper_bgcolor\": \"white\", \"plot_bgcolor\": \"#E5ECF6\", \"polar\": {\"angularaxis\": {\"gridcolor\": \"white\", \"linecolor\": \"white\", \"ticks\": \"\"}, \"bgcolor\": \"#E5ECF6\", \"radialaxis\": {\"gridcolor\": \"white\", \"linecolor\": \"white\", \"ticks\": \"\"}}, \"scene\": {\"xaxis\": {\"backgroundcolor\": \"#E5ECF6\", \"gridcolor\": \"white\", \"gridwidth\": 2, \"linecolor\": \"white\", \"showbackground\": true, \"ticks\": \"\", \"zerolinecolor\": \"white\"}, \"yaxis\": {\"backgroundcolor\": \"#E5ECF6\", \"gridcolor\": \"white\", \"gridwidth\": 2, \"linecolor\": \"white\", \"showbackground\": true, \"ticks\": \"\", \"zerolinecolor\": \"white\"}, \"zaxis\": {\"backgroundcolor\": \"#E5ECF6\", \"gridcolor\": \"white\", \"gridwidth\": 2, \"linecolor\": \"white\", \"showbackground\": true, \"ticks\": \"\", \"zerolinecolor\": \"white\"}}, \"shapedefaults\": {\"line\": {\"color\": \"#2a3f5f\"}}, \"ternary\": {\"aaxis\": {\"gridcolor\": \"white\", \"linecolor\": \"white\", \"ticks\": \"\"}, \"baxis\": {\"gridcolor\": \"white\", \"linecolor\": \"white\", \"ticks\": \"\"}, \"bgcolor\": \"#E5ECF6\", \"caxis\": {\"gridcolor\": \"white\", \"linecolor\": \"white\", \"ticks\": \"\"}}, \"title\": {\"x\": 0.05}, \"xaxis\": {\"automargin\": true, \"gridcolor\": \"white\", \"linecolor\": \"white\", \"ticks\": \"\", \"title\": {\"standoff\": 15}, \"zerolinecolor\": \"white\", \"zerolinewidth\": 2}, \"yaxis\": {\"automargin\": true, \"gridcolor\": \"white\", \"linecolor\": \"white\", \"ticks\": \"\", \"title\": {\"standoff\": 15}, \"zerolinecolor\": \"white\", \"zerolinewidth\": 2}}}, \"title\": {\"font\": {\"color\": \"#4D5663\"}}, \"xaxis\": {\"anchor\": \"y\", \"domain\": [0.0, 0.2125], \"gridcolor\": \"#E1E5ED\", \"showgrid\": false, \"tickfont\": {\"color\": \"#4D5663\"}, \"title\": {\"font\": {\"color\": \"#4D5663\"}, \"text\": \"\"}, \"zerolinecolor\": \"#E1E5ED\"}, \"xaxis10\": {\"anchor\": \"y10\", \"domain\": [0.2625, 0.475], \"gridcolor\": \"#E1E5ED\", \"showgrid\": false, \"tickfont\": {\"color\": \"#4D5663\"}, \"title\": {\"font\": {\"color\": \"#4D5663\"}, \"text\": \"\"}, \"zerolinecolor\": \"#E1E5ED\"}, \"xaxis11\": {\"anchor\": \"y11\", \"domain\": [0.525, 0.7375], \"gridcolor\": \"#E1E5ED\", \"showgrid\": false, \"tickfont\": {\"color\": \"#4D5663\"}, \"title\": {\"font\": {\"color\": \"#4D5663\"}, \"text\": \"\"}, \"zerolinecolor\": \"#E1E5ED\"}, \"xaxis12\": {\"anchor\": \"y12\", \"domain\": [0.7875, 1.0], \"gridcolor\": \"#E1E5ED\", \"showgrid\": false, \"tickfont\": {\"color\": \"#4D5663\"}, \"title\": {\"font\": {\"color\": \"#4D5663\"}, \"text\": \"\"}, \"zerolinecolor\": \"#E1E5ED\"}, \"xaxis13\": {\"anchor\": \"y13\", \"domain\": [0.0, 0.2125], \"gridcolor\": \"#E1E5ED\", \"showgrid\": false, \"tickfont\": {\"color\": \"#4D5663\"}, \"title\": {\"font\": {\"color\": \"#4D5663\"}, \"text\": \"\"}, \"zerolinecolor\": \"#E1E5ED\"}, \"xaxis14\": {\"anchor\": \"y14\", \"domain\": [0.2625, 0.475], \"gridcolor\": \"#E1E5ED\", \"showgrid\": false, \"tickfont\": {\"color\": \"#4D5663\"}, \"title\": {\"font\": {\"color\": \"#4D5663\"}, \"text\": \"\"}, \"zerolinecolor\": \"#E1E5ED\"}, \"xaxis15\": {\"anchor\": \"y15\", \"domain\": [0.525, 0.7375], \"gridcolor\": \"#E1E5ED\", \"showgrid\": false, \"tickfont\": {\"color\": \"#4D5663\"}, \"title\": {\"font\": {\"color\": \"#4D5663\"}, \"text\": \"\"}, \"zerolinecolor\": \"#E1E5ED\"}, \"xaxis16\": {\"anchor\": \"y16\", \"domain\": [0.7875, 1.0], \"gridcolor\": \"#E1E5ED\", \"showgrid\": false, \"tickfont\": {\"color\": \"#4D5663\"}, \"title\": {\"font\": {\"color\": \"#4D5663\"}, \"text\": \"\"}, \"zerolinecolor\": \"#E1E5ED\"}, \"xaxis2\": {\"anchor\": \"y2\", \"domain\": [0.2625, 0.475], \"gridcolor\": \"#E1E5ED\", \"showgrid\": false, \"tickfont\": {\"color\": \"#4D5663\"}, \"title\": {\"font\": {\"color\": \"#4D5663\"}, \"text\": \"\"}, \"zerolinecolor\": \"#E1E5ED\"}, \"xaxis3\": {\"anchor\": \"y3\", \"domain\": [0.525, 0.7375], \"gridcolor\": \"#E1E5ED\", \"showgrid\": false, \"tickfont\": {\"color\": \"#4D5663\"}, \"title\": {\"font\": {\"color\": \"#4D5663\"}, \"text\": \"\"}, \"zerolinecolor\": \"#E1E5ED\"}, \"xaxis4\": {\"anchor\": \"y4\", \"domain\": [0.7875, 1.0], \"gridcolor\": \"#E1E5ED\", \"showgrid\": false, \"tickfont\": {\"color\": \"#4D5663\"}, \"title\": {\"font\": {\"color\": \"#4D5663\"}, \"text\": \"\"}, \"zerolinecolor\": \"#E1E5ED\"}, \"xaxis5\": {\"anchor\": \"y5\", \"domain\": [0.0, 0.2125], \"gridcolor\": \"#E1E5ED\", \"showgrid\": false, \"tickfont\": {\"color\": \"#4D5663\"}, \"title\": {\"font\": {\"color\": \"#4D5663\"}, \"text\": \"\"}, \"zerolinecolor\": \"#E1E5ED\"}, \"xaxis6\": {\"anchor\": \"y6\", \"domain\": [0.2625, 0.475], \"gridcolor\": \"#E1E5ED\", \"showgrid\": false, \"tickfont\": {\"color\": \"#4D5663\"}, \"title\": {\"font\": {\"color\": \"#4D5663\"}, \"text\": \"\"}, \"zerolinecolor\": \"#E1E5ED\"}, \"xaxis7\": {\"anchor\": \"y7\", \"domain\": [0.525, 0.7375], \"gridcolor\": \"#E1E5ED\", \"showgrid\": false, \"tickfont\": {\"color\": \"#4D5663\"}, \"title\": {\"font\": {\"color\": \"#4D5663\"}, \"text\": \"\"}, \"zerolinecolor\": \"#E1E5ED\"}, \"xaxis8\": {\"anchor\": \"y8\", \"domain\": [0.7875, 1.0], \"gridcolor\": \"#E1E5ED\", \"showgrid\": false, \"tickfont\": {\"color\": \"#4D5663\"}, \"title\": {\"font\": {\"color\": \"#4D5663\"}, \"text\": \"\"}, \"zerolinecolor\": \"#E1E5ED\"}, \"xaxis9\": {\"anchor\": \"y9\", \"domain\": [0.0, 0.2125], \"gridcolor\": \"#E1E5ED\", \"showgrid\": false, \"tickfont\": {\"color\": \"#4D5663\"}, \"title\": {\"font\": {\"color\": \"#4D5663\"}, \"text\": \"\"}, \"zerolinecolor\": \"#E1E5ED\"}, \"yaxis\": {\"anchor\": \"x\", \"domain\": [0.8025, 1.0], \"gridcolor\": \"#E1E5ED\", \"showgrid\": false, \"tickfont\": {\"color\": \"#4D5663\"}, \"title\": {\"font\": {\"color\": \"#4D5663\"}, \"text\": \"\"}, \"zerolinecolor\": \"#E1E5ED\"}, \"yaxis10\": {\"anchor\": \"x10\", \"domain\": [0.2675, 0.465], \"gridcolor\": \"#E1E5ED\", \"showgrid\": false, \"tickfont\": {\"color\": \"#4D5663\"}, \"title\": {\"font\": {\"color\": \"#4D5663\"}, \"text\": \"\"}, \"zerolinecolor\": \"#E1E5ED\"}, \"yaxis11\": {\"anchor\": \"x11\", \"domain\": [0.2675, 0.465], \"gridcolor\": \"#E1E5ED\", \"showgrid\": false, \"tickfont\": {\"color\": \"#4D5663\"}, \"title\": {\"font\": {\"color\": \"#4D5663\"}, \"text\": \"\"}, \"zerolinecolor\": \"#E1E5ED\"}, \"yaxis12\": {\"anchor\": \"x12\", \"domain\": [0.2675, 0.465], \"gridcolor\": \"#E1E5ED\", \"showgrid\": false, \"tickfont\": {\"color\": \"#4D5663\"}, \"title\": {\"font\": {\"color\": \"#4D5663\"}, \"text\": \"\"}, \"zerolinecolor\": \"#E1E5ED\"}, \"yaxis13\": {\"anchor\": \"x13\", \"domain\": [0.0, 0.1975], \"gridcolor\": \"#E1E5ED\", \"showgrid\": false, \"tickfont\": {\"color\": \"#4D5663\"}, \"title\": {\"font\": {\"color\": \"#4D5663\"}, \"text\": \"\"}, \"zerolinecolor\": \"#E1E5ED\"}, \"yaxis14\": {\"anchor\": \"x14\", \"domain\": [0.0, 0.1975], \"gridcolor\": \"#E1E5ED\", \"showgrid\": false, \"tickfont\": {\"color\": \"#4D5663\"}, \"title\": {\"font\": {\"color\": \"#4D5663\"}, \"text\": \"\"}, \"zerolinecolor\": \"#E1E5ED\"}, \"yaxis15\": {\"anchor\": \"x15\", \"domain\": [0.0, 0.1975], \"gridcolor\": \"#E1E5ED\", \"showgrid\": false, \"tickfont\": {\"color\": \"#4D5663\"}, \"title\": {\"font\": {\"color\": \"#4D5663\"}, \"text\": \"\"}, \"zerolinecolor\": \"#E1E5ED\"}, \"yaxis16\": {\"anchor\": \"x16\", \"domain\": [0.0, 0.1975], \"gridcolor\": \"#E1E5ED\", \"showgrid\": false, \"tickfont\": {\"color\": \"#4D5663\"}, \"title\": {\"font\": {\"color\": \"#4D5663\"}, \"text\": \"\"}, \"zerolinecolor\": \"#E1E5ED\"}, \"yaxis2\": {\"anchor\": \"x2\", \"domain\": [0.8025, 1.0], \"gridcolor\": \"#E1E5ED\", \"showgrid\": false, \"tickfont\": {\"color\": \"#4D5663\"}, \"title\": {\"font\": {\"color\": \"#4D5663\"}, \"text\": \"\"}, \"zerolinecolor\": \"#E1E5ED\"}, \"yaxis3\": {\"anchor\": \"x3\", \"domain\": [0.8025, 1.0], \"gridcolor\": \"#E1E5ED\", \"showgrid\": false, \"tickfont\": {\"color\": \"#4D5663\"}, \"title\": {\"font\": {\"color\": \"#4D5663\"}, \"text\": \"\"}, \"zerolinecolor\": \"#E1E5ED\"}, \"yaxis4\": {\"anchor\": \"x4\", \"domain\": [0.8025, 1.0], \"gridcolor\": \"#E1E5ED\", \"showgrid\": false, \"tickfont\": {\"color\": \"#4D5663\"}, \"title\": {\"font\": {\"color\": \"#4D5663\"}, \"text\": \"\"}, \"zerolinecolor\": \"#E1E5ED\"}, \"yaxis5\": {\"anchor\": \"x5\", \"domain\": [0.535, 0.7325], \"gridcolor\": \"#E1E5ED\", \"showgrid\": false, \"tickfont\": {\"color\": \"#4D5663\"}, \"title\": {\"font\": {\"color\": \"#4D5663\"}, \"text\": \"\"}, \"zerolinecolor\": \"#E1E5ED\"}, \"yaxis6\": {\"anchor\": \"x6\", \"domain\": [0.535, 0.7325], \"gridcolor\": \"#E1E5ED\", \"showgrid\": false, \"tickfont\": {\"color\": \"#4D5663\"}, \"title\": {\"font\": {\"color\": \"#4D5663\"}, \"text\": \"\"}, \"zerolinecolor\": \"#E1E5ED\"}, \"yaxis7\": {\"anchor\": \"x7\", \"domain\": [0.535, 0.7325], \"gridcolor\": \"#E1E5ED\", \"showgrid\": false, \"tickfont\": {\"color\": \"#4D5663\"}, \"title\": {\"font\": {\"color\": \"#4D5663\"}, \"text\": \"\"}, \"zerolinecolor\": \"#E1E5ED\"}, \"yaxis8\": {\"anchor\": \"x8\", \"domain\": [0.535, 0.7325], \"gridcolor\": \"#E1E5ED\", \"showgrid\": false, \"tickfont\": {\"color\": \"#4D5663\"}, \"title\": {\"font\": {\"color\": \"#4D5663\"}, \"text\": \"\"}, \"zerolinecolor\": \"#E1E5ED\"}, \"yaxis9\": {\"anchor\": \"x9\", \"domain\": [0.2675, 0.465], \"gridcolor\": \"#E1E5ED\", \"showgrid\": false, \"tickfont\": {\"color\": \"#4D5663\"}, \"title\": {\"font\": {\"color\": \"#4D5663\"}, \"text\": \"\"}, \"zerolinecolor\": \"#E1E5ED\"}},\n",
       "                        {\"showLink\": true, \"linkText\": \"Export to plot.ly\", \"plotlyServerURL\": \"https://plot.ly\", \"responsive\": true}\n",
       "                    ).then(function(){\n",
       "                            \n",
       "var gd = document.getElementById('c102c09f-f483-4824-9c94-75936d1fa378');\n",
       "var x = new MutationObserver(function (mutations, observer) {{\n",
       "        var display = window.getComputedStyle(gd).display;\n",
       "        if (!display || display === 'none') {{\n",
       "            console.log([gd, 'removed!']);\n",
       "            Plotly.purge(gd);\n",
       "            observer.disconnect();\n",
       "        }}\n",
       "}});\n",
       "\n",
       "// Listen for the removal of the full notebook cells\n",
       "var notebookContainer = gd.closest('#notebook-container');\n",
       "if (notebookContainer) {{\n",
       "    x.observe(notebookContainer, {childList: true});\n",
       "}}\n",
       "\n",
       "// Listen for the clearing of the current output cell\n",
       "var outputEl = gd.closest('.output');\n",
       "if (outputEl) {{\n",
       "    x.observe(outputEl, {childList: true});\n",
       "}}\n",
       "\n",
       "                        })\n",
       "                };\n",
       "                });\n",
       "            </script>\n",
       "        </div>"
      ]
     },
     "metadata": {},
     "output_type": "display_data"
    }
   ],
   "source": [
    "df.scatter_matrix()"
   ]
  },
  {
   "cell_type": "markdown",
   "metadata": {
    "collapsed": true
   },
   "source": [
    "# Great Job!"
   ]
  }
 ],
 "metadata": {
  "kernelspec": {
   "display_name": "Python 3",
   "language": "python",
   "name": "python3"
  },
  "language_info": {
   "codemirror_mode": {
    "name": "ipython",
    "version": 3
   },
   "file_extension": ".py",
   "mimetype": "text/x-python",
   "name": "python",
   "nbconvert_exporter": "python",
   "pygments_lexer": "ipython3",
   "version": "3.7.4"
  }
 },
 "nbformat": 4,
 "nbformat_minor": 1
}
